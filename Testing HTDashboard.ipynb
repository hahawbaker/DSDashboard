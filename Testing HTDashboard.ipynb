{
 "cells": [
  {
   "cell_type": "code",
   "execution_count": 1,
   "id": "239ef992-dcfe-45c0-b714-c97218403588",
   "metadata": {},
   "outputs": [],
   "source": [
    "# Standard Imports\n",
    "import numpy as np, pandas as pd, random, json, time, os\n",
    "\n",
    "# Plotly Imports\n",
    "import plotly.graph_objects as go\n",
    "import plotly.express as px\n",
    "\n",
    "# Dash Imports\n",
    "import dash\n",
    "from dash import dcc\n",
    "from dash import html\n",
    "from dash.dependencies import Input, Output"
   ]
  },
  {
   "cell_type": "code",
   "execution_count": 12,
   "id": "aa3964d9-d07b-4ee3-beba-5179f806009b",
   "metadata": {},
   "outputs": [
    {
     "data": {
      "text/plain": [
       "<bound method NDFrame.head of                     Field and citizenship status    2011    2012    2013   \n",
       "0                      All doctorate recipientsa  48,909  50,943  52,703  \\\n",
       "1                                  Life sciences  11,535  11,964  12,207   \n",
       "2    Agricultural sciences and natural resources   1,206   1,255   1,324   \n",
       "3             Biological and biomedical sciences   8,152   8,322   8,354   \n",
       "4                                Health sciences   2,177   2,387   2,529   \n",
       "..                                           ...     ...     ...     ...   \n",
       "127                    Other humanities and arts     299     324     316   \n",
       "128                                        Other     786     834     945   \n",
       "129       Business management and administration     477     542     600   \n",
       "130                                Communication     132     107     133   \n",
       "131       Non-science and engineering fields nec     177     185     212   \n",
       "\n",
       "       2014    2015    2016    2017    2018    2019    2020    2021   \n",
       "0    53,986  54,886  54,809  54,552  55,080  55,609  55,224  52,250  \\\n",
       "1    12,484  12,493  12,539  12,554  12,754  12,748  12,549  11,814   \n",
       "2     1,338   1,434   1,379   1,493   1,442   1,488   1,470   1,334   \n",
       "3     8,868   8,783   8,863   8,566   8,782   8,678   8,410   8,149   \n",
       "4     2,278   2,276   2,297   2,495   2,530   2,582   2,669   2,331   \n",
       "..      ...     ...     ...     ...     ...     ...     ...     ...   \n",
       "127     302     309     280     286     307     345     305     310   \n",
       "128     905     867     890     940   1,028   1,106   1,075   1,142   \n",
       "129     589     546     553     588     642     689     658     683   \n",
       "130     137     137     160     122     165     163     153     140   \n",
       "131     179     184     177     230     221     254     264     319   \n",
       "\n",
       "     % change 2011–21  \n",
       "0                 6.8  \n",
       "1                 2.4  \n",
       "2                10.6  \n",
       "3                 0.0  \n",
       "4                 7.1  \n",
       "..                ...  \n",
       "127               3.7  \n",
       "128              45.3  \n",
       "129              43.2  \n",
       "130               6.1  \n",
       "131              80.2  \n",
       "\n",
       "[132 rows x 13 columns]>"
      ]
     },
     "execution_count": 12,
     "metadata": {},
     "output_type": "execute_result"
    }
   ],
   "source": [
    "df = pd.read_csv(\"CSV/nsf23300-tab001-007.csv\",encoding='cp1252', skiprows=[])\n",
    "\n",
    "df.head\n"
   ]
  },
  {
   "cell_type": "code",
   "execution_count": null,
   "id": "9ddde0f2-bfbd-4271-afde-9339571b08d3",
   "metadata": {},
   "outputs": [],
   "source": []
  },
  {
   "cell_type": "code",
   "execution_count": null,
   "id": "4391338f-7b1b-4db1-bf60-a2a70a6f2ac7",
   "metadata": {},
   "outputs": [],
   "source": []
  },
  {
   "cell_type": "code",
   "execution_count": null,
   "id": "cb05c474-02ae-4542-bb66-1ab0033c1fa5",
   "metadata": {},
   "outputs": [],
   "source": []
  },
  {
   "cell_type": "code",
   "execution_count": null,
   "id": "5e9d1ca5-2ac7-422c-bd65-a6a7dfb87c8a",
   "metadata": {},
   "outputs": [
    {
     "name": "stdout",
     "output_type": "stream",
     "text": [
      "Dash is running on http://localhost:8080/\n",
      "\n",
      " * Serving Flask app '__main__'\n",
      " * Debug mode: on\n"
     ]
    }
   ],
   "source": [
    "# Standard Imports\n",
    "import numpy as np, pandas as pd, random, json, time, os\n",
    "\n",
    "# Plotly Imports\n",
    "import plotly.graph_objects as go\n",
    "import plotly.express as px\n",
    "\n",
    "# Dash Imports\n",
    "import dash\n",
    "from dash import dcc\n",
    "from dash import html\n",
    "from dash.dependencies import Input, Output\n",
    "\n",
    "# Additional Imports\n",
    "# import STUFF\n",
    "\n",
    "df710 = pd.read_csv(\"CSV/nsf23300-tab007-010.csv\",encoding='cp1252')\n",
    "\n",
    "# Load CSS sheet for style information\n",
    "external_stylesheets = ['https://codepen.io/chriddyp/pen/bWLwgP.css']\n",
    "\n",
    "# Define the Web-App Object and set to variable \"server\"\n",
    "app = dash.Dash(__name__, external_stylesheets=external_stylesheets)\n",
    "server = app.server\n",
    "\n",
    "# Suppres some output\n",
    "app.config.suppress_callback_exceptions = True\n",
    "\n",
    "\n",
    "#################################################\n",
    "################# Layout ########################\n",
    "#################################################\n",
    "\n",
    "app.layout = html.Div([\n",
    "    #h1 = level 1 header, etc...#\n",
    "    html.H1(children='Graduate Student Data 1970-2021'),\n",
    "    html.H2(children='This dashboard helps visualize location and statistics based data of doctorate recipients'),\n",
    "    \n",
    "    html.H6(\"Change below to make a new figure:\"),\n",
    "    \n",
    "    html.Div([\n",
    "           \"Selection:\",\n",
    "           dcc.Dropdown(['All fields','Agricultural sciences and natural resources','Biological and biomedical sciences','Computer and information sciences','Engineering','Geosciences, atmospheric, and ocean sciences','Health sciences','Mathematics and statistics','Multidisciplinary/ interdisciplinary sciences','Physical sciences','Psychology','Social sciences','Business','Education','Humanities','Visual and performing arts','Other'], 'All fields', id = 'my-input')\n",
    "    ]),\n",
    "\n",
    "    html.Div([\n",
    "\t\t\"State\",\n",
    "\t\tdcc.Dropdown(['Alabama','Alaska','Arizona','Arkansas','California','Colorado','Connecticut','Delaware','Florida','Georgia','Hawaii','Idaho','Illinois','Indiana','Iowa','Kansas','Kentucky','Louisiana','Maine','Maryland','Massachusetts','Michigan','Minnesota','Mississippi','Missouri','Montana','Nebraska','Nevada','New Hampshire','New Jersey','New Mexico','New York','North Carolina','North Dakota','Ohio','Oklahoma','Oregon','Pennsylvania','Rhode Island','South Carolina','South Dakota','Tennessee','Texas','Utah','Vermont','Virginia','Washington','West Virginia','Wisconsin','Wyoming'], 'Iowa',id = 'my-input2')\n",
    "\t]),\n",
    "    \n",
    "    \n",
    "    html.Br(),\n",
    "    \n",
    "    \n",
    "    html.Div([\n",
    "        html.Div([\n",
    "            dcc.Graph(id='figure-output')], \n",
    "            style={'width': '49%', 'display': 'inline-block', 'vertical-align': 'middle'}),\n",
    "\n",
    "        html.Div([dcc.Graph(id='figure-output2')], \n",
    "            style={'width': '49%', 'display': 'inline-block', 'vertical-align': 'middle'})\n",
    "    ]),\n",
    "\n",
    "])\n",
    "\n",
    "#####################\n",
    "# Plot one          #\n",
    "#####################\n",
    "@app.callback(\n",
    "    Output('figure-output', 'figure'),\n",
    "    Input('my-input', 'value'))    \n",
    "def make_plot(pltcolor):\n",
    "    fig = go.Figure()\n",
    "    hi = df710[pltcolor].max()\n",
    "    low = df710[pltcolor].min()\n",
    "    fig = px.choropleth(df710,\n",
    "                    locations = 'Abbrev',\n",
    "                    locationmode = 'USA-states',\n",
    "                    scope = 'usa',\n",
    "                    color = pltcolor,\n",
    "                    hover_name = 'State or location',\n",
    "                    #hover_data = ['Male','Female'],\n",
    "                    range_color = [low,hi],\n",
    "                    color_continuous_scale = 'armyrose')  \n",
    "                    \n",
    "    #fig.update_layout(title=\"Model Output\")\n",
    "\n",
    "    \n",
    "    return fig  \n",
    "    \n",
    "\n",
    "\n",
    "\n",
    "\n",
    "#####################\n",
    "# Plot two          #\n",
    "#####################\n",
    "@app.callback(\n",
    "    Output('figure-output2', 'figure'),\n",
    "    #Input('my-input', 'value'),\n",
    "    Input('my-input2', 'value'))    \n",
    "def make_plot(state):\n",
    "    fig = px.pie(df7103, 'State or location', state, color_discrete_sequence=px.colors.diverging.Armyrose)\n",
    "                    \n",
    "    #fig.update_layout(title=\"Model Output\")\n",
    "    \n",
    "    return fig    \n",
    "\n",
    "\n",
    "\n",
    "\n",
    "    \n",
    "# -------------------------- MAIN ---------------------------- #\n",
    "\n",
    "\n",
    "# This is the code that gets run when we call this file from the terminal\n",
    "# The port number can be changed to fit your particular needs\n",
    "if __name__ == '__main__':\n",
    "    app.run_server(host='localhost', port=8080, debug=True, use_reloader=False)\n"
   ]
  },
  {
   "cell_type": "code",
   "execution_count": null,
   "id": "45588fcf-4fc6-4ef2-8031-a4e20c73dc5a",
   "metadata": {},
   "outputs": [],
   "source": []
  },
  {
   "cell_type": "code",
   "execution_count": 65,
   "id": "631a384e-96e4-45f4-987f-33419e62d5da",
   "metadata": {},
   "outputs": [
    {
     "data": {
      "text/html": [
       "<div>\n",
       "<style scoped>\n",
       "    .dataframe tbody tr th:only-of-type {\n",
       "        vertical-align: middle;\n",
       "    }\n",
       "\n",
       "    .dataframe tbody tr th {\n",
       "        vertical-align: top;\n",
       "    }\n",
       "\n",
       "    .dataframe thead th {\n",
       "        text-align: right;\n",
       "    }\n",
       "</style>\n",
       "<table border=\"1\" class=\"dataframe\">\n",
       "  <thead>\n",
       "    <tr style=\"text-align: right;\">\n",
       "      <th></th>\n",
       "      <th>State or location</th>\n",
       "      <th>Abbrev</th>\n",
       "      <th>Rank</th>\n",
       "      <th>Total</th>\n",
       "      <th>Male</th>\n",
       "      <th>Female</th>\n",
       "      <th>Tot Sci Eng</th>\n",
       "      <th>Male Sci Eng</th>\n",
       "      <th>Female Sci Eng</th>\n",
       "      <th>Tot Non Sci</th>\n",
       "      <th>...</th>\n",
       "      <th>Female Non Sci</th>\n",
       "      <th>Total Rank</th>\n",
       "      <th>Tot Sci Eng Rank</th>\n",
       "      <th>Male Sci Eng Rank</th>\n",
       "      <th>Female Sci Eng Rank</th>\n",
       "      <th>Tot Non Sci Rank</th>\n",
       "      <th>Male Non Sci Rank</th>\n",
       "      <th>Female Non Sci Rank</th>\n",
       "      <th>Ratio M/F</th>\n",
       "      <th>Ratio Sci/Non</th>\n",
       "    </tr>\n",
       "  </thead>\n",
       "  <tbody>\n",
       "    <tr>\n",
       "      <th>0</th>\n",
       "      <td>California</td>\n",
       "      <td>CA</td>\n",
       "      <td>1</td>\n",
       "      <td>5892.0</td>\n",
       "      <td>3267.0</td>\n",
       "      <td>2623.0</td>\n",
       "      <td>4959.0</td>\n",
       "      <td>2848.0</td>\n",
       "      <td>2109.0</td>\n",
       "      <td>933.0</td>\n",
       "      <td>...</td>\n",
       "      <td>514.0</td>\n",
       "      <td>52.0</td>\n",
       "      <td>52.0</td>\n",
       "      <td>52.0</td>\n",
       "      <td>52.0</td>\n",
       "      <td>51.0</td>\n",
       "      <td>52.0</td>\n",
       "      <td>50.0</td>\n",
       "      <td>1.245520</td>\n",
       "      <td>5.315113</td>\n",
       "    </tr>\n",
       "    <tr>\n",
       "      <th>1</th>\n",
       "      <td>Texas</td>\n",
       "      <td>TX</td>\n",
       "      <td>2</td>\n",
       "      <td>4118.0</td>\n",
       "      <td>2213.0</td>\n",
       "      <td>1904.0</td>\n",
       "      <td>3155.0</td>\n",
       "      <td>1803.0</td>\n",
       "      <td>1352.0</td>\n",
       "      <td>963.0</td>\n",
       "      <td>...</td>\n",
       "      <td>552.0</td>\n",
       "      <td>51.0</td>\n",
       "      <td>51.0</td>\n",
       "      <td>51.0</td>\n",
       "      <td>51.0</td>\n",
       "      <td>52.0</td>\n",
       "      <td>51.0</td>\n",
       "      <td>52.0</td>\n",
       "      <td>1.162290</td>\n",
       "      <td>3.276220</td>\n",
       "    </tr>\n",
       "    <tr>\n",
       "      <th>2</th>\n",
       "      <td>New York</td>\n",
       "      <td>NY</td>\n",
       "      <td>3</td>\n",
       "      <td>3871.0</td>\n",
       "      <td>2030.0</td>\n",
       "      <td>1840.0</td>\n",
       "      <td>2975.0</td>\n",
       "      <td>1653.0</td>\n",
       "      <td>1321.0</td>\n",
       "      <td>896.0</td>\n",
       "      <td>...</td>\n",
       "      <td>519.0</td>\n",
       "      <td>50.0</td>\n",
       "      <td>50.0</td>\n",
       "      <td>50.0</td>\n",
       "      <td>50.0</td>\n",
       "      <td>50.0</td>\n",
       "      <td>50.0</td>\n",
       "      <td>51.0</td>\n",
       "      <td>1.103261</td>\n",
       "      <td>3.320312</td>\n",
       "    </tr>\n",
       "  </tbody>\n",
       "</table>\n",
       "<p>3 rows × 21 columns</p>\n",
       "</div>"
      ],
      "text/plain": [
       "  State or location Abbrev  Rank   Total    Male  Female  Tot Sci Eng  \\\n",
       "0        California     CA     1  5892.0  3267.0  2623.0       4959.0   \n",
       "1             Texas     TX     2  4118.0  2213.0  1904.0       3155.0   \n",
       "2          New York     NY     3  3871.0  2030.0  1840.0       2975.0   \n",
       "\n",
       "   Male Sci Eng  Female Sci Eng  Tot Non Sci  ...  Female Non Sci  Total Rank  \\\n",
       "0        2848.0          2109.0        933.0  ...           514.0        52.0   \n",
       "1        1803.0          1352.0        963.0  ...           552.0        51.0   \n",
       "2        1653.0          1321.0        896.0  ...           519.0        50.0   \n",
       "\n",
       "   Tot Sci Eng Rank  Male Sci Eng Rank  Female Sci Eng Rank  Tot Non Sci Rank  \\\n",
       "0              52.0               52.0                 52.0              51.0   \n",
       "1              51.0               51.0                 51.0              52.0   \n",
       "2              50.0               50.0                 50.0              50.0   \n",
       "\n",
       "   Male Non Sci Rank  Female Non Sci Rank  Ratio M/F  Ratio Sci/Non  \n",
       "0               52.0                 50.0   1.245520       5.315113  \n",
       "1               51.0                 52.0   1.162290       3.276220  \n",
       "2               50.0                 51.0   1.103261       3.320312  \n",
       "\n",
       "[3 rows x 21 columns]"
      ]
     },
     "execution_count": 65,
     "metadata": {},
     "output_type": "execute_result"
    }
   ],
   "source": [
    "df = pd.read_csv(\"CSV/nsf23300-tab007-006.csv\",encoding='cp1252')\n",
    "df['Total Rank'] = df['Total'].rank()\n",
    "df['Tot Sci Eng Rank'] = df['Tot Sci Eng'].rank()\n",
    "df['Male Sci Eng Rank'] = df['Male Sci Eng'].rank()\n",
    "df['Female Sci Eng Rank'] = df['Female Sci Eng'].rank()\n",
    "df['Tot Non Sci Rank'] = df['Tot Non Sci'].rank()\n",
    "df['Male Non Sci Rank'] = df['Male Non Sci'].rank()\n",
    "df['Female Non Sci Rank'] = df['Female Non Sci'].rank()\n",
    "df['Ratio M/F'] = df['Male']/df['Female']\n",
    "df['Ratio Sci/Non'] = df['Tot Sci Eng']/df['Tot Non Sci']\n",
    "df[:3]"
   ]
  },
  {
   "cell_type": "code",
   "execution_count": 155,
   "id": "bc690079-06ee-497c-b8be-190d79ab8666",
   "metadata": {},
   "outputs": [
    {
     "data": {
      "text/html": [
       "<div>\n",
       "<style scoped>\n",
       "    .dataframe tbody tr th:only-of-type {\n",
       "        vertical-align: middle;\n",
       "    }\n",
       "\n",
       "    .dataframe tbody tr th {\n",
       "        vertical-align: top;\n",
       "    }\n",
       "\n",
       "    .dataframe thead th {\n",
       "        text-align: right;\n",
       "    }\n",
       "</style>\n",
       "<table border=\"1\" class=\"dataframe\">\n",
       "  <thead>\n",
       "    <tr style=\"text-align: right;\">\n",
       "      <th></th>\n",
       "      <th>State or location</th>\n",
       "      <th>Abbrev</th>\n",
       "      <th>All fields</th>\n",
       "      <th>Agricultural sciences and natural resources</th>\n",
       "      <th>Biological and biomedical sciences</th>\n",
       "      <th>Computer and information sciences</th>\n",
       "      <th>Engineering</th>\n",
       "      <th>Geosciences, atmospheric, and ocean sciences</th>\n",
       "      <th>Health sciences</th>\n",
       "      <th>Mathematics and statistics</th>\n",
       "      <th>Multidisciplinary/ interdisciplinary sciences</th>\n",
       "      <th>Physical sciences</th>\n",
       "      <th>Psychology</th>\n",
       "      <th>Social sciences</th>\n",
       "      <th>Business</th>\n",
       "      <th>Education</th>\n",
       "      <th>Humanities</th>\n",
       "      <th>Visual and performing arts</th>\n",
       "      <th>Other</th>\n",
       "    </tr>\n",
       "  </thead>\n",
       "  <tbody>\n",
       "    <tr>\n",
       "      <th>0</th>\n",
       "      <td>Alabama</td>\n",
       "      <td>AL</td>\n",
       "      <td>640.0</td>\n",
       "      <td>25.0</td>\n",
       "      <td>119.0</td>\n",
       "      <td>11.0</td>\n",
       "      <td>117.0</td>\n",
       "      <td>8.0</td>\n",
       "      <td>30.0</td>\n",
       "      <td>22.0</td>\n",
       "      <td>16.0</td>\n",
       "      <td>45.0</td>\n",
       "      <td>57.0</td>\n",
       "      <td>17.0</td>\n",
       "      <td>24.0</td>\n",
       "      <td>105.0</td>\n",
       "      <td>14.0</td>\n",
       "      <td>1.0</td>\n",
       "      <td>29.0</td>\n",
       "    </tr>\n",
       "    <tr>\n",
       "      <th>1</th>\n",
       "      <td>Alaska</td>\n",
       "      <td>AK</td>\n",
       "      <td>42.0</td>\n",
       "      <td>5.0</td>\n",
       "      <td>3.0</td>\n",
       "      <td>0.0</td>\n",
       "      <td>2.0</td>\n",
       "      <td>11.0</td>\n",
       "      <td>0.0</td>\n",
       "      <td>0.0</td>\n",
       "      <td>2.0</td>\n",
       "      <td>2.0</td>\n",
       "      <td>10.0</td>\n",
       "      <td>4.0</td>\n",
       "      <td>0.0</td>\n",
       "      <td>2.0</td>\n",
       "      <td>0.0</td>\n",
       "      <td>0.0</td>\n",
       "      <td>1.0</td>\n",
       "    </tr>\n",
       "    <tr>\n",
       "      <th>2</th>\n",
       "      <td>Arizona</td>\n",
       "      <td>AZ</td>\n",
       "      <td>935.0</td>\n",
       "      <td>21.0</td>\n",
       "      <td>112.0</td>\n",
       "      <td>31.0</td>\n",
       "      <td>198.0</td>\n",
       "      <td>23.0</td>\n",
       "      <td>41.0</td>\n",
       "      <td>25.0</td>\n",
       "      <td>35.0</td>\n",
       "      <td>86.0</td>\n",
       "      <td>58.0</td>\n",
       "      <td>104.0</td>\n",
       "      <td>25.0</td>\n",
       "      <td>61.0</td>\n",
       "      <td>43.0</td>\n",
       "      <td>40.0</td>\n",
       "      <td>32.0</td>\n",
       "    </tr>\n",
       "    <tr>\n",
       "      <th>3</th>\n",
       "      <td>Arkansas</td>\n",
       "      <td>AR</td>\n",
       "      <td>275.0</td>\n",
       "      <td>21.0</td>\n",
       "      <td>49.0</td>\n",
       "      <td>18.0</td>\n",
       "      <td>48.0</td>\n",
       "      <td>2.0</td>\n",
       "      <td>8.0</td>\n",
       "      <td>2.0</td>\n",
       "      <td>3.0</td>\n",
       "      <td>20.0</td>\n",
       "      <td>11.0</td>\n",
       "      <td>16.0</td>\n",
       "      <td>14.0</td>\n",
       "      <td>40.0</td>\n",
       "      <td>12.0</td>\n",
       "      <td>0.0</td>\n",
       "      <td>11.0</td>\n",
       "    </tr>\n",
       "    <tr>\n",
       "      <th>4</th>\n",
       "      <td>California</td>\n",
       "      <td>CA</td>\n",
       "      <td>5892.0</td>\n",
       "      <td>81.0</td>\n",
       "      <td>979.0</td>\n",
       "      <td>285.0</td>\n",
       "      <td>1082.0</td>\n",
       "      <td>146.0</td>\n",
       "      <td>177.0</td>\n",
       "      <td>236.0</td>\n",
       "      <td>191.0</td>\n",
       "      <td>668.0</td>\n",
       "      <td>486.0</td>\n",
       "      <td>628.0</td>\n",
       "      <td>126.0</td>\n",
       "      <td>192.0</td>\n",
       "      <td>333.0</td>\n",
       "      <td>120.0</td>\n",
       "      <td>162.0</td>\n",
       "    </tr>\n",
       "    <tr>\n",
       "      <th>5</th>\n",
       "      <td>Colorado</td>\n",
       "      <td>CO</td>\n",
       "      <td>1024.0</td>\n",
       "      <td>23.0</td>\n",
       "      <td>166.0</td>\n",
       "      <td>39.0</td>\n",
       "      <td>217.0</td>\n",
       "      <td>56.0</td>\n",
       "      <td>46.0</td>\n",
       "      <td>46.0</td>\n",
       "      <td>13.0</td>\n",
       "      <td>107.0</td>\n",
       "      <td>59.0</td>\n",
       "      <td>56.0</td>\n",
       "      <td>7.0</td>\n",
       "      <td>92.0</td>\n",
       "      <td>33.0</td>\n",
       "      <td>32.0</td>\n",
       "      <td>32.0</td>\n",
       "    </tr>\n",
       "    <tr>\n",
       "      <th>6</th>\n",
       "      <td>Connecticut</td>\n",
       "      <td>CT</td>\n",
       "      <td>731.0</td>\n",
       "      <td>13.0</td>\n",
       "      <td>154.0</td>\n",
       "      <td>22.0</td>\n",
       "      <td>88.0</td>\n",
       "      <td>14.0</td>\n",
       "      <td>20.0</td>\n",
       "      <td>36.0</td>\n",
       "      <td>12.0</td>\n",
       "      <td>97.0</td>\n",
       "      <td>45.0</td>\n",
       "      <td>102.0</td>\n",
       "      <td>22.0</td>\n",
       "      <td>12.0</td>\n",
       "      <td>54.0</td>\n",
       "      <td>15.0</td>\n",
       "      <td>25.0</td>\n",
       "    </tr>\n",
       "    <tr>\n",
       "      <th>7</th>\n",
       "      <td>Delaware</td>\n",
       "      <td>DE</td>\n",
       "      <td>212.0</td>\n",
       "      <td>12.0</td>\n",
       "      <td>35.0</td>\n",
       "      <td>9.0</td>\n",
       "      <td>55.0</td>\n",
       "      <td>4.0</td>\n",
       "      <td>2.0</td>\n",
       "      <td>9.0</td>\n",
       "      <td>3.0</td>\n",
       "      <td>28.0</td>\n",
       "      <td>7.0</td>\n",
       "      <td>21.0</td>\n",
       "      <td>2.0</td>\n",
       "      <td>9.0</td>\n",
       "      <td>7.0</td>\n",
       "      <td>2.0</td>\n",
       "      <td>7.0</td>\n",
       "    </tr>\n",
       "    <tr>\n",
       "      <th>8</th>\n",
       "      <td>Florida</td>\n",
       "      <td>FL</td>\n",
       "      <td>2339.0</td>\n",
       "      <td>66.0</td>\n",
       "      <td>305.0</td>\n",
       "      <td>139.0</td>\n",
       "      <td>408.0</td>\n",
       "      <td>67.0</td>\n",
       "      <td>137.0</td>\n",
       "      <td>69.0</td>\n",
       "      <td>81.0</td>\n",
       "      <td>185.0</td>\n",
       "      <td>169.0</td>\n",
       "      <td>158.0</td>\n",
       "      <td>58.0</td>\n",
       "      <td>218.0</td>\n",
       "      <td>105.0</td>\n",
       "      <td>47.0</td>\n",
       "      <td>127.0</td>\n",
       "    </tr>\n",
       "    <tr>\n",
       "      <th>9</th>\n",
       "      <td>Georgia</td>\n",
       "      <td>GA</td>\n",
       "      <td>1451.0</td>\n",
       "      <td>50.0</td>\n",
       "      <td>286.0</td>\n",
       "      <td>94.0</td>\n",
       "      <td>360.0</td>\n",
       "      <td>17.0</td>\n",
       "      <td>58.0</td>\n",
       "      <td>35.0</td>\n",
       "      <td>36.0</td>\n",
       "      <td>107.0</td>\n",
       "      <td>71.0</td>\n",
       "      <td>103.0</td>\n",
       "      <td>37.0</td>\n",
       "      <td>67.0</td>\n",
       "      <td>63.0</td>\n",
       "      <td>10.0</td>\n",
       "      <td>57.0</td>\n",
       "    </tr>\n",
       "    <tr>\n",
       "      <th>10</th>\n",
       "      <td>Hawaii</td>\n",
       "      <td>HI</td>\n",
       "      <td>133.0</td>\n",
       "      <td>3.0</td>\n",
       "      <td>17.0</td>\n",
       "      <td>3.0</td>\n",
       "      <td>8.0</td>\n",
       "      <td>13.0</td>\n",
       "      <td>6.0</td>\n",
       "      <td>2.0</td>\n",
       "      <td>3.0</td>\n",
       "      <td>9.0</td>\n",
       "      <td>9.0</td>\n",
       "      <td>22.0</td>\n",
       "      <td>5.0</td>\n",
       "      <td>11.0</td>\n",
       "      <td>14.0</td>\n",
       "      <td>3.0</td>\n",
       "      <td>5.0</td>\n",
       "    </tr>\n",
       "    <tr>\n",
       "      <th>11</th>\n",
       "      <td>Idaho</td>\n",
       "      <td>ID</td>\n",
       "      <td>136.0</td>\n",
       "      <td>16.0</td>\n",
       "      <td>21.0</td>\n",
       "      <td>11.0</td>\n",
       "      <td>31.0</td>\n",
       "      <td>6.0</td>\n",
       "      <td>4.0</td>\n",
       "      <td>2.0</td>\n",
       "      <td>4.0</td>\n",
       "      <td>7.0</td>\n",
       "      <td>12.0</td>\n",
       "      <td>1.0</td>\n",
       "      <td>0.0</td>\n",
       "      <td>17.0</td>\n",
       "      <td>3.0</td>\n",
       "      <td>0.0</td>\n",
       "      <td>1.0</td>\n",
       "    </tr>\n",
       "    <tr>\n",
       "      <th>12</th>\n",
       "      <td>Illinois</td>\n",
       "      <td>IL</td>\n",
       "      <td>2310.0</td>\n",
       "      <td>37.0</td>\n",
       "      <td>324.0</td>\n",
       "      <td>124.0</td>\n",
       "      <td>398.0</td>\n",
       "      <td>26.0</td>\n",
       "      <td>88.0</td>\n",
       "      <td>97.0</td>\n",
       "      <td>36.0</td>\n",
       "      <td>275.0</td>\n",
       "      <td>162.0</td>\n",
       "      <td>280.0</td>\n",
       "      <td>76.0</td>\n",
       "      <td>85.0</td>\n",
       "      <td>182.0</td>\n",
       "      <td>43.0</td>\n",
       "      <td>77.0</td>\n",
       "    </tr>\n",
       "    <tr>\n",
       "      <th>13</th>\n",
       "      <td>Indiana</td>\n",
       "      <td>IN</td>\n",
       "      <td>1556.0</td>\n",
       "      <td>31.0</td>\n",
       "      <td>195.0</td>\n",
       "      <td>73.0</td>\n",
       "      <td>391.0</td>\n",
       "      <td>22.0</td>\n",
       "      <td>53.0</td>\n",
       "      <td>73.0</td>\n",
       "      <td>39.0</td>\n",
       "      <td>154.0</td>\n",
       "      <td>85.0</td>\n",
       "      <td>134.0</td>\n",
       "      <td>29.0</td>\n",
       "      <td>106.0</td>\n",
       "      <td>122.0</td>\n",
       "      <td>7.0</td>\n",
       "      <td>42.0</td>\n",
       "    </tr>\n",
       "    <tr>\n",
       "      <th>14</th>\n",
       "      <td>Iowa</td>\n",
       "      <td>IA</td>\n",
       "      <td>618.0</td>\n",
       "      <td>33.0</td>\n",
       "      <td>108.0</td>\n",
       "      <td>17.0</td>\n",
       "      <td>125.0</td>\n",
       "      <td>6.0</td>\n",
       "      <td>29.0</td>\n",
       "      <td>46.0</td>\n",
       "      <td>19.0</td>\n",
       "      <td>58.0</td>\n",
       "      <td>42.0</td>\n",
       "      <td>34.0</td>\n",
       "      <td>20.0</td>\n",
       "      <td>47.0</td>\n",
       "      <td>17.0</td>\n",
       "      <td>4.0</td>\n",
       "      <td>13.0</td>\n",
       "    </tr>\n",
       "    <tr>\n",
       "      <th>15</th>\n",
       "      <td>Kansas</td>\n",
       "      <td>KS</td>\n",
       "      <td>466.0</td>\n",
       "      <td>32.0</td>\n",
       "      <td>62.0</td>\n",
       "      <td>12.0</td>\n",
       "      <td>72.0</td>\n",
       "      <td>3.0</td>\n",
       "      <td>16.0</td>\n",
       "      <td>18.0</td>\n",
       "      <td>12.0</td>\n",
       "      <td>38.0</td>\n",
       "      <td>56.0</td>\n",
       "      <td>40.0</td>\n",
       "      <td>11.0</td>\n",
       "      <td>43.0</td>\n",
       "      <td>22.0</td>\n",
       "      <td>7.0</td>\n",
       "      <td>22.0</td>\n",
       "    </tr>\n",
       "    <tr>\n",
       "      <th>16</th>\n",
       "      <td>Kentucky</td>\n",
       "      <td>KY</td>\n",
       "      <td>484.0</td>\n",
       "      <td>8.0</td>\n",
       "      <td>83.0</td>\n",
       "      <td>8.0</td>\n",
       "      <td>62.0</td>\n",
       "      <td>2.0</td>\n",
       "      <td>39.0</td>\n",
       "      <td>15.0</td>\n",
       "      <td>10.0</td>\n",
       "      <td>34.0</td>\n",
       "      <td>26.0</td>\n",
       "      <td>49.0</td>\n",
       "      <td>4.0</td>\n",
       "      <td>58.0</td>\n",
       "      <td>50.0</td>\n",
       "      <td>8.0</td>\n",
       "      <td>28.0</td>\n",
       "    </tr>\n",
       "    <tr>\n",
       "      <th>17</th>\n",
       "      <td>Louisiana</td>\n",
       "      <td>LA</td>\n",
       "      <td>586.0</td>\n",
       "      <td>22.0</td>\n",
       "      <td>100.0</td>\n",
       "      <td>12.0</td>\n",
       "      <td>96.0</td>\n",
       "      <td>17.0</td>\n",
       "      <td>35.0</td>\n",
       "      <td>18.0</td>\n",
       "      <td>4.0</td>\n",
       "      <td>58.0</td>\n",
       "      <td>28.0</td>\n",
       "      <td>46.0</td>\n",
       "      <td>26.0</td>\n",
       "      <td>51.0</td>\n",
       "      <td>45.0</td>\n",
       "      <td>7.0</td>\n",
       "      <td>21.0</td>\n",
       "    </tr>\n",
       "    <tr>\n",
       "      <th>18</th>\n",
       "      <td>Maine</td>\n",
       "      <td>ME</td>\n",
       "      <td>70.0</td>\n",
       "      <td>11.0</td>\n",
       "      <td>10.0</td>\n",
       "      <td>0.0</td>\n",
       "      <td>13.0</td>\n",
       "      <td>6.0</td>\n",
       "      <td>1.0</td>\n",
       "      <td>0.0</td>\n",
       "      <td>0.0</td>\n",
       "      <td>7.0</td>\n",
       "      <td>5.0</td>\n",
       "      <td>5.0</td>\n",
       "      <td>0.0</td>\n",
       "      <td>4.0</td>\n",
       "      <td>3.0</td>\n",
       "      <td>1.0</td>\n",
       "      <td>4.0</td>\n",
       "    </tr>\n",
       "    <tr>\n",
       "      <th>19</th>\n",
       "      <td>Maryland</td>\n",
       "      <td>MD</td>\n",
       "      <td>1173.0</td>\n",
       "      <td>18.0</td>\n",
       "      <td>258.0</td>\n",
       "      <td>87.0</td>\n",
       "      <td>200.0</td>\n",
       "      <td>23.0</td>\n",
       "      <td>97.0</td>\n",
       "      <td>39.0</td>\n",
       "      <td>33.0</td>\n",
       "      <td>86.0</td>\n",
       "      <td>50.0</td>\n",
       "      <td>113.0</td>\n",
       "      <td>24.0</td>\n",
       "      <td>42.0</td>\n",
       "      <td>57.0</td>\n",
       "      <td>11.0</td>\n",
       "      <td>35.0</td>\n",
       "    </tr>\n",
       "    <tr>\n",
       "      <th>20</th>\n",
       "      <td>Massachusetts</td>\n",
       "      <td>MA</td>\n",
       "      <td>2652.0</td>\n",
       "      <td>20.0</td>\n",
       "      <td>458.0</td>\n",
       "      <td>135.0</td>\n",
       "      <td>500.0</td>\n",
       "      <td>39.0</td>\n",
       "      <td>132.0</td>\n",
       "      <td>89.0</td>\n",
       "      <td>79.0</td>\n",
       "      <td>297.0</td>\n",
       "      <td>116.0</td>\n",
       "      <td>315.0</td>\n",
       "      <td>65.0</td>\n",
       "      <td>104.0</td>\n",
       "      <td>171.0</td>\n",
       "      <td>33.0</td>\n",
       "      <td>99.0</td>\n",
       "    </tr>\n",
       "    <tr>\n",
       "      <th>21</th>\n",
       "      <td>Michigan</td>\n",
       "      <td>MI</td>\n",
       "      <td>1790.0</td>\n",
       "      <td>32.0</td>\n",
       "      <td>271.0</td>\n",
       "      <td>78.0</td>\n",
       "      <td>379.0</td>\n",
       "      <td>23.0</td>\n",
       "      <td>82.0</td>\n",
       "      <td>81.0</td>\n",
       "      <td>35.0</td>\n",
       "      <td>192.0</td>\n",
       "      <td>104.0</td>\n",
       "      <td>169.0</td>\n",
       "      <td>18.0</td>\n",
       "      <td>161.0</td>\n",
       "      <td>72.0</td>\n",
       "      <td>7.0</td>\n",
       "      <td>86.0</td>\n",
       "    </tr>\n",
       "    <tr>\n",
       "      <th>22</th>\n",
       "      <td>Minnesota</td>\n",
       "      <td>MN</td>\n",
       "      <td>1499.0</td>\n",
       "      <td>27.0</td>\n",
       "      <td>143.0</td>\n",
       "      <td>29.0</td>\n",
       "      <td>126.0</td>\n",
       "      <td>6.0</td>\n",
       "      <td>203.0</td>\n",
       "      <td>26.0</td>\n",
       "      <td>21.0</td>\n",
       "      <td>60.0</td>\n",
       "      <td>230.0</td>\n",
       "      <td>204.0</td>\n",
       "      <td>107.0</td>\n",
       "      <td>148.0</td>\n",
       "      <td>28.0</td>\n",
       "      <td>5.0</td>\n",
       "      <td>136.0</td>\n",
       "    </tr>\n",
       "    <tr>\n",
       "      <th>23</th>\n",
       "      <td>Mississippi</td>\n",
       "      <td>MS</td>\n",
       "      <td>409.0</td>\n",
       "      <td>31.0</td>\n",
       "      <td>39.0</td>\n",
       "      <td>6.0</td>\n",
       "      <td>47.0</td>\n",
       "      <td>6.0</td>\n",
       "      <td>28.0</td>\n",
       "      <td>8.0</td>\n",
       "      <td>12.0</td>\n",
       "      <td>33.0</td>\n",
       "      <td>40.0</td>\n",
       "      <td>26.0</td>\n",
       "      <td>16.0</td>\n",
       "      <td>83.0</td>\n",
       "      <td>14.0</td>\n",
       "      <td>0.0</td>\n",
       "      <td>20.0</td>\n",
       "    </tr>\n",
       "    <tr>\n",
       "      <th>24</th>\n",
       "      <td>Missouri</td>\n",
       "      <td>MO</td>\n",
       "      <td>905.0</td>\n",
       "      <td>22.0</td>\n",
       "      <td>142.0</td>\n",
       "      <td>28.0</td>\n",
       "      <td>205.0</td>\n",
       "      <td>12.0</td>\n",
       "      <td>55.0</td>\n",
       "      <td>28.0</td>\n",
       "      <td>15.0</td>\n",
       "      <td>61.0</td>\n",
       "      <td>72.0</td>\n",
       "      <td>57.0</td>\n",
       "      <td>18.0</td>\n",
       "      <td>56.0</td>\n",
       "      <td>103.0</td>\n",
       "      <td>5.0</td>\n",
       "      <td>26.0</td>\n",
       "    </tr>\n",
       "    <tr>\n",
       "      <th>25</th>\n",
       "      <td>Montana</td>\n",
       "      <td>MT</td>\n",
       "      <td>113.0</td>\n",
       "      <td>8.0</td>\n",
       "      <td>32.0</td>\n",
       "      <td>1.0</td>\n",
       "      <td>9.0</td>\n",
       "      <td>4.0</td>\n",
       "      <td>5.0</td>\n",
       "      <td>8.0</td>\n",
       "      <td>1.0</td>\n",
       "      <td>9.0</td>\n",
       "      <td>10.0</td>\n",
       "      <td>5.0</td>\n",
       "      <td>0.0</td>\n",
       "      <td>13.0</td>\n",
       "      <td>7.0</td>\n",
       "      <td>0.0</td>\n",
       "      <td>1.0</td>\n",
       "    </tr>\n",
       "    <tr>\n",
       "      <th>26</th>\n",
       "      <td>Nebraska</td>\n",
       "      <td>NE</td>\n",
       "      <td>329.0</td>\n",
       "      <td>37.0</td>\n",
       "      <td>67.0</td>\n",
       "      <td>5.0</td>\n",
       "      <td>44.0</td>\n",
       "      <td>2.0</td>\n",
       "      <td>27.0</td>\n",
       "      <td>12.0</td>\n",
       "      <td>11.0</td>\n",
       "      <td>20.0</td>\n",
       "      <td>24.0</td>\n",
       "      <td>15.0</td>\n",
       "      <td>9.0</td>\n",
       "      <td>29.0</td>\n",
       "      <td>13.0</td>\n",
       "      <td>1.0</td>\n",
       "      <td>13.0</td>\n",
       "    </tr>\n",
       "    <tr>\n",
       "      <th>27</th>\n",
       "      <td>Nevada</td>\n",
       "      <td>NV</td>\n",
       "      <td>240.0</td>\n",
       "      <td>2.0</td>\n",
       "      <td>31.0</td>\n",
       "      <td>2.0</td>\n",
       "      <td>30.0</td>\n",
       "      <td>13.0</td>\n",
       "      <td>16.0</td>\n",
       "      <td>4.0</td>\n",
       "      <td>8.0</td>\n",
       "      <td>17.0</td>\n",
       "      <td>41.0</td>\n",
       "      <td>23.0</td>\n",
       "      <td>9.0</td>\n",
       "      <td>33.0</td>\n",
       "      <td>7.0</td>\n",
       "      <td>0.0</td>\n",
       "      <td>4.0</td>\n",
       "    </tr>\n",
       "    <tr>\n",
       "      <th>28</th>\n",
       "      <td>New Hampshire</td>\n",
       "      <td>NH</td>\n",
       "      <td>159.0</td>\n",
       "      <td>10.0</td>\n",
       "      <td>39.0</td>\n",
       "      <td>9.0</td>\n",
       "      <td>34.0</td>\n",
       "      <td>7.0</td>\n",
       "      <td>5.0</td>\n",
       "      <td>9.0</td>\n",
       "      <td>1.0</td>\n",
       "      <td>19.0</td>\n",
       "      <td>3.0</td>\n",
       "      <td>8.0</td>\n",
       "      <td>2.0</td>\n",
       "      <td>5.0</td>\n",
       "      <td>8.0</td>\n",
       "      <td>0.0</td>\n",
       "      <td>0.0</td>\n",
       "    </tr>\n",
       "    <tr>\n",
       "      <th>29</th>\n",
       "      <td>New Jersey</td>\n",
       "      <td>NJ</td>\n",
       "      <td>950.0</td>\n",
       "      <td>19.0</td>\n",
       "      <td>113.0</td>\n",
       "      <td>70.0</td>\n",
       "      <td>182.0</td>\n",
       "      <td>19.0</td>\n",
       "      <td>28.0</td>\n",
       "      <td>46.0</td>\n",
       "      <td>21.0</td>\n",
       "      <td>93.0</td>\n",
       "      <td>36.0</td>\n",
       "      <td>109.0</td>\n",
       "      <td>24.0</td>\n",
       "      <td>56.0</td>\n",
       "      <td>86.0</td>\n",
       "      <td>11.0</td>\n",
       "      <td>37.0</td>\n",
       "    </tr>\n",
       "    <tr>\n",
       "      <th>30</th>\n",
       "      <td>New Mexico</td>\n",
       "      <td>NM</td>\n",
       "      <td>280.0</td>\n",
       "      <td>12.0</td>\n",
       "      <td>37.0</td>\n",
       "      <td>8.0</td>\n",
       "      <td>58.0</td>\n",
       "      <td>14.0</td>\n",
       "      <td>6.0</td>\n",
       "      <td>10.0</td>\n",
       "      <td>2.0</td>\n",
       "      <td>34.0</td>\n",
       "      <td>11.0</td>\n",
       "      <td>22.0</td>\n",
       "      <td>4.0</td>\n",
       "      <td>45.0</td>\n",
       "      <td>8.0</td>\n",
       "      <td>0.0</td>\n",
       "      <td>9.0</td>\n",
       "    </tr>\n",
       "    <tr>\n",
       "      <th>31</th>\n",
       "      <td>New York</td>\n",
       "      <td>NY</td>\n",
       "      <td>3871.0</td>\n",
       "      <td>49.0</td>\n",
       "      <td>664.0</td>\n",
       "      <td>195.0</td>\n",
       "      <td>532.0</td>\n",
       "      <td>55.0</td>\n",
       "      <td>139.0</td>\n",
       "      <td>145.0</td>\n",
       "      <td>87.0</td>\n",
       "      <td>355.0</td>\n",
       "      <td>333.0</td>\n",
       "      <td>421.0</td>\n",
       "      <td>76.0</td>\n",
       "      <td>218.0</td>\n",
       "      <td>325.0</td>\n",
       "      <td>135.0</td>\n",
       "      <td>142.0</td>\n",
       "    </tr>\n",
       "    <tr>\n",
       "      <th>32</th>\n",
       "      <td>North Carolina</td>\n",
       "      <td>NC</td>\n",
       "      <td>1724.0</td>\n",
       "      <td>47.0</td>\n",
       "      <td>312.0</td>\n",
       "      <td>62.0</td>\n",
       "      <td>331.0</td>\n",
       "      <td>25.0</td>\n",
       "      <td>124.0</td>\n",
       "      <td>100.0</td>\n",
       "      <td>46.0</td>\n",
       "      <td>143.0</td>\n",
       "      <td>94.0</td>\n",
       "      <td>123.0</td>\n",
       "      <td>29.0</td>\n",
       "      <td>95.0</td>\n",
       "      <td>101.0</td>\n",
       "      <td>16.0</td>\n",
       "      <td>76.0</td>\n",
       "    </tr>\n",
       "    <tr>\n",
       "      <th>33</th>\n",
       "      <td>North Dakota</td>\n",
       "      <td>ND</td>\n",
       "      <td>175.0</td>\n",
       "      <td>9.0</td>\n",
       "      <td>21.0</td>\n",
       "      <td>2.0</td>\n",
       "      <td>35.0</td>\n",
       "      <td>4.0</td>\n",
       "      <td>7.0</td>\n",
       "      <td>6.0</td>\n",
       "      <td>1.0</td>\n",
       "      <td>10.0</td>\n",
       "      <td>24.0</td>\n",
       "      <td>4.0</td>\n",
       "      <td>7.0</td>\n",
       "      <td>30.0</td>\n",
       "      <td>6.0</td>\n",
       "      <td>0.0</td>\n",
       "      <td>9.0</td>\n",
       "    </tr>\n",
       "    <tr>\n",
       "      <th>34</th>\n",
       "      <td>Ohio</td>\n",
       "      <td>OH</td>\n",
       "      <td>1878.0</td>\n",
       "      <td>36.0</td>\n",
       "      <td>298.0</td>\n",
       "      <td>36.0</td>\n",
       "      <td>381.0</td>\n",
       "      <td>28.0</td>\n",
       "      <td>86.0</td>\n",
       "      <td>58.0</td>\n",
       "      <td>53.0</td>\n",
       "      <td>177.0</td>\n",
       "      <td>132.0</td>\n",
       "      <td>143.0</td>\n",
       "      <td>40.0</td>\n",
       "      <td>185.0</td>\n",
       "      <td>110.0</td>\n",
       "      <td>33.0</td>\n",
       "      <td>82.0</td>\n",
       "    </tr>\n",
       "    <tr>\n",
       "      <th>35</th>\n",
       "      <td>Oklahoma</td>\n",
       "      <td>OK</td>\n",
       "      <td>484.0</td>\n",
       "      <td>22.0</td>\n",
       "      <td>68.0</td>\n",
       "      <td>7.0</td>\n",
       "      <td>79.0</td>\n",
       "      <td>27.0</td>\n",
       "      <td>21.0</td>\n",
       "      <td>7.0</td>\n",
       "      <td>6.0</td>\n",
       "      <td>32.0</td>\n",
       "      <td>54.0</td>\n",
       "      <td>23.0</td>\n",
       "      <td>27.0</td>\n",
       "      <td>57.0</td>\n",
       "      <td>27.0</td>\n",
       "      <td>13.0</td>\n",
       "      <td>14.0</td>\n",
       "    </tr>\n",
       "    <tr>\n",
       "      <th>36</th>\n",
       "      <td>Oregon</td>\n",
       "      <td>OR</td>\n",
       "      <td>552.0</td>\n",
       "      <td>21.0</td>\n",
       "      <td>90.0</td>\n",
       "      <td>16.0</td>\n",
       "      <td>98.0</td>\n",
       "      <td>18.0</td>\n",
       "      <td>24.0</td>\n",
       "      <td>19.0</td>\n",
       "      <td>9.0</td>\n",
       "      <td>50.0</td>\n",
       "      <td>47.0</td>\n",
       "      <td>61.0</td>\n",
       "      <td>15.0</td>\n",
       "      <td>34.0</td>\n",
       "      <td>14.0</td>\n",
       "      <td>9.0</td>\n",
       "      <td>27.0</td>\n",
       "    </tr>\n",
       "    <tr>\n",
       "      <th>37</th>\n",
       "      <td>Pennsylvania</td>\n",
       "      <td>PA</td>\n",
       "      <td>2434.0</td>\n",
       "      <td>19.0</td>\n",
       "      <td>396.0</td>\n",
       "      <td>124.0</td>\n",
       "      <td>448.0</td>\n",
       "      <td>32.0</td>\n",
       "      <td>127.0</td>\n",
       "      <td>85.0</td>\n",
       "      <td>80.0</td>\n",
       "      <td>234.0</td>\n",
       "      <td>131.0</td>\n",
       "      <td>221.0</td>\n",
       "      <td>79.0</td>\n",
       "      <td>149.0</td>\n",
       "      <td>164.0</td>\n",
       "      <td>37.0</td>\n",
       "      <td>108.0</td>\n",
       "    </tr>\n",
       "    <tr>\n",
       "      <th>38</th>\n",
       "      <td>Rhode Island</td>\n",
       "      <td>RI</td>\n",
       "      <td>260.0</td>\n",
       "      <td>3.0</td>\n",
       "      <td>46.0</td>\n",
       "      <td>11.0</td>\n",
       "      <td>35.0</td>\n",
       "      <td>11.0</td>\n",
       "      <td>9.0</td>\n",
       "      <td>9.0</td>\n",
       "      <td>12.0</td>\n",
       "      <td>25.0</td>\n",
       "      <td>10.0</td>\n",
       "      <td>39.0</td>\n",
       "      <td>7.0</td>\n",
       "      <td>9.0</td>\n",
       "      <td>26.0</td>\n",
       "      <td>4.0</td>\n",
       "      <td>4.0</td>\n",
       "    </tr>\n",
       "    <tr>\n",
       "      <th>39</th>\n",
       "      <td>South Carolina</td>\n",
       "      <td>SC</td>\n",
       "      <td>476.0</td>\n",
       "      <td>11.0</td>\n",
       "      <td>75.0</td>\n",
       "      <td>13.0</td>\n",
       "      <td>126.0</td>\n",
       "      <td>7.0</td>\n",
       "      <td>40.0</td>\n",
       "      <td>15.0</td>\n",
       "      <td>6.0</td>\n",
       "      <td>43.0</td>\n",
       "      <td>18.0</td>\n",
       "      <td>29.0</td>\n",
       "      <td>17.0</td>\n",
       "      <td>40.0</td>\n",
       "      <td>15.0</td>\n",
       "      <td>0.0</td>\n",
       "      <td>21.0</td>\n",
       "    </tr>\n",
       "    <tr>\n",
       "      <th>40</th>\n",
       "      <td>South Dakota</td>\n",
       "      <td>SD</td>\n",
       "      <td>122.0</td>\n",
       "      <td>17.0</td>\n",
       "      <td>15.0</td>\n",
       "      <td>5.0</td>\n",
       "      <td>17.0</td>\n",
       "      <td>5.0</td>\n",
       "      <td>12.0</td>\n",
       "      <td>1.0</td>\n",
       "      <td>8.0</td>\n",
       "      <td>13.0</td>\n",
       "      <td>7.0</td>\n",
       "      <td>8.0</td>\n",
       "      <td>0.0</td>\n",
       "      <td>2.0</td>\n",
       "      <td>1.0</td>\n",
       "      <td>0.0</td>\n",
       "      <td>11.0</td>\n",
       "    </tr>\n",
       "    <tr>\n",
       "      <th>41</th>\n",
       "      <td>Tennessee</td>\n",
       "      <td>TN</td>\n",
       "      <td>880.0</td>\n",
       "      <td>24.0</td>\n",
       "      <td>164.0</td>\n",
       "      <td>21.0</td>\n",
       "      <td>151.0</td>\n",
       "      <td>6.0</td>\n",
       "      <td>42.0</td>\n",
       "      <td>20.0</td>\n",
       "      <td>31.0</td>\n",
       "      <td>69.0</td>\n",
       "      <td>70.0</td>\n",
       "      <td>71.0</td>\n",
       "      <td>8.0</td>\n",
       "      <td>92.0</td>\n",
       "      <td>69.0</td>\n",
       "      <td>14.0</td>\n",
       "      <td>28.0</td>\n",
       "    </tr>\n",
       "    <tr>\n",
       "      <th>42</th>\n",
       "      <td>Texas</td>\n",
       "      <td>TX</td>\n",
       "      <td>4118.0</td>\n",
       "      <td>87.0</td>\n",
       "      <td>605.0</td>\n",
       "      <td>151.0</td>\n",
       "      <td>918.0</td>\n",
       "      <td>111.0</td>\n",
       "      <td>214.0</td>\n",
       "      <td>158.0</td>\n",
       "      <td>90.0</td>\n",
       "      <td>312.0</td>\n",
       "      <td>251.0</td>\n",
       "      <td>258.0</td>\n",
       "      <td>130.0</td>\n",
       "      <td>378.0</td>\n",
       "      <td>277.0</td>\n",
       "      <td>42.0</td>\n",
       "      <td>136.0</td>\n",
       "    </tr>\n",
       "    <tr>\n",
       "      <th>43</th>\n",
       "      <td>Utah</td>\n",
       "      <td>UT</td>\n",
       "      <td>502.0</td>\n",
       "      <td>12.0</td>\n",
       "      <td>74.0</td>\n",
       "      <td>22.0</td>\n",
       "      <td>112.0</td>\n",
       "      <td>14.0</td>\n",
       "      <td>31.0</td>\n",
       "      <td>22.0</td>\n",
       "      <td>7.0</td>\n",
       "      <td>44.0</td>\n",
       "      <td>44.0</td>\n",
       "      <td>20.0</td>\n",
       "      <td>11.0</td>\n",
       "      <td>59.0</td>\n",
       "      <td>13.0</td>\n",
       "      <td>1.0</td>\n",
       "      <td>16.0</td>\n",
       "    </tr>\n",
       "    <tr>\n",
       "      <th>44</th>\n",
       "      <td>Vermont</td>\n",
       "      <td>VT</td>\n",
       "      <td>64.0</td>\n",
       "      <td>8.0</td>\n",
       "      <td>21.0</td>\n",
       "      <td>3.0</td>\n",
       "      <td>9.0</td>\n",
       "      <td>0.0</td>\n",
       "      <td>0.0</td>\n",
       "      <td>1.0</td>\n",
       "      <td>1.0</td>\n",
       "      <td>8.0</td>\n",
       "      <td>7.0</td>\n",
       "      <td>2.0</td>\n",
       "      <td>0.0</td>\n",
       "      <td>4.0</td>\n",
       "      <td>0.0</td>\n",
       "      <td>0.0</td>\n",
       "      <td>0.0</td>\n",
       "    </tr>\n",
       "    <tr>\n",
       "      <th>45</th>\n",
       "      <td>Virginia</td>\n",
       "      <td>VA</td>\n",
       "      <td>1518.0</td>\n",
       "      <td>40.0</td>\n",
       "      <td>173.0</td>\n",
       "      <td>78.0</td>\n",
       "      <td>311.0</td>\n",
       "      <td>29.0</td>\n",
       "      <td>73.0</td>\n",
       "      <td>41.0</td>\n",
       "      <td>46.0</td>\n",
       "      <td>116.0</td>\n",
       "      <td>108.0</td>\n",
       "      <td>132.0</td>\n",
       "      <td>51.0</td>\n",
       "      <td>187.0</td>\n",
       "      <td>62.0</td>\n",
       "      <td>12.0</td>\n",
       "      <td>59.0</td>\n",
       "    </tr>\n",
       "    <tr>\n",
       "      <th>46</th>\n",
       "      <td>Washington</td>\n",
       "      <td>WA</td>\n",
       "      <td>910.0</td>\n",
       "      <td>30.0</td>\n",
       "      <td>164.0</td>\n",
       "      <td>38.0</td>\n",
       "      <td>153.0</td>\n",
       "      <td>34.0</td>\n",
       "      <td>58.0</td>\n",
       "      <td>47.0</td>\n",
       "      <td>37.0</td>\n",
       "      <td>96.0</td>\n",
       "      <td>50.0</td>\n",
       "      <td>73.0</td>\n",
       "      <td>24.0</td>\n",
       "      <td>35.0</td>\n",
       "      <td>31.0</td>\n",
       "      <td>10.0</td>\n",
       "      <td>30.0</td>\n",
       "    </tr>\n",
       "    <tr>\n",
       "      <th>47</th>\n",
       "      <td>West Virginia</td>\n",
       "      <td>WV</td>\n",
       "      <td>215.0</td>\n",
       "      <td>6.0</td>\n",
       "      <td>30.0</td>\n",
       "      <td>3.0</td>\n",
       "      <td>40.0</td>\n",
       "      <td>3.0</td>\n",
       "      <td>14.0</td>\n",
       "      <td>3.0</td>\n",
       "      <td>1.0</td>\n",
       "      <td>22.0</td>\n",
       "      <td>23.0</td>\n",
       "      <td>19.0</td>\n",
       "      <td>1.0</td>\n",
       "      <td>19.0</td>\n",
       "      <td>4.0</td>\n",
       "      <td>16.0</td>\n",
       "      <td>11.0</td>\n",
       "    </tr>\n",
       "    <tr>\n",
       "      <th>48</th>\n",
       "      <td>Wisconsin</td>\n",
       "      <td>WI</td>\n",
       "      <td>940.0</td>\n",
       "      <td>28.0</td>\n",
       "      <td>168.0</td>\n",
       "      <td>21.0</td>\n",
       "      <td>133.0</td>\n",
       "      <td>9.0</td>\n",
       "      <td>66.0</td>\n",
       "      <td>52.0</td>\n",
       "      <td>11.0</td>\n",
       "      <td>108.0</td>\n",
       "      <td>63.0</td>\n",
       "      <td>100.0</td>\n",
       "      <td>20.0</td>\n",
       "      <td>57.0</td>\n",
       "      <td>62.0</td>\n",
       "      <td>8.0</td>\n",
       "      <td>34.0</td>\n",
       "    </tr>\n",
       "    <tr>\n",
       "      <th>49</th>\n",
       "      <td>Wyoming</td>\n",
       "      <td>WY</td>\n",
       "      <td>84.0</td>\n",
       "      <td>5.0</td>\n",
       "      <td>17.0</td>\n",
       "      <td>1.0</td>\n",
       "      <td>26.0</td>\n",
       "      <td>8.0</td>\n",
       "      <td>0.0</td>\n",
       "      <td>2.0</td>\n",
       "      <td>1.0</td>\n",
       "      <td>9.0</td>\n",
       "      <td>5.0</td>\n",
       "      <td>2.0</td>\n",
       "      <td>0.0</td>\n",
       "      <td>8.0</td>\n",
       "      <td>0.0</td>\n",
       "      <td>0.0</td>\n",
       "      <td>0.0</td>\n",
       "    </tr>\n",
       "  </tbody>\n",
       "</table>\n",
       "</div>"
      ],
      "text/plain": [
       "   State or location Abbrev  All fields  \\\n",
       "0            Alabama     AL       640.0   \n",
       "1             Alaska     AK        42.0   \n",
       "2            Arizona     AZ       935.0   \n",
       "3           Arkansas     AR       275.0   \n",
       "4         California     CA      5892.0   \n",
       "5           Colorado     CO      1024.0   \n",
       "6        Connecticut     CT       731.0   \n",
       "7           Delaware     DE       212.0   \n",
       "8            Florida     FL      2339.0   \n",
       "9            Georgia     GA      1451.0   \n",
       "10            Hawaii     HI       133.0   \n",
       "11             Idaho     ID       136.0   \n",
       "12          Illinois     IL      2310.0   \n",
       "13           Indiana     IN      1556.0   \n",
       "14              Iowa     IA       618.0   \n",
       "15            Kansas     KS       466.0   \n",
       "16          Kentucky     KY       484.0   \n",
       "17         Louisiana     LA       586.0   \n",
       "18             Maine     ME        70.0   \n",
       "19          Maryland     MD      1173.0   \n",
       "20     Massachusetts     MA      2652.0   \n",
       "21          Michigan     MI      1790.0   \n",
       "22         Minnesota     MN      1499.0   \n",
       "23       Mississippi     MS       409.0   \n",
       "24          Missouri     MO       905.0   \n",
       "25           Montana     MT       113.0   \n",
       "26          Nebraska     NE       329.0   \n",
       "27            Nevada     NV       240.0   \n",
       "28     New Hampshire     NH       159.0   \n",
       "29        New Jersey     NJ       950.0   \n",
       "30        New Mexico     NM       280.0   \n",
       "31          New York     NY      3871.0   \n",
       "32    North Carolina     NC      1724.0   \n",
       "33      North Dakota     ND       175.0   \n",
       "34              Ohio     OH      1878.0   \n",
       "35          Oklahoma     OK       484.0   \n",
       "36            Oregon     OR       552.0   \n",
       "37      Pennsylvania     PA      2434.0   \n",
       "38      Rhode Island     RI       260.0   \n",
       "39    South Carolina     SC       476.0   \n",
       "40      South Dakota     SD       122.0   \n",
       "41         Tennessee     TN       880.0   \n",
       "42             Texas     TX      4118.0   \n",
       "43              Utah     UT       502.0   \n",
       "44           Vermont     VT        64.0   \n",
       "45          Virginia     VA      1518.0   \n",
       "46        Washington     WA       910.0   \n",
       "47     West Virginia     WV       215.0   \n",
       "48         Wisconsin     WI       940.0   \n",
       "49           Wyoming     WY        84.0   \n",
       "\n",
       "    Agricultural sciences and natural resources  \\\n",
       "0                                          25.0   \n",
       "1                                           5.0   \n",
       "2                                          21.0   \n",
       "3                                          21.0   \n",
       "4                                          81.0   \n",
       "5                                          23.0   \n",
       "6                                          13.0   \n",
       "7                                          12.0   \n",
       "8                                          66.0   \n",
       "9                                          50.0   \n",
       "10                                          3.0   \n",
       "11                                         16.0   \n",
       "12                                         37.0   \n",
       "13                                         31.0   \n",
       "14                                         33.0   \n",
       "15                                         32.0   \n",
       "16                                          8.0   \n",
       "17                                         22.0   \n",
       "18                                         11.0   \n",
       "19                                         18.0   \n",
       "20                                         20.0   \n",
       "21                                         32.0   \n",
       "22                                         27.0   \n",
       "23                                         31.0   \n",
       "24                                         22.0   \n",
       "25                                          8.0   \n",
       "26                                         37.0   \n",
       "27                                          2.0   \n",
       "28                                         10.0   \n",
       "29                                         19.0   \n",
       "30                                         12.0   \n",
       "31                                         49.0   \n",
       "32                                         47.0   \n",
       "33                                          9.0   \n",
       "34                                         36.0   \n",
       "35                                         22.0   \n",
       "36                                         21.0   \n",
       "37                                         19.0   \n",
       "38                                          3.0   \n",
       "39                                         11.0   \n",
       "40                                         17.0   \n",
       "41                                         24.0   \n",
       "42                                         87.0   \n",
       "43                                         12.0   \n",
       "44                                          8.0   \n",
       "45                                         40.0   \n",
       "46                                         30.0   \n",
       "47                                          6.0   \n",
       "48                                         28.0   \n",
       "49                                          5.0   \n",
       "\n",
       "    Biological and biomedical sciences  Computer and information sciences  \\\n",
       "0                                119.0                               11.0   \n",
       "1                                  3.0                                0.0   \n",
       "2                                112.0                               31.0   \n",
       "3                                 49.0                               18.0   \n",
       "4                                979.0                              285.0   \n",
       "5                                166.0                               39.0   \n",
       "6                                154.0                               22.0   \n",
       "7                                 35.0                                9.0   \n",
       "8                                305.0                              139.0   \n",
       "9                                286.0                               94.0   \n",
       "10                                17.0                                3.0   \n",
       "11                                21.0                               11.0   \n",
       "12                               324.0                              124.0   \n",
       "13                               195.0                               73.0   \n",
       "14                               108.0                               17.0   \n",
       "15                                62.0                               12.0   \n",
       "16                                83.0                                8.0   \n",
       "17                               100.0                               12.0   \n",
       "18                                10.0                                0.0   \n",
       "19                               258.0                               87.0   \n",
       "20                               458.0                              135.0   \n",
       "21                               271.0                               78.0   \n",
       "22                               143.0                               29.0   \n",
       "23                                39.0                                6.0   \n",
       "24                               142.0                               28.0   \n",
       "25                                32.0                                1.0   \n",
       "26                                67.0                                5.0   \n",
       "27                                31.0                                2.0   \n",
       "28                                39.0                                9.0   \n",
       "29                               113.0                               70.0   \n",
       "30                                37.0                                8.0   \n",
       "31                               664.0                              195.0   \n",
       "32                               312.0                               62.0   \n",
       "33                                21.0                                2.0   \n",
       "34                               298.0                               36.0   \n",
       "35                                68.0                                7.0   \n",
       "36                                90.0                               16.0   \n",
       "37                               396.0                              124.0   \n",
       "38                                46.0                               11.0   \n",
       "39                                75.0                               13.0   \n",
       "40                                15.0                                5.0   \n",
       "41                               164.0                               21.0   \n",
       "42                               605.0                              151.0   \n",
       "43                                74.0                               22.0   \n",
       "44                                21.0                                3.0   \n",
       "45                               173.0                               78.0   \n",
       "46                               164.0                               38.0   \n",
       "47                                30.0                                3.0   \n",
       "48                               168.0                               21.0   \n",
       "49                                17.0                                1.0   \n",
       "\n",
       "    Engineering  Geosciences, atmospheric, and ocean sciences  \\\n",
       "0         117.0                                           8.0   \n",
       "1           2.0                                          11.0   \n",
       "2         198.0                                          23.0   \n",
       "3          48.0                                           2.0   \n",
       "4        1082.0                                         146.0   \n",
       "5         217.0                                          56.0   \n",
       "6          88.0                                          14.0   \n",
       "7          55.0                                           4.0   \n",
       "8         408.0                                          67.0   \n",
       "9         360.0                                          17.0   \n",
       "10          8.0                                          13.0   \n",
       "11         31.0                                           6.0   \n",
       "12        398.0                                          26.0   \n",
       "13        391.0                                          22.0   \n",
       "14        125.0                                           6.0   \n",
       "15         72.0                                           3.0   \n",
       "16         62.0                                           2.0   \n",
       "17         96.0                                          17.0   \n",
       "18         13.0                                           6.0   \n",
       "19        200.0                                          23.0   \n",
       "20        500.0                                          39.0   \n",
       "21        379.0                                          23.0   \n",
       "22        126.0                                           6.0   \n",
       "23         47.0                                           6.0   \n",
       "24        205.0                                          12.0   \n",
       "25          9.0                                           4.0   \n",
       "26         44.0                                           2.0   \n",
       "27         30.0                                          13.0   \n",
       "28         34.0                                           7.0   \n",
       "29        182.0                                          19.0   \n",
       "30         58.0                                          14.0   \n",
       "31        532.0                                          55.0   \n",
       "32        331.0                                          25.0   \n",
       "33         35.0                                           4.0   \n",
       "34        381.0                                          28.0   \n",
       "35         79.0                                          27.0   \n",
       "36         98.0                                          18.0   \n",
       "37        448.0                                          32.0   \n",
       "38         35.0                                          11.0   \n",
       "39        126.0                                           7.0   \n",
       "40         17.0                                           5.0   \n",
       "41        151.0                                           6.0   \n",
       "42        918.0                                         111.0   \n",
       "43        112.0                                          14.0   \n",
       "44          9.0                                           0.0   \n",
       "45        311.0                                          29.0   \n",
       "46        153.0                                          34.0   \n",
       "47         40.0                                           3.0   \n",
       "48        133.0                                           9.0   \n",
       "49         26.0                                           8.0   \n",
       "\n",
       "    Health sciences  Mathematics and statistics  \\\n",
       "0              30.0                        22.0   \n",
       "1               0.0                         0.0   \n",
       "2              41.0                        25.0   \n",
       "3               8.0                         2.0   \n",
       "4             177.0                       236.0   \n",
       "5              46.0                        46.0   \n",
       "6              20.0                        36.0   \n",
       "7               2.0                         9.0   \n",
       "8             137.0                        69.0   \n",
       "9              58.0                        35.0   \n",
       "10              6.0                         2.0   \n",
       "11              4.0                         2.0   \n",
       "12             88.0                        97.0   \n",
       "13             53.0                        73.0   \n",
       "14             29.0                        46.0   \n",
       "15             16.0                        18.0   \n",
       "16             39.0                        15.0   \n",
       "17             35.0                        18.0   \n",
       "18              1.0                         0.0   \n",
       "19             97.0                        39.0   \n",
       "20            132.0                        89.0   \n",
       "21             82.0                        81.0   \n",
       "22            203.0                        26.0   \n",
       "23             28.0                         8.0   \n",
       "24             55.0                        28.0   \n",
       "25              5.0                         8.0   \n",
       "26             27.0                        12.0   \n",
       "27             16.0                         4.0   \n",
       "28              5.0                         9.0   \n",
       "29             28.0                        46.0   \n",
       "30              6.0                        10.0   \n",
       "31            139.0                       145.0   \n",
       "32            124.0                       100.0   \n",
       "33              7.0                         6.0   \n",
       "34             86.0                        58.0   \n",
       "35             21.0                         7.0   \n",
       "36             24.0                        19.0   \n",
       "37            127.0                        85.0   \n",
       "38              9.0                         9.0   \n",
       "39             40.0                        15.0   \n",
       "40             12.0                         1.0   \n",
       "41             42.0                        20.0   \n",
       "42            214.0                       158.0   \n",
       "43             31.0                        22.0   \n",
       "44              0.0                         1.0   \n",
       "45             73.0                        41.0   \n",
       "46             58.0                        47.0   \n",
       "47             14.0                         3.0   \n",
       "48             66.0                        52.0   \n",
       "49              0.0                         2.0   \n",
       "\n",
       "    Multidisciplinary/ interdisciplinary sciences  Physical sciences  \\\n",
       "0                                            16.0               45.0   \n",
       "1                                             2.0                2.0   \n",
       "2                                            35.0               86.0   \n",
       "3                                             3.0               20.0   \n",
       "4                                           191.0              668.0   \n",
       "5                                            13.0              107.0   \n",
       "6                                            12.0               97.0   \n",
       "7                                             3.0               28.0   \n",
       "8                                            81.0              185.0   \n",
       "9                                            36.0              107.0   \n",
       "10                                            3.0                9.0   \n",
       "11                                            4.0                7.0   \n",
       "12                                           36.0              275.0   \n",
       "13                                           39.0              154.0   \n",
       "14                                           19.0               58.0   \n",
       "15                                           12.0               38.0   \n",
       "16                                           10.0               34.0   \n",
       "17                                            4.0               58.0   \n",
       "18                                            0.0                7.0   \n",
       "19                                           33.0               86.0   \n",
       "20                                           79.0              297.0   \n",
       "21                                           35.0              192.0   \n",
       "22                                           21.0               60.0   \n",
       "23                                           12.0               33.0   \n",
       "24                                           15.0               61.0   \n",
       "25                                            1.0                9.0   \n",
       "26                                           11.0               20.0   \n",
       "27                                            8.0               17.0   \n",
       "28                                            1.0               19.0   \n",
       "29                                           21.0               93.0   \n",
       "30                                            2.0               34.0   \n",
       "31                                           87.0              355.0   \n",
       "32                                           46.0              143.0   \n",
       "33                                            1.0               10.0   \n",
       "34                                           53.0              177.0   \n",
       "35                                            6.0               32.0   \n",
       "36                                            9.0               50.0   \n",
       "37                                           80.0              234.0   \n",
       "38                                           12.0               25.0   \n",
       "39                                            6.0               43.0   \n",
       "40                                            8.0               13.0   \n",
       "41                                           31.0               69.0   \n",
       "42                                           90.0              312.0   \n",
       "43                                            7.0               44.0   \n",
       "44                                            1.0                8.0   \n",
       "45                                           46.0              116.0   \n",
       "46                                           37.0               96.0   \n",
       "47                                            1.0               22.0   \n",
       "48                                           11.0              108.0   \n",
       "49                                            1.0                9.0   \n",
       "\n",
       "    Psychology  Social sciences  Business  Education  Humanities  \\\n",
       "0         57.0             17.0      24.0      105.0        14.0   \n",
       "1         10.0              4.0       0.0        2.0         0.0   \n",
       "2         58.0            104.0      25.0       61.0        43.0   \n",
       "3         11.0             16.0      14.0       40.0        12.0   \n",
       "4        486.0            628.0     126.0      192.0       333.0   \n",
       "5         59.0             56.0       7.0       92.0        33.0   \n",
       "6         45.0            102.0      22.0       12.0        54.0   \n",
       "7          7.0             21.0       2.0        9.0         7.0   \n",
       "8        169.0            158.0      58.0      218.0       105.0   \n",
       "9         71.0            103.0      37.0       67.0        63.0   \n",
       "10         9.0             22.0       5.0       11.0        14.0   \n",
       "11        12.0              1.0       0.0       17.0         3.0   \n",
       "12       162.0            280.0      76.0       85.0       182.0   \n",
       "13        85.0            134.0      29.0      106.0       122.0   \n",
       "14        42.0             34.0      20.0       47.0        17.0   \n",
       "15        56.0             40.0      11.0       43.0        22.0   \n",
       "16        26.0             49.0       4.0       58.0        50.0   \n",
       "17        28.0             46.0      26.0       51.0        45.0   \n",
       "18         5.0              5.0       0.0        4.0         3.0   \n",
       "19        50.0            113.0      24.0       42.0        57.0   \n",
       "20       116.0            315.0      65.0      104.0       171.0   \n",
       "21       104.0            169.0      18.0      161.0        72.0   \n",
       "22       230.0            204.0     107.0      148.0        28.0   \n",
       "23        40.0             26.0      16.0       83.0        14.0   \n",
       "24        72.0             57.0      18.0       56.0       103.0   \n",
       "25        10.0              5.0       0.0       13.0         7.0   \n",
       "26        24.0             15.0       9.0       29.0        13.0   \n",
       "27        41.0             23.0       9.0       33.0         7.0   \n",
       "28         3.0              8.0       2.0        5.0         8.0   \n",
       "29        36.0            109.0      24.0       56.0        86.0   \n",
       "30        11.0             22.0       4.0       45.0         8.0   \n",
       "31       333.0            421.0      76.0      218.0       325.0   \n",
       "32        94.0            123.0      29.0       95.0       101.0   \n",
       "33        24.0              4.0       7.0       30.0         6.0   \n",
       "34       132.0            143.0      40.0      185.0       110.0   \n",
       "35        54.0             23.0      27.0       57.0        27.0   \n",
       "36        47.0             61.0      15.0       34.0        14.0   \n",
       "37       131.0            221.0      79.0      149.0       164.0   \n",
       "38        10.0             39.0       7.0        9.0        26.0   \n",
       "39        18.0             29.0      17.0       40.0        15.0   \n",
       "40         7.0              8.0       0.0        2.0         1.0   \n",
       "41        70.0             71.0       8.0       92.0        69.0   \n",
       "42       251.0            258.0     130.0      378.0       277.0   \n",
       "43        44.0             20.0      11.0       59.0        13.0   \n",
       "44         7.0              2.0       0.0        4.0         0.0   \n",
       "45       108.0            132.0      51.0      187.0        62.0   \n",
       "46        50.0             73.0      24.0       35.0        31.0   \n",
       "47        23.0             19.0       1.0       19.0         4.0   \n",
       "48        63.0            100.0      20.0       57.0        62.0   \n",
       "49         5.0              2.0       0.0        8.0         0.0   \n",
       "\n",
       "    Visual and performing arts  Other  \n",
       "0                          1.0   29.0  \n",
       "1                          0.0    1.0  \n",
       "2                         40.0   32.0  \n",
       "3                          0.0   11.0  \n",
       "4                        120.0  162.0  \n",
       "5                         32.0   32.0  \n",
       "6                         15.0   25.0  \n",
       "7                          2.0    7.0  \n",
       "8                         47.0  127.0  \n",
       "9                         10.0   57.0  \n",
       "10                         3.0    5.0  \n",
       "11                         0.0    1.0  \n",
       "12                        43.0   77.0  \n",
       "13                         7.0   42.0  \n",
       "14                         4.0   13.0  \n",
       "15                         7.0   22.0  \n",
       "16                         8.0   28.0  \n",
       "17                         7.0   21.0  \n",
       "18                         1.0    4.0  \n",
       "19                        11.0   35.0  \n",
       "20                        33.0   99.0  \n",
       "21                         7.0   86.0  \n",
       "22                         5.0  136.0  \n",
       "23                         0.0   20.0  \n",
       "24                         5.0   26.0  \n",
       "25                         0.0    1.0  \n",
       "26                         1.0   13.0  \n",
       "27                         0.0    4.0  \n",
       "28                         0.0    0.0  \n",
       "29                        11.0   37.0  \n",
       "30                         0.0    9.0  \n",
       "31                       135.0  142.0  \n",
       "32                        16.0   76.0  \n",
       "33                         0.0    9.0  \n",
       "34                        33.0   82.0  \n",
       "35                        13.0   14.0  \n",
       "36                         9.0   27.0  \n",
       "37                        37.0  108.0  \n",
       "38                         4.0    4.0  \n",
       "39                         0.0   21.0  \n",
       "40                         0.0   11.0  \n",
       "41                        14.0   28.0  \n",
       "42                        42.0  136.0  \n",
       "43                         1.0   16.0  \n",
       "44                         0.0    0.0  \n",
       "45                        12.0   59.0  \n",
       "46                        10.0   30.0  \n",
       "47                        16.0   11.0  \n",
       "48                         8.0   34.0  \n",
       "49                         0.0    0.0  "
      ]
     },
     "execution_count": 155,
     "metadata": {},
     "output_type": "execute_result"
    }
   ],
   "source": [
    "df710 = pd.read_csv(\"CSV/nsf23300-tab007-010.csv\",encoding='cp1252')\n",
    "df710\n"
   ]
  },
  {
   "cell_type": "code",
   "execution_count": 133,
   "id": "abb44321-57d0-4ea4-83e0-4c13353d219b",
   "metadata": {},
   "outputs": [
    {
     "data": {
      "text/plain": [
       "State or location    object\n",
       "Alabama              object\n",
       "Alaska               object\n",
       "Arizona              object\n",
       "Arkansas             object\n",
       "California           object\n",
       "Colorado             object\n",
       "Connecticut          object\n",
       "Delaware             object\n",
       "Florida              object\n",
       "Georgia              object\n",
       "Hawaii               object\n",
       "Idaho                object\n",
       "Illinois             object\n",
       "Indiana              object\n",
       "Iowa                 object\n",
       "Kansas               object\n",
       "Kentucky             object\n",
       "Louisiana            object\n",
       "Maine                object\n",
       "Maryland             object\n",
       "Massachusetts        object\n",
       "Michigan             object\n",
       "Minnesota            object\n",
       "Mississippi          object\n",
       "Missouri             object\n",
       "Montana              object\n",
       "Nebraska             object\n",
       "Nevada               object\n",
       "New Hampshire        object\n",
       "New Jersey           object\n",
       "New Mexico           object\n",
       "New York             object\n",
       "North Carolina       object\n",
       "North Dakota         object\n",
       "Ohio                 object\n",
       "Oklahoma             object\n",
       "Oregon               object\n",
       "Pennsylvania         object\n",
       "Rhode Island         object\n",
       "South Carolina       object\n",
       "South Dakota         object\n",
       "Tennessee            object\n",
       "Texas                object\n",
       "Utah                 object\n",
       "Vermont              object\n",
       "Virginia             object\n",
       "Washington           object\n",
       "West Virginia        object\n",
       "Wisconsin            object\n",
       "Wyoming              object\n",
       "dtype: object"
      ]
     },
     "execution_count": 133,
     "metadata": {},
     "output_type": "execute_result"
    }
   ],
   "source": [
    "df7102.dtypes"
   ]
  },
  {
   "cell_type": "code",
   "execution_count": 121,
   "id": "854f1e10-53e5-40d8-b136-823a1312b3ec",
   "metadata": {},
   "outputs": [
    {
     "name": "stdout",
     "output_type": "stream",
     "text": [
      "42.0 5892.0\n"
     ]
    },
    {
     "data": {
      "application/vnd.plotly.v1+json": {
       "config": {
        "plotlyServerURL": "https://plot.ly"
       },
       "data": [
        {
         "coloraxis": "coloraxis",
         "geo": "geo",
         "hovertemplate": "<b>%{hovertext}</b><br><br>Abbrev=%{location}<br>All fields=%{z}<extra></extra>",
         "hovertext": [
          "Alabama",
          "Alaska",
          "Arizona",
          "Arkansas",
          "California",
          "Colorado",
          "Connecticut",
          "Delaware",
          "Florida",
          "Georgia",
          "Hawaii",
          "Idaho",
          "Illinois",
          "Indiana",
          "Iowa",
          "Kansas",
          "Kentucky",
          "Louisiana",
          "Maine",
          "Maryland",
          "Massachusetts",
          "Michigan",
          "Minnesota",
          "Mississippi",
          "Missouri",
          "Montana",
          "Nebraska",
          "Nevada",
          "New Hampshire",
          "New Jersey",
          "New Mexico",
          "New York",
          "North Carolina",
          "North Dakota",
          "Ohio",
          "Oklahoma",
          "Oregon",
          "Pennsylvania",
          "Rhode Island",
          "South Carolina",
          "South Dakota",
          "Tennessee",
          "Texas",
          "Utah",
          "Vermont",
          "Virginia",
          "Washington",
          "West Virginia",
          "Wisconsin",
          "Wyoming"
         ],
         "locationmode": "USA-states",
         "locations": [
          "AL",
          "AK",
          "AZ",
          "AR",
          "CA",
          "CO",
          "CT",
          "DE",
          "FL",
          "GA",
          "HI",
          "ID",
          "IL",
          "IN",
          "IA",
          "KS",
          "KY",
          "LA",
          "ME",
          "MD",
          "MA",
          "MI",
          "MN",
          "MS",
          "MO",
          "MT",
          "NE",
          "NV",
          "NH",
          "NJ",
          "NM",
          "NY",
          "NC",
          "ND",
          "OH",
          "OK",
          "OR",
          "PA",
          "RI",
          "SC",
          "SD",
          "TN",
          "TX",
          "UT",
          "VT",
          "VA",
          "WA",
          "WV",
          "WI",
          "WY"
         ],
         "name": "",
         "type": "choropleth",
         "z": [
          640,
          42,
          935,
          275,
          5892,
          1024,
          731,
          212,
          2339,
          1451,
          133,
          136,
          2310,
          1556,
          618,
          466,
          484,
          586,
          70,
          1173,
          2652,
          1790,
          1499,
          409,
          905,
          113,
          329,
          240,
          159,
          950,
          280,
          3871,
          1724,
          175,
          1878,
          484,
          552,
          2434,
          260,
          476,
          122,
          880,
          4118,
          502,
          64,
          1518,
          910,
          215,
          940,
          84
         ]
        }
       ],
       "layout": {
        "coloraxis": {
         "cmax": 5892,
         "cmin": 42,
         "colorbar": {
          "title": {
           "text": "All fields"
          }
         },
         "colorscale": [
          [
           0,
           "rgb(63, 5, 5)"
          ],
          [
           0.09090909090909091,
           "rgb(101, 6, 13)"
          ],
          [
           0.18181818181818182,
           "rgb(138, 17, 9)"
          ],
          [
           0.2727272727272727,
           "rgb(96, 95, 95)"
          ],
          [
           0.36363636363636365,
           "rgb(119, 118, 118)"
          ],
          [
           0.45454545454545453,
           "rgb(142, 141, 141)"
          ],
          [
           0.5454545454545454,
           "rgb(166, 166, 165)"
          ],
          [
           0.6363636363636364,
           "rgb(193, 192, 191)"
          ],
          [
           0.7272727272727273,
           "rgb(222, 222, 220)"
          ],
          [
           0.8181818181818182,
           "rgb(239, 248, 90)"
          ],
          [
           0.9090909090909091,
           "rgb(230, 210, 41)"
          ],
          [
           1,
           "rgb(220, 174, 25)"
          ]
         ]
        },
        "geo": {
         "center": {},
         "domain": {
          "x": [
           0,
           1
          ],
          "y": [
           0,
           1
          ]
         },
         "scope": "usa"
        },
        "height": 600,
        "legend": {
         "tracegroupgap": 0
        },
        "template": {
         "data": {
          "bar": [
           {
            "error_x": {
             "color": "#2a3f5f"
            },
            "error_y": {
             "color": "#2a3f5f"
            },
            "marker": {
             "line": {
              "color": "#E5ECF6",
              "width": 0.5
             },
             "pattern": {
              "fillmode": "overlay",
              "size": 10,
              "solidity": 0.2
             }
            },
            "type": "bar"
           }
          ],
          "barpolar": [
           {
            "marker": {
             "line": {
              "color": "#E5ECF6",
              "width": 0.5
             },
             "pattern": {
              "fillmode": "overlay",
              "size": 10,
              "solidity": 0.2
             }
            },
            "type": "barpolar"
           }
          ],
          "carpet": [
           {
            "aaxis": {
             "endlinecolor": "#2a3f5f",
             "gridcolor": "white",
             "linecolor": "white",
             "minorgridcolor": "white",
             "startlinecolor": "#2a3f5f"
            },
            "baxis": {
             "endlinecolor": "#2a3f5f",
             "gridcolor": "white",
             "linecolor": "white",
             "minorgridcolor": "white",
             "startlinecolor": "#2a3f5f"
            },
            "type": "carpet"
           }
          ],
          "choropleth": [
           {
            "colorbar": {
             "outlinewidth": 0,
             "ticks": ""
            },
            "type": "choropleth"
           }
          ],
          "contour": [
           {
            "colorbar": {
             "outlinewidth": 0,
             "ticks": ""
            },
            "colorscale": [
             [
              0,
              "#0d0887"
             ],
             [
              0.1111111111111111,
              "#46039f"
             ],
             [
              0.2222222222222222,
              "#7201a8"
             ],
             [
              0.3333333333333333,
              "#9c179e"
             ],
             [
              0.4444444444444444,
              "#bd3786"
             ],
             [
              0.5555555555555556,
              "#d8576b"
             ],
             [
              0.6666666666666666,
              "#ed7953"
             ],
             [
              0.7777777777777778,
              "#fb9f3a"
             ],
             [
              0.8888888888888888,
              "#fdca26"
             ],
             [
              1,
              "#f0f921"
             ]
            ],
            "type": "contour"
           }
          ],
          "contourcarpet": [
           {
            "colorbar": {
             "outlinewidth": 0,
             "ticks": ""
            },
            "type": "contourcarpet"
           }
          ],
          "heatmap": [
           {
            "colorbar": {
             "outlinewidth": 0,
             "ticks": ""
            },
            "colorscale": [
             [
              0,
              "#0d0887"
             ],
             [
              0.1111111111111111,
              "#46039f"
             ],
             [
              0.2222222222222222,
              "#7201a8"
             ],
             [
              0.3333333333333333,
              "#9c179e"
             ],
             [
              0.4444444444444444,
              "#bd3786"
             ],
             [
              0.5555555555555556,
              "#d8576b"
             ],
             [
              0.6666666666666666,
              "#ed7953"
             ],
             [
              0.7777777777777778,
              "#fb9f3a"
             ],
             [
              0.8888888888888888,
              "#fdca26"
             ],
             [
              1,
              "#f0f921"
             ]
            ],
            "type": "heatmap"
           }
          ],
          "heatmapgl": [
           {
            "colorbar": {
             "outlinewidth": 0,
             "ticks": ""
            },
            "colorscale": [
             [
              0,
              "#0d0887"
             ],
             [
              0.1111111111111111,
              "#46039f"
             ],
             [
              0.2222222222222222,
              "#7201a8"
             ],
             [
              0.3333333333333333,
              "#9c179e"
             ],
             [
              0.4444444444444444,
              "#bd3786"
             ],
             [
              0.5555555555555556,
              "#d8576b"
             ],
             [
              0.6666666666666666,
              "#ed7953"
             ],
             [
              0.7777777777777778,
              "#fb9f3a"
             ],
             [
              0.8888888888888888,
              "#fdca26"
             ],
             [
              1,
              "#f0f921"
             ]
            ],
            "type": "heatmapgl"
           }
          ],
          "histogram": [
           {
            "marker": {
             "pattern": {
              "fillmode": "overlay",
              "size": 10,
              "solidity": 0.2
             }
            },
            "type": "histogram"
           }
          ],
          "histogram2d": [
           {
            "colorbar": {
             "outlinewidth": 0,
             "ticks": ""
            },
            "colorscale": [
             [
              0,
              "#0d0887"
             ],
             [
              0.1111111111111111,
              "#46039f"
             ],
             [
              0.2222222222222222,
              "#7201a8"
             ],
             [
              0.3333333333333333,
              "#9c179e"
             ],
             [
              0.4444444444444444,
              "#bd3786"
             ],
             [
              0.5555555555555556,
              "#d8576b"
             ],
             [
              0.6666666666666666,
              "#ed7953"
             ],
             [
              0.7777777777777778,
              "#fb9f3a"
             ],
             [
              0.8888888888888888,
              "#fdca26"
             ],
             [
              1,
              "#f0f921"
             ]
            ],
            "type": "histogram2d"
           }
          ],
          "histogram2dcontour": [
           {
            "colorbar": {
             "outlinewidth": 0,
             "ticks": ""
            },
            "colorscale": [
             [
              0,
              "#0d0887"
             ],
             [
              0.1111111111111111,
              "#46039f"
             ],
             [
              0.2222222222222222,
              "#7201a8"
             ],
             [
              0.3333333333333333,
              "#9c179e"
             ],
             [
              0.4444444444444444,
              "#bd3786"
             ],
             [
              0.5555555555555556,
              "#d8576b"
             ],
             [
              0.6666666666666666,
              "#ed7953"
             ],
             [
              0.7777777777777778,
              "#fb9f3a"
             ],
             [
              0.8888888888888888,
              "#fdca26"
             ],
             [
              1,
              "#f0f921"
             ]
            ],
            "type": "histogram2dcontour"
           }
          ],
          "mesh3d": [
           {
            "colorbar": {
             "outlinewidth": 0,
             "ticks": ""
            },
            "type": "mesh3d"
           }
          ],
          "parcoords": [
           {
            "line": {
             "colorbar": {
              "outlinewidth": 0,
              "ticks": ""
             }
            },
            "type": "parcoords"
           }
          ],
          "pie": [
           {
            "automargin": true,
            "type": "pie"
           }
          ],
          "scatter": [
           {
            "fillpattern": {
             "fillmode": "overlay",
             "size": 10,
             "solidity": 0.2
            },
            "type": "scatter"
           }
          ],
          "scatter3d": [
           {
            "line": {
             "colorbar": {
              "outlinewidth": 0,
              "ticks": ""
             }
            },
            "marker": {
             "colorbar": {
              "outlinewidth": 0,
              "ticks": ""
             }
            },
            "type": "scatter3d"
           }
          ],
          "scattercarpet": [
           {
            "marker": {
             "colorbar": {
              "outlinewidth": 0,
              "ticks": ""
             }
            },
            "type": "scattercarpet"
           }
          ],
          "scattergeo": [
           {
            "marker": {
             "colorbar": {
              "outlinewidth": 0,
              "ticks": ""
             }
            },
            "type": "scattergeo"
           }
          ],
          "scattergl": [
           {
            "marker": {
             "colorbar": {
              "outlinewidth": 0,
              "ticks": ""
             }
            },
            "type": "scattergl"
           }
          ],
          "scattermapbox": [
           {
            "marker": {
             "colorbar": {
              "outlinewidth": 0,
              "ticks": ""
             }
            },
            "type": "scattermapbox"
           }
          ],
          "scatterpolar": [
           {
            "marker": {
             "colorbar": {
              "outlinewidth": 0,
              "ticks": ""
             }
            },
            "type": "scatterpolar"
           }
          ],
          "scatterpolargl": [
           {
            "marker": {
             "colorbar": {
              "outlinewidth": 0,
              "ticks": ""
             }
            },
            "type": "scatterpolargl"
           }
          ],
          "scatterternary": [
           {
            "marker": {
             "colorbar": {
              "outlinewidth": 0,
              "ticks": ""
             }
            },
            "type": "scatterternary"
           }
          ],
          "surface": [
           {
            "colorbar": {
             "outlinewidth": 0,
             "ticks": ""
            },
            "colorscale": [
             [
              0,
              "#0d0887"
             ],
             [
              0.1111111111111111,
              "#46039f"
             ],
             [
              0.2222222222222222,
              "#7201a8"
             ],
             [
              0.3333333333333333,
              "#9c179e"
             ],
             [
              0.4444444444444444,
              "#bd3786"
             ],
             [
              0.5555555555555556,
              "#d8576b"
             ],
             [
              0.6666666666666666,
              "#ed7953"
             ],
             [
              0.7777777777777778,
              "#fb9f3a"
             ],
             [
              0.8888888888888888,
              "#fdca26"
             ],
             [
              1,
              "#f0f921"
             ]
            ],
            "type": "surface"
           }
          ],
          "table": [
           {
            "cells": {
             "fill": {
              "color": "#EBF0F8"
             },
             "line": {
              "color": "white"
             }
            },
            "header": {
             "fill": {
              "color": "#C8D4E3"
             },
             "line": {
              "color": "white"
             }
            },
            "type": "table"
           }
          ]
         },
         "layout": {
          "annotationdefaults": {
           "arrowcolor": "#2a3f5f",
           "arrowhead": 0,
           "arrowwidth": 1
          },
          "autotypenumbers": "strict",
          "coloraxis": {
           "colorbar": {
            "outlinewidth": 0,
            "ticks": ""
           }
          },
          "colorscale": {
           "diverging": [
            [
             0,
             "#8e0152"
            ],
            [
             0.1,
             "#c51b7d"
            ],
            [
             0.2,
             "#de77ae"
            ],
            [
             0.3,
             "#f1b6da"
            ],
            [
             0.4,
             "#fde0ef"
            ],
            [
             0.5,
             "#f7f7f7"
            ],
            [
             0.6,
             "#e6f5d0"
            ],
            [
             0.7,
             "#b8e186"
            ],
            [
             0.8,
             "#7fbc41"
            ],
            [
             0.9,
             "#4d9221"
            ],
            [
             1,
             "#276419"
            ]
           ],
           "sequential": [
            [
             0,
             "#0d0887"
            ],
            [
             0.1111111111111111,
             "#46039f"
            ],
            [
             0.2222222222222222,
             "#7201a8"
            ],
            [
             0.3333333333333333,
             "#9c179e"
            ],
            [
             0.4444444444444444,
             "#bd3786"
            ],
            [
             0.5555555555555556,
             "#d8576b"
            ],
            [
             0.6666666666666666,
             "#ed7953"
            ],
            [
             0.7777777777777778,
             "#fb9f3a"
            ],
            [
             0.8888888888888888,
             "#fdca26"
            ],
            [
             1,
             "#f0f921"
            ]
           ],
           "sequentialminus": [
            [
             0,
             "#0d0887"
            ],
            [
             0.1111111111111111,
             "#46039f"
            ],
            [
             0.2222222222222222,
             "#7201a8"
            ],
            [
             0.3333333333333333,
             "#9c179e"
            ],
            [
             0.4444444444444444,
             "#bd3786"
            ],
            [
             0.5555555555555556,
             "#d8576b"
            ],
            [
             0.6666666666666666,
             "#ed7953"
            ],
            [
             0.7777777777777778,
             "#fb9f3a"
            ],
            [
             0.8888888888888888,
             "#fdca26"
            ],
            [
             1,
             "#f0f921"
            ]
           ]
          },
          "colorway": [
           "#636efa",
           "#EF553B",
           "#00cc96",
           "#ab63fa",
           "#FFA15A",
           "#19d3f3",
           "#FF6692",
           "#B6E880",
           "#FF97FF",
           "#FECB52"
          ],
          "font": {
           "color": "#2a3f5f"
          },
          "geo": {
           "bgcolor": "white",
           "lakecolor": "white",
           "landcolor": "#E5ECF6",
           "showlakes": true,
           "showland": true,
           "subunitcolor": "white"
          },
          "hoverlabel": {
           "align": "left"
          },
          "hovermode": "closest",
          "mapbox": {
           "style": "light"
          },
          "paper_bgcolor": "white",
          "plot_bgcolor": "#E5ECF6",
          "polar": {
           "angularaxis": {
            "gridcolor": "white",
            "linecolor": "white",
            "ticks": ""
           },
           "bgcolor": "#E5ECF6",
           "radialaxis": {
            "gridcolor": "white",
            "linecolor": "white",
            "ticks": ""
           }
          },
          "scene": {
           "xaxis": {
            "backgroundcolor": "#E5ECF6",
            "gridcolor": "white",
            "gridwidth": 2,
            "linecolor": "white",
            "showbackground": true,
            "ticks": "",
            "zerolinecolor": "white"
           },
           "yaxis": {
            "backgroundcolor": "#E5ECF6",
            "gridcolor": "white",
            "gridwidth": 2,
            "linecolor": "white",
            "showbackground": true,
            "ticks": "",
            "zerolinecolor": "white"
           },
           "zaxis": {
            "backgroundcolor": "#E5ECF6",
            "gridcolor": "white",
            "gridwidth": 2,
            "linecolor": "white",
            "showbackground": true,
            "ticks": "",
            "zerolinecolor": "white"
           }
          },
          "shapedefaults": {
           "line": {
            "color": "#2a3f5f"
           }
          },
          "ternary": {
           "aaxis": {
            "gridcolor": "white",
            "linecolor": "white",
            "ticks": ""
           },
           "baxis": {
            "gridcolor": "white",
            "linecolor": "white",
            "ticks": ""
           },
           "bgcolor": "#E5ECF6",
           "caxis": {
            "gridcolor": "white",
            "linecolor": "white",
            "ticks": ""
           }
          },
          "title": {
           "x": 0.05
          },
          "xaxis": {
           "automargin": true,
           "gridcolor": "white",
           "linecolor": "white",
           "ticks": "",
           "title": {
            "standoff": 15
           },
           "zerolinecolor": "white",
           "zerolinewidth": 2
          },
          "yaxis": {
           "automargin": true,
           "gridcolor": "white",
           "linecolor": "white",
           "ticks": "",
           "title": {
            "standoff": 15
           },
           "zerolinecolor": "white",
           "zerolinewidth": 2
          }
         }
        },
        "title": {
         "text": "Grad Students"
        },
        "width": 600
       }
      },
      "image/png": "[encoded data removed]",
      "text/html": [
       "<div>                            <div id=\"523a9a17-7142-4d3f-a2d1-4e09a7823cba\" class=\"plotly-graph-div\" style=\"height:600px; width:600px;\"></div>            <script type=\"text/javascript\">                require([\"plotly\"], function(Plotly) {                    window.PLOTLYENV=window.PLOTLYENV || {};                                    if (document.getElementById(\"523a9a17-7142-4d3f-a2d1-4e09a7823cba\")) {                    Plotly.newPlot(                        \"523a9a17-7142-4d3f-a2d1-4e09a7823cba\",                        [{\"coloraxis\":\"coloraxis\",\"geo\":\"geo\",\"hovertemplate\":\"<b>%{hovertext}</b><br><br>Abbrev=%{location}<br>All fields=%{z}<extra></extra>\",\"hovertext\":[\"Alabama\",\"Alaska\",\"Arizona\",\"Arkansas\",\"California\",\"Colorado\",\"Connecticut\",\"Delaware\",\"Florida\",\"Georgia\",\"Hawaii\",\"Idaho\",\"Illinois\",\"Indiana\",\"Iowa\",\"Kansas\",\"Kentucky\",\"Louisiana\",\"Maine\",\"Maryland\",\"Massachusetts\",\"Michigan\",\"Minnesota\",\"Mississippi\",\"Missouri\",\"Montana\",\"Nebraska\",\"Nevada\",\"New Hampshire\",\"New Jersey\",\"New Mexico\",\"New York\",\"North Carolina\",\"North Dakota\",\"Ohio\",\"Oklahoma\",\"Oregon\",\"Pennsylvania\",\"Rhode Island\",\"South Carolina\",\"South Dakota\",\"Tennessee\",\"Texas\",\"Utah\",\"Vermont\",\"Virginia\",\"Washington\",\"West Virginia\",\"Wisconsin\",\"Wyoming\"],\"locationmode\":\"USA-states\",\"locations\":[\"AL\",\"AK\",\"AZ\",\"AR\",\"CA\",\"CO\",\"CT\",\"DE\",\"FL\",\"GA\",\"HI\",\"ID\",\"IL\",\"IN\",\"IA\",\"KS\",\"KY\",\"LA\",\"ME\",\"MD\",\"MA\",\"MI\",\"MN\",\"MS\",\"MO\",\"MT\",\"NE\",\"NV\",\"NH\",\"NJ\",\"NM\",\"NY\",\"NC\",\"ND\",\"OH\",\"OK\",\"OR\",\"PA\",\"RI\",\"SC\",\"SD\",\"TN\",\"TX\",\"UT\",\"VT\",\"VA\",\"WA\",\"WV\",\"WI\",\"WY\"],\"name\":\"\",\"z\":[640.0,42.0,935.0,275.0,5892.0,1024.0,731.0,212.0,2339.0,1451.0,133.0,136.0,2310.0,1556.0,618.0,466.0,484.0,586.0,70.0,1173.0,2652.0,1790.0,1499.0,409.0,905.0,113.0,329.0,240.0,159.0,950.0,280.0,3871.0,1724.0,175.0,1878.0,484.0,552.0,2434.0,260.0,476.0,122.0,880.0,4118.0,502.0,64.0,1518.0,910.0,215.0,940.0,84.0],\"type\":\"choropleth\"}],                        {\"template\":{\"data\":{\"histogram2dcontour\":[{\"type\":\"histogram2dcontour\",\"colorbar\":{\"outlinewidth\":0,\"ticks\":\"\"},\"colorscale\":[[0.0,\"#0d0887\"],[0.1111111111111111,\"#46039f\"],[0.2222222222222222,\"#7201a8\"],[0.3333333333333333,\"#9c179e\"],[0.4444444444444444,\"#bd3786\"],[0.5555555555555556,\"#d8576b\"],[0.6666666666666666,\"#ed7953\"],[0.7777777777777778,\"#fb9f3a\"],[0.8888888888888888,\"#fdca26\"],[1.0,\"#f0f921\"]]}],\"choropleth\":[{\"type\":\"choropleth\",\"colorbar\":{\"outlinewidth\":0,\"ticks\":\"\"}}],\"histogram2d\":[{\"type\":\"histogram2d\",\"colorbar\":{\"outlinewidth\":0,\"ticks\":\"\"},\"colorscale\":[[0.0,\"#0d0887\"],[0.1111111111111111,\"#46039f\"],[0.2222222222222222,\"#7201a8\"],[0.3333333333333333,\"#9c179e\"],[0.4444444444444444,\"#bd3786\"],[0.5555555555555556,\"#d8576b\"],[0.6666666666666666,\"#ed7953\"],[0.7777777777777778,\"#fb9f3a\"],[0.8888888888888888,\"#fdca26\"],[1.0,\"#f0f921\"]]}],\"heatmap\":[{\"type\":\"heatmap\",\"colorbar\":{\"outlinewidth\":0,\"ticks\":\"\"},\"colorscale\":[[0.0,\"#0d0887\"],[0.1111111111111111,\"#46039f\"],[0.2222222222222222,\"#7201a8\"],[0.3333333333333333,\"#9c179e\"],[0.4444444444444444,\"#bd3786\"],[0.5555555555555556,\"#d8576b\"],[0.6666666666666666,\"#ed7953\"],[0.7777777777777778,\"#fb9f3a\"],[0.8888888888888888,\"#fdca26\"],[1.0,\"#f0f921\"]]}],\"heatmapgl\":[{\"type\":\"heatmapgl\",\"colorbar\":{\"outlinewidth\":0,\"ticks\":\"\"},\"colorscale\":[[0.0,\"#0d0887\"],[0.1111111111111111,\"#46039f\"],[0.2222222222222222,\"#7201a8\"],[0.3333333333333333,\"#9c179e\"],[0.4444444444444444,\"#bd3786\"],[0.5555555555555556,\"#d8576b\"],[0.6666666666666666,\"#ed7953\"],[0.7777777777777778,\"#fb9f3a\"],[0.8888888888888888,\"#fdca26\"],[1.0,\"#f0f921\"]]}],\"contourcarpet\":[{\"type\":\"contourcarpet\",\"colorbar\":{\"outlinewidth\":0,\"ticks\":\"\"}}],\"contour\":[{\"type\":\"contour\",\"colorbar\":{\"outlinewidth\":0,\"ticks\":\"\"},\"colorscale\":[[0.0,\"#0d0887\"],[0.1111111111111111,\"#46039f\"],[0.2222222222222222,\"#7201a8\"],[0.3333333333333333,\"#9c179e\"],[0.4444444444444444,\"#bd3786\"],[0.5555555555555556,\"#d8576b\"],[0.6666666666666666,\"#ed7953\"],[0.7777777777777778,\"#fb9f3a\"],[0.8888888888888888,\"#fdca26\"],[1.0,\"#f0f921\"]]}],\"surface\":[{\"type\":\"surface\",\"colorbar\":{\"outlinewidth\":0,\"ticks\":\"\"},\"colorscale\":[[0.0,\"#0d0887\"],[0.1111111111111111,\"#46039f\"],[0.2222222222222222,\"#7201a8\"],[0.3333333333333333,\"#9c179e\"],[0.4444444444444444,\"#bd3786\"],[0.5555555555555556,\"#d8576b\"],[0.6666666666666666,\"#ed7953\"],[0.7777777777777778,\"#fb9f3a\"],[0.8888888888888888,\"#fdca26\"],[1.0,\"#f0f921\"]]}],\"mesh3d\":[{\"type\":\"mesh3d\",\"colorbar\":{\"outlinewidth\":0,\"ticks\":\"\"}}],\"scatter\":[{\"fillpattern\":{\"fillmode\":\"overlay\",\"size\":10,\"solidity\":0.2},\"type\":\"scatter\"}],\"parcoords\":[{\"type\":\"parcoords\",\"line\":{\"colorbar\":{\"outlinewidth\":0,\"ticks\":\"\"}}}],\"scatterpolargl\":[{\"type\":\"scatterpolargl\",\"marker\":{\"colorbar\":{\"outlinewidth\":0,\"ticks\":\"\"}}}],\"bar\":[{\"error_x\":{\"color\":\"#2a3f5f\"},\"error_y\":{\"color\":\"#2a3f5f\"},\"marker\":{\"line\":{\"color\":\"#E5ECF6\",\"width\":0.5},\"pattern\":{\"fillmode\":\"overlay\",\"size\":10,\"solidity\":0.2}},\"type\":\"bar\"}],\"scattergeo\":[{\"type\":\"scattergeo\",\"marker\":{\"colorbar\":{\"outlinewidth\":0,\"ticks\":\"\"}}}],\"scatterpolar\":[{\"type\":\"scatterpolar\",\"marker\":{\"colorbar\":{\"outlinewidth\":0,\"ticks\":\"\"}}}],\"histogram\":[{\"marker\":{\"pattern\":{\"fillmode\":\"overlay\",\"size\":10,\"solidity\":0.2}},\"type\":\"histogram\"}],\"scattergl\":[{\"type\":\"scattergl\",\"marker\":{\"colorbar\":{\"outlinewidth\":0,\"ticks\":\"\"}}}],\"scatter3d\":[{\"type\":\"scatter3d\",\"line\":{\"colorbar\":{\"outlinewidth\":0,\"ticks\":\"\"}},\"marker\":{\"colorbar\":{\"outlinewidth\":0,\"ticks\":\"\"}}}],\"scattermapbox\":[{\"type\":\"scattermapbox\",\"marker\":{\"colorbar\":{\"outlinewidth\":0,\"ticks\":\"\"}}}],\"scatterternary\":[{\"type\":\"scatterternary\",\"marker\":{\"colorbar\":{\"outlinewidth\":0,\"ticks\":\"\"}}}],\"scattercarpet\":[{\"type\":\"scattercarpet\",\"marker\":{\"colorbar\":{\"outlinewidth\":0,\"ticks\":\"\"}}}],\"carpet\":[{\"aaxis\":{\"endlinecolor\":\"#2a3f5f\",\"gridcolor\":\"white\",\"linecolor\":\"white\",\"minorgridcolor\":\"white\",\"startlinecolor\":\"#2a3f5f\"},\"baxis\":{\"endlinecolor\":\"#2a3f5f\",\"gridcolor\":\"white\",\"linecolor\":\"white\",\"minorgridcolor\":\"white\",\"startlinecolor\":\"#2a3f5f\"},\"type\":\"carpet\"}],\"table\":[{\"cells\":{\"fill\":{\"color\":\"#EBF0F8\"},\"line\":{\"color\":\"white\"}},\"header\":{\"fill\":{\"color\":\"#C8D4E3\"},\"line\":{\"color\":\"white\"}},\"type\":\"table\"}],\"barpolar\":[{\"marker\":{\"line\":{\"color\":\"#E5ECF6\",\"width\":0.5},\"pattern\":{\"fillmode\":\"overlay\",\"size\":10,\"solidity\":0.2}},\"type\":\"barpolar\"}],\"pie\":[{\"automargin\":true,\"type\":\"pie\"}]},\"layout\":{\"autotypenumbers\":\"strict\",\"colorway\":[\"#636efa\",\"#EF553B\",\"#00cc96\",\"#ab63fa\",\"#FFA15A\",\"#19d3f3\",\"#FF6692\",\"#B6E880\",\"#FF97FF\",\"#FECB52\"],\"font\":{\"color\":\"#2a3f5f\"},\"hovermode\":\"closest\",\"hoverlabel\":{\"align\":\"left\"},\"paper_bgcolor\":\"white\",\"plot_bgcolor\":\"#E5ECF6\",\"polar\":{\"bgcolor\":\"#E5ECF6\",\"angularaxis\":{\"gridcolor\":\"white\",\"linecolor\":\"white\",\"ticks\":\"\"},\"radialaxis\":{\"gridcolor\":\"white\",\"linecolor\":\"white\",\"ticks\":\"\"}},\"ternary\":{\"bgcolor\":\"#E5ECF6\",\"aaxis\":{\"gridcolor\":\"white\",\"linecolor\":\"white\",\"ticks\":\"\"},\"baxis\":{\"gridcolor\":\"white\",\"linecolor\":\"white\",\"ticks\":\"\"},\"caxis\":{\"gridcolor\":\"white\",\"linecolor\":\"white\",\"ticks\":\"\"}},\"coloraxis\":{\"colorbar\":{\"outlinewidth\":0,\"ticks\":\"\"}},\"colorscale\":{\"sequential\":[[0.0,\"#0d0887\"],[0.1111111111111111,\"#46039f\"],[0.2222222222222222,\"#7201a8\"],[0.3333333333333333,\"#9c179e\"],[0.4444444444444444,\"#bd3786\"],[0.5555555555555556,\"#d8576b\"],[0.6666666666666666,\"#ed7953\"],[0.7777777777777778,\"#fb9f3a\"],[0.8888888888888888,\"#fdca26\"],[1.0,\"#f0f921\"]],\"sequentialminus\":[[0.0,\"#0d0887\"],[0.1111111111111111,\"#46039f\"],[0.2222222222222222,\"#7201a8\"],[0.3333333333333333,\"#9c179e\"],[0.4444444444444444,\"#bd3786\"],[0.5555555555555556,\"#d8576b\"],[0.6666666666666666,\"#ed7953\"],[0.7777777777777778,\"#fb9f3a\"],[0.8888888888888888,\"#fdca26\"],[1.0,\"#f0f921\"]],\"diverging\":[[0,\"#8e0152\"],[0.1,\"#c51b7d\"],[0.2,\"#de77ae\"],[0.3,\"#f1b6da\"],[0.4,\"#fde0ef\"],[0.5,\"#f7f7f7\"],[0.6,\"#e6f5d0\"],[0.7,\"#b8e186\"],[0.8,\"#7fbc41\"],[0.9,\"#4d9221\"],[1,\"#276419\"]]},\"xaxis\":{\"gridcolor\":\"white\",\"linecolor\":\"white\",\"ticks\":\"\",\"title\":{\"standoff\":15},\"zerolinecolor\":\"white\",\"automargin\":true,\"zerolinewidth\":2},\"yaxis\":{\"gridcolor\":\"white\",\"linecolor\":\"white\",\"ticks\":\"\",\"title\":{\"standoff\":15},\"zerolinecolor\":\"white\",\"automargin\":true,\"zerolinewidth\":2},\"scene\":{\"xaxis\":{\"backgroundcolor\":\"#E5ECF6\",\"gridcolor\":\"white\",\"linecolor\":\"white\",\"showbackground\":true,\"ticks\":\"\",\"zerolinecolor\":\"white\",\"gridwidth\":2},\"yaxis\":{\"backgroundcolor\":\"#E5ECF6\",\"gridcolor\":\"white\",\"linecolor\":\"white\",\"showbackground\":true,\"ticks\":\"\",\"zerolinecolor\":\"white\",\"gridwidth\":2},\"zaxis\":{\"backgroundcolor\":\"#E5ECF6\",\"gridcolor\":\"white\",\"linecolor\":\"white\",\"showbackground\":true,\"ticks\":\"\",\"zerolinecolor\":\"white\",\"gridwidth\":2}},\"shapedefaults\":{\"line\":{\"color\":\"#2a3f5f\"}},\"annotationdefaults\":{\"arrowcolor\":\"#2a3f5f\",\"arrowhead\":0,\"arrowwidth\":1},\"geo\":{\"bgcolor\":\"white\",\"landcolor\":\"#E5ECF6\",\"subunitcolor\":\"white\",\"showland\":true,\"showlakes\":true,\"lakecolor\":\"white\"},\"title\":{\"x\":0.05},\"mapbox\":{\"style\":\"light\"}}},\"geo\":{\"domain\":{\"x\":[0.0,1.0],\"y\":[0.0,1.0]},\"center\":{},\"scope\":\"usa\"},\"coloraxis\":{\"colorbar\":{\"title\":{\"text\":\"All fields\"}},\"colorscale\":[[0.0,\"rgb(63, 5, 5)\"],[0.09090909090909091,\"rgb(101, 6, 13)\"],[0.18181818181818182,\"rgb(138, 17, 9)\"],[0.2727272727272727,\"rgb(96, 95, 95)\"],[0.36363636363636365,\"rgb(119, 118, 118)\"],[0.45454545454545453,\"rgb(142, 141, 141)\"],[0.5454545454545454,\"rgb(166, 166, 165)\"],[0.6363636363636364,\"rgb(193, 192, 191)\"],[0.7272727272727273,\"rgb(222, 222, 220)\"],[0.8181818181818182,\"rgb(239, 248, 90)\"],[0.9090909090909091,\"rgb(230, 210, 41)\"],[1.0,\"rgb(220, 174, 25)\"]],\"cmin\":42.0,\"cmax\":5892.0},\"legend\":{\"tracegroupgap\":0},\"title\":{\"text\":\"Grad Students\"},\"height\":600,\"width\":600},                        {\"responsive\": true}                    ).then(function(){\n",
       "                            \n",
       "var gd = document.getElementById('523a9a17-7142-4d3f-a2d1-4e09a7823cba');\n",
       "var x = new MutationObserver(function (mutations, observer) {{\n",
       "        var display = window.getComputedStyle(gd).display;\n",
       "        if (!display || display === 'none') {{\n",
       "            console.log([gd, 'removed!']);\n",
       "            Plotly.purge(gd);\n",
       "            observer.disconnect();\n",
       "        }}\n",
       "}});\n",
       "\n",
       "// Listen for the removal of the full notebook cells\n",
       "var notebookContainer = gd.closest('#notebook-container');\n",
       "if (notebookContainer) {{\n",
       "    x.observe(notebookContainer, {childList: true});\n",
       "}}\n",
       "\n",
       "// Listen for the clearing of the current output cell\n",
       "var outputEl = gd.closest('.output');\n",
       "if (outputEl) {{\n",
       "    x.observe(outputEl, {childList: true});\n",
       "}}\n",
       "\n",
       "                        })                };                });            </script>        </div>"
      ]
     },
     "metadata": {},
     "output_type": "display_data"
    }
   ],
   "source": [
    "\n",
    "pltcolor = 'All fields'\n",
    "hi = df710[pltcolor].max()\n",
    "low = df710[pltcolor].min()\n",
    "print(low,hi)\n",
    "\n",
    "fig = px.choropleth(df710,\n",
    "                    locations = 'Abbrev',\n",
    "                    locationmode = 'USA-states',\n",
    "                    scope = 'usa',\n",
    "                    color = pltcolor,\n",
    "                    hover_name = 'State or location',\n",
    "                    #hover_data = ['Male','Female'],\n",
    "                    range_color = [low,hi],\n",
    "                    color_continuous_scale = 'oxy',\n",
    "                    width = 600,\n",
    "                    height = 600,\n",
    "                    title = 'Grad Students')\n",
    "fig.show()"
   ]
  },
  {
   "cell_type": "code",
   "execution_count": 103,
   "id": "d5c82759-ba7b-44c4-8434-b3a0a56ff559",
   "metadata": {},
   "outputs": [
    {
     "data": {
      "application/vnd.plotly.v1+json": {
       "config": {
        "plotlyServerURL": "https://plot.ly"
       },
       "data": [
        {
         "coloraxis": "coloraxis",
         "customdata": [
          [
           3267,
           2623
          ],
          [
           2213,
           1904
          ],
          [
           2030,
           1840
          ],
          [
           1501,
           1151
          ],
          [
           1288,
           1145
          ],
          [
           1219,
           1120
          ],
          [
           1304,
           1005
          ],
          [
           963,
           914
          ],
          [
           971,
           819
          ],
          [
           917,
           807
          ],
          [
           882,
           674
          ],
          [
           802,
           716
          ],
          [
           648,
           851
          ],
          [
           776,
           675
          ],
          [
           586,
           586
          ],
          [
           558,
           466
          ],
          [
           525,
           425
          ],
          [
           521,
           419
          ],
          [
           535,
           399
          ],
          [
           498,
           412
          ],
          [
           538,
           367
          ],
          [
           454,
           426
          ],
          [
           413,
           317
          ],
          [
           325,
           315
          ],
          [
           362,
           256
          ],
          [
           313,
           273
          ],
          [
           280,
           271
          ],
          [
           252,
           283
          ],
          [
           295,
           207
          ],
          [
           265,
           219
          ],
          [
           262,
           222
          ],
          [
           256,
           220
          ],
          [
           258,
           208
          ],
          [
           194,
           215
          ],
          [
           165,
           164
          ],
          [
           151,
           129
          ],
          [
           146,
           129
          ],
          [
           142,
           118
          ],
          [
           119,
           120
          ],
          [
           122,
           93
          ],
          [
           116,
           96
          ],
          [
           90,
           85
          ],
          [
           90,
           69
          ],
          [
           80,
           56
          ],
          [
           55,
           78
          ],
          [
           77,
           45
          ],
          [
           59,
           54
          ],
          [
           47,
           62
          ],
          [
           65,
           19
          ],
          [
           31,
           39
          ],
          [
           35,
           29
          ],
          [
           21,
           21
          ]
         ],
         "geo": "geo",
         "hovertemplate": "<b>%{hovertext}</b><br><br>Abbrev=%{location}<br>Male=%{customdata[0]}<br>Female=%{customdata[1]}<br>Ratio Sci/Non=%{z}<extra></extra>",
         "hovertext": [
          "California",
          "Texas",
          "New York",
          "Massachusetts",
          "Pennsylvania",
          "Florida",
          "Illinois",
          "Ohio",
          "Michigan",
          "North Carolina",
          "Indiana",
          "Virginia",
          "Minnesota",
          "Georgia",
          "Maryland",
          "Colorado",
          "New Jersey",
          "Wisconsin",
          "Arizona",
          "Washington",
          "Missouri",
          "Tennessee",
          "Connecticut",
          "Alabama",
          "Iowa",
          "Louisiana",
          "Oregon",
          "District of Columbia",
          "Utah",
          "Kentucky",
          "Oklahoma",
          "South Carolina",
          "Kansas",
          "Mississippi",
          "Nebraska",
          "New Mexico",
          "Arkansas",
          "Rhode Island",
          "Nevada",
          "West Virginia",
          "Delaware",
          "North Dakota",
          "New Hampshire",
          "Idaho",
          "Hawaii",
          "South Dakota",
          "Montana",
          "Puerto Rico",
          "Wyoming",
          "Maine",
          "Vermont",
          "Alaska"
         ],
         "locationmode": "USA-states",
         "locations": [
          "CA",
          "TX",
          "NY",
          "MA",
          "PA",
          "FL",
          "IL",
          "OH",
          "MI",
          "NC",
          "IN",
          "VA",
          "MN",
          "GA",
          "MD",
          "CO",
          "NJ",
          "WI",
          "AZ",
          "WA",
          "MO",
          "TN",
          "CT",
          "AL",
          "IA",
          "LA",
          "OR",
          "DC",
          "UT",
          "KY",
          "OK",
          "SC",
          "KS",
          "MS",
          "NE",
          "NM",
          "AR",
          "RI",
          "NV",
          "WV",
          "DE",
          "ND",
          "NH",
          "ID",
          "HI",
          "SD",
          "MT",
          "PR",
          "WY",
          "ME",
          "VT",
          "AK"
         ],
         "name": "",
         "type": "choropleth",
         "z": [
          5.315112540192926,
          3.276220145379024,
          3.3203125,
          4.61864406779661,
          3.532588454376164,
          3.2144144144144144,
          3.9892008639308854,
          3.1733333333333333,
          4.203488372093023,
          4.438485804416404,
          4.084967320261438,
          3.091644204851752,
          2.535377358490566,
          5.200854700854701,
          5.940828402366864,
          4.224489795918367,
          3.439252336448598,
          4.193370165745856,
          3.6517412935323383,
          6,
          3.3509615384615383,
          3.170616113744076,
          4.7109375,
          2.699421965317919,
          5.118811881188119,
          2.9066666666666667,
          4.575757575757576,
          2.3647798742138364,
          4.02,
          2.27027027027027,
          2.5072463768115942,
          4.118279569892473,
          3.4380952380952383,
          2.075187969924812,
          4.061538461538461,
          3.242424242424242,
          2.5714285714285716,
          4.2,
          3.5283018867924527,
          3.215686274509804,
          6.851851851851852,
          2.3653846153846154,
          9.6,
          5.476190476190476,
          2.5,
          7.714285714285714,
          4.380952380952381,
          6.266666666666667,
          9.5,
          4.833333333333333,
          15,
          13
         ]
        }
       ],
       "layout": {
        "coloraxis": {
         "cmax": 10,
         "cmin": 1,
         "colorbar": {
          "title": {
           "text": "Ratio Sci/Non"
          }
         },
         "colorscale": [
          [
           0,
           "rgb(63, 5, 5)"
          ],
          [
           0.09090909090909091,
           "rgb(101, 6, 13)"
          ],
          [
           0.18181818181818182,
           "rgb(138, 17, 9)"
          ],
          [
           0.2727272727272727,
           "rgb(96, 95, 95)"
          ],
          [
           0.36363636363636365,
           "rgb(119, 118, 118)"
          ],
          [
           0.45454545454545453,
           "rgb(142, 141, 141)"
          ],
          [
           0.5454545454545454,
           "rgb(166, 166, 165)"
          ],
          [
           0.6363636363636364,
           "rgb(193, 192, 191)"
          ],
          [
           0.7272727272727273,
           "rgb(222, 222, 220)"
          ],
          [
           0.8181818181818182,
           "rgb(239, 248, 90)"
          ],
          [
           0.9090909090909091,
           "rgb(230, 210, 41)"
          ],
          [
           1,
           "rgb(220, 174, 25)"
          ]
         ]
        },
        "geo": {
         "center": {
          "lat": 38.69999999999998,
          "lon": -96.59999999999998
         },
         "domain": {
          "x": [
           0,
           1
          ],
          "y": [
           0,
           1
          ]
         },
         "projection": {
          "scale": 0.9999999999999999
         },
         "scope": "usa"
        },
        "height": 600,
        "legend": {
         "tracegroupgap": 0
        },
        "template": {
         "data": {
          "bar": [
           {
            "error_x": {
             "color": "#2a3f5f"
            },
            "error_y": {
             "color": "#2a3f5f"
            },
            "marker": {
             "line": {
              "color": "#E5ECF6",
              "width": 0.5
             },
             "pattern": {
              "fillmode": "overlay",
              "size": 10,
              "solidity": 0.2
             }
            },
            "type": "bar"
           }
          ],
          "barpolar": [
           {
            "marker": {
             "line": {
              "color": "#E5ECF6",
              "width": 0.5
             },
             "pattern": {
              "fillmode": "overlay",
              "size": 10,
              "solidity": 0.2
             }
            },
            "type": "barpolar"
           }
          ],
          "carpet": [
           {
            "aaxis": {
             "endlinecolor": "#2a3f5f",
             "gridcolor": "white",
             "linecolor": "white",
             "minorgridcolor": "white",
             "startlinecolor": "#2a3f5f"
            },
            "baxis": {
             "endlinecolor": "#2a3f5f",
             "gridcolor": "white",
             "linecolor": "white",
             "minorgridcolor": "white",
             "startlinecolor": "#2a3f5f"
            },
            "type": "carpet"
           }
          ],
          "choropleth": [
           {
            "colorbar": {
             "outlinewidth": 0,
             "ticks": ""
            },
            "type": "choropleth"
           }
          ],
          "contour": [
           {
            "colorbar": {
             "outlinewidth": 0,
             "ticks": ""
            },
            "colorscale": [
             [
              0,
              "#0d0887"
             ],
             [
              0.1111111111111111,
              "#46039f"
             ],
             [
              0.2222222222222222,
              "#7201a8"
             ],
             [
              0.3333333333333333,
              "#9c179e"
             ],
             [
              0.4444444444444444,
              "#bd3786"
             ],
             [
              0.5555555555555556,
              "#d8576b"
             ],
             [
              0.6666666666666666,
              "#ed7953"
             ],
             [
              0.7777777777777778,
              "#fb9f3a"
             ],
             [
              0.8888888888888888,
              "#fdca26"
             ],
             [
              1,
              "#f0f921"
             ]
            ],
            "type": "contour"
           }
          ],
          "contourcarpet": [
           {
            "colorbar": {
             "outlinewidth": 0,
             "ticks": ""
            },
            "type": "contourcarpet"
           }
          ],
          "heatmap": [
           {
            "colorbar": {
             "outlinewidth": 0,
             "ticks": ""
            },
            "colorscale": [
             [
              0,
              "#0d0887"
             ],
             [
              0.1111111111111111,
              "#46039f"
             ],
             [
              0.2222222222222222,
              "#7201a8"
             ],
             [
              0.3333333333333333,
              "#9c179e"
             ],
             [
              0.4444444444444444,
              "#bd3786"
             ],
             [
              0.5555555555555556,
              "#d8576b"
             ],
             [
              0.6666666666666666,
              "#ed7953"
             ],
             [
              0.7777777777777778,
              "#fb9f3a"
             ],
             [
              0.8888888888888888,
              "#fdca26"
             ],
             [
              1,
              "#f0f921"
             ]
            ],
            "type": "heatmap"
           }
          ],
          "heatmapgl": [
           {
            "colorbar": {
             "outlinewidth": 0,
             "ticks": ""
            },
            "colorscale": [
             [
              0,
              "#0d0887"
             ],
             [
              0.1111111111111111,
              "#46039f"
             ],
             [
              0.2222222222222222,
              "#7201a8"
             ],
             [
              0.3333333333333333,
              "#9c179e"
             ],
             [
              0.4444444444444444,
              "#bd3786"
             ],
             [
              0.5555555555555556,
              "#d8576b"
             ],
             [
              0.6666666666666666,
              "#ed7953"
             ],
             [
              0.7777777777777778,
              "#fb9f3a"
             ],
             [
              0.8888888888888888,
              "#fdca26"
             ],
             [
              1,
              "#f0f921"
             ]
            ],
            "type": "heatmapgl"
           }
          ],
          "histogram": [
           {
            "marker": {
             "pattern": {
              "fillmode": "overlay",
              "size": 10,
              "solidity": 0.2
             }
            },
            "type": "histogram"
           }
          ],
          "histogram2d": [
           {
            "colorbar": {
             "outlinewidth": 0,
             "ticks": ""
            },
            "colorscale": [
             [
              0,
              "#0d0887"
             ],
             [
              0.1111111111111111,
              "#46039f"
             ],
             [
              0.2222222222222222,
              "#7201a8"
             ],
             [
              0.3333333333333333,
              "#9c179e"
             ],
             [
              0.4444444444444444,
              "#bd3786"
             ],
             [
              0.5555555555555556,
              "#d8576b"
             ],
             [
              0.6666666666666666,
              "#ed7953"
             ],
             [
              0.7777777777777778,
              "#fb9f3a"
             ],
             [
              0.8888888888888888,
              "#fdca26"
             ],
             [
              1,
              "#f0f921"
             ]
            ],
            "type": "histogram2d"
           }
          ],
          "histogram2dcontour": [
           {
            "colorbar": {
             "outlinewidth": 0,
             "ticks": ""
            },
            "colorscale": [
             [
              0,
              "#0d0887"
             ],
             [
              0.1111111111111111,
              "#46039f"
             ],
             [
              0.2222222222222222,
              "#7201a8"
             ],
             [
              0.3333333333333333,
              "#9c179e"
             ],
             [
              0.4444444444444444,
              "#bd3786"
             ],
             [
              0.5555555555555556,
              "#d8576b"
             ],
             [
              0.6666666666666666,
              "#ed7953"
             ],
             [
              0.7777777777777778,
              "#fb9f3a"
             ],
             [
              0.8888888888888888,
              "#fdca26"
             ],
             [
              1,
              "#f0f921"
             ]
            ],
            "type": "histogram2dcontour"
           }
          ],
          "mesh3d": [
           {
            "colorbar": {
             "outlinewidth": 0,
             "ticks": ""
            },
            "type": "mesh3d"
           }
          ],
          "parcoords": [
           {
            "line": {
             "colorbar": {
              "outlinewidth": 0,
              "ticks": ""
             }
            },
            "type": "parcoords"
           }
          ],
          "pie": [
           {
            "automargin": true,
            "type": "pie"
           }
          ],
          "scatter": [
           {
            "fillpattern": {
             "fillmode": "overlay",
             "size": 10,
             "solidity": 0.2
            },
            "type": "scatter"
           }
          ],
          "scatter3d": [
           {
            "line": {
             "colorbar": {
              "outlinewidth": 0,
              "ticks": ""
             }
            },
            "marker": {
             "colorbar": {
              "outlinewidth": 0,
              "ticks": ""
             }
            },
            "type": "scatter3d"
           }
          ],
          "scattercarpet": [
           {
            "marker": {
             "colorbar": {
              "outlinewidth": 0,
              "ticks": ""
             }
            },
            "type": "scattercarpet"
           }
          ],
          "scattergeo": [
           {
            "marker": {
             "colorbar": {
              "outlinewidth": 0,
              "ticks": ""
             }
            },
            "type": "scattergeo"
           }
          ],
          "scattergl": [
           {
            "marker": {
             "colorbar": {
              "outlinewidth": 0,
              "ticks": ""
             }
            },
            "type": "scattergl"
           }
          ],
          "scattermapbox": [
           {
            "marker": {
             "colorbar": {
              "outlinewidth": 0,
              "ticks": ""
             }
            },
            "type": "scattermapbox"
           }
          ],
          "scatterpolar": [
           {
            "marker": {
             "colorbar": {
              "outlinewidth": 0,
              "ticks": ""
             }
            },
            "type": "scatterpolar"
           }
          ],
          "scatterpolargl": [
           {
            "marker": {
             "colorbar": {
              "outlinewidth": 0,
              "ticks": ""
             }
            },
            "type": "scatterpolargl"
           }
          ],
          "scatterternary": [
           {
            "marker": {
             "colorbar": {
              "outlinewidth": 0,
              "ticks": ""
             }
            },
            "type": "scatterternary"
           }
          ],
          "surface": [
           {
            "colorbar": {
             "outlinewidth": 0,
             "ticks": ""
            },
            "colorscale": [
             [
              0,
              "#0d0887"
             ],
             [
              0.1111111111111111,
              "#46039f"
             ],
             [
              0.2222222222222222,
              "#7201a8"
             ],
             [
              0.3333333333333333,
              "#9c179e"
             ],
             [
              0.4444444444444444,
              "#bd3786"
             ],
             [
              0.5555555555555556,
              "#d8576b"
             ],
             [
              0.6666666666666666,
              "#ed7953"
             ],
             [
              0.7777777777777778,
              "#fb9f3a"
             ],
             [
              0.8888888888888888,
              "#fdca26"
             ],
             [
              1,
              "#f0f921"
             ]
            ],
            "type": "surface"
           }
          ],
          "table": [
           {
            "cells": {
             "fill": {
              "color": "#EBF0F8"
             },
             "line": {
              "color": "white"
             }
            },
            "header": {
             "fill": {
              "color": "#C8D4E3"
             },
             "line": {
              "color": "white"
             }
            },
            "type": "table"
           }
          ]
         },
         "layout": {
          "annotationdefaults": {
           "arrowcolor": "#2a3f5f",
           "arrowhead": 0,
           "arrowwidth": 1
          },
          "autotypenumbers": "strict",
          "coloraxis": {
           "colorbar": {
            "outlinewidth": 0,
            "ticks": ""
           }
          },
          "colorscale": {
           "diverging": [
            [
             0,
             "#8e0152"
            ],
            [
             0.1,
             "#c51b7d"
            ],
            [
             0.2,
             "#de77ae"
            ],
            [
             0.3,
             "#f1b6da"
            ],
            [
             0.4,
             "#fde0ef"
            ],
            [
             0.5,
             "#f7f7f7"
            ],
            [
             0.6,
             "#e6f5d0"
            ],
            [
             0.7,
             "#b8e186"
            ],
            [
             0.8,
             "#7fbc41"
            ],
            [
             0.9,
             "#4d9221"
            ],
            [
             1,
             "#276419"
            ]
           ],
           "sequential": [
            [
             0,
             "#0d0887"
            ],
            [
             0.1111111111111111,
             "#46039f"
            ],
            [
             0.2222222222222222,
             "#7201a8"
            ],
            [
             0.3333333333333333,
             "#9c179e"
            ],
            [
             0.4444444444444444,
             "#bd3786"
            ],
            [
             0.5555555555555556,
             "#d8576b"
            ],
            [
             0.6666666666666666,
             "#ed7953"
            ],
            [
             0.7777777777777778,
             "#fb9f3a"
            ],
            [
             0.8888888888888888,
             "#fdca26"
            ],
            [
             1,
             "#f0f921"
            ]
           ],
           "sequentialminus": [
            [
             0,
             "#0d0887"
            ],
            [
             0.1111111111111111,
             "#46039f"
            ],
            [
             0.2222222222222222,
             "#7201a8"
            ],
            [
             0.3333333333333333,
             "#9c179e"
            ],
            [
             0.4444444444444444,
             "#bd3786"
            ],
            [
             0.5555555555555556,
             "#d8576b"
            ],
            [
             0.6666666666666666,
             "#ed7953"
            ],
            [
             0.7777777777777778,
             "#fb9f3a"
            ],
            [
             0.8888888888888888,
             "#fdca26"
            ],
            [
             1,
             "#f0f921"
            ]
           ]
          },
          "colorway": [
           "#636efa",
           "#EF553B",
           "#00cc96",
           "#ab63fa",
           "#FFA15A",
           "#19d3f3",
           "#FF6692",
           "#B6E880",
           "#FF97FF",
           "#FECB52"
          ],
          "font": {
           "color": "#2a3f5f"
          },
          "geo": {
           "bgcolor": "white",
           "lakecolor": "white",
           "landcolor": "#E5ECF6",
           "showlakes": true,
           "showland": true,
           "subunitcolor": "white"
          },
          "hoverlabel": {
           "align": "left"
          },
          "hovermode": "closest",
          "mapbox": {
           "style": "light"
          },
          "paper_bgcolor": "white",
          "plot_bgcolor": "#E5ECF6",
          "polar": {
           "angularaxis": {
            "gridcolor": "white",
            "linecolor": "white",
            "ticks": ""
           },
           "bgcolor": "#E5ECF6",
           "radialaxis": {
            "gridcolor": "white",
            "linecolor": "white",
            "ticks": ""
           }
          },
          "scene": {
           "xaxis": {
            "backgroundcolor": "#E5ECF6",
            "gridcolor": "white",
            "gridwidth": 2,
            "linecolor": "white",
            "showbackground": true,
            "ticks": "",
            "zerolinecolor": "white"
           },
           "yaxis": {
            "backgroundcolor": "#E5ECF6",
            "gridcolor": "white",
            "gridwidth": 2,
            "linecolor": "white",
            "showbackground": true,
            "ticks": "",
            "zerolinecolor": "white"
           },
           "zaxis": {
            "backgroundcolor": "#E5ECF6",
            "gridcolor": "white",
            "gridwidth": 2,
            "linecolor": "white",
            "showbackground": true,
            "ticks": "",
            "zerolinecolor": "white"
           }
          },
          "shapedefaults": {
           "line": {
            "color": "#2a3f5f"
           }
          },
          "ternary": {
           "aaxis": {
            "gridcolor": "white",
            "linecolor": "white",
            "ticks": ""
           },
           "baxis": {
            "gridcolor": "white",
            "linecolor": "white",
            "ticks": ""
           },
           "bgcolor": "#E5ECF6",
           "caxis": {
            "gridcolor": "white",
            "linecolor": "white",
            "ticks": ""
           }
          },
          "title": {
           "x": 0.05
          },
          "xaxis": {
           "automargin": true,
           "gridcolor": "white",
           "linecolor": "white",
           "ticks": "",
           "title": {
            "standoff": 15
           },
           "zerolinecolor": "white",
           "zerolinewidth": 2
          },
          "yaxis": {
           "automargin": true,
           "gridcolor": "white",
           "linecolor": "white",
           "ticks": "",
           "title": {
            "standoff": 15
           },
           "zerolinecolor": "white",
           "zerolinewidth": 2
          }
         }
        },
        "title": {
         "text": "Grad Students"
        },
        "width": 600
       }
      },
      "image/png": "[encoded data removed]",
      "text/html": [
       "<div>                            <div id=\"2b08b1f3-9a9e-4357-ac14-25320d769246\" class=\"plotly-graph-div\" style=\"height:600px; width:600px;\"></div>            <script type=\"text/javascript\">                require([\"plotly\"], function(Plotly) {                    window.PLOTLYENV=window.PLOTLYENV || {};                                    if (document.getElementById(\"2b08b1f3-9a9e-4357-ac14-25320d769246\")) {                    Plotly.newPlot(                        \"2b08b1f3-9a9e-4357-ac14-25320d769246\",                        [{\"coloraxis\":\"coloraxis\",\"customdata\":[[3267.0,2623.0],[2213.0,1904.0],[2030.0,1840.0],[1501.0,1151.0],[1288.0,1145.0],[1219.0,1120.0],[1304.0,1005.0],[963.0,914.0],[971.0,819.0],[917.0,807.0],[882.0,674.0],[802.0,716.0],[648.0,851.0],[776.0,675.0],[586.0,586.0],[558.0,466.0],[525.0,425.0],[521.0,419.0],[535.0,399.0],[498.0,412.0],[538.0,367.0],[454.0,426.0],[413.0,317.0],[325.0,315.0],[362.0,256.0],[313.0,273.0],[280.0,271.0],[252.0,283.0],[295.0,207.0],[265.0,219.0],[262.0,222.0],[256.0,220.0],[258.0,208.0],[194.0,215.0],[165.0,164.0],[151.0,129.0],[146.0,129.0],[142.0,118.0],[119.0,120.0],[122.0,93.0],[116.0,96.0],[90.0,85.0],[90.0,69.0],[80.0,56.0],[55.0,78.0],[77.0,45.0],[59.0,54.0],[47.0,62.0],[65.0,19.0],[31.0,39.0],[35.0,29.0],[21.0,21.0]],\"geo\":\"geo\",\"hovertemplate\":\"<b>%{hovertext}</b><br><br>Abbrev=%{location}<br>Male=%{customdata[0]}<br>Female=%{customdata[1]}<br>Ratio Sci/Non=%{z}<extra></extra>\",\"hovertext\":[\"California\",\"Texas\",\"New York\",\"Massachusetts\",\"Pennsylvania\",\"Florida\",\"Illinois\",\"Ohio\",\"Michigan\",\"North Carolina\",\"Indiana\",\"Virginia\",\"Minnesota\",\"Georgia\",\"Maryland\",\"Colorado\",\"New Jersey\",\"Wisconsin\",\"Arizona\",\"Washington\",\"Missouri\",\"Tennessee\",\"Connecticut\",\"Alabama\",\"Iowa\",\"Louisiana\",\"Oregon\",\"District of Columbia\",\"Utah\",\"Kentucky\",\"Oklahoma\",\"South Carolina\",\"Kansas\",\"Mississippi\",\"Nebraska\",\"New Mexico\",\"Arkansas\",\"Rhode Island\",\"Nevada\",\"West Virginia\",\"Delaware\",\"North Dakota\",\"New Hampshire\",\"Idaho\",\"Hawaii\",\"South Dakota\",\"Montana\",\"Puerto Rico\",\"Wyoming\",\"Maine\",\"Vermont\",\"Alaska\"],\"locationmode\":\"USA-states\",\"locations\":[\"CA\",\"TX\",\"NY\",\"MA\",\"PA\",\"FL\",\"IL\",\"OH\",\"MI\",\"NC\",\"IN\",\"VA\",\"MN\",\"GA\",\"MD\",\"CO\",\"NJ\",\"WI\",\"AZ\",\"WA\",\"MO\",\"TN\",\"CT\",\"AL\",\"IA\",\"LA\",\"OR\",\"DC\",\"UT\",\"KY\",\"OK\",\"SC\",\"KS\",\"MS\",\"NE\",\"NM\",\"AR\",\"RI\",\"NV\",\"WV\",\"DE\",\"ND\",\"NH\",\"ID\",\"HI\",\"SD\",\"MT\",\"PR\",\"WY\",\"ME\",\"VT\",\"AK\"],\"name\":\"\",\"z\":[5.315112540192926,3.276220145379024,3.3203125,4.61864406779661,3.532588454376164,3.2144144144144144,3.9892008639308854,3.1733333333333333,4.203488372093023,4.438485804416404,4.084967320261438,3.091644204851752,2.535377358490566,5.200854700854701,5.940828402366864,4.224489795918367,3.439252336448598,4.193370165745856,3.6517412935323383,6.0,3.3509615384615383,3.170616113744076,4.7109375,2.699421965317919,5.118811881188119,2.9066666666666667,4.575757575757576,2.3647798742138364,4.02,2.27027027027027,2.5072463768115942,4.118279569892473,3.4380952380952383,2.075187969924812,4.061538461538461,3.242424242424242,2.5714285714285716,4.2,3.5283018867924527,3.215686274509804,6.851851851851852,2.3653846153846154,9.6,5.476190476190476,2.5,7.714285714285714,4.380952380952381,6.266666666666667,9.5,4.833333333333333,15.0,13.0],\"type\":\"choropleth\"}],                        {\"template\":{\"data\":{\"histogram2dcontour\":[{\"type\":\"histogram2dcontour\",\"colorbar\":{\"outlinewidth\":0,\"ticks\":\"\"},\"colorscale\":[[0.0,\"#0d0887\"],[0.1111111111111111,\"#46039f\"],[0.2222222222222222,\"#7201a8\"],[0.3333333333333333,\"#9c179e\"],[0.4444444444444444,\"#bd3786\"],[0.5555555555555556,\"#d8576b\"],[0.6666666666666666,\"#ed7953\"],[0.7777777777777778,\"#fb9f3a\"],[0.8888888888888888,\"#fdca26\"],[1.0,\"#f0f921\"]]}],\"choropleth\":[{\"type\":\"choropleth\",\"colorbar\":{\"outlinewidth\":0,\"ticks\":\"\"}}],\"histogram2d\":[{\"type\":\"histogram2d\",\"colorbar\":{\"outlinewidth\":0,\"ticks\":\"\"},\"colorscale\":[[0.0,\"#0d0887\"],[0.1111111111111111,\"#46039f\"],[0.2222222222222222,\"#7201a8\"],[0.3333333333333333,\"#9c179e\"],[0.4444444444444444,\"#bd3786\"],[0.5555555555555556,\"#d8576b\"],[0.6666666666666666,\"#ed7953\"],[0.7777777777777778,\"#fb9f3a\"],[0.8888888888888888,\"#fdca26\"],[1.0,\"#f0f921\"]]}],\"heatmap\":[{\"type\":\"heatmap\",\"colorbar\":{\"outlinewidth\":0,\"ticks\":\"\"},\"colorscale\":[[0.0,\"#0d0887\"],[0.1111111111111111,\"#46039f\"],[0.2222222222222222,\"#7201a8\"],[0.3333333333333333,\"#9c179e\"],[0.4444444444444444,\"#bd3786\"],[0.5555555555555556,\"#d8576b\"],[0.6666666666666666,\"#ed7953\"],[0.7777777777777778,\"#fb9f3a\"],[0.8888888888888888,\"#fdca26\"],[1.0,\"#f0f921\"]]}],\"heatmapgl\":[{\"type\":\"heatmapgl\",\"colorbar\":{\"outlinewidth\":0,\"ticks\":\"\"},\"colorscale\":[[0.0,\"#0d0887\"],[0.1111111111111111,\"#46039f\"],[0.2222222222222222,\"#7201a8\"],[0.3333333333333333,\"#9c179e\"],[0.4444444444444444,\"#bd3786\"],[0.5555555555555556,\"#d8576b\"],[0.6666666666666666,\"#ed7953\"],[0.7777777777777778,\"#fb9f3a\"],[0.8888888888888888,\"#fdca26\"],[1.0,\"#f0f921\"]]}],\"contourcarpet\":[{\"type\":\"contourcarpet\",\"colorbar\":{\"outlinewidth\":0,\"ticks\":\"\"}}],\"contour\":[{\"type\":\"contour\",\"colorbar\":{\"outlinewidth\":0,\"ticks\":\"\"},\"colorscale\":[[0.0,\"#0d0887\"],[0.1111111111111111,\"#46039f\"],[0.2222222222222222,\"#7201a8\"],[0.3333333333333333,\"#9c179e\"],[0.4444444444444444,\"#bd3786\"],[0.5555555555555556,\"#d8576b\"],[0.6666666666666666,\"#ed7953\"],[0.7777777777777778,\"#fb9f3a\"],[0.8888888888888888,\"#fdca26\"],[1.0,\"#f0f921\"]]}],\"surface\":[{\"type\":\"surface\",\"colorbar\":{\"outlinewidth\":0,\"ticks\":\"\"},\"colorscale\":[[0.0,\"#0d0887\"],[0.1111111111111111,\"#46039f\"],[0.2222222222222222,\"#7201a8\"],[0.3333333333333333,\"#9c179e\"],[0.4444444444444444,\"#bd3786\"],[0.5555555555555556,\"#d8576b\"],[0.6666666666666666,\"#ed7953\"],[0.7777777777777778,\"#fb9f3a\"],[0.8888888888888888,\"#fdca26\"],[1.0,\"#f0f921\"]]}],\"mesh3d\":[{\"type\":\"mesh3d\",\"colorbar\":{\"outlinewidth\":0,\"ticks\":\"\"}}],\"scatter\":[{\"fillpattern\":{\"fillmode\":\"overlay\",\"size\":10,\"solidity\":0.2},\"type\":\"scatter\"}],\"parcoords\":[{\"type\":\"parcoords\",\"line\":{\"colorbar\":{\"outlinewidth\":0,\"ticks\":\"\"}}}],\"scatterpolargl\":[{\"type\":\"scatterpolargl\",\"marker\":{\"colorbar\":{\"outlinewidth\":0,\"ticks\":\"\"}}}],\"bar\":[{\"error_x\":{\"color\":\"#2a3f5f\"},\"error_y\":{\"color\":\"#2a3f5f\"},\"marker\":{\"line\":{\"color\":\"#E5ECF6\",\"width\":0.5},\"pattern\":{\"fillmode\":\"overlay\",\"size\":10,\"solidity\":0.2}},\"type\":\"bar\"}],\"scattergeo\":[{\"type\":\"scattergeo\",\"marker\":{\"colorbar\":{\"outlinewidth\":0,\"ticks\":\"\"}}}],\"scatterpolar\":[{\"type\":\"scatterpolar\",\"marker\":{\"colorbar\":{\"outlinewidth\":0,\"ticks\":\"\"}}}],\"histogram\":[{\"marker\":{\"pattern\":{\"fillmode\":\"overlay\",\"size\":10,\"solidity\":0.2}},\"type\":\"histogram\"}],\"scattergl\":[{\"type\":\"scattergl\",\"marker\":{\"colorbar\":{\"outlinewidth\":0,\"ticks\":\"\"}}}],\"scatter3d\":[{\"type\":\"scatter3d\",\"line\":{\"colorbar\":{\"outlinewidth\":0,\"ticks\":\"\"}},\"marker\":{\"colorbar\":{\"outlinewidth\":0,\"ticks\":\"\"}}}],\"scattermapbox\":[{\"type\":\"scattermapbox\",\"marker\":{\"colorbar\":{\"outlinewidth\":0,\"ticks\":\"\"}}}],\"scatterternary\":[{\"type\":\"scatterternary\",\"marker\":{\"colorbar\":{\"outlinewidth\":0,\"ticks\":\"\"}}}],\"scattercarpet\":[{\"type\":\"scattercarpet\",\"marker\":{\"colorbar\":{\"outlinewidth\":0,\"ticks\":\"\"}}}],\"carpet\":[{\"aaxis\":{\"endlinecolor\":\"#2a3f5f\",\"gridcolor\":\"white\",\"linecolor\":\"white\",\"minorgridcolor\":\"white\",\"startlinecolor\":\"#2a3f5f\"},\"baxis\":{\"endlinecolor\":\"#2a3f5f\",\"gridcolor\":\"white\",\"linecolor\":\"white\",\"minorgridcolor\":\"white\",\"startlinecolor\":\"#2a3f5f\"},\"type\":\"carpet\"}],\"table\":[{\"cells\":{\"fill\":{\"color\":\"#EBF0F8\"},\"line\":{\"color\":\"white\"}},\"header\":{\"fill\":{\"color\":\"#C8D4E3\"},\"line\":{\"color\":\"white\"}},\"type\":\"table\"}],\"barpolar\":[{\"marker\":{\"line\":{\"color\":\"#E5ECF6\",\"width\":0.5},\"pattern\":{\"fillmode\":\"overlay\",\"size\":10,\"solidity\":0.2}},\"type\":\"barpolar\"}],\"pie\":[{\"automargin\":true,\"type\":\"pie\"}]},\"layout\":{\"autotypenumbers\":\"strict\",\"colorway\":[\"#636efa\",\"#EF553B\",\"#00cc96\",\"#ab63fa\",\"#FFA15A\",\"#19d3f3\",\"#FF6692\",\"#B6E880\",\"#FF97FF\",\"#FECB52\"],\"font\":{\"color\":\"#2a3f5f\"},\"hovermode\":\"closest\",\"hoverlabel\":{\"align\":\"left\"},\"paper_bgcolor\":\"white\",\"plot_bgcolor\":\"#E5ECF6\",\"polar\":{\"bgcolor\":\"#E5ECF6\",\"angularaxis\":{\"gridcolor\":\"white\",\"linecolor\":\"white\",\"ticks\":\"\"},\"radialaxis\":{\"gridcolor\":\"white\",\"linecolor\":\"white\",\"ticks\":\"\"}},\"ternary\":{\"bgcolor\":\"#E5ECF6\",\"aaxis\":{\"gridcolor\":\"white\",\"linecolor\":\"white\",\"ticks\":\"\"},\"baxis\":{\"gridcolor\":\"white\",\"linecolor\":\"white\",\"ticks\":\"\"},\"caxis\":{\"gridcolor\":\"white\",\"linecolor\":\"white\",\"ticks\":\"\"}},\"coloraxis\":{\"colorbar\":{\"outlinewidth\":0,\"ticks\":\"\"}},\"colorscale\":{\"sequential\":[[0.0,\"#0d0887\"],[0.1111111111111111,\"#46039f\"],[0.2222222222222222,\"#7201a8\"],[0.3333333333333333,\"#9c179e\"],[0.4444444444444444,\"#bd3786\"],[0.5555555555555556,\"#d8576b\"],[0.6666666666666666,\"#ed7953\"],[0.7777777777777778,\"#fb9f3a\"],[0.8888888888888888,\"#fdca26\"],[1.0,\"#f0f921\"]],\"sequentialminus\":[[0.0,\"#0d0887\"],[0.1111111111111111,\"#46039f\"],[0.2222222222222222,\"#7201a8\"],[0.3333333333333333,\"#9c179e\"],[0.4444444444444444,\"#bd3786\"],[0.5555555555555556,\"#d8576b\"],[0.6666666666666666,\"#ed7953\"],[0.7777777777777778,\"#fb9f3a\"],[0.8888888888888888,\"#fdca26\"],[1.0,\"#f0f921\"]],\"diverging\":[[0,\"#8e0152\"],[0.1,\"#c51b7d\"],[0.2,\"#de77ae\"],[0.3,\"#f1b6da\"],[0.4,\"#fde0ef\"],[0.5,\"#f7f7f7\"],[0.6,\"#e6f5d0\"],[0.7,\"#b8e186\"],[0.8,\"#7fbc41\"],[0.9,\"#4d9221\"],[1,\"#276419\"]]},\"xaxis\":{\"gridcolor\":\"white\",\"linecolor\":\"white\",\"ticks\":\"\",\"title\":{\"standoff\":15},\"zerolinecolor\":\"white\",\"automargin\":true,\"zerolinewidth\":2},\"yaxis\":{\"gridcolor\":\"white\",\"linecolor\":\"white\",\"ticks\":\"\",\"title\":{\"standoff\":15},\"zerolinecolor\":\"white\",\"automargin\":true,\"zerolinewidth\":2},\"scene\":{\"xaxis\":{\"backgroundcolor\":\"#E5ECF6\",\"gridcolor\":\"white\",\"linecolor\":\"white\",\"showbackground\":true,\"ticks\":\"\",\"zerolinecolor\":\"white\",\"gridwidth\":2},\"yaxis\":{\"backgroundcolor\":\"#E5ECF6\",\"gridcolor\":\"white\",\"linecolor\":\"white\",\"showbackground\":true,\"ticks\":\"\",\"zerolinecolor\":\"white\",\"gridwidth\":2},\"zaxis\":{\"backgroundcolor\":\"#E5ECF6\",\"gridcolor\":\"white\",\"linecolor\":\"white\",\"showbackground\":true,\"ticks\":\"\",\"zerolinecolor\":\"white\",\"gridwidth\":2}},\"shapedefaults\":{\"line\":{\"color\":\"#2a3f5f\"}},\"annotationdefaults\":{\"arrowcolor\":\"#2a3f5f\",\"arrowhead\":0,\"arrowwidth\":1},\"geo\":{\"bgcolor\":\"white\",\"landcolor\":\"#E5ECF6\",\"subunitcolor\":\"white\",\"showland\":true,\"showlakes\":true,\"lakecolor\":\"white\"},\"title\":{\"x\":0.05},\"mapbox\":{\"style\":\"light\"}}},\"geo\":{\"domain\":{\"x\":[0.0,1.0],\"y\":[0.0,1.0]},\"center\":{},\"scope\":\"usa\"},\"coloraxis\":{\"colorbar\":{\"title\":{\"text\":\"Ratio Sci/Non\"}},\"colorscale\":[[0.0,\"rgb(63, 5, 5)\"],[0.09090909090909091,\"rgb(101, 6, 13)\"],[0.18181818181818182,\"rgb(138, 17, 9)\"],[0.2727272727272727,\"rgb(96, 95, 95)\"],[0.36363636363636365,\"rgb(119, 118, 118)\"],[0.45454545454545453,\"rgb(142, 141, 141)\"],[0.5454545454545454,\"rgb(166, 166, 165)\"],[0.6363636363636364,\"rgb(193, 192, 191)\"],[0.7272727272727273,\"rgb(222, 222, 220)\"],[0.8181818181818182,\"rgb(239, 248, 90)\"],[0.9090909090909091,\"rgb(230, 210, 41)\"],[1.0,\"rgb(220, 174, 25)\"]],\"cmin\":1,\"cmax\":10},\"legend\":{\"tracegroupgap\":0},\"title\":{\"text\":\"Grad Students\"},\"height\":600,\"width\":600},                        {\"responsive\": true}                    ).then(function(){\n",
       "                            \n",
       "var gd = document.getElementById('2b08b1f3-9a9e-4357-ac14-25320d769246');\n",
       "var x = new MutationObserver(function (mutations, observer) {{\n",
       "        var display = window.getComputedStyle(gd).display;\n",
       "        if (!display || display === 'none') {{\n",
       "            console.log([gd, 'removed!']);\n",
       "            Plotly.purge(gd);\n",
       "            observer.disconnect();\n",
       "        }}\n",
       "}});\n",
       "\n",
       "// Listen for the removal of the full notebook cells\n",
       "var notebookContainer = gd.closest('#notebook-container');\n",
       "if (notebookContainer) {{\n",
       "    x.observe(notebookContainer, {childList: true});\n",
       "}}\n",
       "\n",
       "// Listen for the clearing of the current output cell\n",
       "var outputEl = gd.closest('.output');\n",
       "if (outputEl) {{\n",
       "    x.observe(outputEl, {childList: true});\n",
       "}}\n",
       "\n",
       "                        })                };                });            </script>        </div>"
      ]
     },
     "metadata": {},
     "output_type": "display_data"
    }
   ],
   "source": [
    "fig2 = px.choropleth(df,\n",
    "                    locations = 'Abbrev',\n",
    "                    locationmode = 'USA-states',\n",
    "                    scope = 'usa',\n",
    "                    color = 'Ratio Sci/Non',\n",
    "                    hover_name = 'State or location',\n",
    "                    hover_data = ['Male','Female'],\n",
    "                    range_color = [1,10],\n",
    "                    color_continuous_scale = 'oxy',\n",
    "                    width = 600,\n",
    "                    height = 600,\n",
    "                    title = 'Grad Students')\n",
    "fig2.show()"
   ]
  },
  {
   "cell_type": "code",
   "execution_count": 156,
   "id": "6fb14abb-eaa2-4a40-a965-ea82b7a8e7c8",
   "metadata": {},
   "outputs": [
    {
     "data": {
      "text/html": [
       "<div>\n",
       "<style scoped>\n",
       "    .dataframe tbody tr th:only-of-type {\n",
       "        vertical-align: middle;\n",
       "    }\n",
       "\n",
       "    .dataframe tbody tr th {\n",
       "        vertical-align: top;\n",
       "    }\n",
       "\n",
       "    .dataframe thead th {\n",
       "        text-align: right;\n",
       "    }\n",
       "</style>\n",
       "<table border=\"1\" class=\"dataframe\">\n",
       "  <thead>\n",
       "    <tr style=\"text-align: right;\">\n",
       "      <th></th>\n",
       "      <th>State or location</th>\n",
       "      <th>Alabama</th>\n",
       "      <th>Alaska</th>\n",
       "      <th>Arizona</th>\n",
       "      <th>Arkansas</th>\n",
       "      <th>California</th>\n",
       "      <th>Colorado</th>\n",
       "      <th>Connecticut</th>\n",
       "      <th>Delaware</th>\n",
       "      <th>Florida</th>\n",
       "      <th>...</th>\n",
       "      <th>South Dakota</th>\n",
       "      <th>Tennessee</th>\n",
       "      <th>Texas</th>\n",
       "      <th>Utah</th>\n",
       "      <th>Vermont</th>\n",
       "      <th>Virginia</th>\n",
       "      <th>Washington</th>\n",
       "      <th>West Virginia</th>\n",
       "      <th>Wisconsin</th>\n",
       "      <th>Wyoming</th>\n",
       "    </tr>\n",
       "  </thead>\n",
       "  <tbody>\n",
       "    <tr>\n",
       "      <th>0</th>\n",
       "      <td>Agricultural sciences and natural resources</td>\n",
       "      <td>3.91</td>\n",
       "      <td>0.78</td>\n",
       "      <td>3.28</td>\n",
       "      <td>3.28</td>\n",
       "      <td>12.66</td>\n",
       "      <td>3.59</td>\n",
       "      <td>2.03</td>\n",
       "      <td>1.88</td>\n",
       "      <td>10.31</td>\n",
       "      <td>...</td>\n",
       "      <td>2.66</td>\n",
       "      <td>3.75</td>\n",
       "      <td>13.59</td>\n",
       "      <td>1.88</td>\n",
       "      <td>1.25</td>\n",
       "      <td>6.25</td>\n",
       "      <td>4.69</td>\n",
       "      <td>0.94</td>\n",
       "      <td>4.38</td>\n",
       "      <td>0.78</td>\n",
       "    </tr>\n",
       "    <tr>\n",
       "      <th>1</th>\n",
       "      <td>Biological and biomedical sciences</td>\n",
       "      <td>18.59</td>\n",
       "      <td>0.47</td>\n",
       "      <td>17.50</td>\n",
       "      <td>7.66</td>\n",
       "      <td>152.97</td>\n",
       "      <td>25.94</td>\n",
       "      <td>24.06</td>\n",
       "      <td>5.47</td>\n",
       "      <td>47.66</td>\n",
       "      <td>...</td>\n",
       "      <td>2.34</td>\n",
       "      <td>25.63</td>\n",
       "      <td>94.53</td>\n",
       "      <td>11.56</td>\n",
       "      <td>3.28</td>\n",
       "      <td>27.03</td>\n",
       "      <td>25.63</td>\n",
       "      <td>4.69</td>\n",
       "      <td>26.25</td>\n",
       "      <td>2.66</td>\n",
       "    </tr>\n",
       "    <tr>\n",
       "      <th>2</th>\n",
       "      <td>Computer and information sciences</td>\n",
       "      <td>1.72</td>\n",
       "      <td>0.00</td>\n",
       "      <td>4.84</td>\n",
       "      <td>2.81</td>\n",
       "      <td>44.53</td>\n",
       "      <td>6.09</td>\n",
       "      <td>3.44</td>\n",
       "      <td>1.41</td>\n",
       "      <td>21.72</td>\n",
       "      <td>...</td>\n",
       "      <td>0.78</td>\n",
       "      <td>3.28</td>\n",
       "      <td>23.59</td>\n",
       "      <td>3.44</td>\n",
       "      <td>0.47</td>\n",
       "      <td>12.19</td>\n",
       "      <td>5.94</td>\n",
       "      <td>0.47</td>\n",
       "      <td>3.28</td>\n",
       "      <td>0.16</td>\n",
       "    </tr>\n",
       "    <tr>\n",
       "      <th>3</th>\n",
       "      <td>Engineering</td>\n",
       "      <td>18.28</td>\n",
       "      <td>0.31</td>\n",
       "      <td>30.94</td>\n",
       "      <td>7.50</td>\n",
       "      <td>169.06</td>\n",
       "      <td>33.91</td>\n",
       "      <td>13.75</td>\n",
       "      <td>8.59</td>\n",
       "      <td>63.75</td>\n",
       "      <td>...</td>\n",
       "      <td>2.66</td>\n",
       "      <td>23.59</td>\n",
       "      <td>143.44</td>\n",
       "      <td>17.50</td>\n",
       "      <td>1.41</td>\n",
       "      <td>48.59</td>\n",
       "      <td>23.91</td>\n",
       "      <td>6.25</td>\n",
       "      <td>20.78</td>\n",
       "      <td>4.06</td>\n",
       "    </tr>\n",
       "    <tr>\n",
       "      <th>4</th>\n",
       "      <td>Geosciences, atmospheric, and ocean sciences</td>\n",
       "      <td>1.25</td>\n",
       "      <td>1.72</td>\n",
       "      <td>3.59</td>\n",
       "      <td>0.31</td>\n",
       "      <td>22.81</td>\n",
       "      <td>8.75</td>\n",
       "      <td>2.19</td>\n",
       "      <td>0.63</td>\n",
       "      <td>10.47</td>\n",
       "      <td>...</td>\n",
       "      <td>0.78</td>\n",
       "      <td>0.94</td>\n",
       "      <td>17.34</td>\n",
       "      <td>2.19</td>\n",
       "      <td>0.00</td>\n",
       "      <td>4.53</td>\n",
       "      <td>5.31</td>\n",
       "      <td>0.47</td>\n",
       "      <td>1.41</td>\n",
       "      <td>1.25</td>\n",
       "    </tr>\n",
       "    <tr>\n",
       "      <th>5</th>\n",
       "      <td>Health sciences</td>\n",
       "      <td>4.69</td>\n",
       "      <td>0.00</td>\n",
       "      <td>6.41</td>\n",
       "      <td>1.25</td>\n",
       "      <td>27.66</td>\n",
       "      <td>7.19</td>\n",
       "      <td>3.13</td>\n",
       "      <td>0.31</td>\n",
       "      <td>21.41</td>\n",
       "      <td>...</td>\n",
       "      <td>1.88</td>\n",
       "      <td>6.56</td>\n",
       "      <td>33.44</td>\n",
       "      <td>4.84</td>\n",
       "      <td>0.00</td>\n",
       "      <td>11.41</td>\n",
       "      <td>9.06</td>\n",
       "      <td>2.19</td>\n",
       "      <td>10.31</td>\n",
       "      <td>0.00</td>\n",
       "    </tr>\n",
       "    <tr>\n",
       "      <th>6</th>\n",
       "      <td>Mathematics and statistics</td>\n",
       "      <td>3.44</td>\n",
       "      <td>0.00</td>\n",
       "      <td>3.91</td>\n",
       "      <td>0.31</td>\n",
       "      <td>36.88</td>\n",
       "      <td>7.19</td>\n",
       "      <td>5.63</td>\n",
       "      <td>1.41</td>\n",
       "      <td>10.78</td>\n",
       "      <td>...</td>\n",
       "      <td>0.16</td>\n",
       "      <td>3.13</td>\n",
       "      <td>24.69</td>\n",
       "      <td>3.44</td>\n",
       "      <td>0.16</td>\n",
       "      <td>6.41</td>\n",
       "      <td>7.34</td>\n",
       "      <td>0.47</td>\n",
       "      <td>8.13</td>\n",
       "      <td>0.31</td>\n",
       "    </tr>\n",
       "    <tr>\n",
       "      <th>7</th>\n",
       "      <td>Multidisciplinary/ interdisciplinary sciences</td>\n",
       "      <td>2.50</td>\n",
       "      <td>0.31</td>\n",
       "      <td>5.47</td>\n",
       "      <td>0.47</td>\n",
       "      <td>29.84</td>\n",
       "      <td>2.03</td>\n",
       "      <td>1.88</td>\n",
       "      <td>0.47</td>\n",
       "      <td>12.66</td>\n",
       "      <td>...</td>\n",
       "      <td>1.25</td>\n",
       "      <td>4.84</td>\n",
       "      <td>14.06</td>\n",
       "      <td>1.09</td>\n",
       "      <td>0.16</td>\n",
       "      <td>7.19</td>\n",
       "      <td>5.78</td>\n",
       "      <td>0.16</td>\n",
       "      <td>1.72</td>\n",
       "      <td>0.16</td>\n",
       "    </tr>\n",
       "    <tr>\n",
       "      <th>8</th>\n",
       "      <td>Physical sciences</td>\n",
       "      <td>7.03</td>\n",
       "      <td>0.31</td>\n",
       "      <td>13.44</td>\n",
       "      <td>3.13</td>\n",
       "      <td>104.38</td>\n",
       "      <td>16.72</td>\n",
       "      <td>15.16</td>\n",
       "      <td>4.38</td>\n",
       "      <td>28.91</td>\n",
       "      <td>...</td>\n",
       "      <td>2.03</td>\n",
       "      <td>10.78</td>\n",
       "      <td>48.75</td>\n",
       "      <td>6.88</td>\n",
       "      <td>1.25</td>\n",
       "      <td>18.13</td>\n",
       "      <td>15.00</td>\n",
       "      <td>3.44</td>\n",
       "      <td>16.88</td>\n",
       "      <td>1.41</td>\n",
       "    </tr>\n",
       "    <tr>\n",
       "      <th>9</th>\n",
       "      <td>Psychology</td>\n",
       "      <td>8.91</td>\n",
       "      <td>1.56</td>\n",
       "      <td>9.06</td>\n",
       "      <td>1.72</td>\n",
       "      <td>75.94</td>\n",
       "      <td>9.22</td>\n",
       "      <td>7.03</td>\n",
       "      <td>1.09</td>\n",
       "      <td>26.41</td>\n",
       "      <td>...</td>\n",
       "      <td>1.09</td>\n",
       "      <td>10.94</td>\n",
       "      <td>39.22</td>\n",
       "      <td>6.88</td>\n",
       "      <td>1.09</td>\n",
       "      <td>16.88</td>\n",
       "      <td>7.81</td>\n",
       "      <td>3.59</td>\n",
       "      <td>9.84</td>\n",
       "      <td>0.78</td>\n",
       "    </tr>\n",
       "    <tr>\n",
       "      <th>10</th>\n",
       "      <td>Social sciences</td>\n",
       "      <td>2.66</td>\n",
       "      <td>0.63</td>\n",
       "      <td>16.25</td>\n",
       "      <td>2.50</td>\n",
       "      <td>98.13</td>\n",
       "      <td>8.75</td>\n",
       "      <td>15.94</td>\n",
       "      <td>3.28</td>\n",
       "      <td>24.69</td>\n",
       "      <td>...</td>\n",
       "      <td>1.25</td>\n",
       "      <td>11.09</td>\n",
       "      <td>40.31</td>\n",
       "      <td>3.13</td>\n",
       "      <td>0.31</td>\n",
       "      <td>20.63</td>\n",
       "      <td>11.41</td>\n",
       "      <td>2.97</td>\n",
       "      <td>15.63</td>\n",
       "      <td>0.31</td>\n",
       "    </tr>\n",
       "    <tr>\n",
       "      <th>11</th>\n",
       "      <td>Business</td>\n",
       "      <td>3.75</td>\n",
       "      <td>0.00</td>\n",
       "      <td>3.91</td>\n",
       "      <td>2.19</td>\n",
       "      <td>19.69</td>\n",
       "      <td>1.09</td>\n",
       "      <td>3.44</td>\n",
       "      <td>0.31</td>\n",
       "      <td>9.06</td>\n",
       "      <td>...</td>\n",
       "      <td>0.00</td>\n",
       "      <td>1.25</td>\n",
       "      <td>20.31</td>\n",
       "      <td>1.72</td>\n",
       "      <td>0.00</td>\n",
       "      <td>7.97</td>\n",
       "      <td>3.75</td>\n",
       "      <td>0.16</td>\n",
       "      <td>3.13</td>\n",
       "      <td>0.00</td>\n",
       "    </tr>\n",
       "    <tr>\n",
       "      <th>12</th>\n",
       "      <td>Education</td>\n",
       "      <td>16.41</td>\n",
       "      <td>0.31</td>\n",
       "      <td>9.53</td>\n",
       "      <td>6.25</td>\n",
       "      <td>30.00</td>\n",
       "      <td>14.38</td>\n",
       "      <td>1.88</td>\n",
       "      <td>1.41</td>\n",
       "      <td>34.06</td>\n",
       "      <td>...</td>\n",
       "      <td>0.31</td>\n",
       "      <td>14.38</td>\n",
       "      <td>59.06</td>\n",
       "      <td>9.22</td>\n",
       "      <td>0.63</td>\n",
       "      <td>29.22</td>\n",
       "      <td>5.47</td>\n",
       "      <td>2.97</td>\n",
       "      <td>8.91</td>\n",
       "      <td>1.25</td>\n",
       "    </tr>\n",
       "    <tr>\n",
       "      <th>13</th>\n",
       "      <td>Humanities</td>\n",
       "      <td>2.19</td>\n",
       "      <td>0.00</td>\n",
       "      <td>6.72</td>\n",
       "      <td>1.88</td>\n",
       "      <td>52.03</td>\n",
       "      <td>5.16</td>\n",
       "      <td>8.44</td>\n",
       "      <td>1.09</td>\n",
       "      <td>16.41</td>\n",
       "      <td>...</td>\n",
       "      <td>0.16</td>\n",
       "      <td>10.78</td>\n",
       "      <td>43.28</td>\n",
       "      <td>2.03</td>\n",
       "      <td>0.00</td>\n",
       "      <td>9.69</td>\n",
       "      <td>4.84</td>\n",
       "      <td>0.63</td>\n",
       "      <td>9.69</td>\n",
       "      <td>0.00</td>\n",
       "    </tr>\n",
       "    <tr>\n",
       "      <th>14</th>\n",
       "      <td>Visual and performing arts</td>\n",
       "      <td>0.16</td>\n",
       "      <td>0.00</td>\n",
       "      <td>6.25</td>\n",
       "      <td>0.00</td>\n",
       "      <td>18.75</td>\n",
       "      <td>5.00</td>\n",
       "      <td>2.34</td>\n",
       "      <td>0.31</td>\n",
       "      <td>7.34</td>\n",
       "      <td>...</td>\n",
       "      <td>0.00</td>\n",
       "      <td>2.19</td>\n",
       "      <td>6.56</td>\n",
       "      <td>0.16</td>\n",
       "      <td>0.00</td>\n",
       "      <td>1.88</td>\n",
       "      <td>1.56</td>\n",
       "      <td>2.50</td>\n",
       "      <td>1.25</td>\n",
       "      <td>0.00</td>\n",
       "    </tr>\n",
       "    <tr>\n",
       "      <th>15</th>\n",
       "      <td>Other</td>\n",
       "      <td>4.53</td>\n",
       "      <td>0.16</td>\n",
       "      <td>5.00</td>\n",
       "      <td>1.72</td>\n",
       "      <td>25.31</td>\n",
       "      <td>5.00</td>\n",
       "      <td>3.91</td>\n",
       "      <td>1.09</td>\n",
       "      <td>19.84</td>\n",
       "      <td>...</td>\n",
       "      <td>1.72</td>\n",
       "      <td>4.38</td>\n",
       "      <td>21.25</td>\n",
       "      <td>2.50</td>\n",
       "      <td>0.00</td>\n",
       "      <td>9.22</td>\n",
       "      <td>4.69</td>\n",
       "      <td>1.72</td>\n",
       "      <td>5.31</td>\n",
       "      <td>0.00</td>\n",
       "    </tr>\n",
       "  </tbody>\n",
       "</table>\n",
       "<p>16 rows × 51 columns</p>\n",
       "</div>"
      ],
      "text/plain": [
       "                                State or location  Alabama  Alaska  Arizona  \\\n",
       "0     Agricultural sciences and natural resources     3.91    0.78     3.28   \n",
       "1              Biological and biomedical sciences    18.59    0.47    17.50   \n",
       "2               Computer and information sciences     1.72    0.00     4.84   \n",
       "3                                     Engineering    18.28    0.31    30.94   \n",
       "4    Geosciences, atmospheric, and ocean sciences     1.25    1.72     3.59   \n",
       "5                                 Health sciences     4.69    0.00     6.41   \n",
       "6                      Mathematics and statistics     3.44    0.00     3.91   \n",
       "7   Multidisciplinary/ interdisciplinary sciences     2.50    0.31     5.47   \n",
       "8                               Physical sciences     7.03    0.31    13.44   \n",
       "9                                      Psychology     8.91    1.56     9.06   \n",
       "10                                Social sciences     2.66    0.63    16.25   \n",
       "11                                       Business     3.75    0.00     3.91   \n",
       "12                                      Education    16.41    0.31     9.53   \n",
       "13                                     Humanities     2.19    0.00     6.72   \n",
       "14                     Visual and performing arts     0.16    0.00     6.25   \n",
       "15                                          Other     4.53    0.16     5.00   \n",
       "\n",
       "    Arkansas  California  Colorado  Connecticut  Delaware  Florida  ...  \\\n",
       "0       3.28       12.66      3.59         2.03      1.88    10.31  ...   \n",
       "1       7.66      152.97     25.94        24.06      5.47    47.66  ...   \n",
       "2       2.81       44.53      6.09         3.44      1.41    21.72  ...   \n",
       "3       7.50      169.06     33.91        13.75      8.59    63.75  ...   \n",
       "4       0.31       22.81      8.75         2.19      0.63    10.47  ...   \n",
       "5       1.25       27.66      7.19         3.13      0.31    21.41  ...   \n",
       "6       0.31       36.88      7.19         5.63      1.41    10.78  ...   \n",
       "7       0.47       29.84      2.03         1.88      0.47    12.66  ...   \n",
       "8       3.13      104.38     16.72        15.16      4.38    28.91  ...   \n",
       "9       1.72       75.94      9.22         7.03      1.09    26.41  ...   \n",
       "10      2.50       98.13      8.75        15.94      3.28    24.69  ...   \n",
       "11      2.19       19.69      1.09         3.44      0.31     9.06  ...   \n",
       "12      6.25       30.00     14.38         1.88      1.41    34.06  ...   \n",
       "13      1.88       52.03      5.16         8.44      1.09    16.41  ...   \n",
       "14      0.00       18.75      5.00         2.34      0.31     7.34  ...   \n",
       "15      1.72       25.31      5.00         3.91      1.09    19.84  ...   \n",
       "\n",
       "    South Dakota  Tennessee   Texas   Utah  Vermont  Virginia  Washington  \\\n",
       "0           2.66       3.75   13.59   1.88     1.25      6.25        4.69   \n",
       "1           2.34      25.63   94.53  11.56     3.28     27.03       25.63   \n",
       "2           0.78       3.28   23.59   3.44     0.47     12.19        5.94   \n",
       "3           2.66      23.59  143.44  17.50     1.41     48.59       23.91   \n",
       "4           0.78       0.94   17.34   2.19     0.00      4.53        5.31   \n",
       "5           1.88       6.56   33.44   4.84     0.00     11.41        9.06   \n",
       "6           0.16       3.13   24.69   3.44     0.16      6.41        7.34   \n",
       "7           1.25       4.84   14.06   1.09     0.16      7.19        5.78   \n",
       "8           2.03      10.78   48.75   6.88     1.25     18.13       15.00   \n",
       "9           1.09      10.94   39.22   6.88     1.09     16.88        7.81   \n",
       "10          1.25      11.09   40.31   3.13     0.31     20.63       11.41   \n",
       "11          0.00       1.25   20.31   1.72     0.00      7.97        3.75   \n",
       "12          0.31      14.38   59.06   9.22     0.63     29.22        5.47   \n",
       "13          0.16      10.78   43.28   2.03     0.00      9.69        4.84   \n",
       "14          0.00       2.19    6.56   0.16     0.00      1.88        1.56   \n",
       "15          1.72       4.38   21.25   2.50     0.00      9.22        4.69   \n",
       "\n",
       "    West Virginia  Wisconsin  Wyoming  \n",
       "0            0.94       4.38     0.78  \n",
       "1            4.69      26.25     2.66  \n",
       "2            0.47       3.28     0.16  \n",
       "3            6.25      20.78     4.06  \n",
       "4            0.47       1.41     1.25  \n",
       "5            2.19      10.31     0.00  \n",
       "6            0.47       8.13     0.31  \n",
       "7            0.16       1.72     0.16  \n",
       "8            3.44      16.88     1.41  \n",
       "9            3.59       9.84     0.78  \n",
       "10           2.97      15.63     0.31  \n",
       "11           0.16       3.13     0.00  \n",
       "12           2.97       8.91     1.25  \n",
       "13           0.63       9.69     0.00  \n",
       "14           2.50       1.25     0.00  \n",
       "15           1.72       5.31     0.00  \n",
       "\n",
       "[16 rows x 51 columns]"
      ]
     },
     "execution_count": 156,
     "metadata": {},
     "output_type": "execute_result"
    }
   ],
   "source": [
    "df7103 = pd.read_csv(\"CSV/nsf23300-tab007-010-3.csv\",encoding='cp1252')\n",
    "df7103.drop([0])\n",
    "df7103"
   ]
  },
  {
   "cell_type": "code",
   "execution_count": 150,
   "id": "c02e4bcd-c5b6-4ddb-b34e-10fcb471c20f",
   "metadata": {},
   "outputs": [
    {
     "data": {
      "application/vnd.plotly.v1+json": {
       "config": {
        "plotlyServerURL": "https://plot.ly"
       },
       "data": [
        {
         "domain": {
          "x": [
           0,
           1
          ],
          "y": [
           0,
           1
          ]
         },
         "hovertemplate": "State or location=%{label}<br>Alabama=%{value}<extra></extra>",
         "labels": [
          "Agricultural sciences and natural resources",
          "Biological and biomedical sciences",
          "Computer and information sciences",
          "Engineering",
          "Geosciences, atmospheric, and ocean sciences",
          "Health sciences",
          "Mathematics and statistics",
          "Multidisciplinary/ interdisciplinary sciences",
          "Physical sciences",
          "Psychology",
          "Social sciences",
          "Business",
          "Education",
          "Humanities",
          "Visual and performing arts",
          "Other"
         ],
         "legendgroup": "",
         "name": "",
         "showlegend": true,
         "type": "pie",
         "values": [
          3.91,
          18.59,
          1.72,
          18.28,
          1.25,
          4.69,
          3.44,
          2.5,
          7.03,
          8.91,
          2.66,
          3.75,
          16.41,
          2.19,
          0.16,
          4.53
         ]
        }
       ],
       "layout": {
        "autosize": true,
        "hiddenlabels": [
         "Geosciences, atmospheric, and ocean sciences"
        ],
        "legend": {
         "tracegroupgap": 0
        },
        "margin": {
         "t": 60
        },
        "template": {
         "data": {
          "bar": [
           {
            "error_x": {
             "color": "#2a3f5f"
            },
            "error_y": {
             "color": "#2a3f5f"
            },
            "marker": {
             "line": {
              "color": "#E5ECF6",
              "width": 0.5
             },
             "pattern": {
              "fillmode": "overlay",
              "size": 10,
              "solidity": 0.2
             }
            },
            "type": "bar"
           }
          ],
          "barpolar": [
           {
            "marker": {
             "line": {
              "color": "#E5ECF6",
              "width": 0.5
             },
             "pattern": {
              "fillmode": "overlay",
              "size": 10,
              "solidity": 0.2
             }
            },
            "type": "barpolar"
           }
          ],
          "carpet": [
           {
            "aaxis": {
             "endlinecolor": "#2a3f5f",
             "gridcolor": "white",
             "linecolor": "white",
             "minorgridcolor": "white",
             "startlinecolor": "#2a3f5f"
            },
            "baxis": {
             "endlinecolor": "#2a3f5f",
             "gridcolor": "white",
             "linecolor": "white",
             "minorgridcolor": "white",
             "startlinecolor": "#2a3f5f"
            },
            "type": "carpet"
           }
          ],
          "choropleth": [
           {
            "colorbar": {
             "outlinewidth": 0,
             "ticks": ""
            },
            "type": "choropleth"
           }
          ],
          "contour": [
           {
            "colorbar": {
             "outlinewidth": 0,
             "ticks": ""
            },
            "colorscale": [
             [
              0,
              "#0d0887"
             ],
             [
              0.1111111111111111,
              "#46039f"
             ],
             [
              0.2222222222222222,
              "#7201a8"
             ],
             [
              0.3333333333333333,
              "#9c179e"
             ],
             [
              0.4444444444444444,
              "#bd3786"
             ],
             [
              0.5555555555555556,
              "#d8576b"
             ],
             [
              0.6666666666666666,
              "#ed7953"
             ],
             [
              0.7777777777777778,
              "#fb9f3a"
             ],
             [
              0.8888888888888888,
              "#fdca26"
             ],
             [
              1,
              "#f0f921"
             ]
            ],
            "type": "contour"
           }
          ],
          "contourcarpet": [
           {
            "colorbar": {
             "outlinewidth": 0,
             "ticks": ""
            },
            "type": "contourcarpet"
           }
          ],
          "heatmap": [
           {
            "colorbar": {
             "outlinewidth": 0,
             "ticks": ""
            },
            "colorscale": [
             [
              0,
              "#0d0887"
             ],
             [
              0.1111111111111111,
              "#46039f"
             ],
             [
              0.2222222222222222,
              "#7201a8"
             ],
             [
              0.3333333333333333,
              "#9c179e"
             ],
             [
              0.4444444444444444,
              "#bd3786"
             ],
             [
              0.5555555555555556,
              "#d8576b"
             ],
             [
              0.6666666666666666,
              "#ed7953"
             ],
             [
              0.7777777777777778,
              "#fb9f3a"
             ],
             [
              0.8888888888888888,
              "#fdca26"
             ],
             [
              1,
              "#f0f921"
             ]
            ],
            "type": "heatmap"
           }
          ],
          "heatmapgl": [
           {
            "colorbar": {
             "outlinewidth": 0,
             "ticks": ""
            },
            "colorscale": [
             [
              0,
              "#0d0887"
             ],
             [
              0.1111111111111111,
              "#46039f"
             ],
             [
              0.2222222222222222,
              "#7201a8"
             ],
             [
              0.3333333333333333,
              "#9c179e"
             ],
             [
              0.4444444444444444,
              "#bd3786"
             ],
             [
              0.5555555555555556,
              "#d8576b"
             ],
             [
              0.6666666666666666,
              "#ed7953"
             ],
             [
              0.7777777777777778,
              "#fb9f3a"
             ],
             [
              0.8888888888888888,
              "#fdca26"
             ],
             [
              1,
              "#f0f921"
             ]
            ],
            "type": "heatmapgl"
           }
          ],
          "histogram": [
           {
            "marker": {
             "pattern": {
              "fillmode": "overlay",
              "size": 10,
              "solidity": 0.2
             }
            },
            "type": "histogram"
           }
          ],
          "histogram2d": [
           {
            "colorbar": {
             "outlinewidth": 0,
             "ticks": ""
            },
            "colorscale": [
             [
              0,
              "#0d0887"
             ],
             [
              0.1111111111111111,
              "#46039f"
             ],
             [
              0.2222222222222222,
              "#7201a8"
             ],
             [
              0.3333333333333333,
              "#9c179e"
             ],
             [
              0.4444444444444444,
              "#bd3786"
             ],
             [
              0.5555555555555556,
              "#d8576b"
             ],
             [
              0.6666666666666666,
              "#ed7953"
             ],
             [
              0.7777777777777778,
              "#fb9f3a"
             ],
             [
              0.8888888888888888,
              "#fdca26"
             ],
             [
              1,
              "#f0f921"
             ]
            ],
            "type": "histogram2d"
           }
          ],
          "histogram2dcontour": [
           {
            "colorbar": {
             "outlinewidth": 0,
             "ticks": ""
            },
            "colorscale": [
             [
              0,
              "#0d0887"
             ],
             [
              0.1111111111111111,
              "#46039f"
             ],
             [
              0.2222222222222222,
              "#7201a8"
             ],
             [
              0.3333333333333333,
              "#9c179e"
             ],
             [
              0.4444444444444444,
              "#bd3786"
             ],
             [
              0.5555555555555556,
              "#d8576b"
             ],
             [
              0.6666666666666666,
              "#ed7953"
             ],
             [
              0.7777777777777778,
              "#fb9f3a"
             ],
             [
              0.8888888888888888,
              "#fdca26"
             ],
             [
              1,
              "#f0f921"
             ]
            ],
            "type": "histogram2dcontour"
           }
          ],
          "mesh3d": [
           {
            "colorbar": {
             "outlinewidth": 0,
             "ticks": ""
            },
            "type": "mesh3d"
           }
          ],
          "parcoords": [
           {
            "line": {
             "colorbar": {
              "outlinewidth": 0,
              "ticks": ""
             }
            },
            "type": "parcoords"
           }
          ],
          "pie": [
           {
            "automargin": true,
            "type": "pie"
           }
          ],
          "scatter": [
           {
            "fillpattern": {
             "fillmode": "overlay",
             "size": 10,
             "solidity": 0.2
            },
            "type": "scatter"
           }
          ],
          "scatter3d": [
           {
            "line": {
             "colorbar": {
              "outlinewidth": 0,
              "ticks": ""
             }
            },
            "marker": {
             "colorbar": {
              "outlinewidth": 0,
              "ticks": ""
             }
            },
            "type": "scatter3d"
           }
          ],
          "scattercarpet": [
           {
            "marker": {
             "colorbar": {
              "outlinewidth": 0,
              "ticks": ""
             }
            },
            "type": "scattercarpet"
           }
          ],
          "scattergeo": [
           {
            "marker": {
             "colorbar": {
              "outlinewidth": 0,
              "ticks": ""
             }
            },
            "type": "scattergeo"
           }
          ],
          "scattergl": [
           {
            "marker": {
             "colorbar": {
              "outlinewidth": 0,
              "ticks": ""
             }
            },
            "type": "scattergl"
           }
          ],
          "scattermapbox": [
           {
            "marker": {
             "colorbar": {
              "outlinewidth": 0,
              "ticks": ""
             }
            },
            "type": "scattermapbox"
           }
          ],
          "scatterpolar": [
           {
            "marker": {
             "colorbar": {
              "outlinewidth": 0,
              "ticks": ""
             }
            },
            "type": "scatterpolar"
           }
          ],
          "scatterpolargl": [
           {
            "marker": {
             "colorbar": {
              "outlinewidth": 0,
              "ticks": ""
             }
            },
            "type": "scatterpolargl"
           }
          ],
          "scatterternary": [
           {
            "marker": {
             "colorbar": {
              "outlinewidth": 0,
              "ticks": ""
             }
            },
            "type": "scatterternary"
           }
          ],
          "surface": [
           {
            "colorbar": {
             "outlinewidth": 0,
             "ticks": ""
            },
            "colorscale": [
             [
              0,
              "#0d0887"
             ],
             [
              0.1111111111111111,
              "#46039f"
             ],
             [
              0.2222222222222222,
              "#7201a8"
             ],
             [
              0.3333333333333333,
              "#9c179e"
             ],
             [
              0.4444444444444444,
              "#bd3786"
             ],
             [
              0.5555555555555556,
              "#d8576b"
             ],
             [
              0.6666666666666666,
              "#ed7953"
             ],
             [
              0.7777777777777778,
              "#fb9f3a"
             ],
             [
              0.8888888888888888,
              "#fdca26"
             ],
             [
              1,
              "#f0f921"
             ]
            ],
            "type": "surface"
           }
          ],
          "table": [
           {
            "cells": {
             "fill": {
              "color": "#EBF0F8"
             },
             "line": {
              "color": "white"
             }
            },
            "header": {
             "fill": {
              "color": "#C8D4E3"
             },
             "line": {
              "color": "white"
             }
            },
            "type": "table"
           }
          ]
         },
         "layout": {
          "annotationdefaults": {
           "arrowcolor": "#2a3f5f",
           "arrowhead": 0,
           "arrowwidth": 1
          },
          "autotypenumbers": "strict",
          "coloraxis": {
           "colorbar": {
            "outlinewidth": 0,
            "ticks": ""
           }
          },
          "colorscale": {
           "diverging": [
            [
             0,
             "#8e0152"
            ],
            [
             0.1,
             "#c51b7d"
            ],
            [
             0.2,
             "#de77ae"
            ],
            [
             0.3,
             "#f1b6da"
            ],
            [
             0.4,
             "#fde0ef"
            ],
            [
             0.5,
             "#f7f7f7"
            ],
            [
             0.6,
             "#e6f5d0"
            ],
            [
             0.7,
             "#b8e186"
            ],
            [
             0.8,
             "#7fbc41"
            ],
            [
             0.9,
             "#4d9221"
            ],
            [
             1,
             "#276419"
            ]
           ],
           "sequential": [
            [
             0,
             "#0d0887"
            ],
            [
             0.1111111111111111,
             "#46039f"
            ],
            [
             0.2222222222222222,
             "#7201a8"
            ],
            [
             0.3333333333333333,
             "#9c179e"
            ],
            [
             0.4444444444444444,
             "#bd3786"
            ],
            [
             0.5555555555555556,
             "#d8576b"
            ],
            [
             0.6666666666666666,
             "#ed7953"
            ],
            [
             0.7777777777777778,
             "#fb9f3a"
            ],
            [
             0.8888888888888888,
             "#fdca26"
            ],
            [
             1,
             "#f0f921"
            ]
           ],
           "sequentialminus": [
            [
             0,
             "#0d0887"
            ],
            [
             0.1111111111111111,
             "#46039f"
            ],
            [
             0.2222222222222222,
             "#7201a8"
            ],
            [
             0.3333333333333333,
             "#9c179e"
            ],
            [
             0.4444444444444444,
             "#bd3786"
            ],
            [
             0.5555555555555556,
             "#d8576b"
            ],
            [
             0.6666666666666666,
             "#ed7953"
            ],
            [
             0.7777777777777778,
             "#fb9f3a"
            ],
            [
             0.8888888888888888,
             "#fdca26"
            ],
            [
             1,
             "#f0f921"
            ]
           ]
          },
          "colorway": [
           "#636efa",
           "#EF553B",
           "#00cc96",
           "#ab63fa",
           "#FFA15A",
           "#19d3f3",
           "#FF6692",
           "#B6E880",
           "#FF97FF",
           "#FECB52"
          ],
          "font": {
           "color": "#2a3f5f"
          },
          "geo": {
           "bgcolor": "white",
           "lakecolor": "white",
           "landcolor": "#E5ECF6",
           "showlakes": true,
           "showland": true,
           "subunitcolor": "white"
          },
          "hoverlabel": {
           "align": "left"
          },
          "hovermode": "closest",
          "mapbox": {
           "style": "light"
          },
          "paper_bgcolor": "white",
          "plot_bgcolor": "#E5ECF6",
          "polar": {
           "angularaxis": {
            "gridcolor": "white",
            "linecolor": "white",
            "ticks": ""
           },
           "bgcolor": "#E5ECF6",
           "radialaxis": {
            "gridcolor": "white",
            "linecolor": "white",
            "ticks": ""
           }
          },
          "scene": {
           "xaxis": {
            "backgroundcolor": "#E5ECF6",
            "gridcolor": "white",
            "gridwidth": 2,
            "linecolor": "white",
            "showbackground": true,
            "ticks": "",
            "zerolinecolor": "white"
           },
           "yaxis": {
            "backgroundcolor": "#E5ECF6",
            "gridcolor": "white",
            "gridwidth": 2,
            "linecolor": "white",
            "showbackground": true,
            "ticks": "",
            "zerolinecolor": "white"
           },
           "zaxis": {
            "backgroundcolor": "#E5ECF6",
            "gridcolor": "white",
            "gridwidth": 2,
            "linecolor": "white",
            "showbackground": true,
            "ticks": "",
            "zerolinecolor": "white"
           }
          },
          "shapedefaults": {
           "line": {
            "color": "#2a3f5f"
           }
          },
          "ternary": {
           "aaxis": {
            "gridcolor": "white",
            "linecolor": "white",
            "ticks": ""
           },
           "baxis": {
            "gridcolor": "white",
            "linecolor": "white",
            "ticks": ""
           },
           "bgcolor": "#E5ECF6",
           "caxis": {
            "gridcolor": "white",
            "linecolor": "white",
            "ticks": ""
           }
          },
          "title": {
           "x": 0.05
          },
          "xaxis": {
           "automargin": true,
           "gridcolor": "white",
           "linecolor": "white",
           "ticks": "",
           "title": {
            "standoff": 15
           },
           "zerolinecolor": "white",
           "zerolinewidth": 2
          },
          "yaxis": {
           "automargin": true,
           "gridcolor": "white",
           "linecolor": "white",
           "ticks": "",
           "title": {
            "standoff": 15
           },
           "zerolinecolor": "white",
           "zerolinewidth": 2
          }
         }
        }
       }
      },
      "image/png": "[encoded data removed]",
      "text/html": [
       "<div>                            <div id=\"6d7eeb5c-cfec-4d9d-befe-f18e2387d144\" class=\"plotly-graph-div\" style=\"height:525px; width:100%;\"></div>            <script type=\"text/javascript\">                require([\"plotly\"], function(Plotly) {                    window.PLOTLYENV=window.PLOTLYENV || {};                                    if (document.getElementById(\"6d7eeb5c-cfec-4d9d-befe-f18e2387d144\")) {                    Plotly.newPlot(                        \"6d7eeb5c-cfec-4d9d-befe-f18e2387d144\",                        [{\"domain\":{\"x\":[0.0,1.0],\"y\":[0.0,1.0]},\"hovertemplate\":\"State or location=%{label}<br>Alabama=%{value}<extra></extra>\",\"labels\":[\"Agricultural sciences and natural resources\",\"Biological and biomedical sciences\",\"Computer and information sciences\",\"Engineering\",\"Geosciences, atmospheric, and ocean sciences\",\"Health sciences\",\"Mathematics and statistics\",\"Multidisciplinary/ interdisciplinary sciences\",\"Physical sciences\",\"Psychology\",\"Social sciences\",\"Business\",\"Education\",\"Humanities\",\"Visual and performing arts\",\"Other\"],\"legendgroup\":\"\",\"name\":\"\",\"showlegend\":true,\"values\":[3.91,18.59,1.72,18.28,1.25,4.69,3.44,2.5,7.03,8.91,2.66,3.75,16.41,2.19,0.16,4.53],\"type\":\"pie\"}],                        {\"template\":{\"data\":{\"histogram2dcontour\":[{\"type\":\"histogram2dcontour\",\"colorbar\":{\"outlinewidth\":0,\"ticks\":\"\"},\"colorscale\":[[0.0,\"#0d0887\"],[0.1111111111111111,\"#46039f\"],[0.2222222222222222,\"#7201a8\"],[0.3333333333333333,\"#9c179e\"],[0.4444444444444444,\"#bd3786\"],[0.5555555555555556,\"#d8576b\"],[0.6666666666666666,\"#ed7953\"],[0.7777777777777778,\"#fb9f3a\"],[0.8888888888888888,\"#fdca26\"],[1.0,\"#f0f921\"]]}],\"choropleth\":[{\"type\":\"choropleth\",\"colorbar\":{\"outlinewidth\":0,\"ticks\":\"\"}}],\"histogram2d\":[{\"type\":\"histogram2d\",\"colorbar\":{\"outlinewidth\":0,\"ticks\":\"\"},\"colorscale\":[[0.0,\"#0d0887\"],[0.1111111111111111,\"#46039f\"],[0.2222222222222222,\"#7201a8\"],[0.3333333333333333,\"#9c179e\"],[0.4444444444444444,\"#bd3786\"],[0.5555555555555556,\"#d8576b\"],[0.6666666666666666,\"#ed7953\"],[0.7777777777777778,\"#fb9f3a\"],[0.8888888888888888,\"#fdca26\"],[1.0,\"#f0f921\"]]}],\"heatmap\":[{\"type\":\"heatmap\",\"colorbar\":{\"outlinewidth\":0,\"ticks\":\"\"},\"colorscale\":[[0.0,\"#0d0887\"],[0.1111111111111111,\"#46039f\"],[0.2222222222222222,\"#7201a8\"],[0.3333333333333333,\"#9c179e\"],[0.4444444444444444,\"#bd3786\"],[0.5555555555555556,\"#d8576b\"],[0.6666666666666666,\"#ed7953\"],[0.7777777777777778,\"#fb9f3a\"],[0.8888888888888888,\"#fdca26\"],[1.0,\"#f0f921\"]]}],\"heatmapgl\":[{\"type\":\"heatmapgl\",\"colorbar\":{\"outlinewidth\":0,\"ticks\":\"\"},\"colorscale\":[[0.0,\"#0d0887\"],[0.1111111111111111,\"#46039f\"],[0.2222222222222222,\"#7201a8\"],[0.3333333333333333,\"#9c179e\"],[0.4444444444444444,\"#bd3786\"],[0.5555555555555556,\"#d8576b\"],[0.6666666666666666,\"#ed7953\"],[0.7777777777777778,\"#fb9f3a\"],[0.8888888888888888,\"#fdca26\"],[1.0,\"#f0f921\"]]}],\"contourcarpet\":[{\"type\":\"contourcarpet\",\"colorbar\":{\"outlinewidth\":0,\"ticks\":\"\"}}],\"contour\":[{\"type\":\"contour\",\"colorbar\":{\"outlinewidth\":0,\"ticks\":\"\"},\"colorscale\":[[0.0,\"#0d0887\"],[0.1111111111111111,\"#46039f\"],[0.2222222222222222,\"#7201a8\"],[0.3333333333333333,\"#9c179e\"],[0.4444444444444444,\"#bd3786\"],[0.5555555555555556,\"#d8576b\"],[0.6666666666666666,\"#ed7953\"],[0.7777777777777778,\"#fb9f3a\"],[0.8888888888888888,\"#fdca26\"],[1.0,\"#f0f921\"]]}],\"surface\":[{\"type\":\"surface\",\"colorbar\":{\"outlinewidth\":0,\"ticks\":\"\"},\"colorscale\":[[0.0,\"#0d0887\"],[0.1111111111111111,\"#46039f\"],[0.2222222222222222,\"#7201a8\"],[0.3333333333333333,\"#9c179e\"],[0.4444444444444444,\"#bd3786\"],[0.5555555555555556,\"#d8576b\"],[0.6666666666666666,\"#ed7953\"],[0.7777777777777778,\"#fb9f3a\"],[0.8888888888888888,\"#fdca26\"],[1.0,\"#f0f921\"]]}],\"mesh3d\":[{\"type\":\"mesh3d\",\"colorbar\":{\"outlinewidth\":0,\"ticks\":\"\"}}],\"scatter\":[{\"fillpattern\":{\"fillmode\":\"overlay\",\"size\":10,\"solidity\":0.2},\"type\":\"scatter\"}],\"parcoords\":[{\"type\":\"parcoords\",\"line\":{\"colorbar\":{\"outlinewidth\":0,\"ticks\":\"\"}}}],\"scatterpolargl\":[{\"type\":\"scatterpolargl\",\"marker\":{\"colorbar\":{\"outlinewidth\":0,\"ticks\":\"\"}}}],\"bar\":[{\"error_x\":{\"color\":\"#2a3f5f\"},\"error_y\":{\"color\":\"#2a3f5f\"},\"marker\":{\"line\":{\"color\":\"#E5ECF6\",\"width\":0.5},\"pattern\":{\"fillmode\":\"overlay\",\"size\":10,\"solidity\":0.2}},\"type\":\"bar\"}],\"scattergeo\":[{\"type\":\"scattergeo\",\"marker\":{\"colorbar\":{\"outlinewidth\":0,\"ticks\":\"\"}}}],\"scatterpolar\":[{\"type\":\"scatterpolar\",\"marker\":{\"colorbar\":{\"outlinewidth\":0,\"ticks\":\"\"}}}],\"histogram\":[{\"marker\":{\"pattern\":{\"fillmode\":\"overlay\",\"size\":10,\"solidity\":0.2}},\"type\":\"histogram\"}],\"scattergl\":[{\"type\":\"scattergl\",\"marker\":{\"colorbar\":{\"outlinewidth\":0,\"ticks\":\"\"}}}],\"scatter3d\":[{\"type\":\"scatter3d\",\"line\":{\"colorbar\":{\"outlinewidth\":0,\"ticks\":\"\"}},\"marker\":{\"colorbar\":{\"outlinewidth\":0,\"ticks\":\"\"}}}],\"scattermapbox\":[{\"type\":\"scattermapbox\",\"marker\":{\"colorbar\":{\"outlinewidth\":0,\"ticks\":\"\"}}}],\"scatterternary\":[{\"type\":\"scatterternary\",\"marker\":{\"colorbar\":{\"outlinewidth\":0,\"ticks\":\"\"}}}],\"scattercarpet\":[{\"type\":\"scattercarpet\",\"marker\":{\"colorbar\":{\"outlinewidth\":0,\"ticks\":\"\"}}}],\"carpet\":[{\"aaxis\":{\"endlinecolor\":\"#2a3f5f\",\"gridcolor\":\"white\",\"linecolor\":\"white\",\"minorgridcolor\":\"white\",\"startlinecolor\":\"#2a3f5f\"},\"baxis\":{\"endlinecolor\":\"#2a3f5f\",\"gridcolor\":\"white\",\"linecolor\":\"white\",\"minorgridcolor\":\"white\",\"startlinecolor\":\"#2a3f5f\"},\"type\":\"carpet\"}],\"table\":[{\"cells\":{\"fill\":{\"color\":\"#EBF0F8\"},\"line\":{\"color\":\"white\"}},\"header\":{\"fill\":{\"color\":\"#C8D4E3\"},\"line\":{\"color\":\"white\"}},\"type\":\"table\"}],\"barpolar\":[{\"marker\":{\"line\":{\"color\":\"#E5ECF6\",\"width\":0.5},\"pattern\":{\"fillmode\":\"overlay\",\"size\":10,\"solidity\":0.2}},\"type\":\"barpolar\"}],\"pie\":[{\"automargin\":true,\"type\":\"pie\"}]},\"layout\":{\"autotypenumbers\":\"strict\",\"colorway\":[\"#636efa\",\"#EF553B\",\"#00cc96\",\"#ab63fa\",\"#FFA15A\",\"#19d3f3\",\"#FF6692\",\"#B6E880\",\"#FF97FF\",\"#FECB52\"],\"font\":{\"color\":\"#2a3f5f\"},\"hovermode\":\"closest\",\"hoverlabel\":{\"align\":\"left\"},\"paper_bgcolor\":\"white\",\"plot_bgcolor\":\"#E5ECF6\",\"polar\":{\"bgcolor\":\"#E5ECF6\",\"angularaxis\":{\"gridcolor\":\"white\",\"linecolor\":\"white\",\"ticks\":\"\"},\"radialaxis\":{\"gridcolor\":\"white\",\"linecolor\":\"white\",\"ticks\":\"\"}},\"ternary\":{\"bgcolor\":\"#E5ECF6\",\"aaxis\":{\"gridcolor\":\"white\",\"linecolor\":\"white\",\"ticks\":\"\"},\"baxis\":{\"gridcolor\":\"white\",\"linecolor\":\"white\",\"ticks\":\"\"},\"caxis\":{\"gridcolor\":\"white\",\"linecolor\":\"white\",\"ticks\":\"\"}},\"coloraxis\":{\"colorbar\":{\"outlinewidth\":0,\"ticks\":\"\"}},\"colorscale\":{\"sequential\":[[0.0,\"#0d0887\"],[0.1111111111111111,\"#46039f\"],[0.2222222222222222,\"#7201a8\"],[0.3333333333333333,\"#9c179e\"],[0.4444444444444444,\"#bd3786\"],[0.5555555555555556,\"#d8576b\"],[0.6666666666666666,\"#ed7953\"],[0.7777777777777778,\"#fb9f3a\"],[0.8888888888888888,\"#fdca26\"],[1.0,\"#f0f921\"]],\"sequentialminus\":[[0.0,\"#0d0887\"],[0.1111111111111111,\"#46039f\"],[0.2222222222222222,\"#7201a8\"],[0.3333333333333333,\"#9c179e\"],[0.4444444444444444,\"#bd3786\"],[0.5555555555555556,\"#d8576b\"],[0.6666666666666666,\"#ed7953\"],[0.7777777777777778,\"#fb9f3a\"],[0.8888888888888888,\"#fdca26\"],[1.0,\"#f0f921\"]],\"diverging\":[[0,\"#8e0152\"],[0.1,\"#c51b7d\"],[0.2,\"#de77ae\"],[0.3,\"#f1b6da\"],[0.4,\"#fde0ef\"],[0.5,\"#f7f7f7\"],[0.6,\"#e6f5d0\"],[0.7,\"#b8e186\"],[0.8,\"#7fbc41\"],[0.9,\"#4d9221\"],[1,\"#276419\"]]},\"xaxis\":{\"gridcolor\":\"white\",\"linecolor\":\"white\",\"ticks\":\"\",\"title\":{\"standoff\":15},\"zerolinecolor\":\"white\",\"automargin\":true,\"zerolinewidth\":2},\"yaxis\":{\"gridcolor\":\"white\",\"linecolor\":\"white\",\"ticks\":\"\",\"title\":{\"standoff\":15},\"zerolinecolor\":\"white\",\"automargin\":true,\"zerolinewidth\":2},\"scene\":{\"xaxis\":{\"backgroundcolor\":\"#E5ECF6\",\"gridcolor\":\"white\",\"linecolor\":\"white\",\"showbackground\":true,\"ticks\":\"\",\"zerolinecolor\":\"white\",\"gridwidth\":2},\"yaxis\":{\"backgroundcolor\":\"#E5ECF6\",\"gridcolor\":\"white\",\"linecolor\":\"white\",\"showbackground\":true,\"ticks\":\"\",\"zerolinecolor\":\"white\",\"gridwidth\":2},\"zaxis\":{\"backgroundcolor\":\"#E5ECF6\",\"gridcolor\":\"white\",\"linecolor\":\"white\",\"showbackground\":true,\"ticks\":\"\",\"zerolinecolor\":\"white\",\"gridwidth\":2}},\"shapedefaults\":{\"line\":{\"color\":\"#2a3f5f\"}},\"annotationdefaults\":{\"arrowcolor\":\"#2a3f5f\",\"arrowhead\":0,\"arrowwidth\":1},\"geo\":{\"bgcolor\":\"white\",\"landcolor\":\"#E5ECF6\",\"subunitcolor\":\"white\",\"showland\":true,\"showlakes\":true,\"lakecolor\":\"white\"},\"title\":{\"x\":0.05},\"mapbox\":{\"style\":\"light\"}}},\"legend\":{\"tracegroupgap\":0},\"margin\":{\"t\":60}},                        {\"responsive\": true}                    ).then(function(){\n",
       "                            \n",
       "var gd = document.getElementById('6d7eeb5c-cfec-4d9d-befe-f18e2387d144');\n",
       "var x = new MutationObserver(function (mutations, observer) {{\n",
       "        var display = window.getComputedStyle(gd).display;\n",
       "        if (!display || display === 'none') {{\n",
       "            console.log([gd, 'removed!']);\n",
       "            Plotly.purge(gd);\n",
       "            observer.disconnect();\n",
       "        }}\n",
       "}});\n",
       "\n",
       "// Listen for the removal of the full notebook cells\n",
       "var notebookContainer = gd.closest('#notebook-container');\n",
       "if (notebookContainer) {{\n",
       "    x.observe(notebookContainer, {childList: true});\n",
       "}}\n",
       "\n",
       "// Listen for the clearing of the current output cell\n",
       "var outputEl = gd.closest('.output');\n",
       "if (outputEl) {{\n",
       "    x.observe(outputEl, {childList: true});\n",
       "}}\n",
       "\n",
       "                        })                };                });            </script>        </div>"
      ]
     },
     "metadata": {},
     "output_type": "display_data"
    }
   ],
   "source": [
    "fig3 = px.pie(df7103, 'State or location', 'Alabama')\n",
    "fig3.show()"
   ]
  },
  {
   "cell_type": "code",
   "execution_count": null,
   "id": "89012b3d-d75d-4877-bce4-07437e9595a3",
   "metadata": {},
   "outputs": [],
   "source": []
  }
 ],
 "metadata": {
  "kernelspec": {
   "display_name": "Python 3 (ipykernel)",
   "language": "python",
   "name": "python3"
  },
  "language_info": {
   "codemirror_mode": {
    "name": "ipython",
    "version": 3
   },
   "file_extension": ".py",
   "mimetype": "text/x-python",
   "name": "python",
   "nbconvert_exporter": "python",
   "pygments_lexer": "ipython3",
   "version": "3.9.7"
  }
 },
 "nbformat": 4,
 "nbformat_minor": 5
}
