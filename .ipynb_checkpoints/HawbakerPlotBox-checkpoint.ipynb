{
 "cells": [
  {
   "cell_type": "code",
   "execution_count": 1,
   "id": "5e9d1ca5-2ac7-422c-bd65-a6a7dfb87c8a",
   "metadata": {},
   "outputs": [
    {
     "name": "stdout",
     "output_type": "stream",
     "text": [
      "Dash is running on http://0.0.0.0:8080/\n",
      "\n",
      " * Serving Flask app '__main__'\n",
      " * Debug mode: on\n"
     ]
    }
   ],
   "source": [
    "# Standard Imports\n",
    "import numpy as np, pandas as pd, random, json, time, os\n",
    "\n",
    "# Plotly Imports\n",
    "import plotly.graph_objects as go\n",
    "import plotly.express as px\n",
    "\n",
    "# Dash Imports\n",
    "import dash\n",
    "from dash import dcc\n",
    "from dash import html\n",
    "from dash.dependencies import Input, Output\n",
    "\n",
    "# Additional Imports\n",
    "# import STUFF\n",
    "\n",
    "\n",
    "\n",
    "# Load CSS sheet for style information\n",
    "external_stylesheets = ['https://codepen.io/chriddyp/pen/bWLwgP.css']\n",
    "\n",
    "# Define the Web-App Object and set to variable \"server\"\n",
    "app = dash.Dash(__name__, external_stylesheets=external_stylesheets)\n",
    "server = app.server\n",
    "\n",
    "# Suppres some output\n",
    "app.config.suppress_callback_exceptions = True\n",
    "\n",
    "\n",
    "#################################################\n",
    "################# Layout ########################\n",
    "#################################################\n",
    "\n",
    "app.layout = html.Div([\n",
    "    #h1 = level 1 header, etc...#\n",
    "    html.H1(children='Super Simple Dash App!'),\n",
    "    html.H2(children='This is an example of a dash app with an interactive dashboard.'),\n",
    "    \n",
    "    html.H6(\"Change below to make a new figure:\"),\n",
    "    \n",
    "    html.Div([\n",
    "           \"     Number of points, N=: \",\n",
    "           dcc.Input(id='my-input', value=10, type='number', debounce = True)\n",
    "    ], style={'width':600}),\n",
    "\n",
    "    html.Div([\n",
    "\t\t\"     Size of Noise, s=: \",\n",
    "\t\tdcc.Input(id='my-input2', value=1, type='number', debounce = True)\n",
    "\t]),\n",
    "    \n",
    "    \n",
    "    html.Br(),\n",
    "    \n",
    "    \n",
    "    html.Div([\n",
    "        html.Div([\n",
    "            dcc.Graph(id='figure-output')], \n",
    "            style={'width': '49%', 'display': 'inline-block', 'vertical-align': 'middle'}),\n",
    "\n",
    "        html.Div([dcc.Graph(id='figure-output2')], \n",
    "            style={'width': '49%', 'display': 'inline-block', 'vertical-align': 'middle'})\n",
    "    ]),\n",
    "\n",
    "])\n",
    "\n",
    "#####################\n",
    "# Plot one          #\n",
    "#####################\n",
    "@app.callback(\n",
    "    Output('figure-output2', 'figure'),\n",
    "    Input('my-input', 'value'))    \n",
    "def make_plot(N):\n",
    "        \n",
    "    fig = go.Figure()\n",
    "    fig.add_trace(go.Scatter(x=np.arange(N), y=3*np.random.rand(N),\n",
    "                    mode='lines',\n",
    "                    name='MORE RANDOM DATA'))\n",
    "                    \n",
    "    fig.update_layout(title=\"Model Output\")\n",
    "    \n",
    "    return fig  \n",
    "    \n",
    "\n",
    "\n",
    "\n",
    "\n",
    "#####################\n",
    "# Plot two          #\n",
    "#####################\n",
    "@app.callback(\n",
    "    Output('figure-output', 'figure'),\n",
    "    Input('my-input', 'value'),\n",
    "    Input('my-input2', 'value'))    \n",
    "def make_plot(N,s=1):\n",
    "        \n",
    "    fig = go.Figure()\n",
    "    fig.add_trace(go.Scatter(x=np.arange(N), y=s*np.random.rand(N),\n",
    "                    mode='lines',\n",
    "                    name='Random Data'))\n",
    "                    \n",
    "    fig.update_layout(title=\"Model Output\")\n",
    "    \n",
    "    return fig    \n",
    "\n",
    "\n",
    "\n",
    "\n",
    "    \n",
    "# -------------------------- MAIN ---------------------------- #\n",
    "\n",
    "\n",
    "# This is the code that gets run when we call this file from the terminal\n",
    "# The port number can be changed to fit your particular needs\n",
    "if __name__ == '__main__':\n",
    "    app.run_server(host='0.0.0.0', port=8080, debug=True, use_reloader=False)\n"
   ]
  },
  {
   "cell_type": "code",
   "execution_count": null,
   "id": "45588fcf-4fc6-4ef2-8031-a4e20c73dc5a",
   "metadata": {},
   "outputs": [],
   "source": []
  },
  {
   "cell_type": "code",
   "execution_count": 65,
   "id": "631a384e-96e4-45f4-987f-33419e62d5da",
   "metadata": {},
   "outputs": [
    {
     "data": {
      "text/html": [
       "<div>\n",
       "<style scoped>\n",
       "    .dataframe tbody tr th:only-of-type {\n",
       "        vertical-align: middle;\n",
       "    }\n",
       "\n",
       "    .dataframe tbody tr th {\n",
       "        vertical-align: top;\n",
       "    }\n",
       "\n",
       "    .dataframe thead th {\n",
       "        text-align: right;\n",
       "    }\n",
       "</style>\n",
       "<table border=\"1\" class=\"dataframe\">\n",
       "  <thead>\n",
       "    <tr style=\"text-align: right;\">\n",
       "      <th></th>\n",
       "      <th>State or location</th>\n",
       "      <th>Abbrev</th>\n",
       "      <th>Rank</th>\n",
       "      <th>Total</th>\n",
       "      <th>Male</th>\n",
       "      <th>Female</th>\n",
       "      <th>Tot Sci Eng</th>\n",
       "      <th>Male Sci Eng</th>\n",
       "      <th>Female Sci Eng</th>\n",
       "      <th>Tot Non Sci</th>\n",
       "      <th>Male Non Sci</th>\n",
       "      <th>Female Non Sci</th>\n",
       "      <th>TotRank</th>\n",
       "    </tr>\n",
       "  </thead>\n",
       "  <tbody>\n",
       "    <tr>\n",
       "      <th>0</th>\n",
       "      <td>California</td>\n",
       "      <td>CA</td>\n",
       "      <td>1</td>\n",
       "      <td>5892.0</td>\n",
       "      <td>3267.0</td>\n",
       "      <td>2623.0</td>\n",
       "      <td>4959.0</td>\n",
       "      <td>2848.0</td>\n",
       "      <td>2109.0</td>\n",
       "      <td>933.0</td>\n",
       "      <td>419.0</td>\n",
       "      <td>514.0</td>\n",
       "      <td>52.0</td>\n",
       "    </tr>\n",
       "    <tr>\n",
       "      <th>1</th>\n",
       "      <td>Texas</td>\n",
       "      <td>TX</td>\n",
       "      <td>2</td>\n",
       "      <td>4118.0</td>\n",
       "      <td>2213.0</td>\n",
       "      <td>1904.0</td>\n",
       "      <td>3155.0</td>\n",
       "      <td>1803.0</td>\n",
       "      <td>1352.0</td>\n",
       "      <td>963.0</td>\n",
       "      <td>410.0</td>\n",
       "      <td>552.0</td>\n",
       "      <td>51.0</td>\n",
       "    </tr>\n",
       "    <tr>\n",
       "      <th>2</th>\n",
       "      <td>New York</td>\n",
       "      <td>NY</td>\n",
       "      <td>3</td>\n",
       "      <td>3871.0</td>\n",
       "      <td>2030.0</td>\n",
       "      <td>1840.0</td>\n",
       "      <td>2975.0</td>\n",
       "      <td>1653.0</td>\n",
       "      <td>1321.0</td>\n",
       "      <td>896.0</td>\n",
       "      <td>377.0</td>\n",
       "      <td>519.0</td>\n",
       "      <td>50.0</td>\n",
       "    </tr>\n",
       "    <tr>\n",
       "      <th>3</th>\n",
       "      <td>Massachusetts</td>\n",
       "      <td>MA</td>\n",
       "      <td>4</td>\n",
       "      <td>2652.0</td>\n",
       "      <td>1501.0</td>\n",
       "      <td>1151.0</td>\n",
       "      <td>2180.0</td>\n",
       "      <td>1273.0</td>\n",
       "      <td>907.0</td>\n",
       "      <td>472.0</td>\n",
       "      <td>228.0</td>\n",
       "      <td>244.0</td>\n",
       "      <td>49.0</td>\n",
       "    </tr>\n",
       "    <tr>\n",
       "      <th>4</th>\n",
       "      <td>Pennsylvania</td>\n",
       "      <td>PA</td>\n",
       "      <td>5</td>\n",
       "      <td>2434.0</td>\n",
       "      <td>1288.0</td>\n",
       "      <td>1145.0</td>\n",
       "      <td>1897.0</td>\n",
       "      <td>1062.0</td>\n",
       "      <td>834.0</td>\n",
       "      <td>537.0</td>\n",
       "      <td>226.0</td>\n",
       "      <td>311.0</td>\n",
       "      <td>48.0</td>\n",
       "    </tr>\n",
       "    <tr>\n",
       "      <th>5</th>\n",
       "      <td>Florida</td>\n",
       "      <td>FL</td>\n",
       "      <td>6</td>\n",
       "      <td>2339.0</td>\n",
       "      <td>1219.0</td>\n",
       "      <td>1120.0</td>\n",
       "      <td>1784.0</td>\n",
       "      <td>1008.0</td>\n",
       "      <td>776.0</td>\n",
       "      <td>555.0</td>\n",
       "      <td>211.0</td>\n",
       "      <td>344.0</td>\n",
       "      <td>47.0</td>\n",
       "    </tr>\n",
       "    <tr>\n",
       "      <th>6</th>\n",
       "      <td>Illinois</td>\n",
       "      <td>IL</td>\n",
       "      <td>7</td>\n",
       "      <td>2310.0</td>\n",
       "      <td>1304.0</td>\n",
       "      <td>1005.0</td>\n",
       "      <td>1847.0</td>\n",
       "      <td>1056.0</td>\n",
       "      <td>790.0</td>\n",
       "      <td>463.0</td>\n",
       "      <td>248.0</td>\n",
       "      <td>215.0</td>\n",
       "      <td>46.0</td>\n",
       "    </tr>\n",
       "    <tr>\n",
       "      <th>7</th>\n",
       "      <td>Ohio</td>\n",
       "      <td>OH</td>\n",
       "      <td>8</td>\n",
       "      <td>1878.0</td>\n",
       "      <td>963.0</td>\n",
       "      <td>914.0</td>\n",
       "      <td>1428.0</td>\n",
       "      <td>783.0</td>\n",
       "      <td>644.0</td>\n",
       "      <td>450.0</td>\n",
       "      <td>180.0</td>\n",
       "      <td>270.0</td>\n",
       "      <td>45.0</td>\n",
       "    </tr>\n",
       "    <tr>\n",
       "      <th>8</th>\n",
       "      <td>Michigan</td>\n",
       "      <td>MI</td>\n",
       "      <td>9</td>\n",
       "      <td>1790.0</td>\n",
       "      <td>971.0</td>\n",
       "      <td>819.0</td>\n",
       "      <td>1446.0</td>\n",
       "      <td>838.0</td>\n",
       "      <td>608.0</td>\n",
       "      <td>344.0</td>\n",
       "      <td>133.0</td>\n",
       "      <td>211.0</td>\n",
       "      <td>44.0</td>\n",
       "    </tr>\n",
       "    <tr>\n",
       "      <th>9</th>\n",
       "      <td>North Carolina</td>\n",
       "      <td>NC</td>\n",
       "      <td>10</td>\n",
       "      <td>1724.0</td>\n",
       "      <td>917.0</td>\n",
       "      <td>807.0</td>\n",
       "      <td>1407.0</td>\n",
       "      <td>784.0</td>\n",
       "      <td>623.0</td>\n",
       "      <td>317.0</td>\n",
       "      <td>133.0</td>\n",
       "      <td>184.0</td>\n",
       "      <td>43.0</td>\n",
       "    </tr>\n",
       "    <tr>\n",
       "      <th>10</th>\n",
       "      <td>Indiana</td>\n",
       "      <td>IN</td>\n",
       "      <td>11</td>\n",
       "      <td>1556.0</td>\n",
       "      <td>882.0</td>\n",
       "      <td>674.0</td>\n",
       "      <td>1250.0</td>\n",
       "      <td>739.0</td>\n",
       "      <td>511.0</td>\n",
       "      <td>306.0</td>\n",
       "      <td>143.0</td>\n",
       "      <td>163.0</td>\n",
       "      <td>42.0</td>\n",
       "    </tr>\n",
       "    <tr>\n",
       "      <th>11</th>\n",
       "      <td>Virginia</td>\n",
       "      <td>VA</td>\n",
       "      <td>12</td>\n",
       "      <td>1518.0</td>\n",
       "      <td>802.0</td>\n",
       "      <td>716.0</td>\n",
       "      <td>1147.0</td>\n",
       "      <td>660.0</td>\n",
       "      <td>487.0</td>\n",
       "      <td>371.0</td>\n",
       "      <td>142.0</td>\n",
       "      <td>229.0</td>\n",
       "      <td>41.0</td>\n",
       "    </tr>\n",
       "    <tr>\n",
       "      <th>12</th>\n",
       "      <td>Minnesota</td>\n",
       "      <td>MN</td>\n",
       "      <td>13</td>\n",
       "      <td>1499.0</td>\n",
       "      <td>648.0</td>\n",
       "      <td>851.0</td>\n",
       "      <td>1075.0</td>\n",
       "      <td>500.0</td>\n",
       "      <td>575.0</td>\n",
       "      <td>424.0</td>\n",
       "      <td>148.0</td>\n",
       "      <td>276.0</td>\n",
       "      <td>40.0</td>\n",
       "    </tr>\n",
       "    <tr>\n",
       "      <th>13</th>\n",
       "      <td>Georgia</td>\n",
       "      <td>GA</td>\n",
       "      <td>14</td>\n",
       "      <td>1451.0</td>\n",
       "      <td>776.0</td>\n",
       "      <td>675.0</td>\n",
       "      <td>1217.0</td>\n",
       "      <td>686.0</td>\n",
       "      <td>531.0</td>\n",
       "      <td>234.0</td>\n",
       "      <td>90.0</td>\n",
       "      <td>144.0</td>\n",
       "      <td>39.0</td>\n",
       "    </tr>\n",
       "    <tr>\n",
       "      <th>14</th>\n",
       "      <td>Maryland</td>\n",
       "      <td>MD</td>\n",
       "      <td>15</td>\n",
       "      <td>1173.0</td>\n",
       "      <td>586.0</td>\n",
       "      <td>586.0</td>\n",
       "      <td>1004.0</td>\n",
       "      <td>527.0</td>\n",
       "      <td>477.0</td>\n",
       "      <td>169.0</td>\n",
       "      <td>59.0</td>\n",
       "      <td>109.0</td>\n",
       "      <td>38.0</td>\n",
       "    </tr>\n",
       "    <tr>\n",
       "      <th>15</th>\n",
       "      <td>Colorado</td>\n",
       "      <td>CO</td>\n",
       "      <td>16</td>\n",
       "      <td>1024.0</td>\n",
       "      <td>558.0</td>\n",
       "      <td>466.0</td>\n",
       "      <td>828.0</td>\n",
       "      <td>479.0</td>\n",
       "      <td>349.0</td>\n",
       "      <td>196.0</td>\n",
       "      <td>79.0</td>\n",
       "      <td>117.0</td>\n",
       "      <td>37.0</td>\n",
       "    </tr>\n",
       "    <tr>\n",
       "      <th>16</th>\n",
       "      <td>New Jersey</td>\n",
       "      <td>NJ</td>\n",
       "      <td>17</td>\n",
       "      <td>950.0</td>\n",
       "      <td>525.0</td>\n",
       "      <td>425.0</td>\n",
       "      <td>736.0</td>\n",
       "      <td>437.0</td>\n",
       "      <td>299.0</td>\n",
       "      <td>214.0</td>\n",
       "      <td>88.0</td>\n",
       "      <td>126.0</td>\n",
       "      <td>36.0</td>\n",
       "    </tr>\n",
       "    <tr>\n",
       "      <th>17</th>\n",
       "      <td>Wisconsin</td>\n",
       "      <td>WI</td>\n",
       "      <td>18</td>\n",
       "      <td>940.0</td>\n",
       "      <td>521.0</td>\n",
       "      <td>419.0</td>\n",
       "      <td>759.0</td>\n",
       "      <td>449.0</td>\n",
       "      <td>310.0</td>\n",
       "      <td>181.0</td>\n",
       "      <td>72.0</td>\n",
       "      <td>109.0</td>\n",
       "      <td>35.0</td>\n",
       "    </tr>\n",
       "    <tr>\n",
       "      <th>18</th>\n",
       "      <td>Arizona</td>\n",
       "      <td>AZ</td>\n",
       "      <td>19</td>\n",
       "      <td>935.0</td>\n",
       "      <td>535.0</td>\n",
       "      <td>399.0</td>\n",
       "      <td>734.0</td>\n",
       "      <td>444.0</td>\n",
       "      <td>289.0</td>\n",
       "      <td>201.0</td>\n",
       "      <td>91.0</td>\n",
       "      <td>110.0</td>\n",
       "      <td>34.0</td>\n",
       "    </tr>\n",
       "    <tr>\n",
       "      <th>19</th>\n",
       "      <td>Washington</td>\n",
       "      <td>WA</td>\n",
       "      <td>20</td>\n",
       "      <td>910.0</td>\n",
       "      <td>498.0</td>\n",
       "      <td>412.0</td>\n",
       "      <td>780.0</td>\n",
       "      <td>443.0</td>\n",
       "      <td>337.0</td>\n",
       "      <td>130.0</td>\n",
       "      <td>55.0</td>\n",
       "      <td>75.0</td>\n",
       "      <td>33.0</td>\n",
       "    </tr>\n",
       "    <tr>\n",
       "      <th>20</th>\n",
       "      <td>Missouri</td>\n",
       "      <td>MO</td>\n",
       "      <td>21</td>\n",
       "      <td>905.0</td>\n",
       "      <td>538.0</td>\n",
       "      <td>367.0</td>\n",
       "      <td>697.0</td>\n",
       "      <td>413.0</td>\n",
       "      <td>284.0</td>\n",
       "      <td>208.0</td>\n",
       "      <td>125.0</td>\n",
       "      <td>83.0</td>\n",
       "      <td>32.0</td>\n",
       "    </tr>\n",
       "    <tr>\n",
       "      <th>21</th>\n",
       "      <td>Tennessee</td>\n",
       "      <td>TN</td>\n",
       "      <td>22</td>\n",
       "      <td>880.0</td>\n",
       "      <td>454.0</td>\n",
       "      <td>426.0</td>\n",
       "      <td>669.0</td>\n",
       "      <td>370.0</td>\n",
       "      <td>299.0</td>\n",
       "      <td>211.0</td>\n",
       "      <td>84.0</td>\n",
       "      <td>127.0</td>\n",
       "      <td>31.0</td>\n",
       "    </tr>\n",
       "    <tr>\n",
       "      <th>22</th>\n",
       "      <td>Connecticut</td>\n",
       "      <td>CT</td>\n",
       "      <td>23</td>\n",
       "      <td>731.0</td>\n",
       "      <td>413.0</td>\n",
       "      <td>317.0</td>\n",
       "      <td>603.0</td>\n",
       "      <td>340.0</td>\n",
       "      <td>262.0</td>\n",
       "      <td>128.0</td>\n",
       "      <td>73.0</td>\n",
       "      <td>55.0</td>\n",
       "      <td>30.0</td>\n",
       "    </tr>\n",
       "    <tr>\n",
       "      <th>23</th>\n",
       "      <td>Alabama</td>\n",
       "      <td>AL</td>\n",
       "      <td>24</td>\n",
       "      <td>640.0</td>\n",
       "      <td>325.0</td>\n",
       "      <td>315.0</td>\n",
       "      <td>467.0</td>\n",
       "      <td>259.0</td>\n",
       "      <td>208.0</td>\n",
       "      <td>173.0</td>\n",
       "      <td>66.0</td>\n",
       "      <td>107.0</td>\n",
       "      <td>29.0</td>\n",
       "    </tr>\n",
       "    <tr>\n",
       "      <th>24</th>\n",
       "      <td>Iowa</td>\n",
       "      <td>IA</td>\n",
       "      <td>25</td>\n",
       "      <td>618.0</td>\n",
       "      <td>362.0</td>\n",
       "      <td>256.0</td>\n",
       "      <td>517.0</td>\n",
       "      <td>318.0</td>\n",
       "      <td>199.0</td>\n",
       "      <td>101.0</td>\n",
       "      <td>44.0</td>\n",
       "      <td>57.0</td>\n",
       "      <td>28.0</td>\n",
       "    </tr>\n",
       "    <tr>\n",
       "      <th>25</th>\n",
       "      <td>Louisiana</td>\n",
       "      <td>LA</td>\n",
       "      <td>26</td>\n",
       "      <td>586.0</td>\n",
       "      <td>313.0</td>\n",
       "      <td>273.0</td>\n",
       "      <td>436.0</td>\n",
       "      <td>248.0</td>\n",
       "      <td>188.0</td>\n",
       "      <td>150.0</td>\n",
       "      <td>65.0</td>\n",
       "      <td>85.0</td>\n",
       "      <td>27.0</td>\n",
       "    </tr>\n",
       "    <tr>\n",
       "      <th>26</th>\n",
       "      <td>Oregon</td>\n",
       "      <td>OR</td>\n",
       "      <td>27</td>\n",
       "      <td>552.0</td>\n",
       "      <td>280.0</td>\n",
       "      <td>271.0</td>\n",
       "      <td>453.0</td>\n",
       "      <td>233.0</td>\n",
       "      <td>219.0</td>\n",
       "      <td>99.0</td>\n",
       "      <td>47.0</td>\n",
       "      <td>52.0</td>\n",
       "      <td>26.0</td>\n",
       "    </tr>\n",
       "    <tr>\n",
       "      <th>27</th>\n",
       "      <td>District of Columbia</td>\n",
       "      <td>DC</td>\n",
       "      <td>28</td>\n",
       "      <td>535.0</td>\n",
       "      <td>252.0</td>\n",
       "      <td>283.0</td>\n",
       "      <td>376.0</td>\n",
       "      <td>173.0</td>\n",
       "      <td>203.0</td>\n",
       "      <td>159.0</td>\n",
       "      <td>79.0</td>\n",
       "      <td>80.0</td>\n",
       "      <td>25.0</td>\n",
       "    </tr>\n",
       "    <tr>\n",
       "      <th>28</th>\n",
       "      <td>Utah</td>\n",
       "      <td>UT</td>\n",
       "      <td>29</td>\n",
       "      <td>502.0</td>\n",
       "      <td>295.0</td>\n",
       "      <td>207.0</td>\n",
       "      <td>402.0</td>\n",
       "      <td>251.0</td>\n",
       "      <td>151.0</td>\n",
       "      <td>100.0</td>\n",
       "      <td>44.0</td>\n",
       "      <td>56.0</td>\n",
       "      <td>24.0</td>\n",
       "    </tr>\n",
       "    <tr>\n",
       "      <th>29</th>\n",
       "      <td>Kentucky</td>\n",
       "      <td>KY</td>\n",
       "      <td>30</td>\n",
       "      <td>484.0</td>\n",
       "      <td>265.0</td>\n",
       "      <td>219.0</td>\n",
       "      <td>336.0</td>\n",
       "      <td>193.0</td>\n",
       "      <td>143.0</td>\n",
       "      <td>148.0</td>\n",
       "      <td>72.0</td>\n",
       "      <td>76.0</td>\n",
       "      <td>22.5</td>\n",
       "    </tr>\n",
       "    <tr>\n",
       "      <th>30</th>\n",
       "      <td>Oklahoma</td>\n",
       "      <td>OK</td>\n",
       "      <td>30</td>\n",
       "      <td>484.0</td>\n",
       "      <td>262.0</td>\n",
       "      <td>222.0</td>\n",
       "      <td>346.0</td>\n",
       "      <td>204.0</td>\n",
       "      <td>142.0</td>\n",
       "      <td>138.0</td>\n",
       "      <td>58.0</td>\n",
       "      <td>80.0</td>\n",
       "      <td>22.5</td>\n",
       "    </tr>\n",
       "    <tr>\n",
       "      <th>31</th>\n",
       "      <td>South Carolina</td>\n",
       "      <td>SC</td>\n",
       "      <td>32</td>\n",
       "      <td>476.0</td>\n",
       "      <td>256.0</td>\n",
       "      <td>220.0</td>\n",
       "      <td>383.0</td>\n",
       "      <td>222.0</td>\n",
       "      <td>161.0</td>\n",
       "      <td>93.0</td>\n",
       "      <td>34.0</td>\n",
       "      <td>59.0</td>\n",
       "      <td>21.0</td>\n",
       "    </tr>\n",
       "    <tr>\n",
       "      <th>32</th>\n",
       "      <td>Kansas</td>\n",
       "      <td>KS</td>\n",
       "      <td>33</td>\n",
       "      <td>466.0</td>\n",
       "      <td>258.0</td>\n",
       "      <td>208.0</td>\n",
       "      <td>361.0</td>\n",
       "      <td>206.0</td>\n",
       "      <td>155.0</td>\n",
       "      <td>105.0</td>\n",
       "      <td>52.0</td>\n",
       "      <td>53.0</td>\n",
       "      <td>20.0</td>\n",
       "    </tr>\n",
       "    <tr>\n",
       "      <th>33</th>\n",
       "      <td>Mississippi</td>\n",
       "      <td>MS</td>\n",
       "      <td>34</td>\n",
       "      <td>409.0</td>\n",
       "      <td>194.0</td>\n",
       "      <td>215.0</td>\n",
       "      <td>276.0</td>\n",
       "      <td>140.0</td>\n",
       "      <td>136.0</td>\n",
       "      <td>133.0</td>\n",
       "      <td>54.0</td>\n",
       "      <td>79.0</td>\n",
       "      <td>19.0</td>\n",
       "    </tr>\n",
       "    <tr>\n",
       "      <th>34</th>\n",
       "      <td>Nebraska</td>\n",
       "      <td>NE</td>\n",
       "      <td>35</td>\n",
       "      <td>329.0</td>\n",
       "      <td>165.0</td>\n",
       "      <td>164.0</td>\n",
       "      <td>264.0</td>\n",
       "      <td>141.0</td>\n",
       "      <td>123.0</td>\n",
       "      <td>65.0</td>\n",
       "      <td>24.0</td>\n",
       "      <td>41.0</td>\n",
       "      <td>18.0</td>\n",
       "    </tr>\n",
       "    <tr>\n",
       "      <th>35</th>\n",
       "      <td>New Mexico</td>\n",
       "      <td>NM</td>\n",
       "      <td>36</td>\n",
       "      <td>280.0</td>\n",
       "      <td>151.0</td>\n",
       "      <td>129.0</td>\n",
       "      <td>214.0</td>\n",
       "      <td>127.0</td>\n",
       "      <td>87.0</td>\n",
       "      <td>66.0</td>\n",
       "      <td>24.0</td>\n",
       "      <td>42.0</td>\n",
       "      <td>17.0</td>\n",
       "    </tr>\n",
       "    <tr>\n",
       "      <th>36</th>\n",
       "      <td>Arkansas</td>\n",
       "      <td>AR</td>\n",
       "      <td>37</td>\n",
       "      <td>275.0</td>\n",
       "      <td>146.0</td>\n",
       "      <td>129.0</td>\n",
       "      <td>198.0</td>\n",
       "      <td>117.0</td>\n",
       "      <td>81.0</td>\n",
       "      <td>77.0</td>\n",
       "      <td>29.0</td>\n",
       "      <td>48.0</td>\n",
       "      <td>16.0</td>\n",
       "    </tr>\n",
       "    <tr>\n",
       "      <th>37</th>\n",
       "      <td>Rhode Island</td>\n",
       "      <td>RI</td>\n",
       "      <td>38</td>\n",
       "      <td>260.0</td>\n",
       "      <td>142.0</td>\n",
       "      <td>118.0</td>\n",
       "      <td>210.0</td>\n",
       "      <td>116.0</td>\n",
       "      <td>94.0</td>\n",
       "      <td>50.0</td>\n",
       "      <td>26.0</td>\n",
       "      <td>24.0</td>\n",
       "      <td>15.0</td>\n",
       "    </tr>\n",
       "    <tr>\n",
       "      <th>38</th>\n",
       "      <td>Nevada</td>\n",
       "      <td>NV</td>\n",
       "      <td>39</td>\n",
       "      <td>240.0</td>\n",
       "      <td>119.0</td>\n",
       "      <td>120.0</td>\n",
       "      <td>187.0</td>\n",
       "      <td>99.0</td>\n",
       "      <td>88.0</td>\n",
       "      <td>53.0</td>\n",
       "      <td>20.0</td>\n",
       "      <td>32.0</td>\n",
       "      <td>14.0</td>\n",
       "    </tr>\n",
       "    <tr>\n",
       "      <th>39</th>\n",
       "      <td>West Virginia</td>\n",
       "      <td>WV</td>\n",
       "      <td>40</td>\n",
       "      <td>215.0</td>\n",
       "      <td>122.0</td>\n",
       "      <td>93.0</td>\n",
       "      <td>164.0</td>\n",
       "      <td>97.0</td>\n",
       "      <td>67.0</td>\n",
       "      <td>51.0</td>\n",
       "      <td>25.0</td>\n",
       "      <td>26.0</td>\n",
       "      <td>13.0</td>\n",
       "    </tr>\n",
       "    <tr>\n",
       "      <th>40</th>\n",
       "      <td>Delaware</td>\n",
       "      <td>DE</td>\n",
       "      <td>41</td>\n",
       "      <td>212.0</td>\n",
       "      <td>116.0</td>\n",
       "      <td>96.0</td>\n",
       "      <td>185.0</td>\n",
       "      <td>106.0</td>\n",
       "      <td>79.0</td>\n",
       "      <td>27.0</td>\n",
       "      <td>10.0</td>\n",
       "      <td>17.0</td>\n",
       "      <td>12.0</td>\n",
       "    </tr>\n",
       "    <tr>\n",
       "      <th>41</th>\n",
       "      <td>North Dakota</td>\n",
       "      <td>ND</td>\n",
       "      <td>42</td>\n",
       "      <td>175.0</td>\n",
       "      <td>90.0</td>\n",
       "      <td>85.0</td>\n",
       "      <td>123.0</td>\n",
       "      <td>69.0</td>\n",
       "      <td>54.0</td>\n",
       "      <td>52.0</td>\n",
       "      <td>21.0</td>\n",
       "      <td>31.0</td>\n",
       "      <td>11.0</td>\n",
       "    </tr>\n",
       "    <tr>\n",
       "      <th>42</th>\n",
       "      <td>New Hampshire</td>\n",
       "      <td>NH</td>\n",
       "      <td>43</td>\n",
       "      <td>159.0</td>\n",
       "      <td>90.0</td>\n",
       "      <td>69.0</td>\n",
       "      <td>144.0</td>\n",
       "      <td>86.0</td>\n",
       "      <td>58.0</td>\n",
       "      <td>15.0</td>\n",
       "      <td>4.0</td>\n",
       "      <td>11.0</td>\n",
       "      <td>10.0</td>\n",
       "    </tr>\n",
       "    <tr>\n",
       "      <th>43</th>\n",
       "      <td>Idaho</td>\n",
       "      <td>ID</td>\n",
       "      <td>44</td>\n",
       "      <td>136.0</td>\n",
       "      <td>80.0</td>\n",
       "      <td>56.0</td>\n",
       "      <td>115.0</td>\n",
       "      <td>72.0</td>\n",
       "      <td>43.0</td>\n",
       "      <td>21.0</td>\n",
       "      <td>8.0</td>\n",
       "      <td>13.0</td>\n",
       "      <td>9.0</td>\n",
       "    </tr>\n",
       "    <tr>\n",
       "      <th>44</th>\n",
       "      <td>Hawaii</td>\n",
       "      <td>HI</td>\n",
       "      <td>45</td>\n",
       "      <td>133.0</td>\n",
       "      <td>55.0</td>\n",
       "      <td>78.0</td>\n",
       "      <td>95.0</td>\n",
       "      <td>39.0</td>\n",
       "      <td>56.0</td>\n",
       "      <td>38.0</td>\n",
       "      <td>16.0</td>\n",
       "      <td>22.0</td>\n",
       "      <td>8.0</td>\n",
       "    </tr>\n",
       "    <tr>\n",
       "      <th>45</th>\n",
       "      <td>South Dakota</td>\n",
       "      <td>SD</td>\n",
       "      <td>46</td>\n",
       "      <td>122.0</td>\n",
       "      <td>77.0</td>\n",
       "      <td>45.0</td>\n",
       "      <td>108.0</td>\n",
       "      <td>66.0</td>\n",
       "      <td>42.0</td>\n",
       "      <td>14.0</td>\n",
       "      <td>11.0</td>\n",
       "      <td>3.0</td>\n",
       "      <td>7.0</td>\n",
       "    </tr>\n",
       "    <tr>\n",
       "      <th>46</th>\n",
       "      <td>Montana</td>\n",
       "      <td>MT</td>\n",
       "      <td>47</td>\n",
       "      <td>113.0</td>\n",
       "      <td>59.0</td>\n",
       "      <td>54.0</td>\n",
       "      <td>92.0</td>\n",
       "      <td>49.0</td>\n",
       "      <td>43.0</td>\n",
       "      <td>21.0</td>\n",
       "      <td>10.0</td>\n",
       "      <td>11.0</td>\n",
       "      <td>6.0</td>\n",
       "    </tr>\n",
       "    <tr>\n",
       "      <th>47</th>\n",
       "      <td>Puerto Rico</td>\n",
       "      <td>PR</td>\n",
       "      <td>48</td>\n",
       "      <td>109.0</td>\n",
       "      <td>47.0</td>\n",
       "      <td>62.0</td>\n",
       "      <td>94.0</td>\n",
       "      <td>40.0</td>\n",
       "      <td>54.0</td>\n",
       "      <td>15.0</td>\n",
       "      <td>7.0</td>\n",
       "      <td>8.0</td>\n",
       "      <td>5.0</td>\n",
       "    </tr>\n",
       "    <tr>\n",
       "      <th>48</th>\n",
       "      <td>Wyoming</td>\n",
       "      <td>WY</td>\n",
       "      <td>49</td>\n",
       "      <td>84.0</td>\n",
       "      <td>65.0</td>\n",
       "      <td>19.0</td>\n",
       "      <td>76.0</td>\n",
       "      <td>60.0</td>\n",
       "      <td>16.0</td>\n",
       "      <td>8.0</td>\n",
       "      <td>5.0</td>\n",
       "      <td>3.0</td>\n",
       "      <td>4.0</td>\n",
       "    </tr>\n",
       "    <tr>\n",
       "      <th>49</th>\n",
       "      <td>Maine</td>\n",
       "      <td>ME</td>\n",
       "      <td>50</td>\n",
       "      <td>70.0</td>\n",
       "      <td>31.0</td>\n",
       "      <td>39.0</td>\n",
       "      <td>58.0</td>\n",
       "      <td>28.0</td>\n",
       "      <td>30.0</td>\n",
       "      <td>12.0</td>\n",
       "      <td>3.0</td>\n",
       "      <td>9.0</td>\n",
       "      <td>3.0</td>\n",
       "    </tr>\n",
       "    <tr>\n",
       "      <th>50</th>\n",
       "      <td>Vermont</td>\n",
       "      <td>VT</td>\n",
       "      <td>51</td>\n",
       "      <td>64.0</td>\n",
       "      <td>35.0</td>\n",
       "      <td>29.0</td>\n",
       "      <td>60.0</td>\n",
       "      <td>34.0</td>\n",
       "      <td>26.0</td>\n",
       "      <td>4.0</td>\n",
       "      <td>1.0</td>\n",
       "      <td>3.0</td>\n",
       "      <td>2.0</td>\n",
       "    </tr>\n",
       "    <tr>\n",
       "      <th>51</th>\n",
       "      <td>Alaska</td>\n",
       "      <td>AK</td>\n",
       "      <td>52</td>\n",
       "      <td>42.0</td>\n",
       "      <td>21.0</td>\n",
       "      <td>21.0</td>\n",
       "      <td>39.0</td>\n",
       "      <td>20.0</td>\n",
       "      <td>19.0</td>\n",
       "      <td>3.0</td>\n",
       "      <td>1.0</td>\n",
       "      <td>2.0</td>\n",
       "      <td>1.0</td>\n",
       "    </tr>\n",
       "  </tbody>\n",
       "</table>\n",
       "</div>"
      ],
      "text/plain": [
       "       State or location Abbrev  Rank   Total    Male  Female  Tot Sci Eng  \\\n",
       "0             California     CA     1  5892.0  3267.0  2623.0       4959.0   \n",
       "1                  Texas     TX     2  4118.0  2213.0  1904.0       3155.0   \n",
       "2               New York     NY     3  3871.0  2030.0  1840.0       2975.0   \n",
       "3          Massachusetts     MA     4  2652.0  1501.0  1151.0       2180.0   \n",
       "4           Pennsylvania     PA     5  2434.0  1288.0  1145.0       1897.0   \n",
       "5                Florida     FL     6  2339.0  1219.0  1120.0       1784.0   \n",
       "6               Illinois     IL     7  2310.0  1304.0  1005.0       1847.0   \n",
       "7                   Ohio     OH     8  1878.0   963.0   914.0       1428.0   \n",
       "8               Michigan     MI     9  1790.0   971.0   819.0       1446.0   \n",
       "9         North Carolina     NC    10  1724.0   917.0   807.0       1407.0   \n",
       "10               Indiana     IN    11  1556.0   882.0   674.0       1250.0   \n",
       "11              Virginia     VA    12  1518.0   802.0   716.0       1147.0   \n",
       "12             Minnesota     MN    13  1499.0   648.0   851.0       1075.0   \n",
       "13               Georgia     GA    14  1451.0   776.0   675.0       1217.0   \n",
       "14              Maryland     MD    15  1173.0   586.0   586.0       1004.0   \n",
       "15              Colorado     CO    16  1024.0   558.0   466.0        828.0   \n",
       "16            New Jersey     NJ    17   950.0   525.0   425.0        736.0   \n",
       "17             Wisconsin     WI    18   940.0   521.0   419.0        759.0   \n",
       "18               Arizona     AZ    19   935.0   535.0   399.0        734.0   \n",
       "19            Washington     WA    20   910.0   498.0   412.0        780.0   \n",
       "20              Missouri     MO    21   905.0   538.0   367.0        697.0   \n",
       "21             Tennessee     TN    22   880.0   454.0   426.0        669.0   \n",
       "22           Connecticut     CT    23   731.0   413.0   317.0        603.0   \n",
       "23               Alabama     AL    24   640.0   325.0   315.0        467.0   \n",
       "24                  Iowa     IA    25   618.0   362.0   256.0        517.0   \n",
       "25             Louisiana     LA    26   586.0   313.0   273.0        436.0   \n",
       "26                Oregon     OR    27   552.0   280.0   271.0        453.0   \n",
       "27  District of Columbia     DC    28   535.0   252.0   283.0        376.0   \n",
       "28                  Utah     UT    29   502.0   295.0   207.0        402.0   \n",
       "29              Kentucky     KY    30   484.0   265.0   219.0        336.0   \n",
       "30              Oklahoma     OK    30   484.0   262.0   222.0        346.0   \n",
       "31        South Carolina     SC    32   476.0   256.0   220.0        383.0   \n",
       "32                Kansas     KS    33   466.0   258.0   208.0        361.0   \n",
       "33           Mississippi     MS    34   409.0   194.0   215.0        276.0   \n",
       "34              Nebraska     NE    35   329.0   165.0   164.0        264.0   \n",
       "35            New Mexico     NM    36   280.0   151.0   129.0        214.0   \n",
       "36              Arkansas     AR    37   275.0   146.0   129.0        198.0   \n",
       "37          Rhode Island     RI    38   260.0   142.0   118.0        210.0   \n",
       "38                Nevada     NV    39   240.0   119.0   120.0        187.0   \n",
       "39         West Virginia     WV    40   215.0   122.0    93.0        164.0   \n",
       "40              Delaware     DE    41   212.0   116.0    96.0        185.0   \n",
       "41          North Dakota     ND    42   175.0    90.0    85.0        123.0   \n",
       "42         New Hampshire     NH    43   159.0    90.0    69.0        144.0   \n",
       "43                 Idaho     ID    44   136.0    80.0    56.0        115.0   \n",
       "44                Hawaii     HI    45   133.0    55.0    78.0         95.0   \n",
       "45          South Dakota     SD    46   122.0    77.0    45.0        108.0   \n",
       "46               Montana     MT    47   113.0    59.0    54.0         92.0   \n",
       "47           Puerto Rico     PR    48   109.0    47.0    62.0         94.0   \n",
       "48               Wyoming     WY    49    84.0    65.0    19.0         76.0   \n",
       "49                 Maine     ME    50    70.0    31.0    39.0         58.0   \n",
       "50               Vermont     VT    51    64.0    35.0    29.0         60.0   \n",
       "51                Alaska     AK    52    42.0    21.0    21.0         39.0   \n",
       "\n",
       "    Male Sci Eng  Female Sci Eng  Tot Non Sci  Male Non Sci  Female Non Sci  \\\n",
       "0         2848.0          2109.0        933.0         419.0           514.0   \n",
       "1         1803.0          1352.0        963.0         410.0           552.0   \n",
       "2         1653.0          1321.0        896.0         377.0           519.0   \n",
       "3         1273.0           907.0        472.0         228.0           244.0   \n",
       "4         1062.0           834.0        537.0         226.0           311.0   \n",
       "5         1008.0           776.0        555.0         211.0           344.0   \n",
       "6         1056.0           790.0        463.0         248.0           215.0   \n",
       "7          783.0           644.0        450.0         180.0           270.0   \n",
       "8          838.0           608.0        344.0         133.0           211.0   \n",
       "9          784.0           623.0        317.0         133.0           184.0   \n",
       "10         739.0           511.0        306.0         143.0           163.0   \n",
       "11         660.0           487.0        371.0         142.0           229.0   \n",
       "12         500.0           575.0        424.0         148.0           276.0   \n",
       "13         686.0           531.0        234.0          90.0           144.0   \n",
       "14         527.0           477.0        169.0          59.0           109.0   \n",
       "15         479.0           349.0        196.0          79.0           117.0   \n",
       "16         437.0           299.0        214.0          88.0           126.0   \n",
       "17         449.0           310.0        181.0          72.0           109.0   \n",
       "18         444.0           289.0        201.0          91.0           110.0   \n",
       "19         443.0           337.0        130.0          55.0            75.0   \n",
       "20         413.0           284.0        208.0         125.0            83.0   \n",
       "21         370.0           299.0        211.0          84.0           127.0   \n",
       "22         340.0           262.0        128.0          73.0            55.0   \n",
       "23         259.0           208.0        173.0          66.0           107.0   \n",
       "24         318.0           199.0        101.0          44.0            57.0   \n",
       "25         248.0           188.0        150.0          65.0            85.0   \n",
       "26         233.0           219.0         99.0          47.0            52.0   \n",
       "27         173.0           203.0        159.0          79.0            80.0   \n",
       "28         251.0           151.0        100.0          44.0            56.0   \n",
       "29         193.0           143.0        148.0          72.0            76.0   \n",
       "30         204.0           142.0        138.0          58.0            80.0   \n",
       "31         222.0           161.0         93.0          34.0            59.0   \n",
       "32         206.0           155.0        105.0          52.0            53.0   \n",
       "33         140.0           136.0        133.0          54.0            79.0   \n",
       "34         141.0           123.0         65.0          24.0            41.0   \n",
       "35         127.0            87.0         66.0          24.0            42.0   \n",
       "36         117.0            81.0         77.0          29.0            48.0   \n",
       "37         116.0            94.0         50.0          26.0            24.0   \n",
       "38          99.0            88.0         53.0          20.0            32.0   \n",
       "39          97.0            67.0         51.0          25.0            26.0   \n",
       "40         106.0            79.0         27.0          10.0            17.0   \n",
       "41          69.0            54.0         52.0          21.0            31.0   \n",
       "42          86.0            58.0         15.0           4.0            11.0   \n",
       "43          72.0            43.0         21.0           8.0            13.0   \n",
       "44          39.0            56.0         38.0          16.0            22.0   \n",
       "45          66.0            42.0         14.0          11.0             3.0   \n",
       "46          49.0            43.0         21.0          10.0            11.0   \n",
       "47          40.0            54.0         15.0           7.0             8.0   \n",
       "48          60.0            16.0          8.0           5.0             3.0   \n",
       "49          28.0            30.0         12.0           3.0             9.0   \n",
       "50          34.0            26.0          4.0           1.0             3.0   \n",
       "51          20.0            19.0          3.0           1.0             2.0   \n",
       "\n",
       "    TotRank  \n",
       "0      52.0  \n",
       "1      51.0  \n",
       "2      50.0  \n",
       "3      49.0  \n",
       "4      48.0  \n",
       "5      47.0  \n",
       "6      46.0  \n",
       "7      45.0  \n",
       "8      44.0  \n",
       "9      43.0  \n",
       "10     42.0  \n",
       "11     41.0  \n",
       "12     40.0  \n",
       "13     39.0  \n",
       "14     38.0  \n",
       "15     37.0  \n",
       "16     36.0  \n",
       "17     35.0  \n",
       "18     34.0  \n",
       "19     33.0  \n",
       "20     32.0  \n",
       "21     31.0  \n",
       "22     30.0  \n",
       "23     29.0  \n",
       "24     28.0  \n",
       "25     27.0  \n",
       "26     26.0  \n",
       "27     25.0  \n",
       "28     24.0  \n",
       "29     22.5  \n",
       "30     22.5  \n",
       "31     21.0  \n",
       "32     20.0  \n",
       "33     19.0  \n",
       "34     18.0  \n",
       "35     17.0  \n",
       "36     16.0  \n",
       "37     15.0  \n",
       "38     14.0  \n",
       "39     13.0  \n",
       "40     12.0  \n",
       "41     11.0  \n",
       "42     10.0  \n",
       "43      9.0  \n",
       "44      8.0  \n",
       "45      7.0  \n",
       "46      6.0  \n",
       "47      5.0  \n",
       "48      4.0  \n",
       "49      3.0  \n",
       "50      2.0  \n",
       "51      1.0  "
      ]
     },
     "execution_count": 65,
     "metadata": {},
     "output_type": "execute_result"
    }
   ],
   "source": [
    "df = pd.read_csv(\"CSV/nsf23300-tab007-006.csv\")\n",
    "df['TotRank'] = df['Total'].rank()\n",
    "\n",
    "df"
   ]
  },
  {
   "cell_type": "code",
   "execution_count": 67,
   "id": "854f1e10-53e5-40d8-b136-823a1312b3ec",
   "metadata": {},
   "outputs": [
    {
     "data": {
      "application/vnd.plotly.v1+json": {
       "config": {
        "plotlyServerURL": "https://plot.ly"
       },
       "data": [
        {
         "coloraxis": "coloraxis",
         "customdata": [
          [
           3267,
           2623
          ],
          [
           2213,
           1904
          ],
          [
           2030,
           1840
          ],
          [
           1501,
           1151
          ],
          [
           1288,
           1145
          ],
          [
           1219,
           1120
          ],
          [
           1304,
           1005
          ],
          [
           963,
           914
          ],
          [
           971,
           819
          ],
          [
           917,
           807
          ],
          [
           882,
           674
          ],
          [
           802,
           716
          ],
          [
           648,
           851
          ],
          [
           776,
           675
          ],
          [
           586,
           586
          ],
          [
           558,
           466
          ],
          [
           525,
           425
          ],
          [
           521,
           419
          ],
          [
           535,
           399
          ],
          [
           498,
           412
          ],
          [
           538,
           367
          ],
          [
           454,
           426
          ],
          [
           413,
           317
          ],
          [
           325,
           315
          ],
          [
           362,
           256
          ],
          [
           313,
           273
          ],
          [
           280,
           271
          ],
          [
           252,
           283
          ],
          [
           295,
           207
          ],
          [
           265,
           219
          ],
          [
           262,
           222
          ],
          [
           256,
           220
          ],
          [
           258,
           208
          ],
          [
           194,
           215
          ],
          [
           165,
           164
          ],
          [
           151,
           129
          ],
          [
           146,
           129
          ],
          [
           142,
           118
          ],
          [
           119,
           120
          ],
          [
           122,
           93
          ],
          [
           116,
           96
          ],
          [
           90,
           85
          ],
          [
           90,
           69
          ],
          [
           80,
           56
          ],
          [
           55,
           78
          ],
          [
           77,
           45
          ],
          [
           59,
           54
          ],
          [
           47,
           62
          ],
          [
           65,
           19
          ],
          [
           31,
           39
          ],
          [
           35,
           29
          ],
          [
           21,
           21
          ]
         ],
         "geo": "geo",
         "hovertemplate": "<b>%{hovertext}</b><br><br>Abbrev=%{location}<br>Male=%{customdata[0]}<br>Female=%{customdata[1]}<br>TotRank=%{z}<extra></extra>",
         "hovertext": [
          "California",
          "Texas",
          "New York",
          "Massachusetts",
          "Pennsylvania",
          "Florida",
          "Illinois",
          "Ohio",
          "Michigan",
          "North Carolina",
          "Indiana",
          "Virginia",
          "Minnesota",
          "Georgia",
          "Maryland",
          "Colorado",
          "New Jersey",
          "Wisconsin",
          "Arizona",
          "Washington",
          "Missouri",
          "Tennessee",
          "Connecticut",
          "Alabama",
          "Iowa",
          "Louisiana",
          "Oregon",
          "District of Columbia",
          "Utah",
          "Kentucky",
          "Oklahoma",
          "South Carolina",
          "Kansas",
          "Mississippi",
          "Nebraska",
          "New Mexico",
          "Arkansas",
          "Rhode Island",
          "Nevada",
          "West Virginia",
          "Delaware",
          "North Dakota",
          "New Hampshire",
          "Idaho",
          "Hawaii",
          "South Dakota",
          "Montana",
          "Puerto Rico",
          "Wyoming",
          "Maine",
          "Vermont",
          "Alaska"
         ],
         "locationmode": "USA-states",
         "locations": [
          "CA",
          "TX",
          "NY",
          "MA",
          "PA",
          "FL",
          "IL",
          "OH",
          "MI",
          "NC",
          "IN",
          "VA",
          "MN",
          "GA",
          "MD",
          "CO",
          "NJ",
          "WI",
          "AZ",
          "WA",
          "MO",
          "TN",
          "CT",
          "AL",
          "IA",
          "LA",
          "OR",
          "DC",
          "UT",
          "KY",
          "OK",
          "SC",
          "KS",
          "MS",
          "NE",
          "NM",
          "AR",
          "RI",
          "NV",
          "WV",
          "DE",
          "ND",
          "NH",
          "ID",
          "HI",
          "SD",
          "MT",
          "PR",
          "WY",
          "ME",
          "VT",
          "AK"
         ],
         "name": "",
         "type": "choropleth",
         "z": [
          52,
          51,
          50,
          49,
          48,
          47,
          46,
          45,
          44,
          43,
          42,
          41,
          40,
          39,
          38,
          37,
          36,
          35,
          34,
          33,
          32,
          31,
          30,
          29,
          28,
          27,
          26,
          25,
          24,
          22.5,
          22.5,
          21,
          20,
          19,
          18,
          17,
          16,
          15,
          14,
          13,
          12,
          11,
          10,
          9,
          8,
          7,
          6,
          5,
          4,
          3,
          2,
          1
         ]
        }
       ],
       "layout": {
        "coloraxis": {
         "cmax": 52,
         "cmin": 1,
         "colorbar": {
          "title": {
           "text": "TotRank"
          }
         },
         "colorscale": [
          [
           0,
           "rgb(121, 130, 52)"
          ],
          [
           0.16666666666666666,
           "rgb(163, 173, 98)"
          ],
          [
           0.3333333333333333,
           "rgb(208, 211, 162)"
          ],
          [
           0.5,
           "rgb(253, 251, 228)"
          ],
          [
           0.6666666666666666,
           "rgb(240, 198, 195)"
          ],
          [
           0.8333333333333334,
           "rgb(223, 145, 163)"
          ],
          [
           1,
           "rgb(212, 103, 128)"
          ]
         ]
        },
        "geo": {
         "center": {},
         "domain": {
          "x": [
           0,
           1
          ],
          "y": [
           0,
           1
          ]
         },
         "scope": "usa"
        },
        "height": 600,
        "legend": {
         "tracegroupgap": 0
        },
        "template": {
         "data": {
          "bar": [
           {
            "error_x": {
             "color": "#2a3f5f"
            },
            "error_y": {
             "color": "#2a3f5f"
            },
            "marker": {
             "line": {
              "color": "#E5ECF6",
              "width": 0.5
             },
             "pattern": {
              "fillmode": "overlay",
              "size": 10,
              "solidity": 0.2
             }
            },
            "type": "bar"
           }
          ],
          "barpolar": [
           {
            "marker": {
             "line": {
              "color": "#E5ECF6",
              "width": 0.5
             },
             "pattern": {
              "fillmode": "overlay",
              "size": 10,
              "solidity": 0.2
             }
            },
            "type": "barpolar"
           }
          ],
          "carpet": [
           {
            "aaxis": {
             "endlinecolor": "#2a3f5f",
             "gridcolor": "white",
             "linecolor": "white",
             "minorgridcolor": "white",
             "startlinecolor": "#2a3f5f"
            },
            "baxis": {
             "endlinecolor": "#2a3f5f",
             "gridcolor": "white",
             "linecolor": "white",
             "minorgridcolor": "white",
             "startlinecolor": "#2a3f5f"
            },
            "type": "carpet"
           }
          ],
          "choropleth": [
           {
            "colorbar": {
             "outlinewidth": 0,
             "ticks": ""
            },
            "type": "choropleth"
           }
          ],
          "contour": [
           {
            "colorbar": {
             "outlinewidth": 0,
             "ticks": ""
            },
            "colorscale": [
             [
              0,
              "#0d0887"
             ],
             [
              0.1111111111111111,
              "#46039f"
             ],
             [
              0.2222222222222222,
              "#7201a8"
             ],
             [
              0.3333333333333333,
              "#9c179e"
             ],
             [
              0.4444444444444444,
              "#bd3786"
             ],
             [
              0.5555555555555556,
              "#d8576b"
             ],
             [
              0.6666666666666666,
              "#ed7953"
             ],
             [
              0.7777777777777778,
              "#fb9f3a"
             ],
             [
              0.8888888888888888,
              "#fdca26"
             ],
             [
              1,
              "#f0f921"
             ]
            ],
            "type": "contour"
           }
          ],
          "contourcarpet": [
           {
            "colorbar": {
             "outlinewidth": 0,
             "ticks": ""
            },
            "type": "contourcarpet"
           }
          ],
          "heatmap": [
           {
            "colorbar": {
             "outlinewidth": 0,
             "ticks": ""
            },
            "colorscale": [
             [
              0,
              "#0d0887"
             ],
             [
              0.1111111111111111,
              "#46039f"
             ],
             [
              0.2222222222222222,
              "#7201a8"
             ],
             [
              0.3333333333333333,
              "#9c179e"
             ],
             [
              0.4444444444444444,
              "#bd3786"
             ],
             [
              0.5555555555555556,
              "#d8576b"
             ],
             [
              0.6666666666666666,
              "#ed7953"
             ],
             [
              0.7777777777777778,
              "#fb9f3a"
             ],
             [
              0.8888888888888888,
              "#fdca26"
             ],
             [
              1,
              "#f0f921"
             ]
            ],
            "type": "heatmap"
           }
          ],
          "heatmapgl": [
           {
            "colorbar": {
             "outlinewidth": 0,
             "ticks": ""
            },
            "colorscale": [
             [
              0,
              "#0d0887"
             ],
             [
              0.1111111111111111,
              "#46039f"
             ],
             [
              0.2222222222222222,
              "#7201a8"
             ],
             [
              0.3333333333333333,
              "#9c179e"
             ],
             [
              0.4444444444444444,
              "#bd3786"
             ],
             [
              0.5555555555555556,
              "#d8576b"
             ],
             [
              0.6666666666666666,
              "#ed7953"
             ],
             [
              0.7777777777777778,
              "#fb9f3a"
             ],
             [
              0.8888888888888888,
              "#fdca26"
             ],
             [
              1,
              "#f0f921"
             ]
            ],
            "type": "heatmapgl"
           }
          ],
          "histogram": [
           {
            "marker": {
             "pattern": {
              "fillmode": "overlay",
              "size": 10,
              "solidity": 0.2
             }
            },
            "type": "histogram"
           }
          ],
          "histogram2d": [
           {
            "colorbar": {
             "outlinewidth": 0,
             "ticks": ""
            },
            "colorscale": [
             [
              0,
              "#0d0887"
             ],
             [
              0.1111111111111111,
              "#46039f"
             ],
             [
              0.2222222222222222,
              "#7201a8"
             ],
             [
              0.3333333333333333,
              "#9c179e"
             ],
             [
              0.4444444444444444,
              "#bd3786"
             ],
             [
              0.5555555555555556,
              "#d8576b"
             ],
             [
              0.6666666666666666,
              "#ed7953"
             ],
             [
              0.7777777777777778,
              "#fb9f3a"
             ],
             [
              0.8888888888888888,
              "#fdca26"
             ],
             [
              1,
              "#f0f921"
             ]
            ],
            "type": "histogram2d"
           }
          ],
          "histogram2dcontour": [
           {
            "colorbar": {
             "outlinewidth": 0,
             "ticks": ""
            },
            "colorscale": [
             [
              0,
              "#0d0887"
             ],
             [
              0.1111111111111111,
              "#46039f"
             ],
             [
              0.2222222222222222,
              "#7201a8"
             ],
             [
              0.3333333333333333,
              "#9c179e"
             ],
             [
              0.4444444444444444,
              "#bd3786"
             ],
             [
              0.5555555555555556,
              "#d8576b"
             ],
             [
              0.6666666666666666,
              "#ed7953"
             ],
             [
              0.7777777777777778,
              "#fb9f3a"
             ],
             [
              0.8888888888888888,
              "#fdca26"
             ],
             [
              1,
              "#f0f921"
             ]
            ],
            "type": "histogram2dcontour"
           }
          ],
          "mesh3d": [
           {
            "colorbar": {
             "outlinewidth": 0,
             "ticks": ""
            },
            "type": "mesh3d"
           }
          ],
          "parcoords": [
           {
            "line": {
             "colorbar": {
              "outlinewidth": 0,
              "ticks": ""
             }
            },
            "type": "parcoords"
           }
          ],
          "pie": [
           {
            "automargin": true,
            "type": "pie"
           }
          ],
          "scatter": [
           {
            "fillpattern": {
             "fillmode": "overlay",
             "size": 10,
             "solidity": 0.2
            },
            "type": "scatter"
           }
          ],
          "scatter3d": [
           {
            "line": {
             "colorbar": {
              "outlinewidth": 0,
              "ticks": ""
             }
            },
            "marker": {
             "colorbar": {
              "outlinewidth": 0,
              "ticks": ""
             }
            },
            "type": "scatter3d"
           }
          ],
          "scattercarpet": [
           {
            "marker": {
             "colorbar": {
              "outlinewidth": 0,
              "ticks": ""
             }
            },
            "type": "scattercarpet"
           }
          ],
          "scattergeo": [
           {
            "marker": {
             "colorbar": {
              "outlinewidth": 0,
              "ticks": ""
             }
            },
            "type": "scattergeo"
           }
          ],
          "scattergl": [
           {
            "marker": {
             "colorbar": {
              "outlinewidth": 0,
              "ticks": ""
             }
            },
            "type": "scattergl"
           }
          ],
          "scattermapbox": [
           {
            "marker": {
             "colorbar": {
              "outlinewidth": 0,
              "ticks": ""
             }
            },
            "type": "scattermapbox"
           }
          ],
          "scatterpolar": [
           {
            "marker": {
             "colorbar": {
              "outlinewidth": 0,
              "ticks": ""
             }
            },
            "type": "scatterpolar"
           }
          ],
          "scatterpolargl": [
           {
            "marker": {
             "colorbar": {
              "outlinewidth": 0,
              "ticks": ""
             }
            },
            "type": "scatterpolargl"
           }
          ],
          "scatterternary": [
           {
            "marker": {
             "colorbar": {
              "outlinewidth": 0,
              "ticks": ""
             }
            },
            "type": "scatterternary"
           }
          ],
          "surface": [
           {
            "colorbar": {
             "outlinewidth": 0,
             "ticks": ""
            },
            "colorscale": [
             [
              0,
              "#0d0887"
             ],
             [
              0.1111111111111111,
              "#46039f"
             ],
             [
              0.2222222222222222,
              "#7201a8"
             ],
             [
              0.3333333333333333,
              "#9c179e"
             ],
             [
              0.4444444444444444,
              "#bd3786"
             ],
             [
              0.5555555555555556,
              "#d8576b"
             ],
             [
              0.6666666666666666,
              "#ed7953"
             ],
             [
              0.7777777777777778,
              "#fb9f3a"
             ],
             [
              0.8888888888888888,
              "#fdca26"
             ],
             [
              1,
              "#f0f921"
             ]
            ],
            "type": "surface"
           }
          ],
          "table": [
           {
            "cells": {
             "fill": {
              "color": "#EBF0F8"
             },
             "line": {
              "color": "white"
             }
            },
            "header": {
             "fill": {
              "color": "#C8D4E3"
             },
             "line": {
              "color": "white"
             }
            },
            "type": "table"
           }
          ]
         },
         "layout": {
          "annotationdefaults": {
           "arrowcolor": "#2a3f5f",
           "arrowhead": 0,
           "arrowwidth": 1
          },
          "autotypenumbers": "strict",
          "coloraxis": {
           "colorbar": {
            "outlinewidth": 0,
            "ticks": ""
           }
          },
          "colorscale": {
           "diverging": [
            [
             0,
             "#8e0152"
            ],
            [
             0.1,
             "#c51b7d"
            ],
            [
             0.2,
             "#de77ae"
            ],
            [
             0.3,
             "#f1b6da"
            ],
            [
             0.4,
             "#fde0ef"
            ],
            [
             0.5,
             "#f7f7f7"
            ],
            [
             0.6,
             "#e6f5d0"
            ],
            [
             0.7,
             "#b8e186"
            ],
            [
             0.8,
             "#7fbc41"
            ],
            [
             0.9,
             "#4d9221"
            ],
            [
             1,
             "#276419"
            ]
           ],
           "sequential": [
            [
             0,
             "#0d0887"
            ],
            [
             0.1111111111111111,
             "#46039f"
            ],
            [
             0.2222222222222222,
             "#7201a8"
            ],
            [
             0.3333333333333333,
             "#9c179e"
            ],
            [
             0.4444444444444444,
             "#bd3786"
            ],
            [
             0.5555555555555556,
             "#d8576b"
            ],
            [
             0.6666666666666666,
             "#ed7953"
            ],
            [
             0.7777777777777778,
             "#fb9f3a"
            ],
            [
             0.8888888888888888,
             "#fdca26"
            ],
            [
             1,
             "#f0f921"
            ]
           ],
           "sequentialminus": [
            [
             0,
             "#0d0887"
            ],
            [
             0.1111111111111111,
             "#46039f"
            ],
            [
             0.2222222222222222,
             "#7201a8"
            ],
            [
             0.3333333333333333,
             "#9c179e"
            ],
            [
             0.4444444444444444,
             "#bd3786"
            ],
            [
             0.5555555555555556,
             "#d8576b"
            ],
            [
             0.6666666666666666,
             "#ed7953"
            ],
            [
             0.7777777777777778,
             "#fb9f3a"
            ],
            [
             0.8888888888888888,
             "#fdca26"
            ],
            [
             1,
             "#f0f921"
            ]
           ]
          },
          "colorway": [
           "#636efa",
           "#EF553B",
           "#00cc96",
           "#ab63fa",
           "#FFA15A",
           "#19d3f3",
           "#FF6692",
           "#B6E880",
           "#FF97FF",
           "#FECB52"
          ],
          "font": {
           "color": "#2a3f5f"
          },
          "geo": {
           "bgcolor": "white",
           "lakecolor": "white",
           "landcolor": "#E5ECF6",
           "showlakes": true,
           "showland": true,
           "subunitcolor": "white"
          },
          "hoverlabel": {
           "align": "left"
          },
          "hovermode": "closest",
          "mapbox": {
           "style": "light"
          },
          "paper_bgcolor": "white",
          "plot_bgcolor": "#E5ECF6",
          "polar": {
           "angularaxis": {
            "gridcolor": "white",
            "linecolor": "white",
            "ticks": ""
           },
           "bgcolor": "#E5ECF6",
           "radialaxis": {
            "gridcolor": "white",
            "linecolor": "white",
            "ticks": ""
           }
          },
          "scene": {
           "xaxis": {
            "backgroundcolor": "#E5ECF6",
            "gridcolor": "white",
            "gridwidth": 2,
            "linecolor": "white",
            "showbackground": true,
            "ticks": "",
            "zerolinecolor": "white"
           },
           "yaxis": {
            "backgroundcolor": "#E5ECF6",
            "gridcolor": "white",
            "gridwidth": 2,
            "linecolor": "white",
            "showbackground": true,
            "ticks": "",
            "zerolinecolor": "white"
           },
           "zaxis": {
            "backgroundcolor": "#E5ECF6",
            "gridcolor": "white",
            "gridwidth": 2,
            "linecolor": "white",
            "showbackground": true,
            "ticks": "",
            "zerolinecolor": "white"
           }
          },
          "shapedefaults": {
           "line": {
            "color": "#2a3f5f"
           }
          },
          "ternary": {
           "aaxis": {
            "gridcolor": "white",
            "linecolor": "white",
            "ticks": ""
           },
           "baxis": {
            "gridcolor": "white",
            "linecolor": "white",
            "ticks": ""
           },
           "bgcolor": "#E5ECF6",
           "caxis": {
            "gridcolor": "white",
            "linecolor": "white",
            "ticks": ""
           }
          },
          "title": {
           "x": 0.05
          },
          "xaxis": {
           "automargin": true,
           "gridcolor": "white",
           "linecolor": "white",
           "ticks": "",
           "title": {
            "standoff": 15
           },
           "zerolinecolor": "white",
           "zerolinewidth": 2
          },
          "yaxis": {
           "automargin": true,
           "gridcolor": "white",
           "linecolor": "white",
           "ticks": "",
           "title": {
            "standoff": 15
           },
           "zerolinecolor": "white",
           "zerolinewidth": 2
          }
         }
        },
        "title": {
         "text": "Grad Students"
        },
        "width": 600
       }
      },
      "image/png": "[encoded data removed]",
      "text/html": [
       "<div>                            <div id=\"877244b0-24a6-428a-8fb3-79bade4a378d\" class=\"plotly-graph-div\" style=\"height:600px; width:600px;\"></div>            <script type=\"text/javascript\">                require([\"plotly\"], function(Plotly) {                    window.PLOTLYENV=window.PLOTLYENV || {};                                    if (document.getElementById(\"877244b0-24a6-428a-8fb3-79bade4a378d\")) {                    Plotly.newPlot(                        \"877244b0-24a6-428a-8fb3-79bade4a378d\",                        [{\"coloraxis\":\"coloraxis\",\"customdata\":[[3267.0,2623.0],[2213.0,1904.0],[2030.0,1840.0],[1501.0,1151.0],[1288.0,1145.0],[1219.0,1120.0],[1304.0,1005.0],[963.0,914.0],[971.0,819.0],[917.0,807.0],[882.0,674.0],[802.0,716.0],[648.0,851.0],[776.0,675.0],[586.0,586.0],[558.0,466.0],[525.0,425.0],[521.0,419.0],[535.0,399.0],[498.0,412.0],[538.0,367.0],[454.0,426.0],[413.0,317.0],[325.0,315.0],[362.0,256.0],[313.0,273.0],[280.0,271.0],[252.0,283.0],[295.0,207.0],[265.0,219.0],[262.0,222.0],[256.0,220.0],[258.0,208.0],[194.0,215.0],[165.0,164.0],[151.0,129.0],[146.0,129.0],[142.0,118.0],[119.0,120.0],[122.0,93.0],[116.0,96.0],[90.0,85.0],[90.0,69.0],[80.0,56.0],[55.0,78.0],[77.0,45.0],[59.0,54.0],[47.0,62.0],[65.0,19.0],[31.0,39.0],[35.0,29.0],[21.0,21.0]],\"geo\":\"geo\",\"hovertemplate\":\"<b>%{hovertext}</b><br><br>Abbrev=%{location}<br>Male=%{customdata[0]}<br>Female=%{customdata[1]}<br>TotRank=%{z}<extra></extra>\",\"hovertext\":[\"California\",\"Texas\",\"New York\",\"Massachusetts\",\"Pennsylvania\",\"Florida\",\"Illinois\",\"Ohio\",\"Michigan\",\"North Carolina\",\"Indiana\",\"Virginia\",\"Minnesota\",\"Georgia\",\"Maryland\",\"Colorado\",\"New Jersey\",\"Wisconsin\",\"Arizona\",\"Washington\",\"Missouri\",\"Tennessee\",\"Connecticut\",\"Alabama\",\"Iowa\",\"Louisiana\",\"Oregon\",\"District of Columbia\",\"Utah\",\"Kentucky\",\"Oklahoma\",\"South Carolina\",\"Kansas\",\"Mississippi\",\"Nebraska\",\"New Mexico\",\"Arkansas\",\"Rhode Island\",\"Nevada\",\"West Virginia\",\"Delaware\",\"North Dakota\",\"New Hampshire\",\"Idaho\",\"Hawaii\",\"South Dakota\",\"Montana\",\"Puerto Rico\",\"Wyoming\",\"Maine\",\"Vermont\",\"Alaska\"],\"locationmode\":\"USA-states\",\"locations\":[\"CA\",\"TX\",\"NY\",\"MA\",\"PA\",\"FL\",\"IL\",\"OH\",\"MI\",\"NC\",\"IN\",\"VA\",\"MN\",\"GA\",\"MD\",\"CO\",\"NJ\",\"WI\",\"AZ\",\"WA\",\"MO\",\"TN\",\"CT\",\"AL\",\"IA\",\"LA\",\"OR\",\"DC\",\"UT\",\"KY\",\"OK\",\"SC\",\"KS\",\"MS\",\"NE\",\"NM\",\"AR\",\"RI\",\"NV\",\"WV\",\"DE\",\"ND\",\"NH\",\"ID\",\"HI\",\"SD\",\"MT\",\"PR\",\"WY\",\"ME\",\"VT\",\"AK\"],\"name\":\"\",\"z\":[52.0,51.0,50.0,49.0,48.0,47.0,46.0,45.0,44.0,43.0,42.0,41.0,40.0,39.0,38.0,37.0,36.0,35.0,34.0,33.0,32.0,31.0,30.0,29.0,28.0,27.0,26.0,25.0,24.0,22.5,22.5,21.0,20.0,19.0,18.0,17.0,16.0,15.0,14.0,13.0,12.0,11.0,10.0,9.0,8.0,7.0,6.0,5.0,4.0,3.0,2.0,1.0],\"type\":\"choropleth\"}],                        {\"template\":{\"data\":{\"histogram2dcontour\":[{\"type\":\"histogram2dcontour\",\"colorbar\":{\"outlinewidth\":0,\"ticks\":\"\"},\"colorscale\":[[0.0,\"#0d0887\"],[0.1111111111111111,\"#46039f\"],[0.2222222222222222,\"#7201a8\"],[0.3333333333333333,\"#9c179e\"],[0.4444444444444444,\"#bd3786\"],[0.5555555555555556,\"#d8576b\"],[0.6666666666666666,\"#ed7953\"],[0.7777777777777778,\"#fb9f3a\"],[0.8888888888888888,\"#fdca26\"],[1.0,\"#f0f921\"]]}],\"choropleth\":[{\"type\":\"choropleth\",\"colorbar\":{\"outlinewidth\":0,\"ticks\":\"\"}}],\"histogram2d\":[{\"type\":\"histogram2d\",\"colorbar\":{\"outlinewidth\":0,\"ticks\":\"\"},\"colorscale\":[[0.0,\"#0d0887\"],[0.1111111111111111,\"#46039f\"],[0.2222222222222222,\"#7201a8\"],[0.3333333333333333,\"#9c179e\"],[0.4444444444444444,\"#bd3786\"],[0.5555555555555556,\"#d8576b\"],[0.6666666666666666,\"#ed7953\"],[0.7777777777777778,\"#fb9f3a\"],[0.8888888888888888,\"#fdca26\"],[1.0,\"#f0f921\"]]}],\"heatmap\":[{\"type\":\"heatmap\",\"colorbar\":{\"outlinewidth\":0,\"ticks\":\"\"},\"colorscale\":[[0.0,\"#0d0887\"],[0.1111111111111111,\"#46039f\"],[0.2222222222222222,\"#7201a8\"],[0.3333333333333333,\"#9c179e\"],[0.4444444444444444,\"#bd3786\"],[0.5555555555555556,\"#d8576b\"],[0.6666666666666666,\"#ed7953\"],[0.7777777777777778,\"#fb9f3a\"],[0.8888888888888888,\"#fdca26\"],[1.0,\"#f0f921\"]]}],\"heatmapgl\":[{\"type\":\"heatmapgl\",\"colorbar\":{\"outlinewidth\":0,\"ticks\":\"\"},\"colorscale\":[[0.0,\"#0d0887\"],[0.1111111111111111,\"#46039f\"],[0.2222222222222222,\"#7201a8\"],[0.3333333333333333,\"#9c179e\"],[0.4444444444444444,\"#bd3786\"],[0.5555555555555556,\"#d8576b\"],[0.6666666666666666,\"#ed7953\"],[0.7777777777777778,\"#fb9f3a\"],[0.8888888888888888,\"#fdca26\"],[1.0,\"#f0f921\"]]}],\"contourcarpet\":[{\"type\":\"contourcarpet\",\"colorbar\":{\"outlinewidth\":0,\"ticks\":\"\"}}],\"contour\":[{\"type\":\"contour\",\"colorbar\":{\"outlinewidth\":0,\"ticks\":\"\"},\"colorscale\":[[0.0,\"#0d0887\"],[0.1111111111111111,\"#46039f\"],[0.2222222222222222,\"#7201a8\"],[0.3333333333333333,\"#9c179e\"],[0.4444444444444444,\"#bd3786\"],[0.5555555555555556,\"#d8576b\"],[0.6666666666666666,\"#ed7953\"],[0.7777777777777778,\"#fb9f3a\"],[0.8888888888888888,\"#fdca26\"],[1.0,\"#f0f921\"]]}],\"surface\":[{\"type\":\"surface\",\"colorbar\":{\"outlinewidth\":0,\"ticks\":\"\"},\"colorscale\":[[0.0,\"#0d0887\"],[0.1111111111111111,\"#46039f\"],[0.2222222222222222,\"#7201a8\"],[0.3333333333333333,\"#9c179e\"],[0.4444444444444444,\"#bd3786\"],[0.5555555555555556,\"#d8576b\"],[0.6666666666666666,\"#ed7953\"],[0.7777777777777778,\"#fb9f3a\"],[0.8888888888888888,\"#fdca26\"],[1.0,\"#f0f921\"]]}],\"mesh3d\":[{\"type\":\"mesh3d\",\"colorbar\":{\"outlinewidth\":0,\"ticks\":\"\"}}],\"scatter\":[{\"fillpattern\":{\"fillmode\":\"overlay\",\"size\":10,\"solidity\":0.2},\"type\":\"scatter\"}],\"parcoords\":[{\"type\":\"parcoords\",\"line\":{\"colorbar\":{\"outlinewidth\":0,\"ticks\":\"\"}}}],\"scatterpolargl\":[{\"type\":\"scatterpolargl\",\"marker\":{\"colorbar\":{\"outlinewidth\":0,\"ticks\":\"\"}}}],\"bar\":[{\"error_x\":{\"color\":\"#2a3f5f\"},\"error_y\":{\"color\":\"#2a3f5f\"},\"marker\":{\"line\":{\"color\":\"#E5ECF6\",\"width\":0.5},\"pattern\":{\"fillmode\":\"overlay\",\"size\":10,\"solidity\":0.2}},\"type\":\"bar\"}],\"scattergeo\":[{\"type\":\"scattergeo\",\"marker\":{\"colorbar\":{\"outlinewidth\":0,\"ticks\":\"\"}}}],\"scatterpolar\":[{\"type\":\"scatterpolar\",\"marker\":{\"colorbar\":{\"outlinewidth\":0,\"ticks\":\"\"}}}],\"histogram\":[{\"marker\":{\"pattern\":{\"fillmode\":\"overlay\",\"size\":10,\"solidity\":0.2}},\"type\":\"histogram\"}],\"scattergl\":[{\"type\":\"scattergl\",\"marker\":{\"colorbar\":{\"outlinewidth\":0,\"ticks\":\"\"}}}],\"scatter3d\":[{\"type\":\"scatter3d\",\"line\":{\"colorbar\":{\"outlinewidth\":0,\"ticks\":\"\"}},\"marker\":{\"colorbar\":{\"outlinewidth\":0,\"ticks\":\"\"}}}],\"scattermapbox\":[{\"type\":\"scattermapbox\",\"marker\":{\"colorbar\":{\"outlinewidth\":0,\"ticks\":\"\"}}}],\"scatterternary\":[{\"type\":\"scatterternary\",\"marker\":{\"colorbar\":{\"outlinewidth\":0,\"ticks\":\"\"}}}],\"scattercarpet\":[{\"type\":\"scattercarpet\",\"marker\":{\"colorbar\":{\"outlinewidth\":0,\"ticks\":\"\"}}}],\"carpet\":[{\"aaxis\":{\"endlinecolor\":\"#2a3f5f\",\"gridcolor\":\"white\",\"linecolor\":\"white\",\"minorgridcolor\":\"white\",\"startlinecolor\":\"#2a3f5f\"},\"baxis\":{\"endlinecolor\":\"#2a3f5f\",\"gridcolor\":\"white\",\"linecolor\":\"white\",\"minorgridcolor\":\"white\",\"startlinecolor\":\"#2a3f5f\"},\"type\":\"carpet\"}],\"table\":[{\"cells\":{\"fill\":{\"color\":\"#EBF0F8\"},\"line\":{\"color\":\"white\"}},\"header\":{\"fill\":{\"color\":\"#C8D4E3\"},\"line\":{\"color\":\"white\"}},\"type\":\"table\"}],\"barpolar\":[{\"marker\":{\"line\":{\"color\":\"#E5ECF6\",\"width\":0.5},\"pattern\":{\"fillmode\":\"overlay\",\"size\":10,\"solidity\":0.2}},\"type\":\"barpolar\"}],\"pie\":[{\"automargin\":true,\"type\":\"pie\"}]},\"layout\":{\"autotypenumbers\":\"strict\",\"colorway\":[\"#636efa\",\"#EF553B\",\"#00cc96\",\"#ab63fa\",\"#FFA15A\",\"#19d3f3\",\"#FF6692\",\"#B6E880\",\"#FF97FF\",\"#FECB52\"],\"font\":{\"color\":\"#2a3f5f\"},\"hovermode\":\"closest\",\"hoverlabel\":{\"align\":\"left\"},\"paper_bgcolor\":\"white\",\"plot_bgcolor\":\"#E5ECF6\",\"polar\":{\"bgcolor\":\"#E5ECF6\",\"angularaxis\":{\"gridcolor\":\"white\",\"linecolor\":\"white\",\"ticks\":\"\"},\"radialaxis\":{\"gridcolor\":\"white\",\"linecolor\":\"white\",\"ticks\":\"\"}},\"ternary\":{\"bgcolor\":\"#E5ECF6\",\"aaxis\":{\"gridcolor\":\"white\",\"linecolor\":\"white\",\"ticks\":\"\"},\"baxis\":{\"gridcolor\":\"white\",\"linecolor\":\"white\",\"ticks\":\"\"},\"caxis\":{\"gridcolor\":\"white\",\"linecolor\":\"white\",\"ticks\":\"\"}},\"coloraxis\":{\"colorbar\":{\"outlinewidth\":0,\"ticks\":\"\"}},\"colorscale\":{\"sequential\":[[0.0,\"#0d0887\"],[0.1111111111111111,\"#46039f\"],[0.2222222222222222,\"#7201a8\"],[0.3333333333333333,\"#9c179e\"],[0.4444444444444444,\"#bd3786\"],[0.5555555555555556,\"#d8576b\"],[0.6666666666666666,\"#ed7953\"],[0.7777777777777778,\"#fb9f3a\"],[0.8888888888888888,\"#fdca26\"],[1.0,\"#f0f921\"]],\"sequentialminus\":[[0.0,\"#0d0887\"],[0.1111111111111111,\"#46039f\"],[0.2222222222222222,\"#7201a8\"],[0.3333333333333333,\"#9c179e\"],[0.4444444444444444,\"#bd3786\"],[0.5555555555555556,\"#d8576b\"],[0.6666666666666666,\"#ed7953\"],[0.7777777777777778,\"#fb9f3a\"],[0.8888888888888888,\"#fdca26\"],[1.0,\"#f0f921\"]],\"diverging\":[[0,\"#8e0152\"],[0.1,\"#c51b7d\"],[0.2,\"#de77ae\"],[0.3,\"#f1b6da\"],[0.4,\"#fde0ef\"],[0.5,\"#f7f7f7\"],[0.6,\"#e6f5d0\"],[0.7,\"#b8e186\"],[0.8,\"#7fbc41\"],[0.9,\"#4d9221\"],[1,\"#276419\"]]},\"xaxis\":{\"gridcolor\":\"white\",\"linecolor\":\"white\",\"ticks\":\"\",\"title\":{\"standoff\":15},\"zerolinecolor\":\"white\",\"automargin\":true,\"zerolinewidth\":2},\"yaxis\":{\"gridcolor\":\"white\",\"linecolor\":\"white\",\"ticks\":\"\",\"title\":{\"standoff\":15},\"zerolinecolor\":\"white\",\"automargin\":true,\"zerolinewidth\":2},\"scene\":{\"xaxis\":{\"backgroundcolor\":\"#E5ECF6\",\"gridcolor\":\"white\",\"linecolor\":\"white\",\"showbackground\":true,\"ticks\":\"\",\"zerolinecolor\":\"white\",\"gridwidth\":2},\"yaxis\":{\"backgroundcolor\":\"#E5ECF6\",\"gridcolor\":\"white\",\"linecolor\":\"white\",\"showbackground\":true,\"ticks\":\"\",\"zerolinecolor\":\"white\",\"gridwidth\":2},\"zaxis\":{\"backgroundcolor\":\"#E5ECF6\",\"gridcolor\":\"white\",\"linecolor\":\"white\",\"showbackground\":true,\"ticks\":\"\",\"zerolinecolor\":\"white\",\"gridwidth\":2}},\"shapedefaults\":{\"line\":{\"color\":\"#2a3f5f\"}},\"annotationdefaults\":{\"arrowcolor\":\"#2a3f5f\",\"arrowhead\":0,\"arrowwidth\":1},\"geo\":{\"bgcolor\":\"white\",\"landcolor\":\"#E5ECF6\",\"subunitcolor\":\"white\",\"showland\":true,\"showlakes\":true,\"lakecolor\":\"white\"},\"title\":{\"x\":0.05},\"mapbox\":{\"style\":\"light\"}}},\"geo\":{\"domain\":{\"x\":[0.0,1.0],\"y\":[0.0,1.0]},\"center\":{},\"scope\":\"usa\"},\"coloraxis\":{\"colorbar\":{\"title\":{\"text\":\"TotRank\"}},\"colorscale\":[[0.0,\"rgb(121, 130, 52)\"],[0.16666666666666666,\"rgb(163, 173, 98)\"],[0.3333333333333333,\"rgb(208, 211, 162)\"],[0.5,\"rgb(253, 251, 228)\"],[0.6666666666666666,\"rgb(240, 198, 195)\"],[0.8333333333333334,\"rgb(223, 145, 163)\"],[1.0,\"rgb(212, 103, 128)\"]],\"cmin\":1,\"cmax\":52},\"legend\":{\"tracegroupgap\":0},\"title\":{\"text\":\"Grad Students\"},\"height\":600,\"width\":600},                        {\"responsive\": true}                    ).then(function(){\n",
       "                            \n",
       "var gd = document.getElementById('877244b0-24a6-428a-8fb3-79bade4a378d');\n",
       "var x = new MutationObserver(function (mutations, observer) {{\n",
       "        var display = window.getComputedStyle(gd).display;\n",
       "        if (!display || display === 'none') {{\n",
       "            console.log([gd, 'removed!']);\n",
       "            Plotly.purge(gd);\n",
       "            observer.disconnect();\n",
       "        }}\n",
       "}});\n",
       "\n",
       "// Listen for the removal of the full notebook cells\n",
       "var notebookContainer = gd.closest('#notebook-container');\n",
       "if (notebookContainer) {{\n",
       "    x.observe(notebookContainer, {childList: true});\n",
       "}}\n",
       "\n",
       "// Listen for the clearing of the current output cell\n",
       "var outputEl = gd.closest('.output');\n",
       "if (outputEl) {{\n",
       "    x.observe(outputEl, {childList: true});\n",
       "}}\n",
       "\n",
       "                        })                };                });            </script>        </div>"
      ]
     },
     "metadata": {},
     "output_type": "display_data"
    }
   ],
   "source": [
    "fig = px.choropleth(df,\n",
    "                    locations = 'Abbrev',\n",
    "                    locationmode = 'USA-states',\n",
    "                    scope = 'usa',\n",
    "                    color = 'TotRank',\n",
    "                    hover_name = 'State or location',\n",
    "                    hover_data = ['Male','Female'],\n",
    "                    range_color = [1,52],\n",
    "                    color_continuous_scale = 'armyrose',\n",
    "                    width = 600,\n",
    "                    height = 600,\n",
    "                    title = 'Grad Students')\n",
    "fig.show()"
   ]
  },
  {
   "cell_type": "code",
   "execution_count": null,
   "id": "d5c82759-ba7b-44c4-8434-b3a0a56ff559",
   "metadata": {},
   "outputs": [],
   "source": []
  }
 ],
 "metadata": {
  "kernelspec": {
   "display_name": "Python 3 (ipykernel)",
   "language": "python",
   "name": "python3"
  },
  "language_info": {
   "codemirror_mode": {
    "name": "ipython",
    "version": 3
   },
   "file_extension": ".py",
   "mimetype": "text/x-python",
   "name": "python",
   "nbconvert_exporter": "python",
   "pygments_lexer": "ipython3",
   "version": "3.9.7"
  }
 },
 "nbformat": 4,
 "nbformat_minor": 5
}
