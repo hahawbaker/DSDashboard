{
 "cells": [
  {
   "cell_type": "code",
   "execution_count": null,
   "id": "4a0a224e-4fb9-41ca-a7e8-8f1c64cb6cea",
   "metadata": {},
   "outputs": [],
   "source": [
    "# Standard Imports\n",
    "import numpy as np, pandas as pd, random, json, time, os\n",
    "\n",
    "# Plotly Imports\n",
    "import plotly.graph_objects as go\n",
    "import plotly.express as px\n",
    "\n",
    "# Dash Imports\n",
    "import dash\n",
    "from dash import dcc\n",
    "from dash import html\n",
    "from dash.dependencies import Input, Output"
   ]
  },
  {
   "cell_type": "code",
   "execution_count": null,
   "id": "aefb7209-287e-4336-ada4-96868a0692a5",
   "metadata": {},
   "outputs": [],
   "source": [
    "df = pd.read_csv(\"CSV/nsf23300-tab001-012-1.csv\",encoding='cp1252', header=1, index_col=0, na_values='-') # skiprows=[], header=0)\n",
    "'Median years to research doctorate, by historical major field of doctorate: Selected years, 1971–2021'\n",
    "years=df\n",
    "years\n",
    "\n"
   ]
  },
  {
   "cell_type": "code",
   "execution_count": null,
   "id": "86a085ac-cd94-4c5d-a4ea-3fc861faf83d",
   "metadata": {},
   "outputs": [],
   "source": [
    "for i in [1971,1976,1981,1986,1991,1996,2001,2006,2011,2016,2021]:\n",
    "    for a in years[str(i)]:\n",
    "        years=years.astype({str(i):'float'})"
   ]
  },
  {
   "cell_type": "code",
   "execution_count": null,
   "id": "eaacdf30-2e62-4ab6-84a7-4782e8ff7c53",
   "metadata": {},
   "outputs": [],
   "source": [
    "years.index"
   ]
  },
  {
   "cell_type": "code",
   "execution_count": null,
   "id": "13e8462f-1aa1-4f29-beea-6b4e766e7ab0",
   "metadata": {},
   "outputs": [],
   "source": [
    "dictionary={}\n",
    "n=0\n",
    "for field in years.index:\n",
    "    dictionary"
   ]
  },
  {
   "cell_type": "code",
   "execution_count": 1,
   "id": "3ca44978-f2f4-4a3d-8aed-dc3faa5ab1f1",
   "metadata": {},
   "outputs": [
    {
     "ename": "NameError",
     "evalue": "name 'go' is not defined",
     "output_type": "error",
     "traceback": [
      "\u001b[1;31m---------------------------------------------------------------------------\u001b[0m",
      "\u001b[1;31mNameError\u001b[0m                                 Traceback (most recent call last)",
      "\u001b[1;32m~\\AppData\\Local\\Temp/ipykernel_10196/2706366372.py\u001b[0m in \u001b[0;36m<module>\u001b[1;34m\u001b[0m\n\u001b[0;32m      6\u001b[0m \u001b[1;31m#secondbar = study[y]  #MUST BE DYNAMIC\u001b[0m\u001b[1;33m\u001b[0m\u001b[1;33m\u001b[0m\u001b[0m\n\u001b[0;32m      7\u001b[0m \u001b[1;31m#thirdbar = study[z]   # MUST be DYNAMIC\u001b[0m\u001b[1;33m\u001b[0m\u001b[1;33m\u001b[0m\u001b[0m\n\u001b[1;32m----> 8\u001b[1;33m trace1 = go.Bar(\n\u001b[0m\u001b[0;32m      9\u001b[0m     \u001b[0mx\u001b[0m \u001b[1;33m=\u001b[0m \u001b[0myears\u001b[0m\u001b[1;33m.\u001b[0m\u001b[0mindex\u001b[0m\u001b[1;33m,\u001b[0m\u001b[1;33m\u001b[0m\u001b[1;33m\u001b[0m\u001b[0m\n\u001b[0;32m     10\u001b[0m \u001b[1;31m# for color, chech out plotly samlple continuos color, assign each one individually\u001b[0m\u001b[1;33m\u001b[0m\u001b[1;33m\u001b[0m\u001b[0m\n",
      "\u001b[1;31mNameError\u001b[0m: name 'go' is not defined"
     ]
    }
   ],
   "source": [
    "import plotly.express as px\n",
    "\n",
    "\n",
    "#fig = px.bar(years, x=years.index, y=years['1971'], title=\"Median years to research doctorate, by historical major field of doctorate: Selected years, 1971–2021\")\n",
    "#firstbar = study[x]  #MUST BE DYNAMIC, USED THE Number\n",
    "#secondbar = study[y]  #MUST BE DYNAMIC\n",
    "#thirdbar = study[z]   # MUST be DYNAMIC\n",
    "trace1 = go.Bar(\n",
    "    x = years.index,\n",
    "# for color, chech out plotly samlple continuos color, assign each one individually\n",
    "#set each field with a number\n",
    "    y = years['2016'], marker=dict(color='red',\n",
    "                     #colorscale='twighlight')\n",
    "                                  )\n",
    ")  ## MUST be DYNAMIC, but dependent on the input in a slightly different way perhaps? (comes from column header..?)\n",
    "\n",
    "\n",
    "\n",
    "\n",
    "data = [trace1]\n",
    "layout = go.Layout(barmode = 'group')\n",
    "fig = go.Figure(data = data, layout = layout)\n",
    "fig.show()\n",
    "\n",
    "\n"
   ]
  },
  {
   "cell_type": "code",
   "execution_count": 42,
   "id": "78660933-3aac-4822-ae52-970b0272b9d0",
   "metadata": {},
   "outputs": [
    {
     "name": "stdout",
     "output_type": "stream",
     "text": [
      "All fields\n"
     ]
    },
    {
     "ename": "ValueError",
     "evalue": "The first argument to the plotly.graph_objs.Bar \nconstructor must be a dict or \nan instance of :class:`plotly.graph_objs.Bar`",
     "output_type": "error",
     "traceback": [
      "\u001b[1;31m---------------------------------------------------------------------------\u001b[0m",
      "\u001b[1;31mValueError\u001b[0m                                Traceback (most recent call last)",
      "\u001b[1;32m~\\AppData\\Local\\Temp/ipykernel_2404/609767062.py\u001b[0m in \u001b[0;36m<module>\u001b[1;34m\u001b[0m\n\u001b[0;32m     11\u001b[0m \u001b[1;32mfor\u001b[0m \u001b[0mi\u001b[0m \u001b[1;32min\u001b[0m \u001b[0myears\u001b[0m\u001b[1;33m.\u001b[0m\u001b[0mindex\u001b[0m\u001b[1;33m:\u001b[0m\u001b[1;33m\u001b[0m\u001b[1;33m\u001b[0m\u001b[0m\n\u001b[0;32m     12\u001b[0m     \u001b[0mprint\u001b[0m\u001b[1;33m(\u001b[0m\u001b[0mi\u001b[0m\u001b[1;33m)\u001b[0m\u001b[1;33m\u001b[0m\u001b[1;33m\u001b[0m\u001b[0m\n\u001b[1;32m---> 13\u001b[1;33m     trace = go.Bar(\n\u001b[0m\u001b[0;32m     14\u001b[0m         \u001b[0mi\u001b[0m\u001b[1;33m,\u001b[0m\u001b[1;33m\u001b[0m\u001b[1;33m\u001b[0m\u001b[0m\n\u001b[0;32m     15\u001b[0m \u001b[1;33m\u001b[0m\u001b[0m\n",
      "\u001b[1;32m~\\anaconda3\\lib\\site-packages\\plotly\\graph_objs\\_bar.py\u001b[0m in \u001b[0;36m__init__\u001b[1;34m(self, arg, alignmentgroup, base, basesrc, cliponaxis, constraintext, customdata, customdatasrc, dx, dy, error_x, error_y, hoverinfo, hoverinfosrc, hoverlabel, hovertemplate, hovertemplatesrc, hovertext, hovertextsrc, ids, idssrc, insidetextanchor, insidetextfont, legendgroup, legendgrouptitle, legendrank, marker, meta, metasrc, name, offset, offsetgroup, offsetsrc, opacity, orientation, outsidetextfont, selected, selectedpoints, showlegend, stream, text, textangle, textfont, textposition, textpositionsrc, textsrc, texttemplate, texttemplatesrc, uid, uirevision, unselected, visible, width, widthsrc, x, x0, xaxis, xcalendar, xhoverformat, xperiod, xperiod0, xperiodalignment, xsrc, y, y0, yaxis, ycalendar, yhoverformat, yperiod, yperiod0, yperiodalignment, ysrc, **kwargs)\u001b[0m\n\u001b[0;32m   2943\u001b[0m             \u001b[0marg\u001b[0m \u001b[1;33m=\u001b[0m \u001b[0m_copy\u001b[0m\u001b[1;33m.\u001b[0m\u001b[0mcopy\u001b[0m\u001b[1;33m(\u001b[0m\u001b[0marg\u001b[0m\u001b[1;33m)\u001b[0m\u001b[1;33m\u001b[0m\u001b[1;33m\u001b[0m\u001b[0m\n\u001b[0;32m   2944\u001b[0m         \u001b[1;32melse\u001b[0m\u001b[1;33m:\u001b[0m\u001b[1;33m\u001b[0m\u001b[1;33m\u001b[0m\u001b[0m\n\u001b[1;32m-> 2945\u001b[1;33m             raise ValueError(\n\u001b[0m\u001b[0;32m   2946\u001b[0m                 \"\"\"\\\n\u001b[0;32m   2947\u001b[0m \u001b[0mThe\u001b[0m \u001b[0mfirst\u001b[0m \u001b[0margument\u001b[0m \u001b[0mto\u001b[0m \u001b[0mthe\u001b[0m \u001b[0mplotly\u001b[0m\u001b[1;33m.\u001b[0m\u001b[0mgraph_objs\u001b[0m\u001b[1;33m.\u001b[0m\u001b[0mBar\u001b[0m\u001b[1;33m\u001b[0m\u001b[1;33m\u001b[0m\u001b[0m\n",
      "\u001b[1;31mValueError\u001b[0m: The first argument to the plotly.graph_objs.Bar \nconstructor must be a dict or \nan instance of :class:`plotly.graph_objs.Bar`"
     ]
    }
   ],
   "source": [
    "##### Separate Traces######\n",
    "\n",
    "\n",
    "\n",
    "#fig = px.bar(years, x=years.index, y=years['1971'], title=\"Median years to research doctorate, by historical major field of doctorate: Selected years, 1971–2021\")\n",
    "#firstbar = study[x]  #MUST BE DYNAMIC, USED THE Number\n",
    "#secondbar = study[y]  #MUST BE DYNAMIC\n",
    "#thirdbar = study[z]   # MUST be DYNAMIC\n",
    "traces=[]\n",
    "n=1\n",
    "for i in years.index:\n",
    "    print(i)\n",
    "    trace = go.Bar(\n",
    "        x=i,\n",
    "\n",
    "        y = years['1971']\n",
    "    ) \n",
    "    traces.append(trace)\n",
    "\n",
    "\n",
    "\n",
    "\n",
    "data = [traces]\n",
    "layout = go.Layout(barmode = 'group')\n",
    "fig = go.Figure(data = data, layout = layout)\n",
    "fig.show()\n",
    "\n",
    "\n",
    "\n",
    "fig.show()"
   ]
  },
  {
   "cell_type": "code",
   "execution_count": null,
   "id": "f458db78-d2a3-40e8-8ee3-15262b4bc0d7",
   "metadata": {},
   "outputs": [],
   "source": []
  }
 ],
 "metadata": {
  "kernelspec": {
   "display_name": "Python 3 (ipykernel)",
   "language": "python",
   "name": "python3"
  },
  "language_info": {
   "codemirror_mode": {
    "name": "ipython",
    "version": 3
   },
   "file_extension": ".py",
   "mimetype": "text/x-python",
   "name": "python",
   "nbconvert_exporter": "python",
   "pygments_lexer": "ipython3",
   "version": "3.9.7"
  }
 },
 "nbformat": 4,
 "nbformat_minor": 5
}
