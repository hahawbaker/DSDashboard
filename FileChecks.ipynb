{
 "cells": [
  {
   "cell_type": "markdown",
   "id": "30163400-7f55-49ed-986c-2b75fb82ad0c",
   "metadata": {},
   "source": [
    "Location based data: 7-6, 7-10<br><br>\n",
    "\n",
    "   - **1-7 Research doctorate recipients, by historical major field of doctorate and citizenship status: 2011–21**\n",
    "   - 1-12 Median years to research doctorate, by historical major field of doctorate: Selected years, 1971–2021<br>\n",
    "   - 3-3 Research doctorate recipients, by detailed field of doctorate, citizenship status, ethnicity, and race: 2021\n",
    "   - 3-5 Median years to science and engineering research doctorate, by sex, citizenship status, ethnicity, race, and broad field of doctorate: 2021\n",
    "   - 3-6 Median years to non-science and engineering research doctorate, by sex, citizenship status, ethnicity, race, and broad field of doctorate: 2021\n",
    "   - Research doctorate recipients' sources of financial support, by broad field of doctorate and sex: 2021\n",
    "   - 6-6 Median basic annual salary for research doctorate recipients with definite postgraduation plans in the United States, by broad field of doctorate, type of postgraduation plans, and sex: 2021\n",
    "   - Lot of information on each discipline in 8-\\*, not sure how useful it might be\n",
    "   - 9-1 Science and engineering research doctorate recipients, postgraduation plans by sex and broad field of doctorate: 2021"
   ]
  },
  {
   "cell_type": "code",
   "execution_count": null,
   "id": "a08b4557-1bf7-4640-b760-902d54331bbb",
   "metadata": {},
   "outputs": [],
   "source": []
  }
 ],
 "metadata": {
  "kernelspec": {
   "display_name": "Python 3 (ipykernel)",
   "language": "python",
   "name": "python3"
  },
  "language_info": {
   "codemirror_mode": {
    "name": "ipython",
    "version": 3
   },
   "file_extension": ".py",
   "mimetype": "text/x-python",
   "name": "python",
   "nbconvert_exporter": "python",
   "pygments_lexer": "ipython3",
   "version": "3.9.7"
  }
 },
 "nbformat": 4,
 "nbformat_minor": 5
}
