{
 "cells": [
  {
   "cell_type": "markdown",
   "id": "0a490072-35ea-4ba7-a4aa-b543a7fb4199",
   "metadata": {},
   "source": [
    "df710 = pd.read_csv(\"CSV/nsf23300-tab007-010.csv\",encoding='cp1252'"
   ]
  }
 ],
 "metadata": {
  "kernelspec": {
   "display_name": "Python 3 (ipykernel)",
   "language": "python",
   "name": "python3"
  },
  "language_info": {
   "codemirror_mode": {
    "name": "ipython",
    "version": 3
   },
   "file_extension": ".py",
   "mimetype": "text/x-python",
   "name": "python",
   "nbconvert_exporter": "python",
   "pygments_lexer": "ipython3",
   "version": "3.9.7"
  }
 },
 "nbformat": 4,
 "nbformat_minor": 5
}
