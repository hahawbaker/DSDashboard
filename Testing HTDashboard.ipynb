{
 "cells": [
  {
   "cell_type": "code",
   "execution_count": 10,
   "id": "239ef992-dcfe-45c0-b714-c97218403588",
   "metadata": {},
   "outputs": [],
   "source": [
    "# Standard Imports\n",
    "import numpy as np, pandas as pd, random, json, time, os\n",
    "\n",
    "# Plotly Imports\n",
    "import plotly.graph_objects as go\n",
    "import plotly.express as px\n",
    "\n",
    "# Dash Imports\n",
    "import dash\n",
    "from dash import dcc\n",
    "from dash import html\n",
    "from dash.dependencies import Input, Output"
   ]
  },
  {
   "cell_type": "code",
   "execution_count": 11,
   "id": "cb931fdf-bd6f-42f3-bc03-c91f8b519df4",
   "metadata": {},
   "outputs": [
    {
     "ename": "IndentationError",
     "evalue": "unexpected indent (Temp/ipykernel_5804/154175992.py, line 2)",
     "output_type": "error",
     "traceback": [
      "\u001b[1;36m  File \u001b[1;32m\"C:\\Users\\halbe\\AppData\\Local\\Temp/ipykernel_5804/154175992.py\"\u001b[1;36m, line \u001b[1;32m2\u001b[0m\n\u001b[1;33m    {'label':'Agricultural sciences and natural resources',  'value': 'Agricultural sciences and natural resources'},\u001b[0m\n\u001b[1;37m    ^\u001b[0m\n\u001b[1;31mIndentationError\u001b[0m\u001b[1;31m:\u001b[0m unexpected indent\n"
     ]
    }
   ],
   "source": [
    "{'label':'Life sciences', 'value': 'Life sciences'},\n",
    "       {'label':'Agricultural sciences and natural resources',  'value': 'Agricultural sciences and natural resources'},\n",
    "       {'label':'Biological and biomedical sciences',  'value': 'Biological and biomedical sciences'},\n",
    "       {'label': 'Health sciences', 'value': 'Health sciences'},\n",
    "       {'label':'Physical sciences and earth sciences',  'value': 'Physical sciences and earth sciences'},\n",
    "       {'label': 'Chemistry', 'value': 'Chemistry'},\n",
    "       {'label':'Geosciences, atmospheric sciences, and ocean sciences', 'value': 'Geosciences, atmospheric sciences, and ocean sciences'},\n",
    "       {'label':'Physics and astronomy',  'value': 'Physics and astronomy'},\n",
    "       {'label': 'Mathematics and computer sciences', 'value': 'Mathematics and computer sciences'},\n",
    "       {'label':'Computer and information sciences',  'value': 'Computer and information sciences'},\n",
    "       {'label': 'Mathematics and statistics', 'value': 'Mathematics and statistics'},\n",
    "       {'label':'Psychology and social sciences',  'value': 'Psychology and social sciences'},\n",
    "       {'label': 'Psychology', 'value': 'Psychology'},\n",
    "       {'label': 'Anthropology', 'value': 'Anthropology'},\n",
    "       {'label':'Economics', 'value': 'Economics'},\n",
    "       {'label': 'Political science and government',  'value': 'Political science and government'},\n",
    "       {'label': 'Sociology', 'value': 'Sociology'},\n",
    "       {'label':'Other social sciences',  'value': 'Other social sciences'},\n",
    "       {'label': 'Engineering', 'value': 'Engineering'},\n",
    "       {'label':'Aerospace, aeronautical, and astronautical engineering', 'value': 'Aerospace, aeronautical, and astronautical engineering'},\n",
    "       {'label':'Bioengineering and biomedical engineering',  'value': 'Bioengineering and biomedical engineering'},\n",
    "       {'label': 'Chemical engineering', 'value':  'Chemical engineering'},\n",
    "       {'label':'Civil engineering', 'value': 'Civil engineering'},\n",
    "       {'label':'Electrical, electronics, and communications engineering', 'value': 'Electrical, electronics, and communications engineering'},\n",
    "       {'label':'Industrial and manufacturing engineering', 'value': 'Industrial and manufacturing engineering'},\n",
    "       {'label':'Materials science engineering', 'value': 'Materials science engineering'},\n",
    "       {'label': 'Mechanical engineering', 'value': 'Mechanical engineering'},\n",
    "       {'label':'Other engineering',  'value': 'Other engineering'},\n",
    "       {'label':  'Education',  'value':  'Education'},\n",
    "       {'label':  'Education administration', 'value':  'Education administration'},\n",
    "       {'label':'Education research', 'value': 'Education research'},\n",
    "       {'label': 'Teacher education',  'value': 'Teacher education'},\n",
    "       {'label': 'Teaching fields', 'value':  'Teaching fields'},\n",
    "       {'label':'Other education',  'value': 'Other education'},\n",
    "       {'label': 'Humanities and arts', 'value': 'Humanities and arts'},\n",
    "       {'label':'Foreign languages and literature', 'value':  'Foreign languages and literature'},\n",
    "       {'label': 'History',  'value': 'History'},\n",
    "       {'label': 'Letters', 'value': 'Letters'},\n",
    "       {'label':'Other humanities and arts', 'value': 'Other humanities and arts'},\n",
    "       {'label': 'Other', 'value': 'Other'},\n",
    "       {'label':'Business management and administration', 'value': 'Business management and administration'},\n",
    "       {'label': 'Communication', 'value': 'Communication'},\n",
    "       {'label':'Non-science and engineering fields nec',  'value':'Non-science and engineering fields nec'} "
   ]
  },
  {
   "cell_type": "code",
   "execution_count": 12,
   "id": "d8d2916d-4f93-4044-bd9c-7e32a626ac31",
   "metadata": {},
   "outputs": [
    {
     "data": {
      "text/html": [
       "<div>\n",
       "<style scoped>\n",
       "    .dataframe tbody tr th:only-of-type {\n",
       "        vertical-align: middle;\n",
       "    }\n",
       "\n",
       "    .dataframe tbody tr th {\n",
       "        vertical-align: top;\n",
       "    }\n",
       "\n",
       "    .dataframe thead th {\n",
       "        text-align: right;\n",
       "    }\n",
       "</style>\n",
       "<table border=\"1\" class=\"dataframe\">\n",
       "  <thead>\n",
       "    <tr style=\"text-align: right;\">\n",
       "      <th></th>\n",
       "      <th>2011</th>\n",
       "      <th>2012</th>\n",
       "      <th>2013</th>\n",
       "      <th>2014</th>\n",
       "      <th>2015</th>\n",
       "      <th>2016</th>\n",
       "      <th>2017</th>\n",
       "      <th>2018</th>\n",
       "      <th>2019</th>\n",
       "      <th>2020</th>\n",
       "      <th>2021</th>\n",
       "      <th>% change 2011–21</th>\n",
       "    </tr>\n",
       "    <tr>\n",
       "      <th>Field and citizenship status</th>\n",
       "      <th></th>\n",
       "      <th></th>\n",
       "      <th></th>\n",
       "      <th></th>\n",
       "      <th></th>\n",
       "      <th></th>\n",
       "      <th></th>\n",
       "      <th></th>\n",
       "      <th></th>\n",
       "      <th></th>\n",
       "      <th></th>\n",
       "      <th></th>\n",
       "    </tr>\n",
       "  </thead>\n",
       "  <tbody>\n",
       "    <tr>\n",
       "      <th>All doctorate recipientsa</th>\n",
       "      <td>48,909</td>\n",
       "      <td>50,943</td>\n",
       "      <td>52,703</td>\n",
       "      <td>53,986</td>\n",
       "      <td>54,886</td>\n",
       "      <td>54,809</td>\n",
       "      <td>54,552</td>\n",
       "      <td>55,080</td>\n",
       "      <td>55,609</td>\n",
       "      <td>55,224</td>\n",
       "      <td>52,250</td>\n",
       "      <td>6.8</td>\n",
       "    </tr>\n",
       "    <tr>\n",
       "      <th>Life sciences</th>\n",
       "      <td>11,535</td>\n",
       "      <td>11,964</td>\n",
       "      <td>12,207</td>\n",
       "      <td>12,484</td>\n",
       "      <td>12,493</td>\n",
       "      <td>12,539</td>\n",
       "      <td>12,554</td>\n",
       "      <td>12,754</td>\n",
       "      <td>12,748</td>\n",
       "      <td>12,549</td>\n",
       "      <td>11,814</td>\n",
       "      <td>2.4</td>\n",
       "    </tr>\n",
       "    <tr>\n",
       "      <th>Agricultural sciences and natural resources</th>\n",
       "      <td>1,206</td>\n",
       "      <td>1,255</td>\n",
       "      <td>1,324</td>\n",
       "      <td>1,338</td>\n",
       "      <td>1,434</td>\n",
       "      <td>1,379</td>\n",
       "      <td>1,493</td>\n",
       "      <td>1,442</td>\n",
       "      <td>1,488</td>\n",
       "      <td>1,470</td>\n",
       "      <td>1,334</td>\n",
       "      <td>10.6</td>\n",
       "    </tr>\n",
       "    <tr>\n",
       "      <th>Biological and biomedical sciences</th>\n",
       "      <td>8,152</td>\n",
       "      <td>8,322</td>\n",
       "      <td>8,354</td>\n",
       "      <td>8,868</td>\n",
       "      <td>8,783</td>\n",
       "      <td>8,863</td>\n",
       "      <td>8,566</td>\n",
       "      <td>8,782</td>\n",
       "      <td>8,678</td>\n",
       "      <td>8,410</td>\n",
       "      <td>8,149</td>\n",
       "      <td>0.0</td>\n",
       "    </tr>\n",
       "    <tr>\n",
       "      <th>Health sciences</th>\n",
       "      <td>2,177</td>\n",
       "      <td>2,387</td>\n",
       "      <td>2,529</td>\n",
       "      <td>2,278</td>\n",
       "      <td>2,276</td>\n",
       "      <td>2,297</td>\n",
       "      <td>2,495</td>\n",
       "      <td>2,530</td>\n",
       "      <td>2,582</td>\n",
       "      <td>2,669</td>\n",
       "      <td>2,331</td>\n",
       "      <td>7.1</td>\n",
       "    </tr>\n",
       "    <tr>\n",
       "      <th>...</th>\n",
       "      <td>...</td>\n",
       "      <td>...</td>\n",
       "      <td>...</td>\n",
       "      <td>...</td>\n",
       "      <td>...</td>\n",
       "      <td>...</td>\n",
       "      <td>...</td>\n",
       "      <td>...</td>\n",
       "      <td>...</td>\n",
       "      <td>...</td>\n",
       "      <td>...</td>\n",
       "      <td>...</td>\n",
       "    </tr>\n",
       "    <tr>\n",
       "      <th>Other humanities and arts</th>\n",
       "      <td>299</td>\n",
       "      <td>324</td>\n",
       "      <td>316</td>\n",
       "      <td>302</td>\n",
       "      <td>309</td>\n",
       "      <td>280</td>\n",
       "      <td>286</td>\n",
       "      <td>307</td>\n",
       "      <td>345</td>\n",
       "      <td>305</td>\n",
       "      <td>310</td>\n",
       "      <td>3.7</td>\n",
       "    </tr>\n",
       "    <tr>\n",
       "      <th>Other</th>\n",
       "      <td>786</td>\n",
       "      <td>834</td>\n",
       "      <td>945</td>\n",
       "      <td>905</td>\n",
       "      <td>867</td>\n",
       "      <td>890</td>\n",
       "      <td>940</td>\n",
       "      <td>1,028</td>\n",
       "      <td>1,106</td>\n",
       "      <td>1,075</td>\n",
       "      <td>1,142</td>\n",
       "      <td>45.3</td>\n",
       "    </tr>\n",
       "    <tr>\n",
       "      <th>Business management and administration</th>\n",
       "      <td>477</td>\n",
       "      <td>542</td>\n",
       "      <td>600</td>\n",
       "      <td>589</td>\n",
       "      <td>546</td>\n",
       "      <td>553</td>\n",
       "      <td>588</td>\n",
       "      <td>642</td>\n",
       "      <td>689</td>\n",
       "      <td>658</td>\n",
       "      <td>683</td>\n",
       "      <td>43.2</td>\n",
       "    </tr>\n",
       "    <tr>\n",
       "      <th>Communication</th>\n",
       "      <td>132</td>\n",
       "      <td>107</td>\n",
       "      <td>133</td>\n",
       "      <td>137</td>\n",
       "      <td>137</td>\n",
       "      <td>160</td>\n",
       "      <td>122</td>\n",
       "      <td>165</td>\n",
       "      <td>163</td>\n",
       "      <td>153</td>\n",
       "      <td>140</td>\n",
       "      <td>6.1</td>\n",
       "    </tr>\n",
       "    <tr>\n",
       "      <th>Non-science and engineering fields nec</th>\n",
       "      <td>177</td>\n",
       "      <td>185</td>\n",
       "      <td>212</td>\n",
       "      <td>179</td>\n",
       "      <td>184</td>\n",
       "      <td>177</td>\n",
       "      <td>230</td>\n",
       "      <td>221</td>\n",
       "      <td>254</td>\n",
       "      <td>264</td>\n",
       "      <td>319</td>\n",
       "      <td>80.2</td>\n",
       "    </tr>\n",
       "  </tbody>\n",
       "</table>\n",
       "<p>132 rows × 12 columns</p>\n",
       "</div>"
      ],
      "text/plain": [
       "                                               2011    2012    2013    2014   \n",
       "Field and citizenship status                                                  \n",
       "All doctorate recipientsa                    48,909  50,943  52,703  53,986  \\\n",
       "Life sciences                                11,535  11,964  12,207  12,484   \n",
       "Agricultural sciences and natural resources   1,206   1,255   1,324   1,338   \n",
       "Biological and biomedical sciences            8,152   8,322   8,354   8,868   \n",
       "Health sciences                               2,177   2,387   2,529   2,278   \n",
       "...                                             ...     ...     ...     ...   \n",
       "Other humanities and arts                       299     324     316     302   \n",
       "Other                                           786     834     945     905   \n",
       "Business management and administration          477     542     600     589   \n",
       "Communication                                   132     107     133     137   \n",
       "Non-science and engineering fields nec          177     185     212     179   \n",
       "\n",
       "                                               2015    2016    2017    2018   \n",
       "Field and citizenship status                                                  \n",
       "All doctorate recipientsa                    54,886  54,809  54,552  55,080  \\\n",
       "Life sciences                                12,493  12,539  12,554  12,754   \n",
       "Agricultural sciences and natural resources   1,434   1,379   1,493   1,442   \n",
       "Biological and biomedical sciences            8,783   8,863   8,566   8,782   \n",
       "Health sciences                               2,276   2,297   2,495   2,530   \n",
       "...                                             ...     ...     ...     ...   \n",
       "Other humanities and arts                       309     280     286     307   \n",
       "Other                                           867     890     940   1,028   \n",
       "Business management and administration          546     553     588     642   \n",
       "Communication                                   137     160     122     165   \n",
       "Non-science and engineering fields nec          184     177     230     221   \n",
       "\n",
       "                                               2019    2020    2021   \n",
       "Field and citizenship status                                          \n",
       "All doctorate recipientsa                    55,609  55,224  52,250  \\\n",
       "Life sciences                                12,748  12,549  11,814   \n",
       "Agricultural sciences and natural resources   1,488   1,470   1,334   \n",
       "Biological and biomedical sciences            8,678   8,410   8,149   \n",
       "Health sciences                               2,582   2,669   2,331   \n",
       "...                                             ...     ...     ...   \n",
       "Other humanities and arts                       345     305     310   \n",
       "Other                                         1,106   1,075   1,142   \n",
       "Business management and administration          689     658     683   \n",
       "Communication                                   163     153     140   \n",
       "Non-science and engineering fields nec          254     264     319   \n",
       "\n",
       "                                             % change 2011–21  \n",
       "Field and citizenship status                                   \n",
       "All doctorate recipientsa                                 6.8  \n",
       "Life sciences                                             2.4  \n",
       "Agricultural sciences and natural resources              10.6  \n",
       "Biological and biomedical sciences                        0.0  \n",
       "Health sciences                                           7.1  \n",
       "...                                                       ...  \n",
       "Other humanities and arts                                 3.7  \n",
       "Other                                                    45.3  \n",
       "Business management and administration                   43.2  \n",
       "Communication                                             6.1  \n",
       "Non-science and engineering fields nec                   80.2  \n",
       "\n",
       "[132 rows x 12 columns]"
      ]
     },
     "execution_count": 12,
     "metadata": {},
     "output_type": "execute_result"
    }
   ],
   "source": [
    "df = pd.read_csv(\"CSV/nsf23300-tab001-007.csv\",encoding='cp1252', header=0, index_col=0) # skiprows=[], header=0)\n",
    "\n",
    "bystudy=df\n",
    "byyear=df.T\n",
    "majors=bystudy.index\n",
    "#majors\n",
    "\n",
    "\n",
    "bystudy"
   ]
  },
  {
   "cell_type": "code",
   "execution_count": 13,
   "id": "8921c39b-1a86-47b8-a511-1a7f7e9d653b",
   "metadata": {},
   "outputs": [],
   "source": [
    "import re"
   ]
  },
  {
   "cell_type": "code",
   "execution_count": 14,
   "id": "69a537af-fdbc-48b4-b11b-434815e0dfa3",
   "metadata": {
    "jupyter": {
     "source_hidden": true
    },
    "tags": []
   },
   "outputs": [
    {
     "data": {
      "text/html": [
       "<div>\n",
       "<style scoped>\n",
       "    .dataframe tbody tr th:only-of-type {\n",
       "        vertical-align: middle;\n",
       "    }\n",
       "\n",
       "    .dataframe tbody tr th {\n",
       "        vertical-align: top;\n",
       "    }\n",
       "\n",
       "    .dataframe thead th {\n",
       "        text-align: right;\n",
       "    }\n",
       "</style>\n",
       "<table border=\"1\" class=\"dataframe\">\n",
       "  <thead>\n",
       "    <tr style=\"text-align: right;\">\n",
       "      <th></th>\n",
       "      <th>2011</th>\n",
       "      <th>2012</th>\n",
       "      <th>2013</th>\n",
       "      <th>2014</th>\n",
       "      <th>2015</th>\n",
       "      <th>2016</th>\n",
       "      <th>2017</th>\n",
       "      <th>2018</th>\n",
       "      <th>2019</th>\n",
       "      <th>2020</th>\n",
       "      <th>2021</th>\n",
       "      <th>% change 2011–21</th>\n",
       "    </tr>\n",
       "    <tr>\n",
       "      <th>Field and citizenship status</th>\n",
       "      <th></th>\n",
       "      <th></th>\n",
       "      <th></th>\n",
       "      <th></th>\n",
       "      <th></th>\n",
       "      <th></th>\n",
       "      <th></th>\n",
       "      <th></th>\n",
       "      <th></th>\n",
       "      <th></th>\n",
       "      <th></th>\n",
       "      <th></th>\n",
       "    </tr>\n",
       "  </thead>\n",
       "  <tbody>\n",
       "    <tr>\n",
       "      <th>All doctorate recipientsa</th>\n",
       "      <td>48,909</td>\n",
       "      <td>50,943</td>\n",
       "      <td>52,703</td>\n",
       "      <td>53,986</td>\n",
       "      <td>54,886</td>\n",
       "      <td>54,809</td>\n",
       "      <td>54,552</td>\n",
       "      <td>55,080</td>\n",
       "      <td>55,609</td>\n",
       "      <td>55,224</td>\n",
       "      <td>52,250</td>\n",
       "      <td>6.8</td>\n",
       "    </tr>\n",
       "    <tr>\n",
       "      <th>Life sciences</th>\n",
       "      <td>11,535</td>\n",
       "      <td>11,964</td>\n",
       "      <td>12,207</td>\n",
       "      <td>12,484</td>\n",
       "      <td>12,493</td>\n",
       "      <td>12,539</td>\n",
       "      <td>12,554</td>\n",
       "      <td>12,754</td>\n",
       "      <td>12,748</td>\n",
       "      <td>12,549</td>\n",
       "      <td>11,814</td>\n",
       "      <td>2.4</td>\n",
       "    </tr>\n",
       "    <tr>\n",
       "      <th>Agricultural sciences and natural resources</th>\n",
       "      <td>1,206</td>\n",
       "      <td>1,255</td>\n",
       "      <td>1,324</td>\n",
       "      <td>1,338</td>\n",
       "      <td>1,434</td>\n",
       "      <td>1,379</td>\n",
       "      <td>1,493</td>\n",
       "      <td>1,442</td>\n",
       "      <td>1,488</td>\n",
       "      <td>1,470</td>\n",
       "      <td>1,334</td>\n",
       "      <td>10.6</td>\n",
       "    </tr>\n",
       "    <tr>\n",
       "      <th>Biological and biomedical sciences</th>\n",
       "      <td>8,152</td>\n",
       "      <td>8,322</td>\n",
       "      <td>8,354</td>\n",
       "      <td>8,868</td>\n",
       "      <td>8,783</td>\n",
       "      <td>8,863</td>\n",
       "      <td>8,566</td>\n",
       "      <td>8,782</td>\n",
       "      <td>8,678</td>\n",
       "      <td>8,410</td>\n",
       "      <td>8,149</td>\n",
       "      <td>0.0</td>\n",
       "    </tr>\n",
       "    <tr>\n",
       "      <th>Health sciences</th>\n",
       "      <td>2,177</td>\n",
       "      <td>2,387</td>\n",
       "      <td>2,529</td>\n",
       "      <td>2,278</td>\n",
       "      <td>2,276</td>\n",
       "      <td>2,297</td>\n",
       "      <td>2,495</td>\n",
       "      <td>2,530</td>\n",
       "      <td>2,582</td>\n",
       "      <td>2,669</td>\n",
       "      <td>2,331</td>\n",
       "      <td>7.1</td>\n",
       "    </tr>\n",
       "    <tr>\n",
       "      <th>...</th>\n",
       "      <td>...</td>\n",
       "      <td>...</td>\n",
       "      <td>...</td>\n",
       "      <td>...</td>\n",
       "      <td>...</td>\n",
       "      <td>...</td>\n",
       "      <td>...</td>\n",
       "      <td>...</td>\n",
       "      <td>...</td>\n",
       "      <td>...</td>\n",
       "      <td>...</td>\n",
       "      <td>...</td>\n",
       "    </tr>\n",
       "    <tr>\n",
       "      <th>Other humanities and arts</th>\n",
       "      <td>299</td>\n",
       "      <td>324</td>\n",
       "      <td>316</td>\n",
       "      <td>302</td>\n",
       "      <td>309</td>\n",
       "      <td>280</td>\n",
       "      <td>286</td>\n",
       "      <td>307</td>\n",
       "      <td>345</td>\n",
       "      <td>305</td>\n",
       "      <td>310</td>\n",
       "      <td>3.7</td>\n",
       "    </tr>\n",
       "    <tr>\n",
       "      <th>Other</th>\n",
       "      <td>786</td>\n",
       "      <td>834</td>\n",
       "      <td>945</td>\n",
       "      <td>905</td>\n",
       "      <td>867</td>\n",
       "      <td>890</td>\n",
       "      <td>940</td>\n",
       "      <td>1,028</td>\n",
       "      <td>1,106</td>\n",
       "      <td>1,075</td>\n",
       "      <td>1,142</td>\n",
       "      <td>45.3</td>\n",
       "    </tr>\n",
       "    <tr>\n",
       "      <th>Business management and administration</th>\n",
       "      <td>477</td>\n",
       "      <td>542</td>\n",
       "      <td>600</td>\n",
       "      <td>589</td>\n",
       "      <td>546</td>\n",
       "      <td>553</td>\n",
       "      <td>588</td>\n",
       "      <td>642</td>\n",
       "      <td>689</td>\n",
       "      <td>658</td>\n",
       "      <td>683</td>\n",
       "      <td>43.2</td>\n",
       "    </tr>\n",
       "    <tr>\n",
       "      <th>Communication</th>\n",
       "      <td>132</td>\n",
       "      <td>107</td>\n",
       "      <td>133</td>\n",
       "      <td>137</td>\n",
       "      <td>137</td>\n",
       "      <td>160</td>\n",
       "      <td>122</td>\n",
       "      <td>165</td>\n",
       "      <td>163</td>\n",
       "      <td>153</td>\n",
       "      <td>140</td>\n",
       "      <td>6.1</td>\n",
       "    </tr>\n",
       "    <tr>\n",
       "      <th>Non-science and engineering fields nec</th>\n",
       "      <td>177</td>\n",
       "      <td>185</td>\n",
       "      <td>212</td>\n",
       "      <td>179</td>\n",
       "      <td>184</td>\n",
       "      <td>177</td>\n",
       "      <td>230</td>\n",
       "      <td>221</td>\n",
       "      <td>254</td>\n",
       "      <td>264</td>\n",
       "      <td>319</td>\n",
       "      <td>80.2</td>\n",
       "    </tr>\n",
       "  </tbody>\n",
       "</table>\n",
       "<p>132 rows × 12 columns</p>\n",
       "</div>"
      ],
      "text/plain": [
       "                                               2011    2012    2013    2014   \n",
       "Field and citizenship status                                                  \n",
       "All doctorate recipientsa                    48,909  50,943  52,703  53,986  \\\n",
       "Life sciences                                11,535  11,964  12,207  12,484   \n",
       "Agricultural sciences and natural resources   1,206   1,255   1,324   1,338   \n",
       "Biological and biomedical sciences            8,152   8,322   8,354   8,868   \n",
       "Health sciences                               2,177   2,387   2,529   2,278   \n",
       "...                                             ...     ...     ...     ...   \n",
       "Other humanities and arts                       299     324     316     302   \n",
       "Other                                           786     834     945     905   \n",
       "Business management and administration          477     542     600     589   \n",
       "Communication                                   132     107     133     137   \n",
       "Non-science and engineering fields nec          177     185     212     179   \n",
       "\n",
       "                                               2015    2016    2017    2018   \n",
       "Field and citizenship status                                                  \n",
       "All doctorate recipientsa                    54,886  54,809  54,552  55,080  \\\n",
       "Life sciences                                12,493  12,539  12,554  12,754   \n",
       "Agricultural sciences and natural resources   1,434   1,379   1,493   1,442   \n",
       "Biological and biomedical sciences            8,783   8,863   8,566   8,782   \n",
       "Health sciences                               2,276   2,297   2,495   2,530   \n",
       "...                                             ...     ...     ...     ...   \n",
       "Other humanities and arts                       309     280     286     307   \n",
       "Other                                           867     890     940   1,028   \n",
       "Business management and administration          546     553     588     642   \n",
       "Communication                                   137     160     122     165   \n",
       "Non-science and engineering fields nec          184     177     230     221   \n",
       "\n",
       "                                               2019    2020    2021   \n",
       "Field and citizenship status                                          \n",
       "All doctorate recipientsa                    55,609  55,224  52,250  \\\n",
       "Life sciences                                12,748  12,549  11,814   \n",
       "Agricultural sciences and natural resources   1,488   1,470   1,334   \n",
       "Biological and biomedical sciences            8,678   8,410   8,149   \n",
       "Health sciences                               2,582   2,669   2,331   \n",
       "...                                             ...     ...     ...   \n",
       "Other humanities and arts                       345     305     310   \n",
       "Other                                         1,106   1,075   1,142   \n",
       "Business management and administration          689     658     683   \n",
       "Communication                                   163     153     140   \n",
       "Non-science and engineering fields nec          254     264     319   \n",
       "\n",
       "                                             % change 2011–21  \n",
       "Field and citizenship status                                   \n",
       "All doctorate recipientsa                                 6.8  \n",
       "Life sciences                                             2.4  \n",
       "Agricultural sciences and natural resources              10.6  \n",
       "Biological and biomedical sciences                        0.0  \n",
       "Health sciences                                           7.1  \n",
       "...                                                       ...  \n",
       "Other humanities and arts                                 3.7  \n",
       "Other                                                    45.3  \n",
       "Business management and administration                   43.2  \n",
       "Communication                                             6.1  \n",
       "Non-science and engineering fields nec                   80.2  \n",
       "\n",
       "[132 rows x 12 columns]"
      ]
     },
     "execution_count": 14,
     "metadata": {},
     "output_type": "execute_result"
    }
   ],
   "source": [
    "bystudy"
   ]
  },
  {
   "cell_type": "code",
   "execution_count": 15,
   "id": "aa4829c1-8d72-4833-a97b-0f15a81ed0ec",
   "metadata": {},
   "outputs": [
    {
     "data": {
      "text/plain": [
       "Index(['All doctorate recipientsa', 'Life sciences',\n",
       "       'Agricultural sciences and natural resources',\n",
       "       'Biological and biomedical sciences', 'Health sciences',\n",
       "       'Physical sciences and earth sciences', 'Chemistry',\n",
       "       'Geosciences, atmospheric sciences, and ocean sciences',\n",
       "       'Physics and astronomy', 'Mathematics and computer sciences',\n",
       "       ...\n",
       "       'Other education', 'Humanities and arts',\n",
       "       'Foreign languages and literature', 'History', 'Letters',\n",
       "       'Other humanities and arts', 'Other',\n",
       "       'Business management and administration', 'Communication',\n",
       "       'Non-science and engineering fields nec'],\n",
       "      dtype='object', name='Field and citizenship status', length=132)"
      ]
     },
     "execution_count": 15,
     "metadata": {},
     "output_type": "execute_result"
    }
   ],
   "source": [
    "bystudy.index"
   ]
  },
  {
   "cell_type": "code",
   "execution_count": 16,
   "id": "3652a94b-f4fb-4c56-acdc-113ead236c22",
   "metadata": {
    "tags": []
   },
   "outputs": [
    {
     "data": {
      "text/html": [
       "<div>\n",
       "<style scoped>\n",
       "    .dataframe tbody tr th:only-of-type {\n",
       "        vertical-align: middle;\n",
       "    }\n",
       "\n",
       "    .dataframe tbody tr th {\n",
       "        vertical-align: top;\n",
       "    }\n",
       "\n",
       "    .dataframe thead th {\n",
       "        text-align: right;\n",
       "    }\n",
       "</style>\n",
       "<table border=\"1\" class=\"dataframe\">\n",
       "  <thead>\n",
       "    <tr style=\"text-align: right;\">\n",
       "      <th></th>\n",
       "      <th>2011</th>\n",
       "      <th>2012</th>\n",
       "      <th>2013</th>\n",
       "      <th>2014</th>\n",
       "      <th>2015</th>\n",
       "      <th>2016</th>\n",
       "      <th>2017</th>\n",
       "      <th>2018</th>\n",
       "      <th>2019</th>\n",
       "      <th>2020</th>\n",
       "      <th>2021</th>\n",
       "      <th>% change 2011–21</th>\n",
       "    </tr>\n",
       "    <tr>\n",
       "      <th>Field and citizenship status</th>\n",
       "      <th></th>\n",
       "      <th></th>\n",
       "      <th></th>\n",
       "      <th></th>\n",
       "      <th></th>\n",
       "      <th></th>\n",
       "      <th></th>\n",
       "      <th></th>\n",
       "      <th></th>\n",
       "      <th></th>\n",
       "      <th></th>\n",
       "      <th></th>\n",
       "    </tr>\n",
       "  </thead>\n",
       "  <tbody>\n",
       "    <tr>\n",
       "      <th>All doctorate recipientsa</th>\n",
       "      <td>48,909</td>\n",
       "      <td>50,943</td>\n",
       "      <td>52,703</td>\n",
       "      <td>53,986</td>\n",
       "      <td>54,886</td>\n",
       "      <td>54,809</td>\n",
       "      <td>54,552</td>\n",
       "      <td>55,080</td>\n",
       "      <td>55,609</td>\n",
       "      <td>55,224</td>\n",
       "      <td>52,250</td>\n",
       "      <td>6.8</td>\n",
       "    </tr>\n",
       "    <tr>\n",
       "      <th>Life sciences</th>\n",
       "      <td>11,535</td>\n",
       "      <td>11,964</td>\n",
       "      <td>12,207</td>\n",
       "      <td>12,484</td>\n",
       "      <td>12,493</td>\n",
       "      <td>12,539</td>\n",
       "      <td>12,554</td>\n",
       "      <td>12,754</td>\n",
       "      <td>12,748</td>\n",
       "      <td>12,549</td>\n",
       "      <td>11,814</td>\n",
       "      <td>2.4</td>\n",
       "    </tr>\n",
       "    <tr>\n",
       "      <th>Agricultural sciences and natural resources</th>\n",
       "      <td>1,206</td>\n",
       "      <td>1,255</td>\n",
       "      <td>1,324</td>\n",
       "      <td>1,338</td>\n",
       "      <td>1,434</td>\n",
       "      <td>1,379</td>\n",
       "      <td>1,493</td>\n",
       "      <td>1,442</td>\n",
       "      <td>1,488</td>\n",
       "      <td>1,470</td>\n",
       "      <td>1,334</td>\n",
       "      <td>10.6</td>\n",
       "    </tr>\n",
       "    <tr>\n",
       "      <th>Biological and biomedical sciences</th>\n",
       "      <td>8,152</td>\n",
       "      <td>8,322</td>\n",
       "      <td>8,354</td>\n",
       "      <td>8,868</td>\n",
       "      <td>8,783</td>\n",
       "      <td>8,863</td>\n",
       "      <td>8,566</td>\n",
       "      <td>8,782</td>\n",
       "      <td>8,678</td>\n",
       "      <td>8,410</td>\n",
       "      <td>8,149</td>\n",
       "      <td>0.0</td>\n",
       "    </tr>\n",
       "    <tr>\n",
       "      <th>Health sciences</th>\n",
       "      <td>2,177</td>\n",
       "      <td>2,387</td>\n",
       "      <td>2,529</td>\n",
       "      <td>2,278</td>\n",
       "      <td>2,276</td>\n",
       "      <td>2,297</td>\n",
       "      <td>2,495</td>\n",
       "      <td>2,530</td>\n",
       "      <td>2,582</td>\n",
       "      <td>2,669</td>\n",
       "      <td>2,331</td>\n",
       "      <td>7.1</td>\n",
       "    </tr>\n",
       "    <tr>\n",
       "      <th>...</th>\n",
       "      <td>...</td>\n",
       "      <td>...</td>\n",
       "      <td>...</td>\n",
       "      <td>...</td>\n",
       "      <td>...</td>\n",
       "      <td>...</td>\n",
       "      <td>...</td>\n",
       "      <td>...</td>\n",
       "      <td>...</td>\n",
       "      <td>...</td>\n",
       "      <td>...</td>\n",
       "      <td>...</td>\n",
       "    </tr>\n",
       "    <tr>\n",
       "      <th>Other humanities and arts</th>\n",
       "      <td>299</td>\n",
       "      <td>324</td>\n",
       "      <td>316</td>\n",
       "      <td>302</td>\n",
       "      <td>309</td>\n",
       "      <td>280</td>\n",
       "      <td>286</td>\n",
       "      <td>307</td>\n",
       "      <td>345</td>\n",
       "      <td>305</td>\n",
       "      <td>310</td>\n",
       "      <td>3.7</td>\n",
       "    </tr>\n",
       "    <tr>\n",
       "      <th>Other</th>\n",
       "      <td>786</td>\n",
       "      <td>834</td>\n",
       "      <td>945</td>\n",
       "      <td>905</td>\n",
       "      <td>867</td>\n",
       "      <td>890</td>\n",
       "      <td>940</td>\n",
       "      <td>1,028</td>\n",
       "      <td>1,106</td>\n",
       "      <td>1,075</td>\n",
       "      <td>1,142</td>\n",
       "      <td>45.3</td>\n",
       "    </tr>\n",
       "    <tr>\n",
       "      <th>Business management and administration</th>\n",
       "      <td>477</td>\n",
       "      <td>542</td>\n",
       "      <td>600</td>\n",
       "      <td>589</td>\n",
       "      <td>546</td>\n",
       "      <td>553</td>\n",
       "      <td>588</td>\n",
       "      <td>642</td>\n",
       "      <td>689</td>\n",
       "      <td>658</td>\n",
       "      <td>683</td>\n",
       "      <td>43.2</td>\n",
       "    </tr>\n",
       "    <tr>\n",
       "      <th>Communication</th>\n",
       "      <td>132</td>\n",
       "      <td>107</td>\n",
       "      <td>133</td>\n",
       "      <td>137</td>\n",
       "      <td>137</td>\n",
       "      <td>160</td>\n",
       "      <td>122</td>\n",
       "      <td>165</td>\n",
       "      <td>163</td>\n",
       "      <td>153</td>\n",
       "      <td>140</td>\n",
       "      <td>6.1</td>\n",
       "    </tr>\n",
       "    <tr>\n",
       "      <th>Non-science and engineering fields nec</th>\n",
       "      <td>177</td>\n",
       "      <td>185</td>\n",
       "      <td>212</td>\n",
       "      <td>179</td>\n",
       "      <td>184</td>\n",
       "      <td>177</td>\n",
       "      <td>230</td>\n",
       "      <td>221</td>\n",
       "      <td>254</td>\n",
       "      <td>264</td>\n",
       "      <td>319</td>\n",
       "      <td>80.2</td>\n",
       "    </tr>\n",
       "  </tbody>\n",
       "</table>\n",
       "<p>132 rows × 12 columns</p>\n",
       "</div>"
      ],
      "text/plain": [
       "                                               2011    2012    2013    2014   \n",
       "Field and citizenship status                                                  \n",
       "All doctorate recipientsa                    48,909  50,943  52,703  53,986  \\\n",
       "Life sciences                                11,535  11,964  12,207  12,484   \n",
       "Agricultural sciences and natural resources   1,206   1,255   1,324   1,338   \n",
       "Biological and biomedical sciences            8,152   8,322   8,354   8,868   \n",
       "Health sciences                               2,177   2,387   2,529   2,278   \n",
       "...                                             ...     ...     ...     ...   \n",
       "Other humanities and arts                       299     324     316     302   \n",
       "Other                                           786     834     945     905   \n",
       "Business management and administration          477     542     600     589   \n",
       "Communication                                   132     107     133     137   \n",
       "Non-science and engineering fields nec          177     185     212     179   \n",
       "\n",
       "                                               2015    2016    2017    2018   \n",
       "Field and citizenship status                                                  \n",
       "All doctorate recipientsa                    54,886  54,809  54,552  55,080  \\\n",
       "Life sciences                                12,493  12,539  12,554  12,754   \n",
       "Agricultural sciences and natural resources   1,434   1,379   1,493   1,442   \n",
       "Biological and biomedical sciences            8,783   8,863   8,566   8,782   \n",
       "Health sciences                               2,276   2,297   2,495   2,530   \n",
       "...                                             ...     ...     ...     ...   \n",
       "Other humanities and arts                       309     280     286     307   \n",
       "Other                                           867     890     940   1,028   \n",
       "Business management and administration          546     553     588     642   \n",
       "Communication                                   137     160     122     165   \n",
       "Non-science and engineering fields nec          184     177     230     221   \n",
       "\n",
       "                                               2019    2020    2021   \n",
       "Field and citizenship status                                          \n",
       "All doctorate recipientsa                    55,609  55,224  52,250  \\\n",
       "Life sciences                                12,748  12,549  11,814   \n",
       "Agricultural sciences and natural resources   1,488   1,470   1,334   \n",
       "Biological and biomedical sciences            8,678   8,410   8,149   \n",
       "Health sciences                               2,582   2,669   2,331   \n",
       "...                                             ...     ...     ...   \n",
       "Other humanities and arts                       345     305     310   \n",
       "Other                                         1,106   1,075   1,142   \n",
       "Business management and administration          689     658     683   \n",
       "Communication                                   163     153     140   \n",
       "Non-science and engineering fields nec          254     264     319   \n",
       "\n",
       "                                             % change 2011–21  \n",
       "Field and citizenship status                                   \n",
       "All doctorate recipientsa                                 6.8  \n",
       "Life sciences                                             2.4  \n",
       "Agricultural sciences and natural resources              10.6  \n",
       "Biological and biomedical sciences                        0.0  \n",
       "Health sciences                                           7.1  \n",
       "...                                                       ...  \n",
       "Other humanities and arts                                 3.7  \n",
       "Other                                                    45.3  \n",
       "Business management and administration                   43.2  \n",
       "Communication                                             6.1  \n",
       "Non-science and engineering fields nec                   80.2  \n",
       "\n",
       "[132 rows x 12 columns]"
      ]
     },
     "execution_count": 16,
     "metadata": {},
     "output_type": "execute_result"
    }
   ],
   "source": [
    "#### DATA CLEANING #####\n",
    "for i in range(2011,2022):\n",
    "   # print(bystudy[str(i)])\n",
    "    for a in bystudy[str(i)]:\n",
    "        a=a.replace(\",\",\"\")\n",
    "bystudy\n",
    "#year=bystudy.astype({'2011':'int'})                        "
   ]
  },
  {
   "cell_type": "code",
   "execution_count": 17,
   "id": "e536316f-8dcc-41d4-987a-d3e380288c96",
   "metadata": {},
   "outputs": [
    {
     "data": {
      "text/html": [
       "<div>\n",
       "<style scoped>\n",
       "    .dataframe tbody tr th:only-of-type {\n",
       "        vertical-align: middle;\n",
       "    }\n",
       "\n",
       "    .dataframe tbody tr th {\n",
       "        vertical-align: top;\n",
       "    }\n",
       "\n",
       "    .dataframe thead th {\n",
       "        text-align: right;\n",
       "    }\n",
       "</style>\n",
       "<table border=\"1\" class=\"dataframe\">\n",
       "  <thead>\n",
       "    <tr style=\"text-align: right;\">\n",
       "      <th>Field and citizenship status</th>\n",
       "      <th>All doctorate recipientsa</th>\n",
       "      <th>Life sciences</th>\n",
       "      <th>Agricultural sciences and natural resources</th>\n",
       "      <th>Biological and biomedical sciences</th>\n",
       "      <th>Health sciences</th>\n",
       "      <th>Physical sciences and earth sciences</th>\n",
       "      <th>Chemistry</th>\n",
       "      <th>Geosciences, atmospheric sciences, and ocean sciences</th>\n",
       "      <th>Physics and astronomy</th>\n",
       "      <th>Mathematics and computer sciences</th>\n",
       "      <th>...</th>\n",
       "      <th>Other education</th>\n",
       "      <th>Humanities and arts</th>\n",
       "      <th>Foreign languages and literature</th>\n",
       "      <th>History</th>\n",
       "      <th>Letters</th>\n",
       "      <th>Other humanities and arts</th>\n",
       "      <th>Other</th>\n",
       "      <th>Business management and administration</th>\n",
       "      <th>Communication</th>\n",
       "      <th>Non-science and engineering fields nec</th>\n",
       "    </tr>\n",
       "  </thead>\n",
       "  <tbody>\n",
       "    <tr>\n",
       "      <th>2011</th>\n",
       "      <td>48909.0</td>\n",
       "      <td>11535.0</td>\n",
       "      <td>1206.0</td>\n",
       "      <td>8152.0</td>\n",
       "      <td>2177.0</td>\n",
       "      <td>5271.0</td>\n",
       "      <td>2432.0</td>\n",
       "      <td>852.0</td>\n",
       "      <td>1987.0</td>\n",
       "      <td>3273.0</td>\n",
       "      <td>...</td>\n",
       "      <td>53.0</td>\n",
       "      <td>767.0</td>\n",
       "      <td>180.0</td>\n",
       "      <td>131.0</td>\n",
       "      <td>157.0</td>\n",
       "      <td>299.0</td>\n",
       "      <td>786.0</td>\n",
       "      <td>477.0</td>\n",
       "      <td>132.0</td>\n",
       "      <td>177.0</td>\n",
       "    </tr>\n",
       "    <tr>\n",
       "      <th>2012</th>\n",
       "      <td>50943.0</td>\n",
       "      <td>11964.0</td>\n",
       "      <td>1255.0</td>\n",
       "      <td>8322.0</td>\n",
       "      <td>2387.0</td>\n",
       "      <td>5419.0</td>\n",
       "      <td>2416.0</td>\n",
       "      <td>941.0</td>\n",
       "      <td>2062.0</td>\n",
       "      <td>3496.0</td>\n",
       "      <td>...</td>\n",
       "      <td>31.0</td>\n",
       "      <td>761.0</td>\n",
       "      <td>160.0</td>\n",
       "      <td>136.0</td>\n",
       "      <td>141.0</td>\n",
       "      <td>324.0</td>\n",
       "      <td>834.0</td>\n",
       "      <td>542.0</td>\n",
       "      <td>107.0</td>\n",
       "      <td>185.0</td>\n",
       "    </tr>\n",
       "    <tr>\n",
       "      <th>2013</th>\n",
       "      <td>52703.0</td>\n",
       "      <td>12207.0</td>\n",
       "      <td>1324.0</td>\n",
       "      <td>8354.0</td>\n",
       "      <td>2529.0</td>\n",
       "      <td>5584.0</td>\n",
       "      <td>2484.0</td>\n",
       "      <td>989.0</td>\n",
       "      <td>2111.0</td>\n",
       "      <td>3660.0</td>\n",
       "      <td>...</td>\n",
       "      <td>31.0</td>\n",
       "      <td>779.0</td>\n",
       "      <td>179.0</td>\n",
       "      <td>134.0</td>\n",
       "      <td>150.0</td>\n",
       "      <td>316.0</td>\n",
       "      <td>945.0</td>\n",
       "      <td>600.0</td>\n",
       "      <td>133.0</td>\n",
       "      <td>212.0</td>\n",
       "    </tr>\n",
       "    <tr>\n",
       "      <th>2014</th>\n",
       "      <td>53986.0</td>\n",
       "      <td>12484.0</td>\n",
       "      <td>1338.0</td>\n",
       "      <td>8868.0</td>\n",
       "      <td>2278.0</td>\n",
       "      <td>5910.0</td>\n",
       "      <td>2673.0</td>\n",
       "      <td>1098.0</td>\n",
       "      <td>2139.0</td>\n",
       "      <td>3862.0</td>\n",
       "      <td>...</td>\n",
       "      <td>36.0</td>\n",
       "      <td>731.0</td>\n",
       "      <td>142.0</td>\n",
       "      <td>147.0</td>\n",
       "      <td>140.0</td>\n",
       "      <td>302.0</td>\n",
       "      <td>905.0</td>\n",
       "      <td>589.0</td>\n",
       "      <td>137.0</td>\n",
       "      <td>179.0</td>\n",
       "    </tr>\n",
       "    <tr>\n",
       "      <th>2015</th>\n",
       "      <td>54886.0</td>\n",
       "      <td>12493.0</td>\n",
       "      <td>1434.0</td>\n",
       "      <td>8783.0</td>\n",
       "      <td>2276.0</td>\n",
       "      <td>5916.0</td>\n",
       "      <td>2666.0</td>\n",
       "      <td>1057.0</td>\n",
       "      <td>2193.0</td>\n",
       "      <td>3818.0</td>\n",
       "      <td>...</td>\n",
       "      <td>33.0</td>\n",
       "      <td>713.0</td>\n",
       "      <td>151.0</td>\n",
       "      <td>131.0</td>\n",
       "      <td>122.0</td>\n",
       "      <td>309.0</td>\n",
       "      <td>867.0</td>\n",
       "      <td>546.0</td>\n",
       "      <td>137.0</td>\n",
       "      <td>184.0</td>\n",
       "    </tr>\n",
       "    <tr>\n",
       "      <th>2016</th>\n",
       "      <td>54809.0</td>\n",
       "      <td>12539.0</td>\n",
       "      <td>1379.0</td>\n",
       "      <td>8863.0</td>\n",
       "      <td>2297.0</td>\n",
       "      <td>6251.0</td>\n",
       "      <td>2703.0</td>\n",
       "      <td>1227.0</td>\n",
       "      <td>2321.0</td>\n",
       "      <td>3954.0</td>\n",
       "      <td>...</td>\n",
       "      <td>69.0</td>\n",
       "      <td>712.0</td>\n",
       "      <td>164.0</td>\n",
       "      <td>142.0</td>\n",
       "      <td>126.0</td>\n",
       "      <td>280.0</td>\n",
       "      <td>890.0</td>\n",
       "      <td>553.0</td>\n",
       "      <td>160.0</td>\n",
       "      <td>177.0</td>\n",
       "    </tr>\n",
       "    <tr>\n",
       "      <th>2017</th>\n",
       "      <td>54552.0</td>\n",
       "      <td>12554.0</td>\n",
       "      <td>1493.0</td>\n",
       "      <td>8566.0</td>\n",
       "      <td>2495.0</td>\n",
       "      <td>6082.0</td>\n",
       "      <td>2699.0</td>\n",
       "      <td>1169.0</td>\n",
       "      <td>2214.0</td>\n",
       "      <td>3842.0</td>\n",
       "      <td>...</td>\n",
       "      <td>42.0</td>\n",
       "      <td>692.0</td>\n",
       "      <td>159.0</td>\n",
       "      <td>125.0</td>\n",
       "      <td>122.0</td>\n",
       "      <td>286.0</td>\n",
       "      <td>940.0</td>\n",
       "      <td>588.0</td>\n",
       "      <td>122.0</td>\n",
       "      <td>230.0</td>\n",
       "    </tr>\n",
       "    <tr>\n",
       "      <th>2018</th>\n",
       "      <td>55080.0</td>\n",
       "      <td>12754.0</td>\n",
       "      <td>1442.0</td>\n",
       "      <td>8782.0</td>\n",
       "      <td>2530.0</td>\n",
       "      <td>6330.0</td>\n",
       "      <td>2807.0</td>\n",
       "      <td>1185.0</td>\n",
       "      <td>2338.0</td>\n",
       "      <td>4022.0</td>\n",
       "      <td>...</td>\n",
       "      <td>43.0</td>\n",
       "      <td>739.0</td>\n",
       "      <td>181.0</td>\n",
       "      <td>112.0</td>\n",
       "      <td>139.0</td>\n",
       "      <td>307.0</td>\n",
       "      <td>1028.0</td>\n",
       "      <td>642.0</td>\n",
       "      <td>165.0</td>\n",
       "      <td>221.0</td>\n",
       "    </tr>\n",
       "    <tr>\n",
       "      <th>2019</th>\n",
       "      <td>55609.0</td>\n",
       "      <td>12748.0</td>\n",
       "      <td>1488.0</td>\n",
       "      <td>8678.0</td>\n",
       "      <td>2582.0</td>\n",
       "      <td>6579.0</td>\n",
       "      <td>2939.0</td>\n",
       "      <td>1272.0</td>\n",
       "      <td>2368.0</td>\n",
       "      <td>4230.0</td>\n",
       "      <td>...</td>\n",
       "      <td>77.0</td>\n",
       "      <td>826.0</td>\n",
       "      <td>202.0</td>\n",
       "      <td>130.0</td>\n",
       "      <td>149.0</td>\n",
       "      <td>345.0</td>\n",
       "      <td>1106.0</td>\n",
       "      <td>689.0</td>\n",
       "      <td>163.0</td>\n",
       "      <td>254.0</td>\n",
       "    </tr>\n",
       "    <tr>\n",
       "      <th>2020</th>\n",
       "      <td>55224.0</td>\n",
       "      <td>12549.0</td>\n",
       "      <td>1470.0</td>\n",
       "      <td>8410.0</td>\n",
       "      <td>2669.0</td>\n",
       "      <td>6241.0</td>\n",
       "      <td>2761.0</td>\n",
       "      <td>1241.0</td>\n",
       "      <td>2239.0</td>\n",
       "      <td>4387.0</td>\n",
       "      <td>...</td>\n",
       "      <td>49.0</td>\n",
       "      <td>742.0</td>\n",
       "      <td>185.0</td>\n",
       "      <td>120.0</td>\n",
       "      <td>132.0</td>\n",
       "      <td>305.0</td>\n",
       "      <td>1075.0</td>\n",
       "      <td>658.0</td>\n",
       "      <td>153.0</td>\n",
       "      <td>264.0</td>\n",
       "    </tr>\n",
       "    <tr>\n",
       "      <th>2021</th>\n",
       "      <td>52250.0</td>\n",
       "      <td>11814.0</td>\n",
       "      <td>1334.0</td>\n",
       "      <td>8149.0</td>\n",
       "      <td>2331.0</td>\n",
       "      <td>5757.0</td>\n",
       "      <td>2555.0</td>\n",
       "      <td>1064.0</td>\n",
       "      <td>2138.0</td>\n",
       "      <td>4373.0</td>\n",
       "      <td>...</td>\n",
       "      <td>54.0</td>\n",
       "      <td>727.0</td>\n",
       "      <td>117.0</td>\n",
       "      <td>128.0</td>\n",
       "      <td>172.0</td>\n",
       "      <td>310.0</td>\n",
       "      <td>1142.0</td>\n",
       "      <td>683.0</td>\n",
       "      <td>140.0</td>\n",
       "      <td>319.0</td>\n",
       "    </tr>\n",
       "    <tr>\n",
       "      <th>% change 2011–21</th>\n",
       "      <td>6.8</td>\n",
       "      <td>2.4</td>\n",
       "      <td>10.6</td>\n",
       "      <td>0.0</td>\n",
       "      <td>7.1</td>\n",
       "      <td>9.2</td>\n",
       "      <td>5.1</td>\n",
       "      <td>24.9</td>\n",
       "      <td>7.6</td>\n",
       "      <td>33.6</td>\n",
       "      <td>...</td>\n",
       "      <td>1.9</td>\n",
       "      <td>-5.2</td>\n",
       "      <td>-35.0</td>\n",
       "      <td>-2.3</td>\n",
       "      <td>9.6</td>\n",
       "      <td>3.7</td>\n",
       "      <td>45.3</td>\n",
       "      <td>43.2</td>\n",
       "      <td>6.1</td>\n",
       "      <td>80.2</td>\n",
       "    </tr>\n",
       "  </tbody>\n",
       "</table>\n",
       "<p>12 rows × 132 columns</p>\n",
       "</div>"
      ],
      "text/plain": [
       "Field and citizenship status  All doctorate recipientsa  Life sciences   \n",
       "2011                                            48909.0        11535.0  \\\n",
       "2012                                            50943.0        11964.0   \n",
       "2013                                            52703.0        12207.0   \n",
       "2014                                            53986.0        12484.0   \n",
       "2015                                            54886.0        12493.0   \n",
       "2016                                            54809.0        12539.0   \n",
       "2017                                            54552.0        12554.0   \n",
       "2018                                            55080.0        12754.0   \n",
       "2019                                            55609.0        12748.0   \n",
       "2020                                            55224.0        12549.0   \n",
       "2021                                            52250.0        11814.0   \n",
       "% change 2011–21                                    6.8            2.4   \n",
       "\n",
       "Field and citizenship status  Agricultural sciences and natural resources   \n",
       "2011                                                               1206.0  \\\n",
       "2012                                                               1255.0   \n",
       "2013                                                               1324.0   \n",
       "2014                                                               1338.0   \n",
       "2015                                                               1434.0   \n",
       "2016                                                               1379.0   \n",
       "2017                                                               1493.0   \n",
       "2018                                                               1442.0   \n",
       "2019                                                               1488.0   \n",
       "2020                                                               1470.0   \n",
       "2021                                                               1334.0   \n",
       "% change 2011–21                                                     10.6   \n",
       "\n",
       "Field and citizenship status  Biological and biomedical sciences   \n",
       "2011                                                      8152.0  \\\n",
       "2012                                                      8322.0   \n",
       "2013                                                      8354.0   \n",
       "2014                                                      8868.0   \n",
       "2015                                                      8783.0   \n",
       "2016                                                      8863.0   \n",
       "2017                                                      8566.0   \n",
       "2018                                                      8782.0   \n",
       "2019                                                      8678.0   \n",
       "2020                                                      8410.0   \n",
       "2021                                                      8149.0   \n",
       "% change 2011–21                                             0.0   \n",
       "\n",
       "Field and citizenship status  Health sciences   \n",
       "2011                                   2177.0  \\\n",
       "2012                                   2387.0   \n",
       "2013                                   2529.0   \n",
       "2014                                   2278.0   \n",
       "2015                                   2276.0   \n",
       "2016                                   2297.0   \n",
       "2017                                   2495.0   \n",
       "2018                                   2530.0   \n",
       "2019                                   2582.0   \n",
       "2020                                   2669.0   \n",
       "2021                                   2331.0   \n",
       "% change 2011–21                          7.1   \n",
       "\n",
       "Field and citizenship status  Physical sciences and earth sciences  Chemistry   \n",
       "2011                                                        5271.0     2432.0  \\\n",
       "2012                                                        5419.0     2416.0   \n",
       "2013                                                        5584.0     2484.0   \n",
       "2014                                                        5910.0     2673.0   \n",
       "2015                                                        5916.0     2666.0   \n",
       "2016                                                        6251.0     2703.0   \n",
       "2017                                                        6082.0     2699.0   \n",
       "2018                                                        6330.0     2807.0   \n",
       "2019                                                        6579.0     2939.0   \n",
       "2020                                                        6241.0     2761.0   \n",
       "2021                                                        5757.0     2555.0   \n",
       "% change 2011–21                                               9.2        5.1   \n",
       "\n",
       "Field and citizenship status  Geosciences, atmospheric sciences, and ocean sciences   \n",
       "2011                                                                      852.0      \\\n",
       "2012                                                                      941.0       \n",
       "2013                                                                      989.0       \n",
       "2014                                                                     1098.0       \n",
       "2015                                                                     1057.0       \n",
       "2016                                                                     1227.0       \n",
       "2017                                                                     1169.0       \n",
       "2018                                                                     1185.0       \n",
       "2019                                                                     1272.0       \n",
       "2020                                                                     1241.0       \n",
       "2021                                                                     1064.0       \n",
       "% change 2011–21                                                           24.9       \n",
       "\n",
       "Field and citizenship status  Physics and astronomy   \n",
       "2011                                         1987.0  \\\n",
       "2012                                         2062.0   \n",
       "2013                                         2111.0   \n",
       "2014                                         2139.0   \n",
       "2015                                         2193.0   \n",
       "2016                                         2321.0   \n",
       "2017                                         2214.0   \n",
       "2018                                         2338.0   \n",
       "2019                                         2368.0   \n",
       "2020                                         2239.0   \n",
       "2021                                         2138.0   \n",
       "% change 2011–21                                7.6   \n",
       "\n",
       "Field and citizenship status  Mathematics and computer sciences  ...   \n",
       "2011                                                     3273.0  ...  \\\n",
       "2012                                                     3496.0  ...   \n",
       "2013                                                     3660.0  ...   \n",
       "2014                                                     3862.0  ...   \n",
       "2015                                                     3818.0  ...   \n",
       "2016                                                     3954.0  ...   \n",
       "2017                                                     3842.0  ...   \n",
       "2018                                                     4022.0  ...   \n",
       "2019                                                     4230.0  ...   \n",
       "2020                                                     4387.0  ...   \n",
       "2021                                                     4373.0  ...   \n",
       "% change 2011–21                                           33.6  ...   \n",
       "\n",
       "Field and citizenship status  Other education  Humanities and arts   \n",
       "2011                                     53.0                767.0  \\\n",
       "2012                                     31.0                761.0   \n",
       "2013                                     31.0                779.0   \n",
       "2014                                     36.0                731.0   \n",
       "2015                                     33.0                713.0   \n",
       "2016                                     69.0                712.0   \n",
       "2017                                     42.0                692.0   \n",
       "2018                                     43.0                739.0   \n",
       "2019                                     77.0                826.0   \n",
       "2020                                     49.0                742.0   \n",
       "2021                                     54.0                727.0   \n",
       "% change 2011–21                          1.9                 -5.2   \n",
       "\n",
       "Field and citizenship status  Foreign languages and literature  History   \n",
       "2011                                                     180.0    131.0  \\\n",
       "2012                                                     160.0    136.0   \n",
       "2013                                                     179.0    134.0   \n",
       "2014                                                     142.0    147.0   \n",
       "2015                                                     151.0    131.0   \n",
       "2016                                                     164.0    142.0   \n",
       "2017                                                     159.0    125.0   \n",
       "2018                                                     181.0    112.0   \n",
       "2019                                                     202.0    130.0   \n",
       "2020                                                     185.0    120.0   \n",
       "2021                                                     117.0    128.0   \n",
       "% change 2011–21                                         -35.0     -2.3   \n",
       "\n",
       "Field and citizenship status  Letters  Other humanities and arts   Other   \n",
       "2011                            157.0                      299.0   786.0  \\\n",
       "2012                            141.0                      324.0   834.0   \n",
       "2013                            150.0                      316.0   945.0   \n",
       "2014                            140.0                      302.0   905.0   \n",
       "2015                            122.0                      309.0   867.0   \n",
       "2016                            126.0                      280.0   890.0   \n",
       "2017                            122.0                      286.0   940.0   \n",
       "2018                            139.0                      307.0  1028.0   \n",
       "2019                            149.0                      345.0  1106.0   \n",
       "2020                            132.0                      305.0  1075.0   \n",
       "2021                            172.0                      310.0  1142.0   \n",
       "% change 2011–21                  9.6                        3.7    45.3   \n",
       "\n",
       "Field and citizenship status  Business management and administration   \n",
       "2011                                                           477.0  \\\n",
       "2012                                                           542.0   \n",
       "2013                                                           600.0   \n",
       "2014                                                           589.0   \n",
       "2015                                                           546.0   \n",
       "2016                                                           553.0   \n",
       "2017                                                           588.0   \n",
       "2018                                                           642.0   \n",
       "2019                                                           689.0   \n",
       "2020                                                           658.0   \n",
       "2021                                                           683.0   \n",
       "% change 2011–21                                                43.2   \n",
       "\n",
       "Field and citizenship status  Communication   \n",
       "2011                                  132.0  \\\n",
       "2012                                  107.0   \n",
       "2013                                  133.0   \n",
       "2014                                  137.0   \n",
       "2015                                  137.0   \n",
       "2016                                  160.0   \n",
       "2017                                  122.0   \n",
       "2018                                  165.0   \n",
       "2019                                  163.0   \n",
       "2020                                  153.0   \n",
       "2021                                  140.0   \n",
       "% change 2011–21                        6.1   \n",
       "\n",
       "Field and citizenship status  Non-science and engineering fields nec  \n",
       "2011                                                           177.0  \n",
       "2012                                                           185.0  \n",
       "2013                                                           212.0  \n",
       "2014                                                           179.0  \n",
       "2015                                                           184.0  \n",
       "2016                                                           177.0  \n",
       "2017                                                           230.0  \n",
       "2018                                                           221.0  \n",
       "2019                                                           254.0  \n",
       "2020                                                           264.0  \n",
       "2021                                                           319.0  \n",
       "% change 2011–21                                                80.2  \n",
       "\n",
       "[12 rows x 132 columns]"
      ]
     },
     "execution_count": 17,
     "metadata": {},
     "output_type": "execute_result"
    }
   ],
   "source": [
    "year=bystudy\n",
    "for i in range(2011,2022):\n",
    "    #print(bystudy[str(i)])\n",
    "    year[str(i)]=bystudy[str(i)].str.replace(\",\",\"\")\n",
    "\n",
    "\n",
    "        \n",
    "        #df['x']=df['x'].str.replace(',','')\n",
    "for i in range(2011,2022):\n",
    "    \n",
    "    year=year.astype({str(i):'float'})  \n",
    "year\n",
    "study=year.T\n",
    "study"
   ]
  },
  {
   "cell_type": "code",
   "execution_count": 18,
   "id": "03c35595-8a6c-4a1a-80b9-17eb835d004a",
   "metadata": {
    "tags": []
   },
   "outputs": [],
   "source": [
    "study = study.iloc[:, :44] ######### ONLY DEALS WITH ALL RECIPIENTS ###############\n",
    "\n",
    " "
   ]
  },
  {
   "cell_type": "code",
   "execution_count": 19,
   "id": "c3334205-a280-413c-a8a2-7239252bdbd0",
   "metadata": {},
   "outputs": [
    {
     "data": {
      "text/html": [
       "<div>\n",
       "<style scoped>\n",
       "    .dataframe tbody tr th:only-of-type {\n",
       "        vertical-align: middle;\n",
       "    }\n",
       "\n",
       "    .dataframe tbody tr th {\n",
       "        vertical-align: top;\n",
       "    }\n",
       "\n",
       "    .dataframe thead th {\n",
       "        text-align: right;\n",
       "    }\n",
       "</style>\n",
       "<table border=\"1\" class=\"dataframe\">\n",
       "  <thead>\n",
       "    <tr style=\"text-align: right;\">\n",
       "      <th>Field and citizenship status</th>\n",
       "      <th>All doctorate recipientsa</th>\n",
       "      <th>Life sciences</th>\n",
       "      <th>Agricultural sciences and natural resources</th>\n",
       "      <th>Biological and biomedical sciences</th>\n",
       "      <th>Health sciences</th>\n",
       "      <th>Physical sciences and earth sciences</th>\n",
       "      <th>Chemistry</th>\n",
       "      <th>Geosciences, atmospheric sciences, and ocean sciences</th>\n",
       "      <th>Physics and astronomy</th>\n",
       "      <th>Mathematics and computer sciences</th>\n",
       "      <th>...</th>\n",
       "      <th>Other education</th>\n",
       "      <th>Humanities and arts</th>\n",
       "      <th>Foreign languages and literature</th>\n",
       "      <th>History</th>\n",
       "      <th>Letters</th>\n",
       "      <th>Other humanities and arts</th>\n",
       "      <th>Other</th>\n",
       "      <th>Business management and administration</th>\n",
       "      <th>Communication</th>\n",
       "      <th>Non-science and engineering fields nec</th>\n",
       "    </tr>\n",
       "  </thead>\n",
       "  <tbody>\n",
       "    <tr>\n",
       "      <th>2011</th>\n",
       "      <td>48909.0</td>\n",
       "      <td>11535.0</td>\n",
       "      <td>1206.0</td>\n",
       "      <td>8152.0</td>\n",
       "      <td>2177.0</td>\n",
       "      <td>5271.0</td>\n",
       "      <td>2432.0</td>\n",
       "      <td>852.0</td>\n",
       "      <td>1987.0</td>\n",
       "      <td>3273.0</td>\n",
       "      <td>...</td>\n",
       "      <td>359.0</td>\n",
       "      <td>5225.0</td>\n",
       "      <td>644.0</td>\n",
       "      <td>1065.0</td>\n",
       "      <td>1513.0</td>\n",
       "      <td>2003.0</td>\n",
       "      <td>2683.0</td>\n",
       "      <td>1327.0</td>\n",
       "      <td>650.0</td>\n",
       "      <td>706.0</td>\n",
       "    </tr>\n",
       "    <tr>\n",
       "      <th>2012</th>\n",
       "      <td>50943.0</td>\n",
       "      <td>11964.0</td>\n",
       "      <td>1255.0</td>\n",
       "      <td>8322.0</td>\n",
       "      <td>2387.0</td>\n",
       "      <td>5419.0</td>\n",
       "      <td>2416.0</td>\n",
       "      <td>941.0</td>\n",
       "      <td>2062.0</td>\n",
       "      <td>3496.0</td>\n",
       "      <td>...</td>\n",
       "      <td>316.0</td>\n",
       "      <td>5561.0</td>\n",
       "      <td>684.0</td>\n",
       "      <td>1086.0</td>\n",
       "      <td>1638.0</td>\n",
       "      <td>2153.0</td>\n",
       "      <td>2734.0</td>\n",
       "      <td>1404.0</td>\n",
       "      <td>595.0</td>\n",
       "      <td>735.0</td>\n",
       "    </tr>\n",
       "    <tr>\n",
       "      <th>2013</th>\n",
       "      <td>52703.0</td>\n",
       "      <td>12207.0</td>\n",
       "      <td>1324.0</td>\n",
       "      <td>8354.0</td>\n",
       "      <td>2529.0</td>\n",
       "      <td>5584.0</td>\n",
       "      <td>2484.0</td>\n",
       "      <td>989.0</td>\n",
       "      <td>2111.0</td>\n",
       "      <td>3660.0</td>\n",
       "      <td>...</td>\n",
       "      <td>330.0</td>\n",
       "      <td>5715.0</td>\n",
       "      <td>701.0</td>\n",
       "      <td>1148.0</td>\n",
       "      <td>1606.0</td>\n",
       "      <td>2260.0</td>\n",
       "      <td>3023.0</td>\n",
       "      <td>1551.0</td>\n",
       "      <td>645.0</td>\n",
       "      <td>827.0</td>\n",
       "    </tr>\n",
       "    <tr>\n",
       "      <th>2014</th>\n",
       "      <td>53986.0</td>\n",
       "      <td>12484.0</td>\n",
       "      <td>1338.0</td>\n",
       "      <td>8868.0</td>\n",
       "      <td>2278.0</td>\n",
       "      <td>5910.0</td>\n",
       "      <td>2673.0</td>\n",
       "      <td>1098.0</td>\n",
       "      <td>2139.0</td>\n",
       "      <td>3862.0</td>\n",
       "      <td>...</td>\n",
       "      <td>339.0</td>\n",
       "      <td>5524.0</td>\n",
       "      <td>674.0</td>\n",
       "      <td>1186.0</td>\n",
       "      <td>1551.0</td>\n",
       "      <td>2113.0</td>\n",
       "      <td>3043.0</td>\n",
       "      <td>1584.0</td>\n",
       "      <td>663.0</td>\n",
       "      <td>796.0</td>\n",
       "    </tr>\n",
       "    <tr>\n",
       "      <th>2015</th>\n",
       "      <td>54886.0</td>\n",
       "      <td>12493.0</td>\n",
       "      <td>1434.0</td>\n",
       "      <td>8783.0</td>\n",
       "      <td>2276.0</td>\n",
       "      <td>5916.0</td>\n",
       "      <td>2666.0</td>\n",
       "      <td>1057.0</td>\n",
       "      <td>2193.0</td>\n",
       "      <td>3818.0</td>\n",
       "      <td>...</td>\n",
       "      <td>352.0</td>\n",
       "      <td>5594.0</td>\n",
       "      <td>656.0</td>\n",
       "      <td>1146.0</td>\n",
       "      <td>1583.0</td>\n",
       "      <td>2209.0</td>\n",
       "      <td>3019.0</td>\n",
       "      <td>1582.0</td>\n",
       "      <td>667.0</td>\n",
       "      <td>770.0</td>\n",
       "    </tr>\n",
       "    <tr>\n",
       "      <th>2016</th>\n",
       "      <td>54809.0</td>\n",
       "      <td>12539.0</td>\n",
       "      <td>1379.0</td>\n",
       "      <td>8863.0</td>\n",
       "      <td>2297.0</td>\n",
       "      <td>6251.0</td>\n",
       "      <td>2703.0</td>\n",
       "      <td>1227.0</td>\n",
       "      <td>2321.0</td>\n",
       "      <td>3954.0</td>\n",
       "      <td>...</td>\n",
       "      <td>648.0</td>\n",
       "      <td>5482.0</td>\n",
       "      <td>599.0</td>\n",
       "      <td>1148.0</td>\n",
       "      <td>1531.0</td>\n",
       "      <td>2204.0</td>\n",
       "      <td>2941.0</td>\n",
       "      <td>1509.0</td>\n",
       "      <td>672.0</td>\n",
       "      <td>760.0</td>\n",
       "    </tr>\n",
       "    <tr>\n",
       "      <th>2017</th>\n",
       "      <td>54552.0</td>\n",
       "      <td>12554.0</td>\n",
       "      <td>1493.0</td>\n",
       "      <td>8566.0</td>\n",
       "      <td>2495.0</td>\n",
       "      <td>6082.0</td>\n",
       "      <td>2699.0</td>\n",
       "      <td>1169.0</td>\n",
       "      <td>2214.0</td>\n",
       "      <td>3842.0</td>\n",
       "      <td>...</td>\n",
       "      <td>492.0</td>\n",
       "      <td>5286.0</td>\n",
       "      <td>618.0</td>\n",
       "      <td>1058.0</td>\n",
       "      <td>1462.0</td>\n",
       "      <td>2148.0</td>\n",
       "      <td>3152.0</td>\n",
       "      <td>1565.0</td>\n",
       "      <td>622.0</td>\n",
       "      <td>965.0</td>\n",
       "    </tr>\n",
       "    <tr>\n",
       "      <th>2018</th>\n",
       "      <td>55080.0</td>\n",
       "      <td>12754.0</td>\n",
       "      <td>1442.0</td>\n",
       "      <td>8782.0</td>\n",
       "      <td>2530.0</td>\n",
       "      <td>6330.0</td>\n",
       "      <td>2807.0</td>\n",
       "      <td>1185.0</td>\n",
       "      <td>2338.0</td>\n",
       "      <td>4022.0</td>\n",
       "      <td>...</td>\n",
       "      <td>411.0</td>\n",
       "      <td>5139.0</td>\n",
       "      <td>617.0</td>\n",
       "      <td>948.0</td>\n",
       "      <td>1439.0</td>\n",
       "      <td>2135.0</td>\n",
       "      <td>2977.0</td>\n",
       "      <td>1473.0</td>\n",
       "      <td>630.0</td>\n",
       "      <td>874.0</td>\n",
       "    </tr>\n",
       "    <tr>\n",
       "      <th>2019</th>\n",
       "      <td>55609.0</td>\n",
       "      <td>12748.0</td>\n",
       "      <td>1488.0</td>\n",
       "      <td>8678.0</td>\n",
       "      <td>2582.0</td>\n",
       "      <td>6579.0</td>\n",
       "      <td>2939.0</td>\n",
       "      <td>1272.0</td>\n",
       "      <td>2368.0</td>\n",
       "      <td>4230.0</td>\n",
       "      <td>...</td>\n",
       "      <td>480.0</td>\n",
       "      <td>5051.0</td>\n",
       "      <td>610.0</td>\n",
       "      <td>912.0</td>\n",
       "      <td>1386.0</td>\n",
       "      <td>2143.0</td>\n",
       "      <td>3027.0</td>\n",
       "      <td>1533.0</td>\n",
       "      <td>543.0</td>\n",
       "      <td>951.0</td>\n",
       "    </tr>\n",
       "    <tr>\n",
       "      <th>2020</th>\n",
       "      <td>55224.0</td>\n",
       "      <td>12549.0</td>\n",
       "      <td>1470.0</td>\n",
       "      <td>8410.0</td>\n",
       "      <td>2669.0</td>\n",
       "      <td>6241.0</td>\n",
       "      <td>2761.0</td>\n",
       "      <td>1241.0</td>\n",
       "      <td>2239.0</td>\n",
       "      <td>4387.0</td>\n",
       "      <td>...</td>\n",
       "      <td>457.0</td>\n",
       "      <td>4924.0</td>\n",
       "      <td>564.0</td>\n",
       "      <td>884.0</td>\n",
       "      <td>1389.0</td>\n",
       "      <td>2087.0</td>\n",
       "      <td>3005.0</td>\n",
       "      <td>1468.0</td>\n",
       "      <td>591.0</td>\n",
       "      <td>946.0</td>\n",
       "    </tr>\n",
       "    <tr>\n",
       "      <th>2021</th>\n",
       "      <td>52250.0</td>\n",
       "      <td>11814.0</td>\n",
       "      <td>1334.0</td>\n",
       "      <td>8149.0</td>\n",
       "      <td>2331.0</td>\n",
       "      <td>5757.0</td>\n",
       "      <td>2555.0</td>\n",
       "      <td>1064.0</td>\n",
       "      <td>2138.0</td>\n",
       "      <td>4373.0</td>\n",
       "      <td>...</td>\n",
       "      <td>467.0</td>\n",
       "      <td>4137.0</td>\n",
       "      <td>377.0</td>\n",
       "      <td>725.0</td>\n",
       "      <td>1192.0</td>\n",
       "      <td>1843.0</td>\n",
       "      <td>3002.0</td>\n",
       "      <td>1392.0</td>\n",
       "      <td>507.0</td>\n",
       "      <td>1103.0</td>\n",
       "    </tr>\n",
       "    <tr>\n",
       "      <th>% change 2011–21</th>\n",
       "      <td>6.8</td>\n",
       "      <td>2.4</td>\n",
       "      <td>10.6</td>\n",
       "      <td>0.0</td>\n",
       "      <td>7.1</td>\n",
       "      <td>9.2</td>\n",
       "      <td>5.1</td>\n",
       "      <td>24.9</td>\n",
       "      <td>7.6</td>\n",
       "      <td>33.6</td>\n",
       "      <td>...</td>\n",
       "      <td>30.1</td>\n",
       "      <td>-20.8</td>\n",
       "      <td>-41.5</td>\n",
       "      <td>-31.9</td>\n",
       "      <td>-21.2</td>\n",
       "      <td>-8.0</td>\n",
       "      <td>11.9</td>\n",
       "      <td>4.9</td>\n",
       "      <td>-22.0</td>\n",
       "      <td>56.2</td>\n",
       "    </tr>\n",
       "  </tbody>\n",
       "</table>\n",
       "<p>12 rows × 44 columns</p>\n",
       "</div>"
      ],
      "text/plain": [
       "Field and citizenship status  All doctorate recipientsa  Life sciences   \n",
       "2011                                            48909.0        11535.0  \\\n",
       "2012                                            50943.0        11964.0   \n",
       "2013                                            52703.0        12207.0   \n",
       "2014                                            53986.0        12484.0   \n",
       "2015                                            54886.0        12493.0   \n",
       "2016                                            54809.0        12539.0   \n",
       "2017                                            54552.0        12554.0   \n",
       "2018                                            55080.0        12754.0   \n",
       "2019                                            55609.0        12748.0   \n",
       "2020                                            55224.0        12549.0   \n",
       "2021                                            52250.0        11814.0   \n",
       "% change 2011–21                                    6.8            2.4   \n",
       "\n",
       "Field and citizenship status  Agricultural sciences and natural resources   \n",
       "2011                                                               1206.0  \\\n",
       "2012                                                               1255.0   \n",
       "2013                                                               1324.0   \n",
       "2014                                                               1338.0   \n",
       "2015                                                               1434.0   \n",
       "2016                                                               1379.0   \n",
       "2017                                                               1493.0   \n",
       "2018                                                               1442.0   \n",
       "2019                                                               1488.0   \n",
       "2020                                                               1470.0   \n",
       "2021                                                               1334.0   \n",
       "% change 2011–21                                                     10.6   \n",
       "\n",
       "Field and citizenship status  Biological and biomedical sciences   \n",
       "2011                                                      8152.0  \\\n",
       "2012                                                      8322.0   \n",
       "2013                                                      8354.0   \n",
       "2014                                                      8868.0   \n",
       "2015                                                      8783.0   \n",
       "2016                                                      8863.0   \n",
       "2017                                                      8566.0   \n",
       "2018                                                      8782.0   \n",
       "2019                                                      8678.0   \n",
       "2020                                                      8410.0   \n",
       "2021                                                      8149.0   \n",
       "% change 2011–21                                             0.0   \n",
       "\n",
       "Field and citizenship status  Health sciences   \n",
       "2011                                   2177.0  \\\n",
       "2012                                   2387.0   \n",
       "2013                                   2529.0   \n",
       "2014                                   2278.0   \n",
       "2015                                   2276.0   \n",
       "2016                                   2297.0   \n",
       "2017                                   2495.0   \n",
       "2018                                   2530.0   \n",
       "2019                                   2582.0   \n",
       "2020                                   2669.0   \n",
       "2021                                   2331.0   \n",
       "% change 2011–21                          7.1   \n",
       "\n",
       "Field and citizenship status  Physical sciences and earth sciences  Chemistry   \n",
       "2011                                                        5271.0     2432.0  \\\n",
       "2012                                                        5419.0     2416.0   \n",
       "2013                                                        5584.0     2484.0   \n",
       "2014                                                        5910.0     2673.0   \n",
       "2015                                                        5916.0     2666.0   \n",
       "2016                                                        6251.0     2703.0   \n",
       "2017                                                        6082.0     2699.0   \n",
       "2018                                                        6330.0     2807.0   \n",
       "2019                                                        6579.0     2939.0   \n",
       "2020                                                        6241.0     2761.0   \n",
       "2021                                                        5757.0     2555.0   \n",
       "% change 2011–21                                               9.2        5.1   \n",
       "\n",
       "Field and citizenship status  Geosciences, atmospheric sciences, and ocean sciences   \n",
       "2011                                                                      852.0      \\\n",
       "2012                                                                      941.0       \n",
       "2013                                                                      989.0       \n",
       "2014                                                                     1098.0       \n",
       "2015                                                                     1057.0       \n",
       "2016                                                                     1227.0       \n",
       "2017                                                                     1169.0       \n",
       "2018                                                                     1185.0       \n",
       "2019                                                                     1272.0       \n",
       "2020                                                                     1241.0       \n",
       "2021                                                                     1064.0       \n",
       "% change 2011–21                                                           24.9       \n",
       "\n",
       "Field and citizenship status  Physics and astronomy   \n",
       "2011                                         1987.0  \\\n",
       "2012                                         2062.0   \n",
       "2013                                         2111.0   \n",
       "2014                                         2139.0   \n",
       "2015                                         2193.0   \n",
       "2016                                         2321.0   \n",
       "2017                                         2214.0   \n",
       "2018                                         2338.0   \n",
       "2019                                         2368.0   \n",
       "2020                                         2239.0   \n",
       "2021                                         2138.0   \n",
       "% change 2011–21                                7.6   \n",
       "\n",
       "Field and citizenship status  Mathematics and computer sciences  ...   \n",
       "2011                                                     3273.0  ...  \\\n",
       "2012                                                     3496.0  ...   \n",
       "2013                                                     3660.0  ...   \n",
       "2014                                                     3862.0  ...   \n",
       "2015                                                     3818.0  ...   \n",
       "2016                                                     3954.0  ...   \n",
       "2017                                                     3842.0  ...   \n",
       "2018                                                     4022.0  ...   \n",
       "2019                                                     4230.0  ...   \n",
       "2020                                                     4387.0  ...   \n",
       "2021                                                     4373.0  ...   \n",
       "% change 2011–21                                           33.6  ...   \n",
       "\n",
       "Field and citizenship status  Other education  Humanities and arts   \n",
       "2011                                    359.0               5225.0  \\\n",
       "2012                                    316.0               5561.0   \n",
       "2013                                    330.0               5715.0   \n",
       "2014                                    339.0               5524.0   \n",
       "2015                                    352.0               5594.0   \n",
       "2016                                    648.0               5482.0   \n",
       "2017                                    492.0               5286.0   \n",
       "2018                                    411.0               5139.0   \n",
       "2019                                    480.0               5051.0   \n",
       "2020                                    457.0               4924.0   \n",
       "2021                                    467.0               4137.0   \n",
       "% change 2011–21                         30.1                -20.8   \n",
       "\n",
       "Field and citizenship status  Foreign languages and literature  History   \n",
       "2011                                                     644.0   1065.0  \\\n",
       "2012                                                     684.0   1086.0   \n",
       "2013                                                     701.0   1148.0   \n",
       "2014                                                     674.0   1186.0   \n",
       "2015                                                     656.0   1146.0   \n",
       "2016                                                     599.0   1148.0   \n",
       "2017                                                     618.0   1058.0   \n",
       "2018                                                     617.0    948.0   \n",
       "2019                                                     610.0    912.0   \n",
       "2020                                                     564.0    884.0   \n",
       "2021                                                     377.0    725.0   \n",
       "% change 2011–21                                         -41.5    -31.9   \n",
       "\n",
       "Field and citizenship status  Letters  Other humanities and arts   Other   \n",
       "2011                           1513.0                     2003.0  2683.0  \\\n",
       "2012                           1638.0                     2153.0  2734.0   \n",
       "2013                           1606.0                     2260.0  3023.0   \n",
       "2014                           1551.0                     2113.0  3043.0   \n",
       "2015                           1583.0                     2209.0  3019.0   \n",
       "2016                           1531.0                     2204.0  2941.0   \n",
       "2017                           1462.0                     2148.0  3152.0   \n",
       "2018                           1439.0                     2135.0  2977.0   \n",
       "2019                           1386.0                     2143.0  3027.0   \n",
       "2020                           1389.0                     2087.0  3005.0   \n",
       "2021                           1192.0                     1843.0  3002.0   \n",
       "% change 2011–21                -21.2                       -8.0    11.9   \n",
       "\n",
       "Field and citizenship status  Business management and administration   \n",
       "2011                                                          1327.0  \\\n",
       "2012                                                          1404.0   \n",
       "2013                                                          1551.0   \n",
       "2014                                                          1584.0   \n",
       "2015                                                          1582.0   \n",
       "2016                                                          1509.0   \n",
       "2017                                                          1565.0   \n",
       "2018                                                          1473.0   \n",
       "2019                                                          1533.0   \n",
       "2020                                                          1468.0   \n",
       "2021                                                          1392.0   \n",
       "% change 2011–21                                                 4.9   \n",
       "\n",
       "Field and citizenship status  Communication   \n",
       "2011                                  650.0  \\\n",
       "2012                                  595.0   \n",
       "2013                                  645.0   \n",
       "2014                                  663.0   \n",
       "2015                                  667.0   \n",
       "2016                                  672.0   \n",
       "2017                                  622.0   \n",
       "2018                                  630.0   \n",
       "2019                                  543.0   \n",
       "2020                                  591.0   \n",
       "2021                                  507.0   \n",
       "% change 2011–21                      -22.0   \n",
       "\n",
       "Field and citizenship status  Non-science and engineering fields nec  \n",
       "2011                                                           706.0  \n",
       "2012                                                           735.0  \n",
       "2013                                                           827.0  \n",
       "2014                                                           796.0  \n",
       "2015                                                           770.0  \n",
       "2016                                                           760.0  \n",
       "2017                                                           965.0  \n",
       "2018                                                           874.0  \n",
       "2019                                                           951.0  \n",
       "2020                                                           946.0  \n",
       "2021                                                          1103.0  \n",
       "% change 2011–21                                                56.2  \n",
       "\n",
       "[12 rows x 44 columns]"
      ]
     },
     "execution_count": 19,
     "metadata": {},
     "output_type": "execute_result"
    }
   ],
   "source": [
    "study"
   ]
  },
  {
   "cell_type": "code",
   "execution_count": 20,
   "id": "114d0a33-05e0-43b2-ac4d-0ff40e69e311",
   "metadata": {},
   "outputs": [],
   "source": [
    "study.to_csv(\"CSV/nsf23300-tab001-007-1.csv\")"
   ]
  },
  {
   "cell_type": "code",
   "execution_count": 21,
   "id": "97ae85c5-6e7f-4eab-b914-1259445d1c2b",
   "metadata": {},
   "outputs": [
    {
     "data": {
      "text/html": [
       "<div>\n",
       "<style scoped>\n",
       "    .dataframe tbody tr th:only-of-type {\n",
       "        vertical-align: middle;\n",
       "    }\n",
       "\n",
       "    .dataframe tbody tr th {\n",
       "        vertical-align: top;\n",
       "    }\n",
       "\n",
       "    .dataframe thead th {\n",
       "        text-align: right;\n",
       "    }\n",
       "</style>\n",
       "<table border=\"1\" class=\"dataframe\">\n",
       "  <thead>\n",
       "    <tr style=\"text-align: right;\">\n",
       "      <th></th>\n",
       "      <th>All doctorate recipientsa</th>\n",
       "      <th>Life sciences</th>\n",
       "      <th>Agricultural sciences and natural resources</th>\n",
       "      <th>Biological and biomedical sciences</th>\n",
       "      <th>Health sciences</th>\n",
       "      <th>Physical sciences and earth sciences</th>\n",
       "      <th>Chemistry</th>\n",
       "      <th>Geosciences, atmospheric sciences, and ocean sciences</th>\n",
       "      <th>Physics and astronomy</th>\n",
       "      <th>Mathematics and computer sciences</th>\n",
       "      <th>...</th>\n",
       "      <th>Other education</th>\n",
       "      <th>Humanities and arts</th>\n",
       "      <th>Foreign languages and literature</th>\n",
       "      <th>History</th>\n",
       "      <th>Letters</th>\n",
       "      <th>Other humanities and arts</th>\n",
       "      <th>Other</th>\n",
       "      <th>Business management and administration</th>\n",
       "      <th>Communication</th>\n",
       "      <th>Non-science and engineering fields nec</th>\n",
       "    </tr>\n",
       "  </thead>\n",
       "  <tbody>\n",
       "    <tr>\n",
       "      <th>2011</th>\n",
       "      <td>48909.0</td>\n",
       "      <td>11535.0</td>\n",
       "      <td>1206.0</td>\n",
       "      <td>8152.0</td>\n",
       "      <td>2177.0</td>\n",
       "      <td>5271.0</td>\n",
       "      <td>2432.0</td>\n",
       "      <td>852.0</td>\n",
       "      <td>1987.0</td>\n",
       "      <td>3273.0</td>\n",
       "      <td>...</td>\n",
       "      <td>359.0</td>\n",
       "      <td>5225.0</td>\n",
       "      <td>644.0</td>\n",
       "      <td>1065.0</td>\n",
       "      <td>1513.0</td>\n",
       "      <td>2003.0</td>\n",
       "      <td>2683.0</td>\n",
       "      <td>1327.0</td>\n",
       "      <td>650.0</td>\n",
       "      <td>706.0</td>\n",
       "    </tr>\n",
       "    <tr>\n",
       "      <th>2012</th>\n",
       "      <td>50943.0</td>\n",
       "      <td>11964.0</td>\n",
       "      <td>1255.0</td>\n",
       "      <td>8322.0</td>\n",
       "      <td>2387.0</td>\n",
       "      <td>5419.0</td>\n",
       "      <td>2416.0</td>\n",
       "      <td>941.0</td>\n",
       "      <td>2062.0</td>\n",
       "      <td>3496.0</td>\n",
       "      <td>...</td>\n",
       "      <td>316.0</td>\n",
       "      <td>5561.0</td>\n",
       "      <td>684.0</td>\n",
       "      <td>1086.0</td>\n",
       "      <td>1638.0</td>\n",
       "      <td>2153.0</td>\n",
       "      <td>2734.0</td>\n",
       "      <td>1404.0</td>\n",
       "      <td>595.0</td>\n",
       "      <td>735.0</td>\n",
       "    </tr>\n",
       "    <tr>\n",
       "      <th>2013</th>\n",
       "      <td>52703.0</td>\n",
       "      <td>12207.0</td>\n",
       "      <td>1324.0</td>\n",
       "      <td>8354.0</td>\n",
       "      <td>2529.0</td>\n",
       "      <td>5584.0</td>\n",
       "      <td>2484.0</td>\n",
       "      <td>989.0</td>\n",
       "      <td>2111.0</td>\n",
       "      <td>3660.0</td>\n",
       "      <td>...</td>\n",
       "      <td>330.0</td>\n",
       "      <td>5715.0</td>\n",
       "      <td>701.0</td>\n",
       "      <td>1148.0</td>\n",
       "      <td>1606.0</td>\n",
       "      <td>2260.0</td>\n",
       "      <td>3023.0</td>\n",
       "      <td>1551.0</td>\n",
       "      <td>645.0</td>\n",
       "      <td>827.0</td>\n",
       "    </tr>\n",
       "    <tr>\n",
       "      <th>2014</th>\n",
       "      <td>53986.0</td>\n",
       "      <td>12484.0</td>\n",
       "      <td>1338.0</td>\n",
       "      <td>8868.0</td>\n",
       "      <td>2278.0</td>\n",
       "      <td>5910.0</td>\n",
       "      <td>2673.0</td>\n",
       "      <td>1098.0</td>\n",
       "      <td>2139.0</td>\n",
       "      <td>3862.0</td>\n",
       "      <td>...</td>\n",
       "      <td>339.0</td>\n",
       "      <td>5524.0</td>\n",
       "      <td>674.0</td>\n",
       "      <td>1186.0</td>\n",
       "      <td>1551.0</td>\n",
       "      <td>2113.0</td>\n",
       "      <td>3043.0</td>\n",
       "      <td>1584.0</td>\n",
       "      <td>663.0</td>\n",
       "      <td>796.0</td>\n",
       "    </tr>\n",
       "    <tr>\n",
       "      <th>2015</th>\n",
       "      <td>54886.0</td>\n",
       "      <td>12493.0</td>\n",
       "      <td>1434.0</td>\n",
       "      <td>8783.0</td>\n",
       "      <td>2276.0</td>\n",
       "      <td>5916.0</td>\n",
       "      <td>2666.0</td>\n",
       "      <td>1057.0</td>\n",
       "      <td>2193.0</td>\n",
       "      <td>3818.0</td>\n",
       "      <td>...</td>\n",
       "      <td>352.0</td>\n",
       "      <td>5594.0</td>\n",
       "      <td>656.0</td>\n",
       "      <td>1146.0</td>\n",
       "      <td>1583.0</td>\n",
       "      <td>2209.0</td>\n",
       "      <td>3019.0</td>\n",
       "      <td>1582.0</td>\n",
       "      <td>667.0</td>\n",
       "      <td>770.0</td>\n",
       "    </tr>\n",
       "    <tr>\n",
       "      <th>2016</th>\n",
       "      <td>54809.0</td>\n",
       "      <td>12539.0</td>\n",
       "      <td>1379.0</td>\n",
       "      <td>8863.0</td>\n",
       "      <td>2297.0</td>\n",
       "      <td>6251.0</td>\n",
       "      <td>2703.0</td>\n",
       "      <td>1227.0</td>\n",
       "      <td>2321.0</td>\n",
       "      <td>3954.0</td>\n",
       "      <td>...</td>\n",
       "      <td>648.0</td>\n",
       "      <td>5482.0</td>\n",
       "      <td>599.0</td>\n",
       "      <td>1148.0</td>\n",
       "      <td>1531.0</td>\n",
       "      <td>2204.0</td>\n",
       "      <td>2941.0</td>\n",
       "      <td>1509.0</td>\n",
       "      <td>672.0</td>\n",
       "      <td>760.0</td>\n",
       "    </tr>\n",
       "    <tr>\n",
       "      <th>2017</th>\n",
       "      <td>54552.0</td>\n",
       "      <td>12554.0</td>\n",
       "      <td>1493.0</td>\n",
       "      <td>8566.0</td>\n",
       "      <td>2495.0</td>\n",
       "      <td>6082.0</td>\n",
       "      <td>2699.0</td>\n",
       "      <td>1169.0</td>\n",
       "      <td>2214.0</td>\n",
       "      <td>3842.0</td>\n",
       "      <td>...</td>\n",
       "      <td>492.0</td>\n",
       "      <td>5286.0</td>\n",
       "      <td>618.0</td>\n",
       "      <td>1058.0</td>\n",
       "      <td>1462.0</td>\n",
       "      <td>2148.0</td>\n",
       "      <td>3152.0</td>\n",
       "      <td>1565.0</td>\n",
       "      <td>622.0</td>\n",
       "      <td>965.0</td>\n",
       "    </tr>\n",
       "    <tr>\n",
       "      <th>2018</th>\n",
       "      <td>55080.0</td>\n",
       "      <td>12754.0</td>\n",
       "      <td>1442.0</td>\n",
       "      <td>8782.0</td>\n",
       "      <td>2530.0</td>\n",
       "      <td>6330.0</td>\n",
       "      <td>2807.0</td>\n",
       "      <td>1185.0</td>\n",
       "      <td>2338.0</td>\n",
       "      <td>4022.0</td>\n",
       "      <td>...</td>\n",
       "      <td>411.0</td>\n",
       "      <td>5139.0</td>\n",
       "      <td>617.0</td>\n",
       "      <td>948.0</td>\n",
       "      <td>1439.0</td>\n",
       "      <td>2135.0</td>\n",
       "      <td>2977.0</td>\n",
       "      <td>1473.0</td>\n",
       "      <td>630.0</td>\n",
       "      <td>874.0</td>\n",
       "    </tr>\n",
       "    <tr>\n",
       "      <th>2019</th>\n",
       "      <td>55609.0</td>\n",
       "      <td>12748.0</td>\n",
       "      <td>1488.0</td>\n",
       "      <td>8678.0</td>\n",
       "      <td>2582.0</td>\n",
       "      <td>6579.0</td>\n",
       "      <td>2939.0</td>\n",
       "      <td>1272.0</td>\n",
       "      <td>2368.0</td>\n",
       "      <td>4230.0</td>\n",
       "      <td>...</td>\n",
       "      <td>480.0</td>\n",
       "      <td>5051.0</td>\n",
       "      <td>610.0</td>\n",
       "      <td>912.0</td>\n",
       "      <td>1386.0</td>\n",
       "      <td>2143.0</td>\n",
       "      <td>3027.0</td>\n",
       "      <td>1533.0</td>\n",
       "      <td>543.0</td>\n",
       "      <td>951.0</td>\n",
       "    </tr>\n",
       "    <tr>\n",
       "      <th>2020</th>\n",
       "      <td>55224.0</td>\n",
       "      <td>12549.0</td>\n",
       "      <td>1470.0</td>\n",
       "      <td>8410.0</td>\n",
       "      <td>2669.0</td>\n",
       "      <td>6241.0</td>\n",
       "      <td>2761.0</td>\n",
       "      <td>1241.0</td>\n",
       "      <td>2239.0</td>\n",
       "      <td>4387.0</td>\n",
       "      <td>...</td>\n",
       "      <td>457.0</td>\n",
       "      <td>4924.0</td>\n",
       "      <td>564.0</td>\n",
       "      <td>884.0</td>\n",
       "      <td>1389.0</td>\n",
       "      <td>2087.0</td>\n",
       "      <td>3005.0</td>\n",
       "      <td>1468.0</td>\n",
       "      <td>591.0</td>\n",
       "      <td>946.0</td>\n",
       "    </tr>\n",
       "    <tr>\n",
       "      <th>2021</th>\n",
       "      <td>52250.0</td>\n",
       "      <td>11814.0</td>\n",
       "      <td>1334.0</td>\n",
       "      <td>8149.0</td>\n",
       "      <td>2331.0</td>\n",
       "      <td>5757.0</td>\n",
       "      <td>2555.0</td>\n",
       "      <td>1064.0</td>\n",
       "      <td>2138.0</td>\n",
       "      <td>4373.0</td>\n",
       "      <td>...</td>\n",
       "      <td>467.0</td>\n",
       "      <td>4137.0</td>\n",
       "      <td>377.0</td>\n",
       "      <td>725.0</td>\n",
       "      <td>1192.0</td>\n",
       "      <td>1843.0</td>\n",
       "      <td>3002.0</td>\n",
       "      <td>1392.0</td>\n",
       "      <td>507.0</td>\n",
       "      <td>1103.0</td>\n",
       "    </tr>\n",
       "    <tr>\n",
       "      <th>% change 2011â€“21</th>\n",
       "      <td>6.8</td>\n",
       "      <td>2.4</td>\n",
       "      <td>10.6</td>\n",
       "      <td>0.0</td>\n",
       "      <td>7.1</td>\n",
       "      <td>9.2</td>\n",
       "      <td>5.1</td>\n",
       "      <td>24.9</td>\n",
       "      <td>7.6</td>\n",
       "      <td>33.6</td>\n",
       "      <td>...</td>\n",
       "      <td>30.1</td>\n",
       "      <td>-20.8</td>\n",
       "      <td>-41.5</td>\n",
       "      <td>-31.9</td>\n",
       "      <td>-21.2</td>\n",
       "      <td>-8.0</td>\n",
       "      <td>11.9</td>\n",
       "      <td>4.9</td>\n",
       "      <td>-22.0</td>\n",
       "      <td>56.2</td>\n",
       "    </tr>\n",
       "  </tbody>\n",
       "</table>\n",
       "<p>12 rows × 44 columns</p>\n",
       "</div>"
      ],
      "text/plain": [
       "                    All doctorate recipientsa  Life sciences   \n",
       "2011                                  48909.0        11535.0  \\\n",
       "2012                                  50943.0        11964.0   \n",
       "2013                                  52703.0        12207.0   \n",
       "2014                                  53986.0        12484.0   \n",
       "2015                                  54886.0        12493.0   \n",
       "2016                                  54809.0        12539.0   \n",
       "2017                                  54552.0        12554.0   \n",
       "2018                                  55080.0        12754.0   \n",
       "2019                                  55609.0        12748.0   \n",
       "2020                                  55224.0        12549.0   \n",
       "2021                                  52250.0        11814.0   \n",
       "% change 2011â€“21                        6.8            2.4   \n",
       "\n",
       "                    Agricultural sciences and natural resources   \n",
       "2011                                                     1206.0  \\\n",
       "2012                                                     1255.0   \n",
       "2013                                                     1324.0   \n",
       "2014                                                     1338.0   \n",
       "2015                                                     1434.0   \n",
       "2016                                                     1379.0   \n",
       "2017                                                     1493.0   \n",
       "2018                                                     1442.0   \n",
       "2019                                                     1488.0   \n",
       "2020                                                     1470.0   \n",
       "2021                                                     1334.0   \n",
       "% change 2011â€“21                                         10.6   \n",
       "\n",
       "                    Biological and biomedical sciences  Health sciences   \n",
       "2011                                            8152.0           2177.0  \\\n",
       "2012                                            8322.0           2387.0   \n",
       "2013                                            8354.0           2529.0   \n",
       "2014                                            8868.0           2278.0   \n",
       "2015                                            8783.0           2276.0   \n",
       "2016                                            8863.0           2297.0   \n",
       "2017                                            8566.0           2495.0   \n",
       "2018                                            8782.0           2530.0   \n",
       "2019                                            8678.0           2582.0   \n",
       "2020                                            8410.0           2669.0   \n",
       "2021                                            8149.0           2331.0   \n",
       "% change 2011â€“21                                 0.0              7.1   \n",
       "\n",
       "                    Physical sciences and earth sciences  Chemistry   \n",
       "2011                                              5271.0     2432.0  \\\n",
       "2012                                              5419.0     2416.0   \n",
       "2013                                              5584.0     2484.0   \n",
       "2014                                              5910.0     2673.0   \n",
       "2015                                              5916.0     2666.0   \n",
       "2016                                              6251.0     2703.0   \n",
       "2017                                              6082.0     2699.0   \n",
       "2018                                              6330.0     2807.0   \n",
       "2019                                              6579.0     2939.0   \n",
       "2020                                              6241.0     2761.0   \n",
       "2021                                              5757.0     2555.0   \n",
       "% change 2011â€“21                                   9.2        5.1   \n",
       "\n",
       "                    Geosciences, atmospheric sciences, and ocean sciences   \n",
       "2011                                                            852.0      \\\n",
       "2012                                                            941.0       \n",
       "2013                                                            989.0       \n",
       "2014                                                           1098.0       \n",
       "2015                                                           1057.0       \n",
       "2016                                                           1227.0       \n",
       "2017                                                           1169.0       \n",
       "2018                                                           1185.0       \n",
       "2019                                                           1272.0       \n",
       "2020                                                           1241.0       \n",
       "2021                                                           1064.0       \n",
       "% change 2011â€“21                                               24.9       \n",
       "\n",
       "                    Physics and astronomy  Mathematics and computer sciences   \n",
       "2011                               1987.0                             3273.0  \\\n",
       "2012                               2062.0                             3496.0   \n",
       "2013                               2111.0                             3660.0   \n",
       "2014                               2139.0                             3862.0   \n",
       "2015                               2193.0                             3818.0   \n",
       "2016                               2321.0                             3954.0   \n",
       "2017                               2214.0                             3842.0   \n",
       "2018                               2338.0                             4022.0   \n",
       "2019                               2368.0                             4230.0   \n",
       "2020                               2239.0                             4387.0   \n",
       "2021                               2138.0                             4373.0   \n",
       "% change 2011â€“21                    7.6                               33.6   \n",
       "\n",
       "                    ...  Other education  Humanities and arts   \n",
       "2011                ...            359.0               5225.0  \\\n",
       "2012                ...            316.0               5561.0   \n",
       "2013                ...            330.0               5715.0   \n",
       "2014                ...            339.0               5524.0   \n",
       "2015                ...            352.0               5594.0   \n",
       "2016                ...            648.0               5482.0   \n",
       "2017                ...            492.0               5286.0   \n",
       "2018                ...            411.0               5139.0   \n",
       "2019                ...            480.0               5051.0   \n",
       "2020                ...            457.0               4924.0   \n",
       "2021                ...            467.0               4137.0   \n",
       "% change 2011â€“21  ...             30.1                -20.8   \n",
       "\n",
       "                    Foreign languages and literature  History  Letters   \n",
       "2011                                           644.0   1065.0   1513.0  \\\n",
       "2012                                           684.0   1086.0   1638.0   \n",
       "2013                                           701.0   1148.0   1606.0   \n",
       "2014                                           674.0   1186.0   1551.0   \n",
       "2015                                           656.0   1146.0   1583.0   \n",
       "2016                                           599.0   1148.0   1531.0   \n",
       "2017                                           618.0   1058.0   1462.0   \n",
       "2018                                           617.0    948.0   1439.0   \n",
       "2019                                           610.0    912.0   1386.0   \n",
       "2020                                           564.0    884.0   1389.0   \n",
       "2021                                           377.0    725.0   1192.0   \n",
       "% change 2011â€“21                             -41.5    -31.9    -21.2   \n",
       "\n",
       "                    Other humanities and arts   Other   \n",
       "2011                                   2003.0  2683.0  \\\n",
       "2012                                   2153.0  2734.0   \n",
       "2013                                   2260.0  3023.0   \n",
       "2014                                   2113.0  3043.0   \n",
       "2015                                   2209.0  3019.0   \n",
       "2016                                   2204.0  2941.0   \n",
       "2017                                   2148.0  3152.0   \n",
       "2018                                   2135.0  2977.0   \n",
       "2019                                   2143.0  3027.0   \n",
       "2020                                   2087.0  3005.0   \n",
       "2021                                   1843.0  3002.0   \n",
       "% change 2011â€“21                       -8.0    11.9   \n",
       "\n",
       "                    Business management and administration  Communication   \n",
       "2011                                                1327.0          650.0  \\\n",
       "2012                                                1404.0          595.0   \n",
       "2013                                                1551.0          645.0   \n",
       "2014                                                1584.0          663.0   \n",
       "2015                                                1582.0          667.0   \n",
       "2016                                                1509.0          672.0   \n",
       "2017                                                1565.0          622.0   \n",
       "2018                                                1473.0          630.0   \n",
       "2019                                                1533.0          543.0   \n",
       "2020                                                1468.0          591.0   \n",
       "2021                                                1392.0          507.0   \n",
       "% change 2011â€“21                                     4.9          -22.0   \n",
       "\n",
       "                    Non-science and engineering fields nec  \n",
       "2011                                                 706.0  \n",
       "2012                                                 735.0  \n",
       "2013                                                 827.0  \n",
       "2014                                                 796.0  \n",
       "2015                                                 770.0  \n",
       "2016                                                 760.0  \n",
       "2017                                                 965.0  \n",
       "2018                                                 874.0  \n",
       "2019                                                 951.0  \n",
       "2020                                                 946.0  \n",
       "2021                                                1103.0  \n",
       "% change 2011â€“21                                    56.2  \n",
       "\n",
       "[12 rows x 44 columns]"
      ]
     },
     "execution_count": 21,
     "metadata": {},
     "output_type": "execute_result"
    }
   ],
   "source": [
    "study2 = pd.read_csv(\"CSV/nsf23300-tab001-007-1.csv\",encoding='cp1252', index_col=0)\n",
    "study2"
   ]
  },
  {
   "cell_type": "code",
   "execution_count": 22,
   "id": "cbfede61-beaa-4075-b6f0-af571ab54d82",
   "metadata": {},
   "outputs": [],
   "source": [
    "year=study.T\n"
   ]
  },
  {
   "cell_type": "code",
   "execution_count": 23,
   "id": "f516fc8f-6542-4ed1-8ba4-0327cc9c2c6a",
   "metadata": {},
   "outputs": [
    {
     "data": {
      "text/html": [
       "<div>\n",
       "<style scoped>\n",
       "    .dataframe tbody tr th:only-of-type {\n",
       "        vertical-align: middle;\n",
       "    }\n",
       "\n",
       "    .dataframe tbody tr th {\n",
       "        vertical-align: top;\n",
       "    }\n",
       "\n",
       "    .dataframe thead th {\n",
       "        text-align: right;\n",
       "    }\n",
       "</style>\n",
       "<table border=\"1\" class=\"dataframe\">\n",
       "  <thead>\n",
       "    <tr style=\"text-align: right;\">\n",
       "      <th></th>\n",
       "      <th>2011</th>\n",
       "      <th>2012</th>\n",
       "      <th>2013</th>\n",
       "      <th>2014</th>\n",
       "      <th>2015</th>\n",
       "      <th>2016</th>\n",
       "      <th>2017</th>\n",
       "      <th>2018</th>\n",
       "      <th>2019</th>\n",
       "      <th>2020</th>\n",
       "      <th>2021</th>\n",
       "      <th>% change 2011–21</th>\n",
       "    </tr>\n",
       "    <tr>\n",
       "      <th>Field and citizenship status</th>\n",
       "      <th></th>\n",
       "      <th></th>\n",
       "      <th></th>\n",
       "      <th></th>\n",
       "      <th></th>\n",
       "      <th></th>\n",
       "      <th></th>\n",
       "      <th></th>\n",
       "      <th></th>\n",
       "      <th></th>\n",
       "      <th></th>\n",
       "      <th></th>\n",
       "    </tr>\n",
       "  </thead>\n",
       "  <tbody>\n",
       "    <tr>\n",
       "      <th>All doctorate recipientsa</th>\n",
       "      <td>48909.0</td>\n",
       "      <td>50943.0</td>\n",
       "      <td>52703.0</td>\n",
       "      <td>53986.0</td>\n",
       "      <td>54886.0</td>\n",
       "      <td>54809.0</td>\n",
       "      <td>54552.0</td>\n",
       "      <td>55080.0</td>\n",
       "      <td>55609.0</td>\n",
       "      <td>55224.0</td>\n",
       "      <td>52250.0</td>\n",
       "      <td>6.8</td>\n",
       "    </tr>\n",
       "    <tr>\n",
       "      <th>Life sciences</th>\n",
       "      <td>11535.0</td>\n",
       "      <td>11964.0</td>\n",
       "      <td>12207.0</td>\n",
       "      <td>12484.0</td>\n",
       "      <td>12493.0</td>\n",
       "      <td>12539.0</td>\n",
       "      <td>12554.0</td>\n",
       "      <td>12754.0</td>\n",
       "      <td>12748.0</td>\n",
       "      <td>12549.0</td>\n",
       "      <td>11814.0</td>\n",
       "      <td>2.4</td>\n",
       "    </tr>\n",
       "    <tr>\n",
       "      <th>Agricultural sciences and natural resources</th>\n",
       "      <td>1206.0</td>\n",
       "      <td>1255.0</td>\n",
       "      <td>1324.0</td>\n",
       "      <td>1338.0</td>\n",
       "      <td>1434.0</td>\n",
       "      <td>1379.0</td>\n",
       "      <td>1493.0</td>\n",
       "      <td>1442.0</td>\n",
       "      <td>1488.0</td>\n",
       "      <td>1470.0</td>\n",
       "      <td>1334.0</td>\n",
       "      <td>10.6</td>\n",
       "    </tr>\n",
       "    <tr>\n",
       "      <th>Biological and biomedical sciences</th>\n",
       "      <td>8152.0</td>\n",
       "      <td>8322.0</td>\n",
       "      <td>8354.0</td>\n",
       "      <td>8868.0</td>\n",
       "      <td>8783.0</td>\n",
       "      <td>8863.0</td>\n",
       "      <td>8566.0</td>\n",
       "      <td>8782.0</td>\n",
       "      <td>8678.0</td>\n",
       "      <td>8410.0</td>\n",
       "      <td>8149.0</td>\n",
       "      <td>0.0</td>\n",
       "    </tr>\n",
       "    <tr>\n",
       "      <th>Health sciences</th>\n",
       "      <td>2177.0</td>\n",
       "      <td>2387.0</td>\n",
       "      <td>2529.0</td>\n",
       "      <td>2278.0</td>\n",
       "      <td>2276.0</td>\n",
       "      <td>2297.0</td>\n",
       "      <td>2495.0</td>\n",
       "      <td>2530.0</td>\n",
       "      <td>2582.0</td>\n",
       "      <td>2669.0</td>\n",
       "      <td>2331.0</td>\n",
       "      <td>7.1</td>\n",
       "    </tr>\n",
       "    <tr>\n",
       "      <th>Physical sciences and earth sciences</th>\n",
       "      <td>5271.0</td>\n",
       "      <td>5419.0</td>\n",
       "      <td>5584.0</td>\n",
       "      <td>5910.0</td>\n",
       "      <td>5916.0</td>\n",
       "      <td>6251.0</td>\n",
       "      <td>6082.0</td>\n",
       "      <td>6330.0</td>\n",
       "      <td>6579.0</td>\n",
       "      <td>6241.0</td>\n",
       "      <td>5757.0</td>\n",
       "      <td>9.2</td>\n",
       "    </tr>\n",
       "    <tr>\n",
       "      <th>Chemistry</th>\n",
       "      <td>2432.0</td>\n",
       "      <td>2416.0</td>\n",
       "      <td>2484.0</td>\n",
       "      <td>2673.0</td>\n",
       "      <td>2666.0</td>\n",
       "      <td>2703.0</td>\n",
       "      <td>2699.0</td>\n",
       "      <td>2807.0</td>\n",
       "      <td>2939.0</td>\n",
       "      <td>2761.0</td>\n",
       "      <td>2555.0</td>\n",
       "      <td>5.1</td>\n",
       "    </tr>\n",
       "    <tr>\n",
       "      <th>Geosciences, atmospheric sciences, and ocean sciences</th>\n",
       "      <td>852.0</td>\n",
       "      <td>941.0</td>\n",
       "      <td>989.0</td>\n",
       "      <td>1098.0</td>\n",
       "      <td>1057.0</td>\n",
       "      <td>1227.0</td>\n",
       "      <td>1169.0</td>\n",
       "      <td>1185.0</td>\n",
       "      <td>1272.0</td>\n",
       "      <td>1241.0</td>\n",
       "      <td>1064.0</td>\n",
       "      <td>24.9</td>\n",
       "    </tr>\n",
       "    <tr>\n",
       "      <th>Physics and astronomy</th>\n",
       "      <td>1987.0</td>\n",
       "      <td>2062.0</td>\n",
       "      <td>2111.0</td>\n",
       "      <td>2139.0</td>\n",
       "      <td>2193.0</td>\n",
       "      <td>2321.0</td>\n",
       "      <td>2214.0</td>\n",
       "      <td>2338.0</td>\n",
       "      <td>2368.0</td>\n",
       "      <td>2239.0</td>\n",
       "      <td>2138.0</td>\n",
       "      <td>7.6</td>\n",
       "    </tr>\n",
       "    <tr>\n",
       "      <th>Mathematics and computer sciences</th>\n",
       "      <td>3273.0</td>\n",
       "      <td>3496.0</td>\n",
       "      <td>3660.0</td>\n",
       "      <td>3862.0</td>\n",
       "      <td>3818.0</td>\n",
       "      <td>3954.0</td>\n",
       "      <td>3842.0</td>\n",
       "      <td>4022.0</td>\n",
       "      <td>4230.0</td>\n",
       "      <td>4387.0</td>\n",
       "      <td>4373.0</td>\n",
       "      <td>33.6</td>\n",
       "    </tr>\n",
       "    <tr>\n",
       "      <th>Computer and information sciences</th>\n",
       "      <td>1667.0</td>\n",
       "      <td>1793.0</td>\n",
       "      <td>1843.0</td>\n",
       "      <td>1988.0</td>\n",
       "      <td>2003.0</td>\n",
       "      <td>2082.0</td>\n",
       "      <td>1998.0</td>\n",
       "      <td>2000.0</td>\n",
       "      <td>2220.0</td>\n",
       "      <td>2363.0</td>\n",
       "      <td>2361.0</td>\n",
       "      <td>41.6</td>\n",
       "    </tr>\n",
       "    <tr>\n",
       "      <th>Mathematics and statistics</th>\n",
       "      <td>1606.0</td>\n",
       "      <td>1703.0</td>\n",
       "      <td>1817.0</td>\n",
       "      <td>1874.0</td>\n",
       "      <td>1815.0</td>\n",
       "      <td>1872.0</td>\n",
       "      <td>1844.0</td>\n",
       "      <td>2022.0</td>\n",
       "      <td>2010.0</td>\n",
       "      <td>2024.0</td>\n",
       "      <td>2012.0</td>\n",
       "      <td>25.3</td>\n",
       "    </tr>\n",
       "    <tr>\n",
       "      <th>Psychology and social sciences</th>\n",
       "      <td>8220.0</td>\n",
       "      <td>8498.0</td>\n",
       "      <td>8580.0</td>\n",
       "      <td>8748.0</td>\n",
       "      <td>9073.0</td>\n",
       "      <td>9037.0</td>\n",
       "      <td>9034.0</td>\n",
       "      <td>8876.0</td>\n",
       "      <td>9043.0</td>\n",
       "      <td>8932.0</td>\n",
       "      <td>8675.0</td>\n",
       "      <td>5.5</td>\n",
       "    </tr>\n",
       "    <tr>\n",
       "      <th>Psychology</th>\n",
       "      <td>3576.0</td>\n",
       "      <td>3599.0</td>\n",
       "      <td>3592.0</td>\n",
       "      <td>3724.0</td>\n",
       "      <td>3776.0</td>\n",
       "      <td>3910.0</td>\n",
       "      <td>3925.0</td>\n",
       "      <td>3821.0</td>\n",
       "      <td>3909.0</td>\n",
       "      <td>3871.0</td>\n",
       "      <td>3797.0</td>\n",
       "      <td>6.2</td>\n",
       "    </tr>\n",
       "    <tr>\n",
       "      <th>Anthropology</th>\n",
       "      <td>553.0</td>\n",
       "      <td>547.0</td>\n",
       "      <td>550.0</td>\n",
       "      <td>523.0</td>\n",
       "      <td>492.0</td>\n",
       "      <td>460.0</td>\n",
       "      <td>446.0</td>\n",
       "      <td>424.0</td>\n",
       "      <td>445.0</td>\n",
       "      <td>447.0</td>\n",
       "      <td>400.0</td>\n",
       "      <td>-27.7</td>\n",
       "    </tr>\n",
       "    <tr>\n",
       "      <th>Economics</th>\n",
       "      <td>1121.0</td>\n",
       "      <td>1243.0</td>\n",
       "      <td>1183.0</td>\n",
       "      <td>1196.0</td>\n",
       "      <td>1255.0</td>\n",
       "      <td>1236.0</td>\n",
       "      <td>1239.0</td>\n",
       "      <td>1245.0</td>\n",
       "      <td>1247.0</td>\n",
       "      <td>1212.0</td>\n",
       "      <td>1230.0</td>\n",
       "      <td>9.7</td>\n",
       "    </tr>\n",
       "    <tr>\n",
       "      <th>Political science and government</th>\n",
       "      <td>685.0</td>\n",
       "      <td>724.0</td>\n",
       "      <td>803.0</td>\n",
       "      <td>775.0</td>\n",
       "      <td>859.0</td>\n",
       "      <td>745.0</td>\n",
       "      <td>743.0</td>\n",
       "      <td>734.0</td>\n",
       "      <td>707.0</td>\n",
       "      <td>636.0</td>\n",
       "      <td>581.0</td>\n",
       "      <td>-15.2</td>\n",
       "    </tr>\n",
       "    <tr>\n",
       "      <th>Sociology</th>\n",
       "      <td>656.0</td>\n",
       "      <td>633.0</td>\n",
       "      <td>636.0</td>\n",
       "      <td>678.0</td>\n",
       "      <td>741.0</td>\n",
       "      <td>613.0</td>\n",
       "      <td>683.0</td>\n",
       "      <td>668.0</td>\n",
       "      <td>632.0</td>\n",
       "      <td>606.0</td>\n",
       "      <td>560.0</td>\n",
       "      <td>-14.6</td>\n",
       "    </tr>\n",
       "    <tr>\n",
       "      <th>Other social sciences</th>\n",
       "      <td>1629.0</td>\n",
       "      <td>1752.0</td>\n",
       "      <td>1816.0</td>\n",
       "      <td>1852.0</td>\n",
       "      <td>1950.0</td>\n",
       "      <td>2073.0</td>\n",
       "      <td>1998.0</td>\n",
       "      <td>1984.0</td>\n",
       "      <td>2103.0</td>\n",
       "      <td>2160.0</td>\n",
       "      <td>2107.0</td>\n",
       "      <td>29.3</td>\n",
       "    </tr>\n",
       "    <tr>\n",
       "      <th>Engineering</th>\n",
       "      <td>8032.0</td>\n",
       "      <td>8469.0</td>\n",
       "      <td>9000.0</td>\n",
       "      <td>9626.0</td>\n",
       "      <td>9875.0</td>\n",
       "      <td>9459.0</td>\n",
       "      <td>9776.0</td>\n",
       "      <td>10164.0</td>\n",
       "      <td>10298.0</td>\n",
       "      <td>10471.0</td>\n",
       "      <td>10240.0</td>\n",
       "      <td>27.5</td>\n",
       "    </tr>\n",
       "    <tr>\n",
       "      <th>Aerospace, aeronautical, and astronautical engineering</th>\n",
       "      <td>262.0</td>\n",
       "      <td>307.0</td>\n",
       "      <td>348.0</td>\n",
       "      <td>386.0</td>\n",
       "      <td>361.0</td>\n",
       "      <td>370.0</td>\n",
       "      <td>379.0</td>\n",
       "      <td>383.0</td>\n",
       "      <td>379.0</td>\n",
       "      <td>399.0</td>\n",
       "      <td>373.0</td>\n",
       "      <td>42.4</td>\n",
       "    </tr>\n",
       "    <tr>\n",
       "      <th>Bioengineering and biomedical engineering</th>\n",
       "      <td>898.0</td>\n",
       "      <td>943.0</td>\n",
       "      <td>1039.0</td>\n",
       "      <td>1046.0</td>\n",
       "      <td>1125.0</td>\n",
       "      <td>1089.0</td>\n",
       "      <td>1032.0</td>\n",
       "      <td>1133.0</td>\n",
       "      <td>1163.0</td>\n",
       "      <td>1082.0</td>\n",
       "      <td>1064.0</td>\n",
       "      <td>18.5</td>\n",
       "    </tr>\n",
       "    <tr>\n",
       "      <th>Chemical engineering</th>\n",
       "      <td>823.0</td>\n",
       "      <td>840.0</td>\n",
       "      <td>824.0</td>\n",
       "      <td>973.0</td>\n",
       "      <td>1002.0</td>\n",
       "      <td>921.0</td>\n",
       "      <td>931.0</td>\n",
       "      <td>981.0</td>\n",
       "      <td>980.0</td>\n",
       "      <td>994.0</td>\n",
       "      <td>1024.0</td>\n",
       "      <td>24.4</td>\n",
       "    </tr>\n",
       "    <tr>\n",
       "      <th>Civil engineering</th>\n",
       "      <td>634.0</td>\n",
       "      <td>495.0</td>\n",
       "      <td>542.0</td>\n",
       "      <td>617.0</td>\n",
       "      <td>632.0</td>\n",
       "      <td>564.0</td>\n",
       "      <td>713.0</td>\n",
       "      <td>675.0</td>\n",
       "      <td>700.0</td>\n",
       "      <td>795.0</td>\n",
       "      <td>621.0</td>\n",
       "      <td>-2.1</td>\n",
       "    </tr>\n",
       "    <tr>\n",
       "      <th>Electrical, electronics, and communications engineering</th>\n",
       "      <td>1886.0</td>\n",
       "      <td>1938.0</td>\n",
       "      <td>1897.0</td>\n",
       "      <td>1952.0</td>\n",
       "      <td>1997.0</td>\n",
       "      <td>1823.0</td>\n",
       "      <td>1879.0</td>\n",
       "      <td>1943.0</td>\n",
       "      <td>1799.0</td>\n",
       "      <td>1973.0</td>\n",
       "      <td>2081.0</td>\n",
       "      <td>10.3</td>\n",
       "    </tr>\n",
       "    <tr>\n",
       "      <th>Industrial and manufacturing engineering</th>\n",
       "      <td>258.0</td>\n",
       "      <td>226.0</td>\n",
       "      <td>241.0</td>\n",
       "      <td>298.0</td>\n",
       "      <td>243.0</td>\n",
       "      <td>256.0</td>\n",
       "      <td>249.0</td>\n",
       "      <td>272.0</td>\n",
       "      <td>234.0</td>\n",
       "      <td>304.0</td>\n",
       "      <td>361.0</td>\n",
       "      <td>39.9</td>\n",
       "    </tr>\n",
       "    <tr>\n",
       "      <th>Materials science engineering</th>\n",
       "      <td>662.0</td>\n",
       "      <td>743.0</td>\n",
       "      <td>815.0</td>\n",
       "      <td>832.0</td>\n",
       "      <td>871.0</td>\n",
       "      <td>984.0</td>\n",
       "      <td>937.0</td>\n",
       "      <td>992.0</td>\n",
       "      <td>992.0</td>\n",
       "      <td>879.0</td>\n",
       "      <td>936.0</td>\n",
       "      <td>41.4</td>\n",
       "    </tr>\n",
       "    <tr>\n",
       "      <th>Mechanical engineering</th>\n",
       "      <td>1084.0</td>\n",
       "      <td>1220.0</td>\n",
       "      <td>1277.0</td>\n",
       "      <td>1331.0</td>\n",
       "      <td>1466.0</td>\n",
       "      <td>1297.0</td>\n",
       "      <td>1398.0</td>\n",
       "      <td>1503.0</td>\n",
       "      <td>1532.0</td>\n",
       "      <td>1633.0</td>\n",
       "      <td>1444.0</td>\n",
       "      <td>33.2</td>\n",
       "    </tr>\n",
       "    <tr>\n",
       "      <th>Other engineering</th>\n",
       "      <td>1525.0</td>\n",
       "      <td>1757.0</td>\n",
       "      <td>2017.0</td>\n",
       "      <td>2191.0</td>\n",
       "      <td>2178.0</td>\n",
       "      <td>2155.0</td>\n",
       "      <td>2258.0</td>\n",
       "      <td>2282.0</td>\n",
       "      <td>2519.0</td>\n",
       "      <td>2412.0</td>\n",
       "      <td>2336.0</td>\n",
       "      <td>53.2</td>\n",
       "    </tr>\n",
       "    <tr>\n",
       "      <th>Education</th>\n",
       "      <td>4670.0</td>\n",
       "      <td>4802.0</td>\n",
       "      <td>4934.0</td>\n",
       "      <td>4789.0</td>\n",
       "      <td>5098.0</td>\n",
       "      <td>5146.0</td>\n",
       "      <td>4826.0</td>\n",
       "      <td>4818.0</td>\n",
       "      <td>4633.0</td>\n",
       "      <td>4715.0</td>\n",
       "      <td>4252.0</td>\n",
       "      <td>-9.0</td>\n",
       "    </tr>\n",
       "    <tr>\n",
       "      <th>Education administration</th>\n",
       "      <td>924.0</td>\n",
       "      <td>1057.0</td>\n",
       "      <td>965.0</td>\n",
       "      <td>893.0</td>\n",
       "      <td>920.0</td>\n",
       "      <td>824.0</td>\n",
       "      <td>922.0</td>\n",
       "      <td>895.0</td>\n",
       "      <td>839.0</td>\n",
       "      <td>931.0</td>\n",
       "      <td>710.0</td>\n",
       "      <td>-23.2</td>\n",
       "    </tr>\n",
       "    <tr>\n",
       "      <th>Education research</th>\n",
       "      <td>2378.0</td>\n",
       "      <td>2516.0</td>\n",
       "      <td>2638.0</td>\n",
       "      <td>2490.0</td>\n",
       "      <td>2717.0</td>\n",
       "      <td>2328.0</td>\n",
       "      <td>2373.0</td>\n",
       "      <td>2457.0</td>\n",
       "      <td>2253.0</td>\n",
       "      <td>2275.0</td>\n",
       "      <td>2167.0</td>\n",
       "      <td>-8.9</td>\n",
       "    </tr>\n",
       "    <tr>\n",
       "      <th>Teacher education</th>\n",
       "      <td>204.0</td>\n",
       "      <td>156.0</td>\n",
       "      <td>109.0</td>\n",
       "      <td>152.0</td>\n",
       "      <td>156.0</td>\n",
       "      <td>180.0</td>\n",
       "      <td>114.0</td>\n",
       "      <td>96.0</td>\n",
       "      <td>104.0</td>\n",
       "      <td>113.0</td>\n",
       "      <td>111.0</td>\n",
       "      <td>-45.6</td>\n",
       "    </tr>\n",
       "    <tr>\n",
       "      <th>Teaching fields</th>\n",
       "      <td>805.0</td>\n",
       "      <td>757.0</td>\n",
       "      <td>892.0</td>\n",
       "      <td>915.0</td>\n",
       "      <td>953.0</td>\n",
       "      <td>1166.0</td>\n",
       "      <td>925.0</td>\n",
       "      <td>959.0</td>\n",
       "      <td>957.0</td>\n",
       "      <td>939.0</td>\n",
       "      <td>797.0</td>\n",
       "      <td>-1.0</td>\n",
       "    </tr>\n",
       "    <tr>\n",
       "      <th>Other education</th>\n",
       "      <td>359.0</td>\n",
       "      <td>316.0</td>\n",
       "      <td>330.0</td>\n",
       "      <td>339.0</td>\n",
       "      <td>352.0</td>\n",
       "      <td>648.0</td>\n",
       "      <td>492.0</td>\n",
       "      <td>411.0</td>\n",
       "      <td>480.0</td>\n",
       "      <td>457.0</td>\n",
       "      <td>467.0</td>\n",
       "      <td>30.1</td>\n",
       "    </tr>\n",
       "    <tr>\n",
       "      <th>Humanities and arts</th>\n",
       "      <td>5225.0</td>\n",
       "      <td>5561.0</td>\n",
       "      <td>5715.0</td>\n",
       "      <td>5524.0</td>\n",
       "      <td>5594.0</td>\n",
       "      <td>5482.0</td>\n",
       "      <td>5286.0</td>\n",
       "      <td>5139.0</td>\n",
       "      <td>5051.0</td>\n",
       "      <td>4924.0</td>\n",
       "      <td>4137.0</td>\n",
       "      <td>-20.8</td>\n",
       "    </tr>\n",
       "    <tr>\n",
       "      <th>Foreign languages and literature</th>\n",
       "      <td>644.0</td>\n",
       "      <td>684.0</td>\n",
       "      <td>701.0</td>\n",
       "      <td>674.0</td>\n",
       "      <td>656.0</td>\n",
       "      <td>599.0</td>\n",
       "      <td>618.0</td>\n",
       "      <td>617.0</td>\n",
       "      <td>610.0</td>\n",
       "      <td>564.0</td>\n",
       "      <td>377.0</td>\n",
       "      <td>-41.5</td>\n",
       "    </tr>\n",
       "    <tr>\n",
       "      <th>History</th>\n",
       "      <td>1065.0</td>\n",
       "      <td>1086.0</td>\n",
       "      <td>1148.0</td>\n",
       "      <td>1186.0</td>\n",
       "      <td>1146.0</td>\n",
       "      <td>1148.0</td>\n",
       "      <td>1058.0</td>\n",
       "      <td>948.0</td>\n",
       "      <td>912.0</td>\n",
       "      <td>884.0</td>\n",
       "      <td>725.0</td>\n",
       "      <td>-31.9</td>\n",
       "    </tr>\n",
       "    <tr>\n",
       "      <th>Letters</th>\n",
       "      <td>1513.0</td>\n",
       "      <td>1638.0</td>\n",
       "      <td>1606.0</td>\n",
       "      <td>1551.0</td>\n",
       "      <td>1583.0</td>\n",
       "      <td>1531.0</td>\n",
       "      <td>1462.0</td>\n",
       "      <td>1439.0</td>\n",
       "      <td>1386.0</td>\n",
       "      <td>1389.0</td>\n",
       "      <td>1192.0</td>\n",
       "      <td>-21.2</td>\n",
       "    </tr>\n",
       "    <tr>\n",
       "      <th>Other humanities and arts</th>\n",
       "      <td>2003.0</td>\n",
       "      <td>2153.0</td>\n",
       "      <td>2260.0</td>\n",
       "      <td>2113.0</td>\n",
       "      <td>2209.0</td>\n",
       "      <td>2204.0</td>\n",
       "      <td>2148.0</td>\n",
       "      <td>2135.0</td>\n",
       "      <td>2143.0</td>\n",
       "      <td>2087.0</td>\n",
       "      <td>1843.0</td>\n",
       "      <td>-8.0</td>\n",
       "    </tr>\n",
       "    <tr>\n",
       "      <th>Other</th>\n",
       "      <td>2683.0</td>\n",
       "      <td>2734.0</td>\n",
       "      <td>3023.0</td>\n",
       "      <td>3043.0</td>\n",
       "      <td>3019.0</td>\n",
       "      <td>2941.0</td>\n",
       "      <td>3152.0</td>\n",
       "      <td>2977.0</td>\n",
       "      <td>3027.0</td>\n",
       "      <td>3005.0</td>\n",
       "      <td>3002.0</td>\n",
       "      <td>11.9</td>\n",
       "    </tr>\n",
       "    <tr>\n",
       "      <th>Business management and administration</th>\n",
       "      <td>1327.0</td>\n",
       "      <td>1404.0</td>\n",
       "      <td>1551.0</td>\n",
       "      <td>1584.0</td>\n",
       "      <td>1582.0</td>\n",
       "      <td>1509.0</td>\n",
       "      <td>1565.0</td>\n",
       "      <td>1473.0</td>\n",
       "      <td>1533.0</td>\n",
       "      <td>1468.0</td>\n",
       "      <td>1392.0</td>\n",
       "      <td>4.9</td>\n",
       "    </tr>\n",
       "    <tr>\n",
       "      <th>Communication</th>\n",
       "      <td>650.0</td>\n",
       "      <td>595.0</td>\n",
       "      <td>645.0</td>\n",
       "      <td>663.0</td>\n",
       "      <td>667.0</td>\n",
       "      <td>672.0</td>\n",
       "      <td>622.0</td>\n",
       "      <td>630.0</td>\n",
       "      <td>543.0</td>\n",
       "      <td>591.0</td>\n",
       "      <td>507.0</td>\n",
       "      <td>-22.0</td>\n",
       "    </tr>\n",
       "    <tr>\n",
       "      <th>Non-science and engineering fields nec</th>\n",
       "      <td>706.0</td>\n",
       "      <td>735.0</td>\n",
       "      <td>827.0</td>\n",
       "      <td>796.0</td>\n",
       "      <td>770.0</td>\n",
       "      <td>760.0</td>\n",
       "      <td>965.0</td>\n",
       "      <td>874.0</td>\n",
       "      <td>951.0</td>\n",
       "      <td>946.0</td>\n",
       "      <td>1103.0</td>\n",
       "      <td>56.2</td>\n",
       "    </tr>\n",
       "  </tbody>\n",
       "</table>\n",
       "</div>"
      ],
      "text/plain": [
       "                                                       2011     2012     2013   \n",
       "Field and citizenship status                                                    \n",
       "All doctorate recipientsa                           48909.0  50943.0  52703.0  \\\n",
       "Life sciences                                       11535.0  11964.0  12207.0   \n",
       "Agricultural sciences and natural resources          1206.0   1255.0   1324.0   \n",
       "Biological and biomedical sciences                   8152.0   8322.0   8354.0   \n",
       "Health sciences                                      2177.0   2387.0   2529.0   \n",
       "Physical sciences and earth sciences                 5271.0   5419.0   5584.0   \n",
       "Chemistry                                            2432.0   2416.0   2484.0   \n",
       "Geosciences, atmospheric sciences, and ocean sc...    852.0    941.0    989.0   \n",
       "Physics and astronomy                                1987.0   2062.0   2111.0   \n",
       "Mathematics and computer sciences                    3273.0   3496.0   3660.0   \n",
       "Computer and information sciences                    1667.0   1793.0   1843.0   \n",
       "Mathematics and statistics                           1606.0   1703.0   1817.0   \n",
       "Psychology and social sciences                       8220.0   8498.0   8580.0   \n",
       "Psychology                                           3576.0   3599.0   3592.0   \n",
       "Anthropology                                          553.0    547.0    550.0   \n",
       "Economics                                            1121.0   1243.0   1183.0   \n",
       "Political science and government                      685.0    724.0    803.0   \n",
       "Sociology                                             656.0    633.0    636.0   \n",
       "Other social sciences                                1629.0   1752.0   1816.0   \n",
       "Engineering                                          8032.0   8469.0   9000.0   \n",
       "Aerospace, aeronautical, and astronautical engi...    262.0    307.0    348.0   \n",
       "Bioengineering and biomedical engineering             898.0    943.0   1039.0   \n",
       "Chemical engineering                                  823.0    840.0    824.0   \n",
       "Civil engineering                                     634.0    495.0    542.0   \n",
       "Electrical, electronics, and communications eng...   1886.0   1938.0   1897.0   \n",
       "Industrial and manufacturing engineering              258.0    226.0    241.0   \n",
       "Materials science engineering                         662.0    743.0    815.0   \n",
       "Mechanical engineering                               1084.0   1220.0   1277.0   \n",
       "Other engineering                                    1525.0   1757.0   2017.0   \n",
       "Education                                            4670.0   4802.0   4934.0   \n",
       "Education administration                              924.0   1057.0    965.0   \n",
       "Education research                                   2378.0   2516.0   2638.0   \n",
       "Teacher education                                     204.0    156.0    109.0   \n",
       "Teaching fields                                       805.0    757.0    892.0   \n",
       "Other education                                       359.0    316.0    330.0   \n",
       "Humanities and arts                                  5225.0   5561.0   5715.0   \n",
       "Foreign languages and literature                      644.0    684.0    701.0   \n",
       "History                                              1065.0   1086.0   1148.0   \n",
       "Letters                                              1513.0   1638.0   1606.0   \n",
       "Other humanities and arts                            2003.0   2153.0   2260.0   \n",
       "Other                                                2683.0   2734.0   3023.0   \n",
       "Business management and administration               1327.0   1404.0   1551.0   \n",
       "Communication                                         650.0    595.0    645.0   \n",
       "Non-science and engineering fields nec                706.0    735.0    827.0   \n",
       "\n",
       "                                                       2014     2015     2016   \n",
       "Field and citizenship status                                                    \n",
       "All doctorate recipientsa                           53986.0  54886.0  54809.0  \\\n",
       "Life sciences                                       12484.0  12493.0  12539.0   \n",
       "Agricultural sciences and natural resources          1338.0   1434.0   1379.0   \n",
       "Biological and biomedical sciences                   8868.0   8783.0   8863.0   \n",
       "Health sciences                                      2278.0   2276.0   2297.0   \n",
       "Physical sciences and earth sciences                 5910.0   5916.0   6251.0   \n",
       "Chemistry                                            2673.0   2666.0   2703.0   \n",
       "Geosciences, atmospheric sciences, and ocean sc...   1098.0   1057.0   1227.0   \n",
       "Physics and astronomy                                2139.0   2193.0   2321.0   \n",
       "Mathematics and computer sciences                    3862.0   3818.0   3954.0   \n",
       "Computer and information sciences                    1988.0   2003.0   2082.0   \n",
       "Mathematics and statistics                           1874.0   1815.0   1872.0   \n",
       "Psychology and social sciences                       8748.0   9073.0   9037.0   \n",
       "Psychology                                           3724.0   3776.0   3910.0   \n",
       "Anthropology                                          523.0    492.0    460.0   \n",
       "Economics                                            1196.0   1255.0   1236.0   \n",
       "Political science and government                      775.0    859.0    745.0   \n",
       "Sociology                                             678.0    741.0    613.0   \n",
       "Other social sciences                                1852.0   1950.0   2073.0   \n",
       "Engineering                                          9626.0   9875.0   9459.0   \n",
       "Aerospace, aeronautical, and astronautical engi...    386.0    361.0    370.0   \n",
       "Bioengineering and biomedical engineering            1046.0   1125.0   1089.0   \n",
       "Chemical engineering                                  973.0   1002.0    921.0   \n",
       "Civil engineering                                     617.0    632.0    564.0   \n",
       "Electrical, electronics, and communications eng...   1952.0   1997.0   1823.0   \n",
       "Industrial and manufacturing engineering              298.0    243.0    256.0   \n",
       "Materials science engineering                         832.0    871.0    984.0   \n",
       "Mechanical engineering                               1331.0   1466.0   1297.0   \n",
       "Other engineering                                    2191.0   2178.0   2155.0   \n",
       "Education                                            4789.0   5098.0   5146.0   \n",
       "Education administration                              893.0    920.0    824.0   \n",
       "Education research                                   2490.0   2717.0   2328.0   \n",
       "Teacher education                                     152.0    156.0    180.0   \n",
       "Teaching fields                                       915.0    953.0   1166.0   \n",
       "Other education                                       339.0    352.0    648.0   \n",
       "Humanities and arts                                  5524.0   5594.0   5482.0   \n",
       "Foreign languages and literature                      674.0    656.0    599.0   \n",
       "History                                              1186.0   1146.0   1148.0   \n",
       "Letters                                              1551.0   1583.0   1531.0   \n",
       "Other humanities and arts                            2113.0   2209.0   2204.0   \n",
       "Other                                                3043.0   3019.0   2941.0   \n",
       "Business management and administration               1584.0   1582.0   1509.0   \n",
       "Communication                                         663.0    667.0    672.0   \n",
       "Non-science and engineering fields nec                796.0    770.0    760.0   \n",
       "\n",
       "                                                       2017     2018     2019   \n",
       "Field and citizenship status                                                    \n",
       "All doctorate recipientsa                           54552.0  55080.0  55609.0  \\\n",
       "Life sciences                                       12554.0  12754.0  12748.0   \n",
       "Agricultural sciences and natural resources          1493.0   1442.0   1488.0   \n",
       "Biological and biomedical sciences                   8566.0   8782.0   8678.0   \n",
       "Health sciences                                      2495.0   2530.0   2582.0   \n",
       "Physical sciences and earth sciences                 6082.0   6330.0   6579.0   \n",
       "Chemistry                                            2699.0   2807.0   2939.0   \n",
       "Geosciences, atmospheric sciences, and ocean sc...   1169.0   1185.0   1272.0   \n",
       "Physics and astronomy                                2214.0   2338.0   2368.0   \n",
       "Mathematics and computer sciences                    3842.0   4022.0   4230.0   \n",
       "Computer and information sciences                    1998.0   2000.0   2220.0   \n",
       "Mathematics and statistics                           1844.0   2022.0   2010.0   \n",
       "Psychology and social sciences                       9034.0   8876.0   9043.0   \n",
       "Psychology                                           3925.0   3821.0   3909.0   \n",
       "Anthropology                                          446.0    424.0    445.0   \n",
       "Economics                                            1239.0   1245.0   1247.0   \n",
       "Political science and government                      743.0    734.0    707.0   \n",
       "Sociology                                             683.0    668.0    632.0   \n",
       "Other social sciences                                1998.0   1984.0   2103.0   \n",
       "Engineering                                          9776.0  10164.0  10298.0   \n",
       "Aerospace, aeronautical, and astronautical engi...    379.0    383.0    379.0   \n",
       "Bioengineering and biomedical engineering            1032.0   1133.0   1163.0   \n",
       "Chemical engineering                                  931.0    981.0    980.0   \n",
       "Civil engineering                                     713.0    675.0    700.0   \n",
       "Electrical, electronics, and communications eng...   1879.0   1943.0   1799.0   \n",
       "Industrial and manufacturing engineering              249.0    272.0    234.0   \n",
       "Materials science engineering                         937.0    992.0    992.0   \n",
       "Mechanical engineering                               1398.0   1503.0   1532.0   \n",
       "Other engineering                                    2258.0   2282.0   2519.0   \n",
       "Education                                            4826.0   4818.0   4633.0   \n",
       "Education administration                              922.0    895.0    839.0   \n",
       "Education research                                   2373.0   2457.0   2253.0   \n",
       "Teacher education                                     114.0     96.0    104.0   \n",
       "Teaching fields                                       925.0    959.0    957.0   \n",
       "Other education                                       492.0    411.0    480.0   \n",
       "Humanities and arts                                  5286.0   5139.0   5051.0   \n",
       "Foreign languages and literature                      618.0    617.0    610.0   \n",
       "History                                              1058.0    948.0    912.0   \n",
       "Letters                                              1462.0   1439.0   1386.0   \n",
       "Other humanities and arts                            2148.0   2135.0   2143.0   \n",
       "Other                                                3152.0   2977.0   3027.0   \n",
       "Business management and administration               1565.0   1473.0   1533.0   \n",
       "Communication                                         622.0    630.0    543.0   \n",
       "Non-science and engineering fields nec                965.0    874.0    951.0   \n",
       "\n",
       "                                                       2020     2021   \n",
       "Field and citizenship status                                           \n",
       "All doctorate recipientsa                           55224.0  52250.0  \\\n",
       "Life sciences                                       12549.0  11814.0   \n",
       "Agricultural sciences and natural resources          1470.0   1334.0   \n",
       "Biological and biomedical sciences                   8410.0   8149.0   \n",
       "Health sciences                                      2669.0   2331.0   \n",
       "Physical sciences and earth sciences                 6241.0   5757.0   \n",
       "Chemistry                                            2761.0   2555.0   \n",
       "Geosciences, atmospheric sciences, and ocean sc...   1241.0   1064.0   \n",
       "Physics and astronomy                                2239.0   2138.0   \n",
       "Mathematics and computer sciences                    4387.0   4373.0   \n",
       "Computer and information sciences                    2363.0   2361.0   \n",
       "Mathematics and statistics                           2024.0   2012.0   \n",
       "Psychology and social sciences                       8932.0   8675.0   \n",
       "Psychology                                           3871.0   3797.0   \n",
       "Anthropology                                          447.0    400.0   \n",
       "Economics                                            1212.0   1230.0   \n",
       "Political science and government                      636.0    581.0   \n",
       "Sociology                                             606.0    560.0   \n",
       "Other social sciences                                2160.0   2107.0   \n",
       "Engineering                                         10471.0  10240.0   \n",
       "Aerospace, aeronautical, and astronautical engi...    399.0    373.0   \n",
       "Bioengineering and biomedical engineering            1082.0   1064.0   \n",
       "Chemical engineering                                  994.0   1024.0   \n",
       "Civil engineering                                     795.0    621.0   \n",
       "Electrical, electronics, and communications eng...   1973.0   2081.0   \n",
       "Industrial and manufacturing engineering              304.0    361.0   \n",
       "Materials science engineering                         879.0    936.0   \n",
       "Mechanical engineering                               1633.0   1444.0   \n",
       "Other engineering                                    2412.0   2336.0   \n",
       "Education                                            4715.0   4252.0   \n",
       "Education administration                              931.0    710.0   \n",
       "Education research                                   2275.0   2167.0   \n",
       "Teacher education                                     113.0    111.0   \n",
       "Teaching fields                                       939.0    797.0   \n",
       "Other education                                       457.0    467.0   \n",
       "Humanities and arts                                  4924.0   4137.0   \n",
       "Foreign languages and literature                      564.0    377.0   \n",
       "History                                               884.0    725.0   \n",
       "Letters                                              1389.0   1192.0   \n",
       "Other humanities and arts                            2087.0   1843.0   \n",
       "Other                                                3005.0   3002.0   \n",
       "Business management and administration               1468.0   1392.0   \n",
       "Communication                                         591.0    507.0   \n",
       "Non-science and engineering fields nec                946.0   1103.0   \n",
       "\n",
       "                                                    % change 2011–21  \n",
       "Field and citizenship status                                          \n",
       "All doctorate recipientsa                                        6.8  \n",
       "Life sciences                                                    2.4  \n",
       "Agricultural sciences and natural resources                     10.6  \n",
       "Biological and biomedical sciences                               0.0  \n",
       "Health sciences                                                  7.1  \n",
       "Physical sciences and earth sciences                             9.2  \n",
       "Chemistry                                                        5.1  \n",
       "Geosciences, atmospheric sciences, and ocean sc...              24.9  \n",
       "Physics and astronomy                                            7.6  \n",
       "Mathematics and computer sciences                               33.6  \n",
       "Computer and information sciences                               41.6  \n",
       "Mathematics and statistics                                      25.3  \n",
       "Psychology and social sciences                                   5.5  \n",
       "Psychology                                                       6.2  \n",
       "Anthropology                                                   -27.7  \n",
       "Economics                                                        9.7  \n",
       "Political science and government                               -15.2  \n",
       "Sociology                                                      -14.6  \n",
       "Other social sciences                                           29.3  \n",
       "Engineering                                                     27.5  \n",
       "Aerospace, aeronautical, and astronautical engi...              42.4  \n",
       "Bioengineering and biomedical engineering                       18.5  \n",
       "Chemical engineering                                            24.4  \n",
       "Civil engineering                                               -2.1  \n",
       "Electrical, electronics, and communications eng...              10.3  \n",
       "Industrial and manufacturing engineering                        39.9  \n",
       "Materials science engineering                                   41.4  \n",
       "Mechanical engineering                                          33.2  \n",
       "Other engineering                                               53.2  \n",
       "Education                                                       -9.0  \n",
       "Education administration                                       -23.2  \n",
       "Education research                                              -8.9  \n",
       "Teacher education                                              -45.6  \n",
       "Teaching fields                                                 -1.0  \n",
       "Other education                                                 30.1  \n",
       "Humanities and arts                                            -20.8  \n",
       "Foreign languages and literature                               -41.5  \n",
       "History                                                        -31.9  \n",
       "Letters                                                        -21.2  \n",
       "Other humanities and arts                                       -8.0  \n",
       "Other                                                           11.9  \n",
       "Business management and administration                           4.9  \n",
       "Communication                                                  -22.0  \n",
       "Non-science and engineering fields nec                          56.2  "
      ]
     },
     "execution_count": 23,
     "metadata": {},
     "output_type": "execute_result"
    }
   ],
   "source": [
    "\n",
    "year"
   ]
  },
  {
   "cell_type": "code",
   "execution_count": 24,
   "id": "f327ef18-cd25-4bcd-82c0-36cd30573092",
   "metadata": {},
   "outputs": [
    {
     "data": {
      "text/plain": [
       "Index(['All doctorate recipientsa', 'Life sciences',\n",
       "       'Agricultural sciences and natural resources',\n",
       "       'Biological and biomedical sciences', 'Health sciences',\n",
       "       'Physical sciences and earth sciences', 'Chemistry',\n",
       "       'Geosciences, atmospheric sciences, and ocean sciences',\n",
       "       'Physics and astronomy', 'Mathematics and computer sciences',\n",
       "       'Computer and information sciences', 'Mathematics and statistics',\n",
       "       'Psychology and social sciences', 'Psychology', 'Anthropology',\n",
       "       'Economics', 'Political science and government', 'Sociology',\n",
       "       'Other social sciences', 'Engineering',\n",
       "       'Aerospace, aeronautical, and astronautical engineering',\n",
       "       'Bioengineering and biomedical engineering', 'Chemical engineering',\n",
       "       'Civil engineering',\n",
       "       'Electrical, electronics, and communications engineering',\n",
       "       'Industrial and manufacturing engineering',\n",
       "       'Materials science engineering', 'Mechanical engineering',\n",
       "       'Other engineering', 'Education', 'Education administration',\n",
       "       'Education research', 'Teacher education', 'Teaching fields',\n",
       "       'Other education', 'Humanities and arts',\n",
       "       'Foreign languages and literature', 'History', 'Letters',\n",
       "       'Other humanities and arts', 'Other',\n",
       "       'Business management and administration', 'Communication',\n",
       "       'Non-science and engineering fields nec'],\n",
       "      dtype='object', name='Field and citizenship status')"
      ]
     },
     "execution_count": 24,
     "metadata": {},
     "output_type": "execute_result"
    }
   ],
   "source": [
    "study.T.index"
   ]
  },
  {
   "cell_type": "code",
   "execution_count": 25,
   "id": "bc26ba44-a547-4efa-80e3-278a8ed0f14b",
   "metadata": {},
   "outputs": [
    {
     "data": {
      "text/html": [
       "<div>\n",
       "<style scoped>\n",
       "    .dataframe tbody tr th:only-of-type {\n",
       "        vertical-align: middle;\n",
       "    }\n",
       "\n",
       "    .dataframe tbody tr th {\n",
       "        vertical-align: top;\n",
       "    }\n",
       "\n",
       "    .dataframe thead th {\n",
       "        text-align: right;\n",
       "    }\n",
       "</style>\n",
       "<table border=\"1\" class=\"dataframe\">\n",
       "  <thead>\n",
       "    <tr style=\"text-align: right;\">\n",
       "      <th>Field and citizenship status</th>\n",
       "      <th>All doctorate recipientsa</th>\n",
       "      <th>Life sciences</th>\n",
       "      <th>Agricultural sciences and natural resources</th>\n",
       "      <th>Biological and biomedical sciences</th>\n",
       "      <th>Health sciences</th>\n",
       "      <th>Physical sciences and earth sciences</th>\n",
       "      <th>Chemistry</th>\n",
       "      <th>Geosciences, atmospheric sciences, and ocean sciences</th>\n",
       "      <th>Physics and astronomy</th>\n",
       "      <th>Mathematics and computer sciences</th>\n",
       "      <th>...</th>\n",
       "      <th>Other education</th>\n",
       "      <th>Humanities and arts</th>\n",
       "      <th>Foreign languages and literature</th>\n",
       "      <th>History</th>\n",
       "      <th>Letters</th>\n",
       "      <th>Other humanities and arts</th>\n",
       "      <th>Other</th>\n",
       "      <th>Business management and administration</th>\n",
       "      <th>Communication</th>\n",
       "      <th>Non-science and engineering fields nec</th>\n",
       "    </tr>\n",
       "  </thead>\n",
       "  <tbody>\n",
       "    <tr>\n",
       "      <th>2011</th>\n",
       "      <td>48909.0</td>\n",
       "      <td>11535.0</td>\n",
       "      <td>1206.0</td>\n",
       "      <td>8152.0</td>\n",
       "      <td>2177.0</td>\n",
       "      <td>5271.0</td>\n",
       "      <td>2432.0</td>\n",
       "      <td>852.0</td>\n",
       "      <td>1987.0</td>\n",
       "      <td>3273.0</td>\n",
       "      <td>...</td>\n",
       "      <td>359.0</td>\n",
       "      <td>5225.0</td>\n",
       "      <td>644.0</td>\n",
       "      <td>1065.0</td>\n",
       "      <td>1513.0</td>\n",
       "      <td>2003.0</td>\n",
       "      <td>2683.0</td>\n",
       "      <td>1327.0</td>\n",
       "      <td>650.0</td>\n",
       "      <td>706.0</td>\n",
       "    </tr>\n",
       "    <tr>\n",
       "      <th>2012</th>\n",
       "      <td>50943.0</td>\n",
       "      <td>11964.0</td>\n",
       "      <td>1255.0</td>\n",
       "      <td>8322.0</td>\n",
       "      <td>2387.0</td>\n",
       "      <td>5419.0</td>\n",
       "      <td>2416.0</td>\n",
       "      <td>941.0</td>\n",
       "      <td>2062.0</td>\n",
       "      <td>3496.0</td>\n",
       "      <td>...</td>\n",
       "      <td>316.0</td>\n",
       "      <td>5561.0</td>\n",
       "      <td>684.0</td>\n",
       "      <td>1086.0</td>\n",
       "      <td>1638.0</td>\n",
       "      <td>2153.0</td>\n",
       "      <td>2734.0</td>\n",
       "      <td>1404.0</td>\n",
       "      <td>595.0</td>\n",
       "      <td>735.0</td>\n",
       "    </tr>\n",
       "    <tr>\n",
       "      <th>2013</th>\n",
       "      <td>52703.0</td>\n",
       "      <td>12207.0</td>\n",
       "      <td>1324.0</td>\n",
       "      <td>8354.0</td>\n",
       "      <td>2529.0</td>\n",
       "      <td>5584.0</td>\n",
       "      <td>2484.0</td>\n",
       "      <td>989.0</td>\n",
       "      <td>2111.0</td>\n",
       "      <td>3660.0</td>\n",
       "      <td>...</td>\n",
       "      <td>330.0</td>\n",
       "      <td>5715.0</td>\n",
       "      <td>701.0</td>\n",
       "      <td>1148.0</td>\n",
       "      <td>1606.0</td>\n",
       "      <td>2260.0</td>\n",
       "      <td>3023.0</td>\n",
       "      <td>1551.0</td>\n",
       "      <td>645.0</td>\n",
       "      <td>827.0</td>\n",
       "    </tr>\n",
       "    <tr>\n",
       "      <th>2014</th>\n",
       "      <td>53986.0</td>\n",
       "      <td>12484.0</td>\n",
       "      <td>1338.0</td>\n",
       "      <td>8868.0</td>\n",
       "      <td>2278.0</td>\n",
       "      <td>5910.0</td>\n",
       "      <td>2673.0</td>\n",
       "      <td>1098.0</td>\n",
       "      <td>2139.0</td>\n",
       "      <td>3862.0</td>\n",
       "      <td>...</td>\n",
       "      <td>339.0</td>\n",
       "      <td>5524.0</td>\n",
       "      <td>674.0</td>\n",
       "      <td>1186.0</td>\n",
       "      <td>1551.0</td>\n",
       "      <td>2113.0</td>\n",
       "      <td>3043.0</td>\n",
       "      <td>1584.0</td>\n",
       "      <td>663.0</td>\n",
       "      <td>796.0</td>\n",
       "    </tr>\n",
       "    <tr>\n",
       "      <th>2015</th>\n",
       "      <td>54886.0</td>\n",
       "      <td>12493.0</td>\n",
       "      <td>1434.0</td>\n",
       "      <td>8783.0</td>\n",
       "      <td>2276.0</td>\n",
       "      <td>5916.0</td>\n",
       "      <td>2666.0</td>\n",
       "      <td>1057.0</td>\n",
       "      <td>2193.0</td>\n",
       "      <td>3818.0</td>\n",
       "      <td>...</td>\n",
       "      <td>352.0</td>\n",
       "      <td>5594.0</td>\n",
       "      <td>656.0</td>\n",
       "      <td>1146.0</td>\n",
       "      <td>1583.0</td>\n",
       "      <td>2209.0</td>\n",
       "      <td>3019.0</td>\n",
       "      <td>1582.0</td>\n",
       "      <td>667.0</td>\n",
       "      <td>770.0</td>\n",
       "    </tr>\n",
       "    <tr>\n",
       "      <th>2016</th>\n",
       "      <td>54809.0</td>\n",
       "      <td>12539.0</td>\n",
       "      <td>1379.0</td>\n",
       "      <td>8863.0</td>\n",
       "      <td>2297.0</td>\n",
       "      <td>6251.0</td>\n",
       "      <td>2703.0</td>\n",
       "      <td>1227.0</td>\n",
       "      <td>2321.0</td>\n",
       "      <td>3954.0</td>\n",
       "      <td>...</td>\n",
       "      <td>648.0</td>\n",
       "      <td>5482.0</td>\n",
       "      <td>599.0</td>\n",
       "      <td>1148.0</td>\n",
       "      <td>1531.0</td>\n",
       "      <td>2204.0</td>\n",
       "      <td>2941.0</td>\n",
       "      <td>1509.0</td>\n",
       "      <td>672.0</td>\n",
       "      <td>760.0</td>\n",
       "    </tr>\n",
       "    <tr>\n",
       "      <th>2017</th>\n",
       "      <td>54552.0</td>\n",
       "      <td>12554.0</td>\n",
       "      <td>1493.0</td>\n",
       "      <td>8566.0</td>\n",
       "      <td>2495.0</td>\n",
       "      <td>6082.0</td>\n",
       "      <td>2699.0</td>\n",
       "      <td>1169.0</td>\n",
       "      <td>2214.0</td>\n",
       "      <td>3842.0</td>\n",
       "      <td>...</td>\n",
       "      <td>492.0</td>\n",
       "      <td>5286.0</td>\n",
       "      <td>618.0</td>\n",
       "      <td>1058.0</td>\n",
       "      <td>1462.0</td>\n",
       "      <td>2148.0</td>\n",
       "      <td>3152.0</td>\n",
       "      <td>1565.0</td>\n",
       "      <td>622.0</td>\n",
       "      <td>965.0</td>\n",
       "    </tr>\n",
       "    <tr>\n",
       "      <th>2018</th>\n",
       "      <td>55080.0</td>\n",
       "      <td>12754.0</td>\n",
       "      <td>1442.0</td>\n",
       "      <td>8782.0</td>\n",
       "      <td>2530.0</td>\n",
       "      <td>6330.0</td>\n",
       "      <td>2807.0</td>\n",
       "      <td>1185.0</td>\n",
       "      <td>2338.0</td>\n",
       "      <td>4022.0</td>\n",
       "      <td>...</td>\n",
       "      <td>411.0</td>\n",
       "      <td>5139.0</td>\n",
       "      <td>617.0</td>\n",
       "      <td>948.0</td>\n",
       "      <td>1439.0</td>\n",
       "      <td>2135.0</td>\n",
       "      <td>2977.0</td>\n",
       "      <td>1473.0</td>\n",
       "      <td>630.0</td>\n",
       "      <td>874.0</td>\n",
       "    </tr>\n",
       "    <tr>\n",
       "      <th>2019</th>\n",
       "      <td>55609.0</td>\n",
       "      <td>12748.0</td>\n",
       "      <td>1488.0</td>\n",
       "      <td>8678.0</td>\n",
       "      <td>2582.0</td>\n",
       "      <td>6579.0</td>\n",
       "      <td>2939.0</td>\n",
       "      <td>1272.0</td>\n",
       "      <td>2368.0</td>\n",
       "      <td>4230.0</td>\n",
       "      <td>...</td>\n",
       "      <td>480.0</td>\n",
       "      <td>5051.0</td>\n",
       "      <td>610.0</td>\n",
       "      <td>912.0</td>\n",
       "      <td>1386.0</td>\n",
       "      <td>2143.0</td>\n",
       "      <td>3027.0</td>\n",
       "      <td>1533.0</td>\n",
       "      <td>543.0</td>\n",
       "      <td>951.0</td>\n",
       "    </tr>\n",
       "    <tr>\n",
       "      <th>2020</th>\n",
       "      <td>55224.0</td>\n",
       "      <td>12549.0</td>\n",
       "      <td>1470.0</td>\n",
       "      <td>8410.0</td>\n",
       "      <td>2669.0</td>\n",
       "      <td>6241.0</td>\n",
       "      <td>2761.0</td>\n",
       "      <td>1241.0</td>\n",
       "      <td>2239.0</td>\n",
       "      <td>4387.0</td>\n",
       "      <td>...</td>\n",
       "      <td>457.0</td>\n",
       "      <td>4924.0</td>\n",
       "      <td>564.0</td>\n",
       "      <td>884.0</td>\n",
       "      <td>1389.0</td>\n",
       "      <td>2087.0</td>\n",
       "      <td>3005.0</td>\n",
       "      <td>1468.0</td>\n",
       "      <td>591.0</td>\n",
       "      <td>946.0</td>\n",
       "    </tr>\n",
       "    <tr>\n",
       "      <th>2021</th>\n",
       "      <td>52250.0</td>\n",
       "      <td>11814.0</td>\n",
       "      <td>1334.0</td>\n",
       "      <td>8149.0</td>\n",
       "      <td>2331.0</td>\n",
       "      <td>5757.0</td>\n",
       "      <td>2555.0</td>\n",
       "      <td>1064.0</td>\n",
       "      <td>2138.0</td>\n",
       "      <td>4373.0</td>\n",
       "      <td>...</td>\n",
       "      <td>467.0</td>\n",
       "      <td>4137.0</td>\n",
       "      <td>377.0</td>\n",
       "      <td>725.0</td>\n",
       "      <td>1192.0</td>\n",
       "      <td>1843.0</td>\n",
       "      <td>3002.0</td>\n",
       "      <td>1392.0</td>\n",
       "      <td>507.0</td>\n",
       "      <td>1103.0</td>\n",
       "    </tr>\n",
       "    <tr>\n",
       "      <th>% change 2011–21</th>\n",
       "      <td>6.8</td>\n",
       "      <td>2.4</td>\n",
       "      <td>10.6</td>\n",
       "      <td>0.0</td>\n",
       "      <td>7.1</td>\n",
       "      <td>9.2</td>\n",
       "      <td>5.1</td>\n",
       "      <td>24.9</td>\n",
       "      <td>7.6</td>\n",
       "      <td>33.6</td>\n",
       "      <td>...</td>\n",
       "      <td>30.1</td>\n",
       "      <td>-20.8</td>\n",
       "      <td>-41.5</td>\n",
       "      <td>-31.9</td>\n",
       "      <td>-21.2</td>\n",
       "      <td>-8.0</td>\n",
       "      <td>11.9</td>\n",
       "      <td>4.9</td>\n",
       "      <td>-22.0</td>\n",
       "      <td>56.2</td>\n",
       "    </tr>\n",
       "  </tbody>\n",
       "</table>\n",
       "<p>12 rows × 44 columns</p>\n",
       "</div>"
      ],
      "text/plain": [
       "Field and citizenship status  All doctorate recipientsa  Life sciences   \n",
       "2011                                            48909.0        11535.0  \\\n",
       "2012                                            50943.0        11964.0   \n",
       "2013                                            52703.0        12207.0   \n",
       "2014                                            53986.0        12484.0   \n",
       "2015                                            54886.0        12493.0   \n",
       "2016                                            54809.0        12539.0   \n",
       "2017                                            54552.0        12554.0   \n",
       "2018                                            55080.0        12754.0   \n",
       "2019                                            55609.0        12748.0   \n",
       "2020                                            55224.0        12549.0   \n",
       "2021                                            52250.0        11814.0   \n",
       "% change 2011–21                                    6.8            2.4   \n",
       "\n",
       "Field and citizenship status  Agricultural sciences and natural resources   \n",
       "2011                                                               1206.0  \\\n",
       "2012                                                               1255.0   \n",
       "2013                                                               1324.0   \n",
       "2014                                                               1338.0   \n",
       "2015                                                               1434.0   \n",
       "2016                                                               1379.0   \n",
       "2017                                                               1493.0   \n",
       "2018                                                               1442.0   \n",
       "2019                                                               1488.0   \n",
       "2020                                                               1470.0   \n",
       "2021                                                               1334.0   \n",
       "% change 2011–21                                                     10.6   \n",
       "\n",
       "Field and citizenship status  Biological and biomedical sciences   \n",
       "2011                                                      8152.0  \\\n",
       "2012                                                      8322.0   \n",
       "2013                                                      8354.0   \n",
       "2014                                                      8868.0   \n",
       "2015                                                      8783.0   \n",
       "2016                                                      8863.0   \n",
       "2017                                                      8566.0   \n",
       "2018                                                      8782.0   \n",
       "2019                                                      8678.0   \n",
       "2020                                                      8410.0   \n",
       "2021                                                      8149.0   \n",
       "% change 2011–21                                             0.0   \n",
       "\n",
       "Field and citizenship status  Health sciences   \n",
       "2011                                   2177.0  \\\n",
       "2012                                   2387.0   \n",
       "2013                                   2529.0   \n",
       "2014                                   2278.0   \n",
       "2015                                   2276.0   \n",
       "2016                                   2297.0   \n",
       "2017                                   2495.0   \n",
       "2018                                   2530.0   \n",
       "2019                                   2582.0   \n",
       "2020                                   2669.0   \n",
       "2021                                   2331.0   \n",
       "% change 2011–21                          7.1   \n",
       "\n",
       "Field and citizenship status  Physical sciences and earth sciences  Chemistry   \n",
       "2011                                                        5271.0     2432.0  \\\n",
       "2012                                                        5419.0     2416.0   \n",
       "2013                                                        5584.0     2484.0   \n",
       "2014                                                        5910.0     2673.0   \n",
       "2015                                                        5916.0     2666.0   \n",
       "2016                                                        6251.0     2703.0   \n",
       "2017                                                        6082.0     2699.0   \n",
       "2018                                                        6330.0     2807.0   \n",
       "2019                                                        6579.0     2939.0   \n",
       "2020                                                        6241.0     2761.0   \n",
       "2021                                                        5757.0     2555.0   \n",
       "% change 2011–21                                               9.2        5.1   \n",
       "\n",
       "Field and citizenship status  Geosciences, atmospheric sciences, and ocean sciences   \n",
       "2011                                                                      852.0      \\\n",
       "2012                                                                      941.0       \n",
       "2013                                                                      989.0       \n",
       "2014                                                                     1098.0       \n",
       "2015                                                                     1057.0       \n",
       "2016                                                                     1227.0       \n",
       "2017                                                                     1169.0       \n",
       "2018                                                                     1185.0       \n",
       "2019                                                                     1272.0       \n",
       "2020                                                                     1241.0       \n",
       "2021                                                                     1064.0       \n",
       "% change 2011–21                                                           24.9       \n",
       "\n",
       "Field and citizenship status  Physics and astronomy   \n",
       "2011                                         1987.0  \\\n",
       "2012                                         2062.0   \n",
       "2013                                         2111.0   \n",
       "2014                                         2139.0   \n",
       "2015                                         2193.0   \n",
       "2016                                         2321.0   \n",
       "2017                                         2214.0   \n",
       "2018                                         2338.0   \n",
       "2019                                         2368.0   \n",
       "2020                                         2239.0   \n",
       "2021                                         2138.0   \n",
       "% change 2011–21                                7.6   \n",
       "\n",
       "Field and citizenship status  Mathematics and computer sciences  ...   \n",
       "2011                                                     3273.0  ...  \\\n",
       "2012                                                     3496.0  ...   \n",
       "2013                                                     3660.0  ...   \n",
       "2014                                                     3862.0  ...   \n",
       "2015                                                     3818.0  ...   \n",
       "2016                                                     3954.0  ...   \n",
       "2017                                                     3842.0  ...   \n",
       "2018                                                     4022.0  ...   \n",
       "2019                                                     4230.0  ...   \n",
       "2020                                                     4387.0  ...   \n",
       "2021                                                     4373.0  ...   \n",
       "% change 2011–21                                           33.6  ...   \n",
       "\n",
       "Field and citizenship status  Other education  Humanities and arts   \n",
       "2011                                    359.0               5225.0  \\\n",
       "2012                                    316.0               5561.0   \n",
       "2013                                    330.0               5715.0   \n",
       "2014                                    339.0               5524.0   \n",
       "2015                                    352.0               5594.0   \n",
       "2016                                    648.0               5482.0   \n",
       "2017                                    492.0               5286.0   \n",
       "2018                                    411.0               5139.0   \n",
       "2019                                    480.0               5051.0   \n",
       "2020                                    457.0               4924.0   \n",
       "2021                                    467.0               4137.0   \n",
       "% change 2011–21                         30.1                -20.8   \n",
       "\n",
       "Field and citizenship status  Foreign languages and literature  History   \n",
       "2011                                                     644.0   1065.0  \\\n",
       "2012                                                     684.0   1086.0   \n",
       "2013                                                     701.0   1148.0   \n",
       "2014                                                     674.0   1186.0   \n",
       "2015                                                     656.0   1146.0   \n",
       "2016                                                     599.0   1148.0   \n",
       "2017                                                     618.0   1058.0   \n",
       "2018                                                     617.0    948.0   \n",
       "2019                                                     610.0    912.0   \n",
       "2020                                                     564.0    884.0   \n",
       "2021                                                     377.0    725.0   \n",
       "% change 2011–21                                         -41.5    -31.9   \n",
       "\n",
       "Field and citizenship status  Letters  Other humanities and arts   Other   \n",
       "2011                           1513.0                     2003.0  2683.0  \\\n",
       "2012                           1638.0                     2153.0  2734.0   \n",
       "2013                           1606.0                     2260.0  3023.0   \n",
       "2014                           1551.0                     2113.0  3043.0   \n",
       "2015                           1583.0                     2209.0  3019.0   \n",
       "2016                           1531.0                     2204.0  2941.0   \n",
       "2017                           1462.0                     2148.0  3152.0   \n",
       "2018                           1439.0                     2135.0  2977.0   \n",
       "2019                           1386.0                     2143.0  3027.0   \n",
       "2020                           1389.0                     2087.0  3005.0   \n",
       "2021                           1192.0                     1843.0  3002.0   \n",
       "% change 2011–21                -21.2                       -8.0    11.9   \n",
       "\n",
       "Field and citizenship status  Business management and administration   \n",
       "2011                                                          1327.0  \\\n",
       "2012                                                          1404.0   \n",
       "2013                                                          1551.0   \n",
       "2014                                                          1584.0   \n",
       "2015                                                          1582.0   \n",
       "2016                                                          1509.0   \n",
       "2017                                                          1565.0   \n",
       "2018                                                          1473.0   \n",
       "2019                                                          1533.0   \n",
       "2020                                                          1468.0   \n",
       "2021                                                          1392.0   \n",
       "% change 2011–21                                                 4.9   \n",
       "\n",
       "Field and citizenship status  Communication   \n",
       "2011                                  650.0  \\\n",
       "2012                                  595.0   \n",
       "2013                                  645.0   \n",
       "2014                                  663.0   \n",
       "2015                                  667.0   \n",
       "2016                                  672.0   \n",
       "2017                                  622.0   \n",
       "2018                                  630.0   \n",
       "2019                                  543.0   \n",
       "2020                                  591.0   \n",
       "2021                                  507.0   \n",
       "% change 2011–21                      -22.0   \n",
       "\n",
       "Field and citizenship status  Non-science and engineering fields nec  \n",
       "2011                                                           706.0  \n",
       "2012                                                           735.0  \n",
       "2013                                                           827.0  \n",
       "2014                                                           796.0  \n",
       "2015                                                           770.0  \n",
       "2016                                                           760.0  \n",
       "2017                                                           965.0  \n",
       "2018                                                           874.0  \n",
       "2019                                                           951.0  \n",
       "2020                                                           946.0  \n",
       "2021                                                          1103.0  \n",
       "% change 2011–21                                                56.2  \n",
       "\n",
       "[12 rows x 44 columns]"
      ]
     },
     "execution_count": 25,
     "metadata": {},
     "output_type": "execute_result"
    }
   ],
   "source": [
    "study"
   ]
  },
  {
   "cell_type": "code",
   "execution_count": 30,
   "id": "9ddde0f2-bfbd-4271-afde-9339571b08d3",
   "metadata": {},
   "outputs": [
    {
     "name": "stdout",
     "output_type": "stream",
     "text": [
      "2011                3273.0\n",
      "2012                3496.0\n",
      "2013                3660.0\n",
      "2014                3862.0\n",
      "2015                3818.0\n",
      "2016                3954.0\n",
      "2017                3842.0\n",
      "2018                4022.0\n",
      "2019                4230.0\n",
      "2020                4387.0\n",
      "2021                4373.0\n",
      "% change 2011–21      33.6\n",
      "Name: Mathematics and computer sciences, dtype: float64\n"
     ]
    },
    {
     "data": {
      "application/vnd.plotly.v1+json": {
       "config": {
        "plotlyServerURL": "https://plot.ly"
       },
       "data": [
        {
         "marker": {
          "color": "#6f175b"
         },
         "name": "Mathematics and computer sciences",
         "type": "bar",
         "x": [
          "2011",
          "2012 ",
          "2013",
          "2014",
          "2015",
          "2016",
          "2017",
          "2018",
          "2019",
          "2020",
          "2021"
         ],
         "y": [
          3273,
          3496,
          3660,
          3862,
          3818,
          3954,
          3842,
          4022,
          4230,
          4387,
          4373,
          33.6
         ]
        },
        {
         "marker": {
          "color": "#e8baa8"
         },
         "name": "Psychology",
         "type": "bar",
         "x": [
          "2011",
          "2012 ",
          "2013",
          "2014",
          "2015",
          "2016",
          "2017",
          "2018",
          "2019",
          "2020",
          "2021"
         ],
         "y": [
          3576,
          3599,
          3592,
          3724,
          3776,
          3910,
          3925,
          3821,
          3909,
          3871,
          3797,
          6.2
         ]
        },
        {
         "marker": {
          "color": "#136e72"
         },
         "name": "Other",
         "type": "bar",
         "x": [
          "2011",
          "2012 ",
          "2013",
          "2014",
          "2015",
          "2016",
          "2017",
          "2018",
          "2019",
          "2020",
          "2021"
         ],
         "y": [
          2683,
          2734,
          3023,
          3043,
          3019,
          2941,
          3152,
          2977,
          3027,
          3005,
          3002,
          11.9
         ]
        }
       ],
       "layout": {
        "autosize": true,
        "barmode": "group",
        "template": {
         "data": {
          "bar": [
           {
            "error_x": {
             "color": "#2a3f5f"
            },
            "error_y": {
             "color": "#2a3f5f"
            },
            "marker": {
             "line": {
              "color": "#E5ECF6",
              "width": 0.5
             },
             "pattern": {
              "fillmode": "overlay",
              "size": 10,
              "solidity": 0.2
             }
            },
            "type": "bar"
           }
          ],
          "barpolar": [
           {
            "marker": {
             "line": {
              "color": "#E5ECF6",
              "width": 0.5
             },
             "pattern": {
              "fillmode": "overlay",
              "size": 10,
              "solidity": 0.2
             }
            },
            "type": "barpolar"
           }
          ],
          "carpet": [
           {
            "aaxis": {
             "endlinecolor": "#2a3f5f",
             "gridcolor": "white",
             "linecolor": "white",
             "minorgridcolor": "white",
             "startlinecolor": "#2a3f5f"
            },
            "baxis": {
             "endlinecolor": "#2a3f5f",
             "gridcolor": "white",
             "linecolor": "white",
             "minorgridcolor": "white",
             "startlinecolor": "#2a3f5f"
            },
            "type": "carpet"
           }
          ],
          "choropleth": [
           {
            "colorbar": {
             "outlinewidth": 0,
             "ticks": ""
            },
            "type": "choropleth"
           }
          ],
          "contour": [
           {
            "colorbar": {
             "outlinewidth": 0,
             "ticks": ""
            },
            "colorscale": [
             [
              0,
              "#0d0887"
             ],
             [
              0.1111111111111111,
              "#46039f"
             ],
             [
              0.2222222222222222,
              "#7201a8"
             ],
             [
              0.3333333333333333,
              "#9c179e"
             ],
             [
              0.4444444444444444,
              "#bd3786"
             ],
             [
              0.5555555555555556,
              "#d8576b"
             ],
             [
              0.6666666666666666,
              "#ed7953"
             ],
             [
              0.7777777777777778,
              "#fb9f3a"
             ],
             [
              0.8888888888888888,
              "#fdca26"
             ],
             [
              1,
              "#f0f921"
             ]
            ],
            "type": "contour"
           }
          ],
          "contourcarpet": [
           {
            "colorbar": {
             "outlinewidth": 0,
             "ticks": ""
            },
            "type": "contourcarpet"
           }
          ],
          "heatmap": [
           {
            "colorbar": {
             "outlinewidth": 0,
             "ticks": ""
            },
            "colorscale": [
             [
              0,
              "#0d0887"
             ],
             [
              0.1111111111111111,
              "#46039f"
             ],
             [
              0.2222222222222222,
              "#7201a8"
             ],
             [
              0.3333333333333333,
              "#9c179e"
             ],
             [
              0.4444444444444444,
              "#bd3786"
             ],
             [
              0.5555555555555556,
              "#d8576b"
             ],
             [
              0.6666666666666666,
              "#ed7953"
             ],
             [
              0.7777777777777778,
              "#fb9f3a"
             ],
             [
              0.8888888888888888,
              "#fdca26"
             ],
             [
              1,
              "#f0f921"
             ]
            ],
            "type": "heatmap"
           }
          ],
          "heatmapgl": [
           {
            "colorbar": {
             "outlinewidth": 0,
             "ticks": ""
            },
            "colorscale": [
             [
              0,
              "#0d0887"
             ],
             [
              0.1111111111111111,
              "#46039f"
             ],
             [
              0.2222222222222222,
              "#7201a8"
             ],
             [
              0.3333333333333333,
              "#9c179e"
             ],
             [
              0.4444444444444444,
              "#bd3786"
             ],
             [
              0.5555555555555556,
              "#d8576b"
             ],
             [
              0.6666666666666666,
              "#ed7953"
             ],
             [
              0.7777777777777778,
              "#fb9f3a"
             ],
             [
              0.8888888888888888,
              "#fdca26"
             ],
             [
              1,
              "#f0f921"
             ]
            ],
            "type": "heatmapgl"
           }
          ],
          "histogram": [
           {
            "marker": {
             "pattern": {
              "fillmode": "overlay",
              "size": 10,
              "solidity": 0.2
             }
            },
            "type": "histogram"
           }
          ],
          "histogram2d": [
           {
            "colorbar": {
             "outlinewidth": 0,
             "ticks": ""
            },
            "colorscale": [
             [
              0,
              "#0d0887"
             ],
             [
              0.1111111111111111,
              "#46039f"
             ],
             [
              0.2222222222222222,
              "#7201a8"
             ],
             [
              0.3333333333333333,
              "#9c179e"
             ],
             [
              0.4444444444444444,
              "#bd3786"
             ],
             [
              0.5555555555555556,
              "#d8576b"
             ],
             [
              0.6666666666666666,
              "#ed7953"
             ],
             [
              0.7777777777777778,
              "#fb9f3a"
             ],
             [
              0.8888888888888888,
              "#fdca26"
             ],
             [
              1,
              "#f0f921"
             ]
            ],
            "type": "histogram2d"
           }
          ],
          "histogram2dcontour": [
           {
            "colorbar": {
             "outlinewidth": 0,
             "ticks": ""
            },
            "colorscale": [
             [
              0,
              "#0d0887"
             ],
             [
              0.1111111111111111,
              "#46039f"
             ],
             [
              0.2222222222222222,
              "#7201a8"
             ],
             [
              0.3333333333333333,
              "#9c179e"
             ],
             [
              0.4444444444444444,
              "#bd3786"
             ],
             [
              0.5555555555555556,
              "#d8576b"
             ],
             [
              0.6666666666666666,
              "#ed7953"
             ],
             [
              0.7777777777777778,
              "#fb9f3a"
             ],
             [
              0.8888888888888888,
              "#fdca26"
             ],
             [
              1,
              "#f0f921"
             ]
            ],
            "type": "histogram2dcontour"
           }
          ],
          "mesh3d": [
           {
            "colorbar": {
             "outlinewidth": 0,
             "ticks": ""
            },
            "type": "mesh3d"
           }
          ],
          "parcoords": [
           {
            "line": {
             "colorbar": {
              "outlinewidth": 0,
              "ticks": ""
             }
            },
            "type": "parcoords"
           }
          ],
          "pie": [
           {
            "automargin": true,
            "type": "pie"
           }
          ],
          "scatter": [
           {
            "marker": {
             "colorbar": {
              "outlinewidth": 0,
              "ticks": ""
             }
            },
            "type": "scatter"
           }
          ],
          "scatter3d": [
           {
            "line": {
             "colorbar": {
              "outlinewidth": 0,
              "ticks": ""
             }
            },
            "marker": {
             "colorbar": {
              "outlinewidth": 0,
              "ticks": ""
             }
            },
            "type": "scatter3d"
           }
          ],
          "scattercarpet": [
           {
            "marker": {
             "colorbar": {
              "outlinewidth": 0,
              "ticks": ""
             }
            },
            "type": "scattercarpet"
           }
          ],
          "scattergeo": [
           {
            "marker": {
             "colorbar": {
              "outlinewidth": 0,
              "ticks": ""
             }
            },
            "type": "scattergeo"
           }
          ],
          "scattergl": [
           {
            "marker": {
             "colorbar": {
              "outlinewidth": 0,
              "ticks": ""
             }
            },
            "type": "scattergl"
           }
          ],
          "scattermapbox": [
           {
            "marker": {
             "colorbar": {
              "outlinewidth": 0,
              "ticks": ""
             }
            },
            "type": "scattermapbox"
           }
          ],
          "scatterpolar": [
           {
            "marker": {
             "colorbar": {
              "outlinewidth": 0,
              "ticks": ""
             }
            },
            "type": "scatterpolar"
           }
          ],
          "scatterpolargl": [
           {
            "marker": {
             "colorbar": {
              "outlinewidth": 0,
              "ticks": ""
             }
            },
            "type": "scatterpolargl"
           }
          ],
          "scatterternary": [
           {
            "marker": {
             "colorbar": {
              "outlinewidth": 0,
              "ticks": ""
             }
            },
            "type": "scatterternary"
           }
          ],
          "surface": [
           {
            "colorbar": {
             "outlinewidth": 0,
             "ticks": ""
            },
            "colorscale": [
             [
              0,
              "#0d0887"
             ],
             [
              0.1111111111111111,
              "#46039f"
             ],
             [
              0.2222222222222222,
              "#7201a8"
             ],
             [
              0.3333333333333333,
              "#9c179e"
             ],
             [
              0.4444444444444444,
              "#bd3786"
             ],
             [
              0.5555555555555556,
              "#d8576b"
             ],
             [
              0.6666666666666666,
              "#ed7953"
             ],
             [
              0.7777777777777778,
              "#fb9f3a"
             ],
             [
              0.8888888888888888,
              "#fdca26"
             ],
             [
              1,
              "#f0f921"
             ]
            ],
            "type": "surface"
           }
          ],
          "table": [
           {
            "cells": {
             "fill": {
              "color": "#EBF0F8"
             },
             "line": {
              "color": "white"
             }
            },
            "header": {
             "fill": {
              "color": "#C8D4E3"
             },
             "line": {
              "color": "white"
             }
            },
            "type": "table"
           }
          ]
         },
         "layout": {
          "annotationdefaults": {
           "arrowcolor": "#2a3f5f",
           "arrowhead": 0,
           "arrowwidth": 1
          },
          "autotypenumbers": "strict",
          "coloraxis": {
           "colorbar": {
            "outlinewidth": 0,
            "ticks": ""
           }
          },
          "colorscale": {
           "diverging": [
            [
             0,
             "#8e0152"
            ],
            [
             0.1,
             "#c51b7d"
            ],
            [
             0.2,
             "#de77ae"
            ],
            [
             0.3,
             "#f1b6da"
            ],
            [
             0.4,
             "#fde0ef"
            ],
            [
             0.5,
             "#f7f7f7"
            ],
            [
             0.6,
             "#e6f5d0"
            ],
            [
             0.7,
             "#b8e186"
            ],
            [
             0.8,
             "#7fbc41"
            ],
            [
             0.9,
             "#4d9221"
            ],
            [
             1,
             "#276419"
            ]
           ],
           "sequential": [
            [
             0,
             "#0d0887"
            ],
            [
             0.1111111111111111,
             "#46039f"
            ],
            [
             0.2222222222222222,
             "#7201a8"
            ],
            [
             0.3333333333333333,
             "#9c179e"
            ],
            [
             0.4444444444444444,
             "#bd3786"
            ],
            [
             0.5555555555555556,
             "#d8576b"
            ],
            [
             0.6666666666666666,
             "#ed7953"
            ],
            [
             0.7777777777777778,
             "#fb9f3a"
            ],
            [
             0.8888888888888888,
             "#fdca26"
            ],
            [
             1,
             "#f0f921"
            ]
           ],
           "sequentialminus": [
            [
             0,
             "#0d0887"
            ],
            [
             0.1111111111111111,
             "#46039f"
            ],
            [
             0.2222222222222222,
             "#7201a8"
            ],
            [
             0.3333333333333333,
             "#9c179e"
            ],
            [
             0.4444444444444444,
             "#bd3786"
            ],
            [
             0.5555555555555556,
             "#d8576b"
            ],
            [
             0.6666666666666666,
             "#ed7953"
            ],
            [
             0.7777777777777778,
             "#fb9f3a"
            ],
            [
             0.8888888888888888,
             "#fdca26"
            ],
            [
             1,
             "#f0f921"
            ]
           ]
          },
          "colorway": [
           "#636efa",
           "#EF553B",
           "#00cc96",
           "#ab63fa",
           "#FFA15A",
           "#19d3f3",
           "#FF6692",
           "#B6E880",
           "#FF97FF",
           "#FECB52"
          ],
          "font": {
           "color": "#2a3f5f"
          },
          "geo": {
           "bgcolor": "white",
           "lakecolor": "white",
           "landcolor": "#E5ECF6",
           "showlakes": true,
           "showland": true,
           "subunitcolor": "white"
          },
          "hoverlabel": {
           "align": "left"
          },
          "hovermode": "closest",
          "mapbox": {
           "style": "light"
          },
          "paper_bgcolor": "white",
          "plot_bgcolor": "#E5ECF6",
          "polar": {
           "angularaxis": {
            "gridcolor": "white",
            "linecolor": "white",
            "ticks": ""
           },
           "bgcolor": "#E5ECF6",
           "radialaxis": {
            "gridcolor": "white",
            "linecolor": "white",
            "ticks": ""
           }
          },
          "scene": {
           "xaxis": {
            "backgroundcolor": "#E5ECF6",
            "gridcolor": "white",
            "gridwidth": 2,
            "linecolor": "white",
            "showbackground": true,
            "ticks": "",
            "zerolinecolor": "white"
           },
           "yaxis": {
            "backgroundcolor": "#E5ECF6",
            "gridcolor": "white",
            "gridwidth": 2,
            "linecolor": "white",
            "showbackground": true,
            "ticks": "",
            "zerolinecolor": "white"
           },
           "zaxis": {
            "backgroundcolor": "#E5ECF6",
            "gridcolor": "white",
            "gridwidth": 2,
            "linecolor": "white",
            "showbackground": true,
            "ticks": "",
            "zerolinecolor": "white"
           }
          },
          "shapedefaults": {
           "line": {
            "color": "#2a3f5f"
           }
          },
          "ternary": {
           "aaxis": {
            "gridcolor": "white",
            "linecolor": "white",
            "ticks": ""
           },
           "baxis": {
            "gridcolor": "white",
            "linecolor": "white",
            "ticks": ""
           },
           "bgcolor": "#E5ECF6",
           "caxis": {
            "gridcolor": "white",
            "linecolor": "white",
            "ticks": ""
           }
          },
          "title": {
           "x": 0.05
          },
          "xaxis": {
           "automargin": true,
           "gridcolor": "white",
           "linecolor": "white",
           "ticks": "",
           "title": {
            "standoff": 15
           },
           "zerolinecolor": "white",
           "zerolinewidth": 2
          },
          "yaxis": {
           "automargin": true,
           "gridcolor": "white",
           "linecolor": "white",
           "ticks": "",
           "title": {
            "standoff": 15
           },
           "zerolinecolor": "white",
           "zerolinewidth": 2
          }
         }
        },
        "xaxis": {
         "autorange": true,
         "range": [
          -0.5,
          10.5
         ],
         "type": "category"
        },
        "yaxis": {
         "autorange": true,
         "range": [
          0,
          4617.894736842105
         ],
         "type": "linear"
        }
       }
      },
      "image/png": "[encoded data removed]",
      "text/html": [
       "<div>                            <div id=\"a3a18f40-2260-44d0-a7f7-566d1c77b4a7\" class=\"plotly-graph-div\" style=\"height:525px; width:100%;\"></div>            <script type=\"text/javascript\">                require([\"plotly\"], function(Plotly) {                    window.PLOTLYENV=window.PLOTLYENV || {};                                    if (document.getElementById(\"a3a18f40-2260-44d0-a7f7-566d1c77b4a7\")) {                    Plotly.newPlot(                        \"a3a18f40-2260-44d0-a7f7-566d1c77b4a7\",                        [{\"marker\":{\"color\":\"#6f175b\"},\"name\":\"Mathematics and computer sciences\",\"x\":[\"2011\",\"2012 \",\"2013\",\"2014\",\"2015\",\"2016\",\"2017\",\"2018\",\"2019\",\"2020\",\"2021\"],\"y\":[3273.0,3496.0,3660.0,3862.0,3818.0,3954.0,3842.0,4022.0,4230.0,4387.0,4373.0,33.6],\"type\":\"bar\"},{\"marker\":{\"color\":\"#e8baa8\"},\"name\":\"Psychology\",\"x\":[\"2011\",\"2012 \",\"2013\",\"2014\",\"2015\",\"2016\",\"2017\",\"2018\",\"2019\",\"2020\",\"2021\"],\"y\":[3576.0,3599.0,3592.0,3724.0,3776.0,3910.0,3925.0,3821.0,3909.0,3871.0,3797.0,6.2],\"type\":\"bar\"},{\"marker\":{\"color\":\"#136e72\"},\"name\":\"Other\",\"x\":[\"2011\",\"2012 \",\"2013\",\"2014\",\"2015\",\"2016\",\"2017\",\"2018\",\"2019\",\"2020\",\"2021\"],\"y\":[2683.0,2734.0,3023.0,3043.0,3019.0,2941.0,3152.0,2977.0,3027.0,3005.0,3002.0,11.9],\"type\":\"bar\"}],                        {\"barmode\":\"group\",\"template\":{\"data\":{\"bar\":[{\"error_x\":{\"color\":\"#2a3f5f\"},\"error_y\":{\"color\":\"#2a3f5f\"},\"marker\":{\"line\":{\"color\":\"#E5ECF6\",\"width\":0.5},\"pattern\":{\"fillmode\":\"overlay\",\"size\":10,\"solidity\":0.2}},\"type\":\"bar\"}],\"barpolar\":[{\"marker\":{\"line\":{\"color\":\"#E5ECF6\",\"width\":0.5},\"pattern\":{\"fillmode\":\"overlay\",\"size\":10,\"solidity\":0.2}},\"type\":\"barpolar\"}],\"carpet\":[{\"aaxis\":{\"endlinecolor\":\"#2a3f5f\",\"gridcolor\":\"white\",\"linecolor\":\"white\",\"minorgridcolor\":\"white\",\"startlinecolor\":\"#2a3f5f\"},\"baxis\":{\"endlinecolor\":\"#2a3f5f\",\"gridcolor\":\"white\",\"linecolor\":\"white\",\"minorgridcolor\":\"white\",\"startlinecolor\":\"#2a3f5f\"},\"type\":\"carpet\"}],\"choropleth\":[{\"colorbar\":{\"outlinewidth\":0,\"ticks\":\"\"},\"type\":\"choropleth\"}],\"contour\":[{\"colorbar\":{\"outlinewidth\":0,\"ticks\":\"\"},\"colorscale\":[[0.0,\"#0d0887\"],[0.1111111111111111,\"#46039f\"],[0.2222222222222222,\"#7201a8\"],[0.3333333333333333,\"#9c179e\"],[0.4444444444444444,\"#bd3786\"],[0.5555555555555556,\"#d8576b\"],[0.6666666666666666,\"#ed7953\"],[0.7777777777777778,\"#fb9f3a\"],[0.8888888888888888,\"#fdca26\"],[1.0,\"#f0f921\"]],\"type\":\"contour\"}],\"contourcarpet\":[{\"colorbar\":{\"outlinewidth\":0,\"ticks\":\"\"},\"type\":\"contourcarpet\"}],\"heatmap\":[{\"colorbar\":{\"outlinewidth\":0,\"ticks\":\"\"},\"colorscale\":[[0.0,\"#0d0887\"],[0.1111111111111111,\"#46039f\"],[0.2222222222222222,\"#7201a8\"],[0.3333333333333333,\"#9c179e\"],[0.4444444444444444,\"#bd3786\"],[0.5555555555555556,\"#d8576b\"],[0.6666666666666666,\"#ed7953\"],[0.7777777777777778,\"#fb9f3a\"],[0.8888888888888888,\"#fdca26\"],[1.0,\"#f0f921\"]],\"type\":\"heatmap\"}],\"heatmapgl\":[{\"colorbar\":{\"outlinewidth\":0,\"ticks\":\"\"},\"colorscale\":[[0.0,\"#0d0887\"],[0.1111111111111111,\"#46039f\"],[0.2222222222222222,\"#7201a8\"],[0.3333333333333333,\"#9c179e\"],[0.4444444444444444,\"#bd3786\"],[0.5555555555555556,\"#d8576b\"],[0.6666666666666666,\"#ed7953\"],[0.7777777777777778,\"#fb9f3a\"],[0.8888888888888888,\"#fdca26\"],[1.0,\"#f0f921\"]],\"type\":\"heatmapgl\"}],\"histogram\":[{\"marker\":{\"pattern\":{\"fillmode\":\"overlay\",\"size\":10,\"solidity\":0.2}},\"type\":\"histogram\"}],\"histogram2d\":[{\"colorbar\":{\"outlinewidth\":0,\"ticks\":\"\"},\"colorscale\":[[0.0,\"#0d0887\"],[0.1111111111111111,\"#46039f\"],[0.2222222222222222,\"#7201a8\"],[0.3333333333333333,\"#9c179e\"],[0.4444444444444444,\"#bd3786\"],[0.5555555555555556,\"#d8576b\"],[0.6666666666666666,\"#ed7953\"],[0.7777777777777778,\"#fb9f3a\"],[0.8888888888888888,\"#fdca26\"],[1.0,\"#f0f921\"]],\"type\":\"histogram2d\"}],\"histogram2dcontour\":[{\"colorbar\":{\"outlinewidth\":0,\"ticks\":\"\"},\"colorscale\":[[0.0,\"#0d0887\"],[0.1111111111111111,\"#46039f\"],[0.2222222222222222,\"#7201a8\"],[0.3333333333333333,\"#9c179e\"],[0.4444444444444444,\"#bd3786\"],[0.5555555555555556,\"#d8576b\"],[0.6666666666666666,\"#ed7953\"],[0.7777777777777778,\"#fb9f3a\"],[0.8888888888888888,\"#fdca26\"],[1.0,\"#f0f921\"]],\"type\":\"histogram2dcontour\"}],\"mesh3d\":[{\"colorbar\":{\"outlinewidth\":0,\"ticks\":\"\"},\"type\":\"mesh3d\"}],\"parcoords\":[{\"line\":{\"colorbar\":{\"outlinewidth\":0,\"ticks\":\"\"}},\"type\":\"parcoords\"}],\"pie\":[{\"automargin\":true,\"type\":\"pie\"}],\"scatter\":[{\"marker\":{\"colorbar\":{\"outlinewidth\":0,\"ticks\":\"\"}},\"type\":\"scatter\"}],\"scatter3d\":[{\"line\":{\"colorbar\":{\"outlinewidth\":0,\"ticks\":\"\"}},\"marker\":{\"colorbar\":{\"outlinewidth\":0,\"ticks\":\"\"}},\"type\":\"scatter3d\"}],\"scattercarpet\":[{\"marker\":{\"colorbar\":{\"outlinewidth\":0,\"ticks\":\"\"}},\"type\":\"scattercarpet\"}],\"scattergeo\":[{\"marker\":{\"colorbar\":{\"outlinewidth\":0,\"ticks\":\"\"}},\"type\":\"scattergeo\"}],\"scattergl\":[{\"marker\":{\"colorbar\":{\"outlinewidth\":0,\"ticks\":\"\"}},\"type\":\"scattergl\"}],\"scattermapbox\":[{\"marker\":{\"colorbar\":{\"outlinewidth\":0,\"ticks\":\"\"}},\"type\":\"scattermapbox\"}],\"scatterpolar\":[{\"marker\":{\"colorbar\":{\"outlinewidth\":0,\"ticks\":\"\"}},\"type\":\"scatterpolar\"}],\"scatterpolargl\":[{\"marker\":{\"colorbar\":{\"outlinewidth\":0,\"ticks\":\"\"}},\"type\":\"scatterpolargl\"}],\"scatterternary\":[{\"marker\":{\"colorbar\":{\"outlinewidth\":0,\"ticks\":\"\"}},\"type\":\"scatterternary\"}],\"surface\":[{\"colorbar\":{\"outlinewidth\":0,\"ticks\":\"\"},\"colorscale\":[[0.0,\"#0d0887\"],[0.1111111111111111,\"#46039f\"],[0.2222222222222222,\"#7201a8\"],[0.3333333333333333,\"#9c179e\"],[0.4444444444444444,\"#bd3786\"],[0.5555555555555556,\"#d8576b\"],[0.6666666666666666,\"#ed7953\"],[0.7777777777777778,\"#fb9f3a\"],[0.8888888888888888,\"#fdca26\"],[1.0,\"#f0f921\"]],\"type\":\"surface\"}],\"table\":[{\"cells\":{\"fill\":{\"color\":\"#EBF0F8\"},\"line\":{\"color\":\"white\"}},\"header\":{\"fill\":{\"color\":\"#C8D4E3\"},\"line\":{\"color\":\"white\"}},\"type\":\"table\"}]},\"layout\":{\"annotationdefaults\":{\"arrowcolor\":\"#2a3f5f\",\"arrowhead\":0,\"arrowwidth\":1},\"autotypenumbers\":\"strict\",\"coloraxis\":{\"colorbar\":{\"outlinewidth\":0,\"ticks\":\"\"}},\"colorscale\":{\"diverging\":[[0,\"#8e0152\"],[0.1,\"#c51b7d\"],[0.2,\"#de77ae\"],[0.3,\"#f1b6da\"],[0.4,\"#fde0ef\"],[0.5,\"#f7f7f7\"],[0.6,\"#e6f5d0\"],[0.7,\"#b8e186\"],[0.8,\"#7fbc41\"],[0.9,\"#4d9221\"],[1,\"#276419\"]],\"sequential\":[[0.0,\"#0d0887\"],[0.1111111111111111,\"#46039f\"],[0.2222222222222222,\"#7201a8\"],[0.3333333333333333,\"#9c179e\"],[0.4444444444444444,\"#bd3786\"],[0.5555555555555556,\"#d8576b\"],[0.6666666666666666,\"#ed7953\"],[0.7777777777777778,\"#fb9f3a\"],[0.8888888888888888,\"#fdca26\"],[1.0,\"#f0f921\"]],\"sequentialminus\":[[0.0,\"#0d0887\"],[0.1111111111111111,\"#46039f\"],[0.2222222222222222,\"#7201a8\"],[0.3333333333333333,\"#9c179e\"],[0.4444444444444444,\"#bd3786\"],[0.5555555555555556,\"#d8576b\"],[0.6666666666666666,\"#ed7953\"],[0.7777777777777778,\"#fb9f3a\"],[0.8888888888888888,\"#fdca26\"],[1.0,\"#f0f921\"]]},\"colorway\":[\"#636efa\",\"#EF553B\",\"#00cc96\",\"#ab63fa\",\"#FFA15A\",\"#19d3f3\",\"#FF6692\",\"#B6E880\",\"#FF97FF\",\"#FECB52\"],\"font\":{\"color\":\"#2a3f5f\"},\"geo\":{\"bgcolor\":\"white\",\"lakecolor\":\"white\",\"landcolor\":\"#E5ECF6\",\"showlakes\":true,\"showland\":true,\"subunitcolor\":\"white\"},\"hoverlabel\":{\"align\":\"left\"},\"hovermode\":\"closest\",\"mapbox\":{\"style\":\"light\"},\"paper_bgcolor\":\"white\",\"plot_bgcolor\":\"#E5ECF6\",\"polar\":{\"angularaxis\":{\"gridcolor\":\"white\",\"linecolor\":\"white\",\"ticks\":\"\"},\"bgcolor\":\"#E5ECF6\",\"radialaxis\":{\"gridcolor\":\"white\",\"linecolor\":\"white\",\"ticks\":\"\"}},\"scene\":{\"xaxis\":{\"backgroundcolor\":\"#E5ECF6\",\"gridcolor\":\"white\",\"gridwidth\":2,\"linecolor\":\"white\",\"showbackground\":true,\"ticks\":\"\",\"zerolinecolor\":\"white\"},\"yaxis\":{\"backgroundcolor\":\"#E5ECF6\",\"gridcolor\":\"white\",\"gridwidth\":2,\"linecolor\":\"white\",\"showbackground\":true,\"ticks\":\"\",\"zerolinecolor\":\"white\"},\"zaxis\":{\"backgroundcolor\":\"#E5ECF6\",\"gridcolor\":\"white\",\"gridwidth\":2,\"linecolor\":\"white\",\"showbackground\":true,\"ticks\":\"\",\"zerolinecolor\":\"white\"}},\"shapedefaults\":{\"line\":{\"color\":\"#2a3f5f\"}},\"ternary\":{\"aaxis\":{\"gridcolor\":\"white\",\"linecolor\":\"white\",\"ticks\":\"\"},\"baxis\":{\"gridcolor\":\"white\",\"linecolor\":\"white\",\"ticks\":\"\"},\"bgcolor\":\"#E5ECF6\",\"caxis\":{\"gridcolor\":\"white\",\"linecolor\":\"white\",\"ticks\":\"\"}},\"title\":{\"x\":0.05},\"xaxis\":{\"automargin\":true,\"gridcolor\":\"white\",\"linecolor\":\"white\",\"ticks\":\"\",\"title\":{\"standoff\":15},\"zerolinecolor\":\"white\",\"zerolinewidth\":2},\"yaxis\":{\"automargin\":true,\"gridcolor\":\"white\",\"linecolor\":\"white\",\"ticks\":\"\",\"title\":{\"standoff\":15},\"zerolinecolor\":\"white\",\"zerolinewidth\":2}}}},                        {\"responsive\": true}                    ).then(function(){\n",
       "                            \n",
       "var gd = document.getElementById('a3a18f40-2260-44d0-a7f7-566d1c77b4a7');\n",
       "var x = new MutationObserver(function (mutations, observer) {{\n",
       "        var display = window.getComputedStyle(gd).display;\n",
       "        if (!display || display === 'none') {{\n",
       "            console.log([gd, 'removed!']);\n",
       "            Plotly.purge(gd);\n",
       "            observer.disconnect();\n",
       "        }}\n",
       "}});\n",
       "\n",
       "// Listen for the removal of the full notebook cells\n",
       "var notebookContainer = gd.closest('#notebook-container');\n",
       "if (notebookContainer) {{\n",
       "    x.observe(notebookContainer, {childList: true});\n",
       "}}\n",
       "\n",
       "// Listen for the clearing of the current output cell\n",
       "var outputEl = gd.closest('.output');\n",
       "if (outputEl) {{\n",
       "    x.observe(outputEl, {childList: true});\n",
       "}}\n",
       "\n",
       "                        })                };                });            </script>        </div>"
      ]
     },
     "metadata": {},
     "output_type": "display_data"
    }
   ],
   "source": [
    "\n",
    "x='Mathematics and computer sciences'\n",
    "y='Psychology'\n",
    "z='Other'\n",
    "\n",
    "\n",
    "branches = ['2011', '2012 ', '2013', '2014','2015','2016','2017','2018','2019','2020','2021']\n",
    "firstbar = study[x]  #MUST BE DYNAMIC, USED THE Number\n",
    "secondbar = study[y]  #MUST BE DYNAMIC\n",
    "thirdbar = study[z]   # MUST be DYNAMIC\n",
    "print(firstbar)\n",
    "#TRACES must be processed as a list so it deals with all elements in the list rather than give a number\n",
    "trace1 = go.Bar(\n",
    "    x = branches,\n",
    "\n",
    "    y = firstbar,\n",
    "\n",
    "    name = str(x), marker_color='#6f175b' ## MUST be DYNAMIC, but dependent on the input in a slightly different way perhaps? (comes from column header..?)\n",
    "\n",
    ")\n",
    "trace2 = go.Bar(\n",
    "    x = branches,\n",
    "\n",
    "    y = secondbar,\n",
    "\n",
    "    name = str(y),marker_color='#e8baa8'\n",
    "\n",
    ")\n",
    "trace3 = go.Bar(\n",
    "    x = branches,\n",
    "\n",
    "    y = thirdbar,\n",
    "\n",
    "    name = str(z), marker_color='#136e72'\n",
    "\n",
    ")\n",
    "data = [trace1, trace2, trace3]\n",
    "layout = go.Layout(barmode = 'group')\n",
    "fig = go.Figure(data = data, layout = layout)\n",
    "fig.show()\n"
   ]
  },
  {
   "cell_type": "code",
   "execution_count": null,
   "id": "4391338f-7b1b-4db1-bf60-a2a70a6f2ac7",
   "metadata": {},
   "outputs": [],
   "source": [
    "\n",
    "\n"
   ]
  },
  {
   "cell_type": "code",
   "execution_count": null,
   "id": "cb05c474-02ae-4542-bb66-1ab0033c1fa5",
   "metadata": {},
   "outputs": [],
   "source": []
  },
  {
   "cell_type": "code",
   "execution_count": 7,
   "id": "5e9d1ca5-2ac7-422c-bd65-a6a7dfb87c8a",
   "metadata": {},
   "outputs": [
    {
     "name": "stdout",
     "output_type": "stream",
     "text": [
      "Dash is running on http://localhost:8080/\n",
      "\n",
      " * Serving Flask app '__main__'\n",
      " * Debug mode: on\n"
     ]
    }
   ],
   "source": [
    "# Standard Imports\n",
    "import numpy as np, pandas as pd, random, json, time, os\n",
    "\n",
    "# Plotly Imports\n",
    "import plotly.graph_objects as go\n",
    "import plotly.express as px\n",
    "\n",
    "# Dash Imports\n",
    "import dash\n",
    "from dash import dcc\n",
    "from dash import html\n",
    "from dash.dependencies import Input, Output\n",
    "\n",
    "# Additional Imports\n",
    "# import STUFF\n",
    "\n",
    "df710 = pd.read_csv(\"CSV/nsf23300-tab007-010.csv\",encoding='cp1252')\n",
    "\n",
    "# Load CSS sheet for style information\n",
    "external_stylesheets = ['https://codepen.io/chriddyp/pen/bWLwgP.css']\n",
    "\n",
    "# Define the Web-App Object and set to variable \"server\"\n",
    "app = dash.Dash(__name__, external_stylesheets=external_stylesheets)\n",
    "server = app.server\n",
    "\n",
    "# Suppres some output\n",
    "app.config.suppress_callback_exceptions = True\n",
    "\n",
    "\n",
    "#################################################\n",
    "################# Layout ########################\n",
    "#################################################\n",
    "\n",
    "app.layout = html.Div([\n",
    "    #h1 = level 1 header, etc...#\n",
    "    html.H1(children='Graduate Student Data 1970-2021'),\n",
    "    html.H2(children='This dashboard helps visualize location and statistics based data of doctorate recipients'),\n",
    "    \n",
    "    html.H6(\"Change below to make a new figure:\"),\n",
    "    \n",
    "    html.Div([\n",
    "           \"Selection:\",\n",
    "           dcc.Dropdown(['All fields','Agricultural sciences and natural resources','Biological and biomedical sciences','Computer and information sciences','Engineering','Geosciences, atmospheric, and ocean sciences','Health sciences','Mathematics and statistics','Multidisciplinary/ interdisciplinary sciences','Physical sciences','Psychology','Social sciences','Business','Education','Humanities','Visual and performing arts','Other'], 'All fields', id = 'my-input')\n",
    "    ]),\n",
    "\n",
    "    html.Div([\n",
    "\t\t\"State\",\n",
    "\t\tdcc.Dropdown(['Alabama','Alaska','Arizona','Arkansas','California','Colorado','Connecticut','Delaware','Florida','Georgia','Hawaii','Idaho','Illinois','Indiana','Iowa','Kansas','Kentucky','Louisiana','Maine','Maryland','Massachusetts','Michigan','Minnesota','Mississippi','Missouri','Montana','Nebraska','Nevada','New Hampshire','New Jersey','New Mexico','New York','North Carolina','North Dakota','Ohio','Oklahoma','Oregon','Pennsylvania','Rhode Island','South Carolina','South Dakota','Tennessee','Texas','Utah','Vermont','Virginia','Washington','West Virginia','Wisconsin','Wyoming'], 'Iowa',id = 'my-input2')\n",
    "\t]),\n",
    "    \n",
    "    \n",
    "    html.Br(),\n",
    "    \n",
    "    \n",
    "    html.Div([\n",
    "        html.Div([\n",
    "            dcc.Graph(id='figure-output')], \n",
    "            style={'width': '49%', 'display': 'inline-block', 'vertical-align': 'middle'}),\n",
    "\n",
    "        html.Div([dcc.Graph(id='figure-output2')], \n",
    "            style={'width': '49%', 'display': 'inline-block', 'vertical-align': 'middle'})\n",
    "    ]),\n",
    "\n",
    "])\n",
    "\n",
    "#####################\n",
    "# Plot one          #\n",
    "#####################\n",
    "@app.callback(\n",
    "    Output('figure-output', 'figure'),\n",
    "    Input('my-input', 'value'))    \n",
    "def make_plot(pltcolor):\n",
    "    fig = go.Figure()\n",
    "    hi = df710[pltcolor].max()\n",
    "    low = df710[pltcolor].min()\n",
    "    fig = px.choropleth(df710,\n",
    "                    locations = 'Abbrev',\n",
    "                    locationmode = 'USA-states',\n",
    "                    scope = 'usa',\n",
    "                    color = pltcolor,\n",
    "                    hover_name = 'State or location',\n",
    "                    #hover_data = ['Male','Female'],\n",
    "                    range_color = [low,hi],\n",
    "                    color_continuous_scale = 'armyrose')  \n",
    "                    \n",
    "    #fig.update_layout(title=\"Model Output\")\n",
    "\n",
    "    \n",
    "    return fig  \n",
    "    \n",
    "\n",
    "\n",
    "\n",
    "\n",
    "#####################\n",
    "# Plot two          #\n",
    "#####################\n",
    "@app.callback(\n",
    "    Output('figure-output2', 'figure'),\n",
    "    #Input('my-input', 'value'),\n",
    "    Input('my-input2', 'value'))    \n",
    "def make_plot(state):\n",
    "    fig = px.pie(df7103, 'State or location', state, color_discrete_sequence=px.colors.diverging.Armyrose)\n",
    "                    \n",
    "    #fig.update_layout(title=\"Model Output\")\n",
    "    \n",
    "    return fig    \n",
    "\n",
    "\n",
    "\n",
    "\n",
    "    \n",
    "# -------------------------- MAIN ---------------------------- #\n",
    "\n",
    "\n",
    "# This is the code that gets run when we call this file from the terminal\n",
    "# The port number can be changed to fit your particular needs\n",
    "if __name__ == '__main__':\n",
    "    app.run_server(host='localhost', port=8080, debug=True, use_reloader=False)\n"
   ]
  },
  {
   "cell_type": "code",
   "execution_count": null,
   "id": "45588fcf-4fc6-4ef2-8031-a4e20c73dc5a",
   "metadata": {},
   "outputs": [],
   "source": []
  },
  {
   "cell_type": "code",
   "execution_count": null,
   "id": "631a384e-96e4-45f4-987f-33419e62d5da",
   "metadata": {},
   "outputs": [],
   "source": [
    "df = pd.read_csv(\"CSV/nsf23300-tab007-006.csv\",encoding='cp1252')\n",
    "df['Total Rank'] = df['Total'].rank()\n",
    "df['Tot Sci Eng Rank'] = df['Tot Sci Eng'].rank()\n",
    "df['Male Sci Eng Rank'] = df['Male Sci Eng'].rank()\n",
    "df['Female Sci Eng Rank'] = df['Female Sci Eng'].rank()\n",
    "df['Tot Non Sci Rank'] = df['Tot Non Sci'].rank()\n",
    "df['Male Non Sci Rank'] = df['Male Non Sci'].rank()\n",
    "df['Female Non Sci Rank'] = df['Female Non Sci'].rank()\n",
    "df['Ratio M/F'] = df['Male']/df['Female']\n",
    "df['Ratio Sci/Non'] = df['Tot Sci Eng']/df['Tot Non Sci']\n",
    "df[:3]"
   ]
  },
  {
   "cell_type": "code",
   "execution_count": 17,
   "id": "bc690079-06ee-497c-b8be-190d79ab8666",
   "metadata": {},
   "outputs": [
    {
     "data": {
      "text/html": [
       "<div>\n",
       "<style scoped>\n",
       "    .dataframe tbody tr th:only-of-type {\n",
       "        vertical-align: middle;\n",
       "    }\n",
       "\n",
       "    .dataframe tbody tr th {\n",
       "        vertical-align: top;\n",
       "    }\n",
       "\n",
       "    .dataframe thead th {\n",
       "        text-align: right;\n",
       "    }\n",
       "</style>\n",
       "<table border=\"1\" class=\"dataframe\">\n",
       "  <thead>\n",
       "    <tr style=\"text-align: right;\">\n",
       "      <th></th>\n",
       "      <th>State or location</th>\n",
       "      <th>Abbrev</th>\n",
       "      <th>All fields</th>\n",
       "      <th>Agricultural sciences and natural resources</th>\n",
       "      <th>Biological and biomedical sciences</th>\n",
       "      <th>Computer and information sciences</th>\n",
       "      <th>Engineering</th>\n",
       "      <th>Geosciences, atmospheric, and ocean sciences</th>\n",
       "      <th>Health sciences</th>\n",
       "      <th>Mathematics and statistics</th>\n",
       "      <th>Multidisciplinary/ interdisciplinary sciences</th>\n",
       "      <th>Physical sciences</th>\n",
       "      <th>Psychology</th>\n",
       "      <th>Social sciences</th>\n",
       "      <th>Business</th>\n",
       "      <th>Education</th>\n",
       "      <th>Humanities</th>\n",
       "      <th>Visual and performing arts</th>\n",
       "      <th>Other</th>\n",
       "    </tr>\n",
       "  </thead>\n",
       "  <tbody>\n",
       "    <tr>\n",
       "      <th>0</th>\n",
       "      <td>Alabama</td>\n",
       "      <td>AL</td>\n",
       "      <td>640.0</td>\n",
       "      <td>25.0</td>\n",
       "      <td>119.0</td>\n",
       "      <td>11.0</td>\n",
       "      <td>117.0</td>\n",
       "      <td>8.0</td>\n",
       "      <td>30.0</td>\n",
       "      <td>22.0</td>\n",
       "      <td>16.0</td>\n",
       "      <td>45.0</td>\n",
       "      <td>57.0</td>\n",
       "      <td>17.0</td>\n",
       "      <td>24.0</td>\n",
       "      <td>105.0</td>\n",
       "      <td>14.0</td>\n",
       "      <td>1.0</td>\n",
       "      <td>29.0</td>\n",
       "    </tr>\n",
       "    <tr>\n",
       "      <th>1</th>\n",
       "      <td>Alaska</td>\n",
       "      <td>AK</td>\n",
       "      <td>42.0</td>\n",
       "      <td>5.0</td>\n",
       "      <td>3.0</td>\n",
       "      <td>0.0</td>\n",
       "      <td>2.0</td>\n",
       "      <td>11.0</td>\n",
       "      <td>0.0</td>\n",
       "      <td>0.0</td>\n",
       "      <td>2.0</td>\n",
       "      <td>2.0</td>\n",
       "      <td>10.0</td>\n",
       "      <td>4.0</td>\n",
       "      <td>0.0</td>\n",
       "      <td>2.0</td>\n",
       "      <td>0.0</td>\n",
       "      <td>0.0</td>\n",
       "      <td>1.0</td>\n",
       "    </tr>\n",
       "    <tr>\n",
       "      <th>2</th>\n",
       "      <td>Arizona</td>\n",
       "      <td>AZ</td>\n",
       "      <td>935.0</td>\n",
       "      <td>21.0</td>\n",
       "      <td>112.0</td>\n",
       "      <td>31.0</td>\n",
       "      <td>198.0</td>\n",
       "      <td>23.0</td>\n",
       "      <td>41.0</td>\n",
       "      <td>25.0</td>\n",
       "      <td>35.0</td>\n",
       "      <td>86.0</td>\n",
       "      <td>58.0</td>\n",
       "      <td>104.0</td>\n",
       "      <td>25.0</td>\n",
       "      <td>61.0</td>\n",
       "      <td>43.0</td>\n",
       "      <td>40.0</td>\n",
       "      <td>32.0</td>\n",
       "    </tr>\n",
       "    <tr>\n",
       "      <th>3</th>\n",
       "      <td>Arkansas</td>\n",
       "      <td>AR</td>\n",
       "      <td>275.0</td>\n",
       "      <td>21.0</td>\n",
       "      <td>49.0</td>\n",
       "      <td>18.0</td>\n",
       "      <td>48.0</td>\n",
       "      <td>2.0</td>\n",
       "      <td>8.0</td>\n",
       "      <td>2.0</td>\n",
       "      <td>3.0</td>\n",
       "      <td>20.0</td>\n",
       "      <td>11.0</td>\n",
       "      <td>16.0</td>\n",
       "      <td>14.0</td>\n",
       "      <td>40.0</td>\n",
       "      <td>12.0</td>\n",
       "      <td>0.0</td>\n",
       "      <td>11.0</td>\n",
       "    </tr>\n",
       "    <tr>\n",
       "      <th>4</th>\n",
       "      <td>California</td>\n",
       "      <td>CA</td>\n",
       "      <td>5892.0</td>\n",
       "      <td>81.0</td>\n",
       "      <td>979.0</td>\n",
       "      <td>285.0</td>\n",
       "      <td>1082.0</td>\n",
       "      <td>146.0</td>\n",
       "      <td>177.0</td>\n",
       "      <td>236.0</td>\n",
       "      <td>191.0</td>\n",
       "      <td>668.0</td>\n",
       "      <td>486.0</td>\n",
       "      <td>628.0</td>\n",
       "      <td>126.0</td>\n",
       "      <td>192.0</td>\n",
       "      <td>333.0</td>\n",
       "      <td>120.0</td>\n",
       "      <td>162.0</td>\n",
       "    </tr>\n",
       "    <tr>\n",
       "      <th>5</th>\n",
       "      <td>Colorado</td>\n",
       "      <td>CO</td>\n",
       "      <td>1024.0</td>\n",
       "      <td>23.0</td>\n",
       "      <td>166.0</td>\n",
       "      <td>39.0</td>\n",
       "      <td>217.0</td>\n",
       "      <td>56.0</td>\n",
       "      <td>46.0</td>\n",
       "      <td>46.0</td>\n",
       "      <td>13.0</td>\n",
       "      <td>107.0</td>\n",
       "      <td>59.0</td>\n",
       "      <td>56.0</td>\n",
       "      <td>7.0</td>\n",
       "      <td>92.0</td>\n",
       "      <td>33.0</td>\n",
       "      <td>32.0</td>\n",
       "      <td>32.0</td>\n",
       "    </tr>\n",
       "    <tr>\n",
       "      <th>6</th>\n",
       "      <td>Connecticut</td>\n",
       "      <td>CT</td>\n",
       "      <td>731.0</td>\n",
       "      <td>13.0</td>\n",
       "      <td>154.0</td>\n",
       "      <td>22.0</td>\n",
       "      <td>88.0</td>\n",
       "      <td>14.0</td>\n",
       "      <td>20.0</td>\n",
       "      <td>36.0</td>\n",
       "      <td>12.0</td>\n",
       "      <td>97.0</td>\n",
       "      <td>45.0</td>\n",
       "      <td>102.0</td>\n",
       "      <td>22.0</td>\n",
       "      <td>12.0</td>\n",
       "      <td>54.0</td>\n",
       "      <td>15.0</td>\n",
       "      <td>25.0</td>\n",
       "    </tr>\n",
       "    <tr>\n",
       "      <th>7</th>\n",
       "      <td>Delaware</td>\n",
       "      <td>DE</td>\n",
       "      <td>212.0</td>\n",
       "      <td>12.0</td>\n",
       "      <td>35.0</td>\n",
       "      <td>9.0</td>\n",
       "      <td>55.0</td>\n",
       "      <td>4.0</td>\n",
       "      <td>2.0</td>\n",
       "      <td>9.0</td>\n",
       "      <td>3.0</td>\n",
       "      <td>28.0</td>\n",
       "      <td>7.0</td>\n",
       "      <td>21.0</td>\n",
       "      <td>2.0</td>\n",
       "      <td>9.0</td>\n",
       "      <td>7.0</td>\n",
       "      <td>2.0</td>\n",
       "      <td>7.0</td>\n",
       "    </tr>\n",
       "    <tr>\n",
       "      <th>8</th>\n",
       "      <td>Florida</td>\n",
       "      <td>FL</td>\n",
       "      <td>2339.0</td>\n",
       "      <td>66.0</td>\n",
       "      <td>305.0</td>\n",
       "      <td>139.0</td>\n",
       "      <td>408.0</td>\n",
       "      <td>67.0</td>\n",
       "      <td>137.0</td>\n",
       "      <td>69.0</td>\n",
       "      <td>81.0</td>\n",
       "      <td>185.0</td>\n",
       "      <td>169.0</td>\n",
       "      <td>158.0</td>\n",
       "      <td>58.0</td>\n",
       "      <td>218.0</td>\n",
       "      <td>105.0</td>\n",
       "      <td>47.0</td>\n",
       "      <td>127.0</td>\n",
       "    </tr>\n",
       "    <tr>\n",
       "      <th>9</th>\n",
       "      <td>Georgia</td>\n",
       "      <td>GA</td>\n",
       "      <td>1451.0</td>\n",
       "      <td>50.0</td>\n",
       "      <td>286.0</td>\n",
       "      <td>94.0</td>\n",
       "      <td>360.0</td>\n",
       "      <td>17.0</td>\n",
       "      <td>58.0</td>\n",
       "      <td>35.0</td>\n",
       "      <td>36.0</td>\n",
       "      <td>107.0</td>\n",
       "      <td>71.0</td>\n",
       "      <td>103.0</td>\n",
       "      <td>37.0</td>\n",
       "      <td>67.0</td>\n",
       "      <td>63.0</td>\n",
       "      <td>10.0</td>\n",
       "      <td>57.0</td>\n",
       "    </tr>\n",
       "    <tr>\n",
       "      <th>10</th>\n",
       "      <td>Hawaii</td>\n",
       "      <td>HI</td>\n",
       "      <td>133.0</td>\n",
       "      <td>3.0</td>\n",
       "      <td>17.0</td>\n",
       "      <td>3.0</td>\n",
       "      <td>8.0</td>\n",
       "      <td>13.0</td>\n",
       "      <td>6.0</td>\n",
       "      <td>2.0</td>\n",
       "      <td>3.0</td>\n",
       "      <td>9.0</td>\n",
       "      <td>9.0</td>\n",
       "      <td>22.0</td>\n",
       "      <td>5.0</td>\n",
       "      <td>11.0</td>\n",
       "      <td>14.0</td>\n",
       "      <td>3.0</td>\n",
       "      <td>5.0</td>\n",
       "    </tr>\n",
       "    <tr>\n",
       "      <th>11</th>\n",
       "      <td>Idaho</td>\n",
       "      <td>ID</td>\n",
       "      <td>136.0</td>\n",
       "      <td>16.0</td>\n",
       "      <td>21.0</td>\n",
       "      <td>11.0</td>\n",
       "      <td>31.0</td>\n",
       "      <td>6.0</td>\n",
       "      <td>4.0</td>\n",
       "      <td>2.0</td>\n",
       "      <td>4.0</td>\n",
       "      <td>7.0</td>\n",
       "      <td>12.0</td>\n",
       "      <td>1.0</td>\n",
       "      <td>0.0</td>\n",
       "      <td>17.0</td>\n",
       "      <td>3.0</td>\n",
       "      <td>0.0</td>\n",
       "      <td>1.0</td>\n",
       "    </tr>\n",
       "    <tr>\n",
       "      <th>12</th>\n",
       "      <td>Illinois</td>\n",
       "      <td>IL</td>\n",
       "      <td>2310.0</td>\n",
       "      <td>37.0</td>\n",
       "      <td>324.0</td>\n",
       "      <td>124.0</td>\n",
       "      <td>398.0</td>\n",
       "      <td>26.0</td>\n",
       "      <td>88.0</td>\n",
       "      <td>97.0</td>\n",
       "      <td>36.0</td>\n",
       "      <td>275.0</td>\n",
       "      <td>162.0</td>\n",
       "      <td>280.0</td>\n",
       "      <td>76.0</td>\n",
       "      <td>85.0</td>\n",
       "      <td>182.0</td>\n",
       "      <td>43.0</td>\n",
       "      <td>77.0</td>\n",
       "    </tr>\n",
       "    <tr>\n",
       "      <th>13</th>\n",
       "      <td>Indiana</td>\n",
       "      <td>IN</td>\n",
       "      <td>1556.0</td>\n",
       "      <td>31.0</td>\n",
       "      <td>195.0</td>\n",
       "      <td>73.0</td>\n",
       "      <td>391.0</td>\n",
       "      <td>22.0</td>\n",
       "      <td>53.0</td>\n",
       "      <td>73.0</td>\n",
       "      <td>39.0</td>\n",
       "      <td>154.0</td>\n",
       "      <td>85.0</td>\n",
       "      <td>134.0</td>\n",
       "      <td>29.0</td>\n",
       "      <td>106.0</td>\n",
       "      <td>122.0</td>\n",
       "      <td>7.0</td>\n",
       "      <td>42.0</td>\n",
       "    </tr>\n",
       "    <tr>\n",
       "      <th>14</th>\n",
       "      <td>Iowa</td>\n",
       "      <td>IA</td>\n",
       "      <td>618.0</td>\n",
       "      <td>33.0</td>\n",
       "      <td>108.0</td>\n",
       "      <td>17.0</td>\n",
       "      <td>125.0</td>\n",
       "      <td>6.0</td>\n",
       "      <td>29.0</td>\n",
       "      <td>46.0</td>\n",
       "      <td>19.0</td>\n",
       "      <td>58.0</td>\n",
       "      <td>42.0</td>\n",
       "      <td>34.0</td>\n",
       "      <td>20.0</td>\n",
       "      <td>47.0</td>\n",
       "      <td>17.0</td>\n",
       "      <td>4.0</td>\n",
       "      <td>13.0</td>\n",
       "    </tr>\n",
       "    <tr>\n",
       "      <th>15</th>\n",
       "      <td>Kansas</td>\n",
       "      <td>KS</td>\n",
       "      <td>466.0</td>\n",
       "      <td>32.0</td>\n",
       "      <td>62.0</td>\n",
       "      <td>12.0</td>\n",
       "      <td>72.0</td>\n",
       "      <td>3.0</td>\n",
       "      <td>16.0</td>\n",
       "      <td>18.0</td>\n",
       "      <td>12.0</td>\n",
       "      <td>38.0</td>\n",
       "      <td>56.0</td>\n",
       "      <td>40.0</td>\n",
       "      <td>11.0</td>\n",
       "      <td>43.0</td>\n",
       "      <td>22.0</td>\n",
       "      <td>7.0</td>\n",
       "      <td>22.0</td>\n",
       "    </tr>\n",
       "    <tr>\n",
       "      <th>16</th>\n",
       "      <td>Kentucky</td>\n",
       "      <td>KY</td>\n",
       "      <td>484.0</td>\n",
       "      <td>8.0</td>\n",
       "      <td>83.0</td>\n",
       "      <td>8.0</td>\n",
       "      <td>62.0</td>\n",
       "      <td>2.0</td>\n",
       "      <td>39.0</td>\n",
       "      <td>15.0</td>\n",
       "      <td>10.0</td>\n",
       "      <td>34.0</td>\n",
       "      <td>26.0</td>\n",
       "      <td>49.0</td>\n",
       "      <td>4.0</td>\n",
       "      <td>58.0</td>\n",
       "      <td>50.0</td>\n",
       "      <td>8.0</td>\n",
       "      <td>28.0</td>\n",
       "    </tr>\n",
       "    <tr>\n",
       "      <th>17</th>\n",
       "      <td>Louisiana</td>\n",
       "      <td>LA</td>\n",
       "      <td>586.0</td>\n",
       "      <td>22.0</td>\n",
       "      <td>100.0</td>\n",
       "      <td>12.0</td>\n",
       "      <td>96.0</td>\n",
       "      <td>17.0</td>\n",
       "      <td>35.0</td>\n",
       "      <td>18.0</td>\n",
       "      <td>4.0</td>\n",
       "      <td>58.0</td>\n",
       "      <td>28.0</td>\n",
       "      <td>46.0</td>\n",
       "      <td>26.0</td>\n",
       "      <td>51.0</td>\n",
       "      <td>45.0</td>\n",
       "      <td>7.0</td>\n",
       "      <td>21.0</td>\n",
       "    </tr>\n",
       "    <tr>\n",
       "      <th>18</th>\n",
       "      <td>Maine</td>\n",
       "      <td>ME</td>\n",
       "      <td>70.0</td>\n",
       "      <td>11.0</td>\n",
       "      <td>10.0</td>\n",
       "      <td>0.0</td>\n",
       "      <td>13.0</td>\n",
       "      <td>6.0</td>\n",
       "      <td>1.0</td>\n",
       "      <td>0.0</td>\n",
       "      <td>0.0</td>\n",
       "      <td>7.0</td>\n",
       "      <td>5.0</td>\n",
       "      <td>5.0</td>\n",
       "      <td>0.0</td>\n",
       "      <td>4.0</td>\n",
       "      <td>3.0</td>\n",
       "      <td>1.0</td>\n",
       "      <td>4.0</td>\n",
       "    </tr>\n",
       "    <tr>\n",
       "      <th>19</th>\n",
       "      <td>Maryland</td>\n",
       "      <td>MD</td>\n",
       "      <td>1173.0</td>\n",
       "      <td>18.0</td>\n",
       "      <td>258.0</td>\n",
       "      <td>87.0</td>\n",
       "      <td>200.0</td>\n",
       "      <td>23.0</td>\n",
       "      <td>97.0</td>\n",
       "      <td>39.0</td>\n",
       "      <td>33.0</td>\n",
       "      <td>86.0</td>\n",
       "      <td>50.0</td>\n",
       "      <td>113.0</td>\n",
       "      <td>24.0</td>\n",
       "      <td>42.0</td>\n",
       "      <td>57.0</td>\n",
       "      <td>11.0</td>\n",
       "      <td>35.0</td>\n",
       "    </tr>\n",
       "    <tr>\n",
       "      <th>20</th>\n",
       "      <td>Massachusetts</td>\n",
       "      <td>MA</td>\n",
       "      <td>2652.0</td>\n",
       "      <td>20.0</td>\n",
       "      <td>458.0</td>\n",
       "      <td>135.0</td>\n",
       "      <td>500.0</td>\n",
       "      <td>39.0</td>\n",
       "      <td>132.0</td>\n",
       "      <td>89.0</td>\n",
       "      <td>79.0</td>\n",
       "      <td>297.0</td>\n",
       "      <td>116.0</td>\n",
       "      <td>315.0</td>\n",
       "      <td>65.0</td>\n",
       "      <td>104.0</td>\n",
       "      <td>171.0</td>\n",
       "      <td>33.0</td>\n",
       "      <td>99.0</td>\n",
       "    </tr>\n",
       "    <tr>\n",
       "      <th>21</th>\n",
       "      <td>Michigan</td>\n",
       "      <td>MI</td>\n",
       "      <td>1790.0</td>\n",
       "      <td>32.0</td>\n",
       "      <td>271.0</td>\n",
       "      <td>78.0</td>\n",
       "      <td>379.0</td>\n",
       "      <td>23.0</td>\n",
       "      <td>82.0</td>\n",
       "      <td>81.0</td>\n",
       "      <td>35.0</td>\n",
       "      <td>192.0</td>\n",
       "      <td>104.0</td>\n",
       "      <td>169.0</td>\n",
       "      <td>18.0</td>\n",
       "      <td>161.0</td>\n",
       "      <td>72.0</td>\n",
       "      <td>7.0</td>\n",
       "      <td>86.0</td>\n",
       "    </tr>\n",
       "    <tr>\n",
       "      <th>22</th>\n",
       "      <td>Minnesota</td>\n",
       "      <td>MN</td>\n",
       "      <td>1499.0</td>\n",
       "      <td>27.0</td>\n",
       "      <td>143.0</td>\n",
       "      <td>29.0</td>\n",
       "      <td>126.0</td>\n",
       "      <td>6.0</td>\n",
       "      <td>203.0</td>\n",
       "      <td>26.0</td>\n",
       "      <td>21.0</td>\n",
       "      <td>60.0</td>\n",
       "      <td>230.0</td>\n",
       "      <td>204.0</td>\n",
       "      <td>107.0</td>\n",
       "      <td>148.0</td>\n",
       "      <td>28.0</td>\n",
       "      <td>5.0</td>\n",
       "      <td>136.0</td>\n",
       "    </tr>\n",
       "    <tr>\n",
       "      <th>23</th>\n",
       "      <td>Mississippi</td>\n",
       "      <td>MS</td>\n",
       "      <td>409.0</td>\n",
       "      <td>31.0</td>\n",
       "      <td>39.0</td>\n",
       "      <td>6.0</td>\n",
       "      <td>47.0</td>\n",
       "      <td>6.0</td>\n",
       "      <td>28.0</td>\n",
       "      <td>8.0</td>\n",
       "      <td>12.0</td>\n",
       "      <td>33.0</td>\n",
       "      <td>40.0</td>\n",
       "      <td>26.0</td>\n",
       "      <td>16.0</td>\n",
       "      <td>83.0</td>\n",
       "      <td>14.0</td>\n",
       "      <td>0.0</td>\n",
       "      <td>20.0</td>\n",
       "    </tr>\n",
       "    <tr>\n",
       "      <th>24</th>\n",
       "      <td>Missouri</td>\n",
       "      <td>MO</td>\n",
       "      <td>905.0</td>\n",
       "      <td>22.0</td>\n",
       "      <td>142.0</td>\n",
       "      <td>28.0</td>\n",
       "      <td>205.0</td>\n",
       "      <td>12.0</td>\n",
       "      <td>55.0</td>\n",
       "      <td>28.0</td>\n",
       "      <td>15.0</td>\n",
       "      <td>61.0</td>\n",
       "      <td>72.0</td>\n",
       "      <td>57.0</td>\n",
       "      <td>18.0</td>\n",
       "      <td>56.0</td>\n",
       "      <td>103.0</td>\n",
       "      <td>5.0</td>\n",
       "      <td>26.0</td>\n",
       "    </tr>\n",
       "    <tr>\n",
       "      <th>25</th>\n",
       "      <td>Montana</td>\n",
       "      <td>MT</td>\n",
       "      <td>113.0</td>\n",
       "      <td>8.0</td>\n",
       "      <td>32.0</td>\n",
       "      <td>1.0</td>\n",
       "      <td>9.0</td>\n",
       "      <td>4.0</td>\n",
       "      <td>5.0</td>\n",
       "      <td>8.0</td>\n",
       "      <td>1.0</td>\n",
       "      <td>9.0</td>\n",
       "      <td>10.0</td>\n",
       "      <td>5.0</td>\n",
       "      <td>0.0</td>\n",
       "      <td>13.0</td>\n",
       "      <td>7.0</td>\n",
       "      <td>0.0</td>\n",
       "      <td>1.0</td>\n",
       "    </tr>\n",
       "    <tr>\n",
       "      <th>26</th>\n",
       "      <td>Nebraska</td>\n",
       "      <td>NE</td>\n",
       "      <td>329.0</td>\n",
       "      <td>37.0</td>\n",
       "      <td>67.0</td>\n",
       "      <td>5.0</td>\n",
       "      <td>44.0</td>\n",
       "      <td>2.0</td>\n",
       "      <td>27.0</td>\n",
       "      <td>12.0</td>\n",
       "      <td>11.0</td>\n",
       "      <td>20.0</td>\n",
       "      <td>24.0</td>\n",
       "      <td>15.0</td>\n",
       "      <td>9.0</td>\n",
       "      <td>29.0</td>\n",
       "      <td>13.0</td>\n",
       "      <td>1.0</td>\n",
       "      <td>13.0</td>\n",
       "    </tr>\n",
       "    <tr>\n",
       "      <th>27</th>\n",
       "      <td>Nevada</td>\n",
       "      <td>NV</td>\n",
       "      <td>240.0</td>\n",
       "      <td>2.0</td>\n",
       "      <td>31.0</td>\n",
       "      <td>2.0</td>\n",
       "      <td>30.0</td>\n",
       "      <td>13.0</td>\n",
       "      <td>16.0</td>\n",
       "      <td>4.0</td>\n",
       "      <td>8.0</td>\n",
       "      <td>17.0</td>\n",
       "      <td>41.0</td>\n",
       "      <td>23.0</td>\n",
       "      <td>9.0</td>\n",
       "      <td>33.0</td>\n",
       "      <td>7.0</td>\n",
       "      <td>0.0</td>\n",
       "      <td>4.0</td>\n",
       "    </tr>\n",
       "    <tr>\n",
       "      <th>28</th>\n",
       "      <td>New Hampshire</td>\n",
       "      <td>NH</td>\n",
       "      <td>159.0</td>\n",
       "      <td>10.0</td>\n",
       "      <td>39.0</td>\n",
       "      <td>9.0</td>\n",
       "      <td>34.0</td>\n",
       "      <td>7.0</td>\n",
       "      <td>5.0</td>\n",
       "      <td>9.0</td>\n",
       "      <td>1.0</td>\n",
       "      <td>19.0</td>\n",
       "      <td>3.0</td>\n",
       "      <td>8.0</td>\n",
       "      <td>2.0</td>\n",
       "      <td>5.0</td>\n",
       "      <td>8.0</td>\n",
       "      <td>0.0</td>\n",
       "      <td>0.0</td>\n",
       "    </tr>\n",
       "    <tr>\n",
       "      <th>29</th>\n",
       "      <td>New Jersey</td>\n",
       "      <td>NJ</td>\n",
       "      <td>950.0</td>\n",
       "      <td>19.0</td>\n",
       "      <td>113.0</td>\n",
       "      <td>70.0</td>\n",
       "      <td>182.0</td>\n",
       "      <td>19.0</td>\n",
       "      <td>28.0</td>\n",
       "      <td>46.0</td>\n",
       "      <td>21.0</td>\n",
       "      <td>93.0</td>\n",
       "      <td>36.0</td>\n",
       "      <td>109.0</td>\n",
       "      <td>24.0</td>\n",
       "      <td>56.0</td>\n",
       "      <td>86.0</td>\n",
       "      <td>11.0</td>\n",
       "      <td>37.0</td>\n",
       "    </tr>\n",
       "    <tr>\n",
       "      <th>30</th>\n",
       "      <td>New Mexico</td>\n",
       "      <td>NM</td>\n",
       "      <td>280.0</td>\n",
       "      <td>12.0</td>\n",
       "      <td>37.0</td>\n",
       "      <td>8.0</td>\n",
       "      <td>58.0</td>\n",
       "      <td>14.0</td>\n",
       "      <td>6.0</td>\n",
       "      <td>10.0</td>\n",
       "      <td>2.0</td>\n",
       "      <td>34.0</td>\n",
       "      <td>11.0</td>\n",
       "      <td>22.0</td>\n",
       "      <td>4.0</td>\n",
       "      <td>45.0</td>\n",
       "      <td>8.0</td>\n",
       "      <td>0.0</td>\n",
       "      <td>9.0</td>\n",
       "    </tr>\n",
       "    <tr>\n",
       "      <th>31</th>\n",
       "      <td>New York</td>\n",
       "      <td>NY</td>\n",
       "      <td>3871.0</td>\n",
       "      <td>49.0</td>\n",
       "      <td>664.0</td>\n",
       "      <td>195.0</td>\n",
       "      <td>532.0</td>\n",
       "      <td>55.0</td>\n",
       "      <td>139.0</td>\n",
       "      <td>145.0</td>\n",
       "      <td>87.0</td>\n",
       "      <td>355.0</td>\n",
       "      <td>333.0</td>\n",
       "      <td>421.0</td>\n",
       "      <td>76.0</td>\n",
       "      <td>218.0</td>\n",
       "      <td>325.0</td>\n",
       "      <td>135.0</td>\n",
       "      <td>142.0</td>\n",
       "    </tr>\n",
       "    <tr>\n",
       "      <th>32</th>\n",
       "      <td>North Carolina</td>\n",
       "      <td>NC</td>\n",
       "      <td>1724.0</td>\n",
       "      <td>47.0</td>\n",
       "      <td>312.0</td>\n",
       "      <td>62.0</td>\n",
       "      <td>331.0</td>\n",
       "      <td>25.0</td>\n",
       "      <td>124.0</td>\n",
       "      <td>100.0</td>\n",
       "      <td>46.0</td>\n",
       "      <td>143.0</td>\n",
       "      <td>94.0</td>\n",
       "      <td>123.0</td>\n",
       "      <td>29.0</td>\n",
       "      <td>95.0</td>\n",
       "      <td>101.0</td>\n",
       "      <td>16.0</td>\n",
       "      <td>76.0</td>\n",
       "    </tr>\n",
       "    <tr>\n",
       "      <th>33</th>\n",
       "      <td>North Dakota</td>\n",
       "      <td>ND</td>\n",
       "      <td>175.0</td>\n",
       "      <td>9.0</td>\n",
       "      <td>21.0</td>\n",
       "      <td>2.0</td>\n",
       "      <td>35.0</td>\n",
       "      <td>4.0</td>\n",
       "      <td>7.0</td>\n",
       "      <td>6.0</td>\n",
       "      <td>1.0</td>\n",
       "      <td>10.0</td>\n",
       "      <td>24.0</td>\n",
       "      <td>4.0</td>\n",
       "      <td>7.0</td>\n",
       "      <td>30.0</td>\n",
       "      <td>6.0</td>\n",
       "      <td>0.0</td>\n",
       "      <td>9.0</td>\n",
       "    </tr>\n",
       "    <tr>\n",
       "      <th>34</th>\n",
       "      <td>Ohio</td>\n",
       "      <td>OH</td>\n",
       "      <td>1878.0</td>\n",
       "      <td>36.0</td>\n",
       "      <td>298.0</td>\n",
       "      <td>36.0</td>\n",
       "      <td>381.0</td>\n",
       "      <td>28.0</td>\n",
       "      <td>86.0</td>\n",
       "      <td>58.0</td>\n",
       "      <td>53.0</td>\n",
       "      <td>177.0</td>\n",
       "      <td>132.0</td>\n",
       "      <td>143.0</td>\n",
       "      <td>40.0</td>\n",
       "      <td>185.0</td>\n",
       "      <td>110.0</td>\n",
       "      <td>33.0</td>\n",
       "      <td>82.0</td>\n",
       "    </tr>\n",
       "    <tr>\n",
       "      <th>35</th>\n",
       "      <td>Oklahoma</td>\n",
       "      <td>OK</td>\n",
       "      <td>484.0</td>\n",
       "      <td>22.0</td>\n",
       "      <td>68.0</td>\n",
       "      <td>7.0</td>\n",
       "      <td>79.0</td>\n",
       "      <td>27.0</td>\n",
       "      <td>21.0</td>\n",
       "      <td>7.0</td>\n",
       "      <td>6.0</td>\n",
       "      <td>32.0</td>\n",
       "      <td>54.0</td>\n",
       "      <td>23.0</td>\n",
       "      <td>27.0</td>\n",
       "      <td>57.0</td>\n",
       "      <td>27.0</td>\n",
       "      <td>13.0</td>\n",
       "      <td>14.0</td>\n",
       "    </tr>\n",
       "    <tr>\n",
       "      <th>36</th>\n",
       "      <td>Oregon</td>\n",
       "      <td>OR</td>\n",
       "      <td>552.0</td>\n",
       "      <td>21.0</td>\n",
       "      <td>90.0</td>\n",
       "      <td>16.0</td>\n",
       "      <td>98.0</td>\n",
       "      <td>18.0</td>\n",
       "      <td>24.0</td>\n",
       "      <td>19.0</td>\n",
       "      <td>9.0</td>\n",
       "      <td>50.0</td>\n",
       "      <td>47.0</td>\n",
       "      <td>61.0</td>\n",
       "      <td>15.0</td>\n",
       "      <td>34.0</td>\n",
       "      <td>14.0</td>\n",
       "      <td>9.0</td>\n",
       "      <td>27.0</td>\n",
       "    </tr>\n",
       "    <tr>\n",
       "      <th>37</th>\n",
       "      <td>Pennsylvania</td>\n",
       "      <td>PA</td>\n",
       "      <td>2434.0</td>\n",
       "      <td>19.0</td>\n",
       "      <td>396.0</td>\n",
       "      <td>124.0</td>\n",
       "      <td>448.0</td>\n",
       "      <td>32.0</td>\n",
       "      <td>127.0</td>\n",
       "      <td>85.0</td>\n",
       "      <td>80.0</td>\n",
       "      <td>234.0</td>\n",
       "      <td>131.0</td>\n",
       "      <td>221.0</td>\n",
       "      <td>79.0</td>\n",
       "      <td>149.0</td>\n",
       "      <td>164.0</td>\n",
       "      <td>37.0</td>\n",
       "      <td>108.0</td>\n",
       "    </tr>\n",
       "    <tr>\n",
       "      <th>38</th>\n",
       "      <td>Rhode Island</td>\n",
       "      <td>RI</td>\n",
       "      <td>260.0</td>\n",
       "      <td>3.0</td>\n",
       "      <td>46.0</td>\n",
       "      <td>11.0</td>\n",
       "      <td>35.0</td>\n",
       "      <td>11.0</td>\n",
       "      <td>9.0</td>\n",
       "      <td>9.0</td>\n",
       "      <td>12.0</td>\n",
       "      <td>25.0</td>\n",
       "      <td>10.0</td>\n",
       "      <td>39.0</td>\n",
       "      <td>7.0</td>\n",
       "      <td>9.0</td>\n",
       "      <td>26.0</td>\n",
       "      <td>4.0</td>\n",
       "      <td>4.0</td>\n",
       "    </tr>\n",
       "    <tr>\n",
       "      <th>39</th>\n",
       "      <td>South Carolina</td>\n",
       "      <td>SC</td>\n",
       "      <td>476.0</td>\n",
       "      <td>11.0</td>\n",
       "      <td>75.0</td>\n",
       "      <td>13.0</td>\n",
       "      <td>126.0</td>\n",
       "      <td>7.0</td>\n",
       "      <td>40.0</td>\n",
       "      <td>15.0</td>\n",
       "      <td>6.0</td>\n",
       "      <td>43.0</td>\n",
       "      <td>18.0</td>\n",
       "      <td>29.0</td>\n",
       "      <td>17.0</td>\n",
       "      <td>40.0</td>\n",
       "      <td>15.0</td>\n",
       "      <td>0.0</td>\n",
       "      <td>21.0</td>\n",
       "    </tr>\n",
       "    <tr>\n",
       "      <th>40</th>\n",
       "      <td>South Dakota</td>\n",
       "      <td>SD</td>\n",
       "      <td>122.0</td>\n",
       "      <td>17.0</td>\n",
       "      <td>15.0</td>\n",
       "      <td>5.0</td>\n",
       "      <td>17.0</td>\n",
       "      <td>5.0</td>\n",
       "      <td>12.0</td>\n",
       "      <td>1.0</td>\n",
       "      <td>8.0</td>\n",
       "      <td>13.0</td>\n",
       "      <td>7.0</td>\n",
       "      <td>8.0</td>\n",
       "      <td>0.0</td>\n",
       "      <td>2.0</td>\n",
       "      <td>1.0</td>\n",
       "      <td>0.0</td>\n",
       "      <td>11.0</td>\n",
       "    </tr>\n",
       "    <tr>\n",
       "      <th>41</th>\n",
       "      <td>Tennessee</td>\n",
       "      <td>TN</td>\n",
       "      <td>880.0</td>\n",
       "      <td>24.0</td>\n",
       "      <td>164.0</td>\n",
       "      <td>21.0</td>\n",
       "      <td>151.0</td>\n",
       "      <td>6.0</td>\n",
       "      <td>42.0</td>\n",
       "      <td>20.0</td>\n",
       "      <td>31.0</td>\n",
       "      <td>69.0</td>\n",
       "      <td>70.0</td>\n",
       "      <td>71.0</td>\n",
       "      <td>8.0</td>\n",
       "      <td>92.0</td>\n",
       "      <td>69.0</td>\n",
       "      <td>14.0</td>\n",
       "      <td>28.0</td>\n",
       "    </tr>\n",
       "    <tr>\n",
       "      <th>42</th>\n",
       "      <td>Texas</td>\n",
       "      <td>TX</td>\n",
       "      <td>4118.0</td>\n",
       "      <td>87.0</td>\n",
       "      <td>605.0</td>\n",
       "      <td>151.0</td>\n",
       "      <td>918.0</td>\n",
       "      <td>111.0</td>\n",
       "      <td>214.0</td>\n",
       "      <td>158.0</td>\n",
       "      <td>90.0</td>\n",
       "      <td>312.0</td>\n",
       "      <td>251.0</td>\n",
       "      <td>258.0</td>\n",
       "      <td>130.0</td>\n",
       "      <td>378.0</td>\n",
       "      <td>277.0</td>\n",
       "      <td>42.0</td>\n",
       "      <td>136.0</td>\n",
       "    </tr>\n",
       "    <tr>\n",
       "      <th>43</th>\n",
       "      <td>Utah</td>\n",
       "      <td>UT</td>\n",
       "      <td>502.0</td>\n",
       "      <td>12.0</td>\n",
       "      <td>74.0</td>\n",
       "      <td>22.0</td>\n",
       "      <td>112.0</td>\n",
       "      <td>14.0</td>\n",
       "      <td>31.0</td>\n",
       "      <td>22.0</td>\n",
       "      <td>7.0</td>\n",
       "      <td>44.0</td>\n",
       "      <td>44.0</td>\n",
       "      <td>20.0</td>\n",
       "      <td>11.0</td>\n",
       "      <td>59.0</td>\n",
       "      <td>13.0</td>\n",
       "      <td>1.0</td>\n",
       "      <td>16.0</td>\n",
       "    </tr>\n",
       "    <tr>\n",
       "      <th>44</th>\n",
       "      <td>Vermont</td>\n",
       "      <td>VT</td>\n",
       "      <td>64.0</td>\n",
       "      <td>8.0</td>\n",
       "      <td>21.0</td>\n",
       "      <td>3.0</td>\n",
       "      <td>9.0</td>\n",
       "      <td>0.0</td>\n",
       "      <td>0.0</td>\n",
       "      <td>1.0</td>\n",
       "      <td>1.0</td>\n",
       "      <td>8.0</td>\n",
       "      <td>7.0</td>\n",
       "      <td>2.0</td>\n",
       "      <td>0.0</td>\n",
       "      <td>4.0</td>\n",
       "      <td>0.0</td>\n",
       "      <td>0.0</td>\n",
       "      <td>0.0</td>\n",
       "    </tr>\n",
       "    <tr>\n",
       "      <th>45</th>\n",
       "      <td>Virginia</td>\n",
       "      <td>VA</td>\n",
       "      <td>1518.0</td>\n",
       "      <td>40.0</td>\n",
       "      <td>173.0</td>\n",
       "      <td>78.0</td>\n",
       "      <td>311.0</td>\n",
       "      <td>29.0</td>\n",
       "      <td>73.0</td>\n",
       "      <td>41.0</td>\n",
       "      <td>46.0</td>\n",
       "      <td>116.0</td>\n",
       "      <td>108.0</td>\n",
       "      <td>132.0</td>\n",
       "      <td>51.0</td>\n",
       "      <td>187.0</td>\n",
       "      <td>62.0</td>\n",
       "      <td>12.0</td>\n",
       "      <td>59.0</td>\n",
       "    </tr>\n",
       "    <tr>\n",
       "      <th>46</th>\n",
       "      <td>Washington</td>\n",
       "      <td>WA</td>\n",
       "      <td>910.0</td>\n",
       "      <td>30.0</td>\n",
       "      <td>164.0</td>\n",
       "      <td>38.0</td>\n",
       "      <td>153.0</td>\n",
       "      <td>34.0</td>\n",
       "      <td>58.0</td>\n",
       "      <td>47.0</td>\n",
       "      <td>37.0</td>\n",
       "      <td>96.0</td>\n",
       "      <td>50.0</td>\n",
       "      <td>73.0</td>\n",
       "      <td>24.0</td>\n",
       "      <td>35.0</td>\n",
       "      <td>31.0</td>\n",
       "      <td>10.0</td>\n",
       "      <td>30.0</td>\n",
       "    </tr>\n",
       "    <tr>\n",
       "      <th>47</th>\n",
       "      <td>West Virginia</td>\n",
       "      <td>WV</td>\n",
       "      <td>215.0</td>\n",
       "      <td>6.0</td>\n",
       "      <td>30.0</td>\n",
       "      <td>3.0</td>\n",
       "      <td>40.0</td>\n",
       "      <td>3.0</td>\n",
       "      <td>14.0</td>\n",
       "      <td>3.0</td>\n",
       "      <td>1.0</td>\n",
       "      <td>22.0</td>\n",
       "      <td>23.0</td>\n",
       "      <td>19.0</td>\n",
       "      <td>1.0</td>\n",
       "      <td>19.0</td>\n",
       "      <td>4.0</td>\n",
       "      <td>16.0</td>\n",
       "      <td>11.0</td>\n",
       "    </tr>\n",
       "    <tr>\n",
       "      <th>48</th>\n",
       "      <td>Wisconsin</td>\n",
       "      <td>WI</td>\n",
       "      <td>940.0</td>\n",
       "      <td>28.0</td>\n",
       "      <td>168.0</td>\n",
       "      <td>21.0</td>\n",
       "      <td>133.0</td>\n",
       "      <td>9.0</td>\n",
       "      <td>66.0</td>\n",
       "      <td>52.0</td>\n",
       "      <td>11.0</td>\n",
       "      <td>108.0</td>\n",
       "      <td>63.0</td>\n",
       "      <td>100.0</td>\n",
       "      <td>20.0</td>\n",
       "      <td>57.0</td>\n",
       "      <td>62.0</td>\n",
       "      <td>8.0</td>\n",
       "      <td>34.0</td>\n",
       "    </tr>\n",
       "    <tr>\n",
       "      <th>49</th>\n",
       "      <td>Wyoming</td>\n",
       "      <td>WY</td>\n",
       "      <td>84.0</td>\n",
       "      <td>5.0</td>\n",
       "      <td>17.0</td>\n",
       "      <td>1.0</td>\n",
       "      <td>26.0</td>\n",
       "      <td>8.0</td>\n",
       "      <td>0.0</td>\n",
       "      <td>2.0</td>\n",
       "      <td>1.0</td>\n",
       "      <td>9.0</td>\n",
       "      <td>5.0</td>\n",
       "      <td>2.0</td>\n",
       "      <td>0.0</td>\n",
       "      <td>8.0</td>\n",
       "      <td>0.0</td>\n",
       "      <td>0.0</td>\n",
       "      <td>0.0</td>\n",
       "    </tr>\n",
       "  </tbody>\n",
       "</table>\n",
       "</div>"
      ],
      "text/plain": [
       "   State or location Abbrev  All fields   \n",
       "0            Alabama     AL       640.0  \\\n",
       "1             Alaska     AK        42.0   \n",
       "2            Arizona     AZ       935.0   \n",
       "3           Arkansas     AR       275.0   \n",
       "4         California     CA      5892.0   \n",
       "5           Colorado     CO      1024.0   \n",
       "6        Connecticut     CT       731.0   \n",
       "7           Delaware     DE       212.0   \n",
       "8            Florida     FL      2339.0   \n",
       "9            Georgia     GA      1451.0   \n",
       "10            Hawaii     HI       133.0   \n",
       "11             Idaho     ID       136.0   \n",
       "12          Illinois     IL      2310.0   \n",
       "13           Indiana     IN      1556.0   \n",
       "14              Iowa     IA       618.0   \n",
       "15            Kansas     KS       466.0   \n",
       "16          Kentucky     KY       484.0   \n",
       "17         Louisiana     LA       586.0   \n",
       "18             Maine     ME        70.0   \n",
       "19          Maryland     MD      1173.0   \n",
       "20     Massachusetts     MA      2652.0   \n",
       "21          Michigan     MI      1790.0   \n",
       "22         Minnesota     MN      1499.0   \n",
       "23       Mississippi     MS       409.0   \n",
       "24          Missouri     MO       905.0   \n",
       "25           Montana     MT       113.0   \n",
       "26          Nebraska     NE       329.0   \n",
       "27            Nevada     NV       240.0   \n",
       "28     New Hampshire     NH       159.0   \n",
       "29        New Jersey     NJ       950.0   \n",
       "30        New Mexico     NM       280.0   \n",
       "31          New York     NY      3871.0   \n",
       "32    North Carolina     NC      1724.0   \n",
       "33      North Dakota     ND       175.0   \n",
       "34              Ohio     OH      1878.0   \n",
       "35          Oklahoma     OK       484.0   \n",
       "36            Oregon     OR       552.0   \n",
       "37      Pennsylvania     PA      2434.0   \n",
       "38      Rhode Island     RI       260.0   \n",
       "39    South Carolina     SC       476.0   \n",
       "40      South Dakota     SD       122.0   \n",
       "41         Tennessee     TN       880.0   \n",
       "42             Texas     TX      4118.0   \n",
       "43              Utah     UT       502.0   \n",
       "44           Vermont     VT        64.0   \n",
       "45          Virginia     VA      1518.0   \n",
       "46        Washington     WA       910.0   \n",
       "47     West Virginia     WV       215.0   \n",
       "48         Wisconsin     WI       940.0   \n",
       "49           Wyoming     WY        84.0   \n",
       "\n",
       "    Agricultural sciences and natural resources   \n",
       "0                                          25.0  \\\n",
       "1                                           5.0   \n",
       "2                                          21.0   \n",
       "3                                          21.0   \n",
       "4                                          81.0   \n",
       "5                                          23.0   \n",
       "6                                          13.0   \n",
       "7                                          12.0   \n",
       "8                                          66.0   \n",
       "9                                          50.0   \n",
       "10                                          3.0   \n",
       "11                                         16.0   \n",
       "12                                         37.0   \n",
       "13                                         31.0   \n",
       "14                                         33.0   \n",
       "15                                         32.0   \n",
       "16                                          8.0   \n",
       "17                                         22.0   \n",
       "18                                         11.0   \n",
       "19                                         18.0   \n",
       "20                                         20.0   \n",
       "21                                         32.0   \n",
       "22                                         27.0   \n",
       "23                                         31.0   \n",
       "24                                         22.0   \n",
       "25                                          8.0   \n",
       "26                                         37.0   \n",
       "27                                          2.0   \n",
       "28                                         10.0   \n",
       "29                                         19.0   \n",
       "30                                         12.0   \n",
       "31                                         49.0   \n",
       "32                                         47.0   \n",
       "33                                          9.0   \n",
       "34                                         36.0   \n",
       "35                                         22.0   \n",
       "36                                         21.0   \n",
       "37                                         19.0   \n",
       "38                                          3.0   \n",
       "39                                         11.0   \n",
       "40                                         17.0   \n",
       "41                                         24.0   \n",
       "42                                         87.0   \n",
       "43                                         12.0   \n",
       "44                                          8.0   \n",
       "45                                         40.0   \n",
       "46                                         30.0   \n",
       "47                                          6.0   \n",
       "48                                         28.0   \n",
       "49                                          5.0   \n",
       "\n",
       "    Biological and biomedical sciences  Computer and information sciences   \n",
       "0                                119.0                               11.0  \\\n",
       "1                                  3.0                                0.0   \n",
       "2                                112.0                               31.0   \n",
       "3                                 49.0                               18.0   \n",
       "4                                979.0                              285.0   \n",
       "5                                166.0                               39.0   \n",
       "6                                154.0                               22.0   \n",
       "7                                 35.0                                9.0   \n",
       "8                                305.0                              139.0   \n",
       "9                                286.0                               94.0   \n",
       "10                                17.0                                3.0   \n",
       "11                                21.0                               11.0   \n",
       "12                               324.0                              124.0   \n",
       "13                               195.0                               73.0   \n",
       "14                               108.0                               17.0   \n",
       "15                                62.0                               12.0   \n",
       "16                                83.0                                8.0   \n",
       "17                               100.0                               12.0   \n",
       "18                                10.0                                0.0   \n",
       "19                               258.0                               87.0   \n",
       "20                               458.0                              135.0   \n",
       "21                               271.0                               78.0   \n",
       "22                               143.0                               29.0   \n",
       "23                                39.0                                6.0   \n",
       "24                               142.0                               28.0   \n",
       "25                                32.0                                1.0   \n",
       "26                                67.0                                5.0   \n",
       "27                                31.0                                2.0   \n",
       "28                                39.0                                9.0   \n",
       "29                               113.0                               70.0   \n",
       "30                                37.0                                8.0   \n",
       "31                               664.0                              195.0   \n",
       "32                               312.0                               62.0   \n",
       "33                                21.0                                2.0   \n",
       "34                               298.0                               36.0   \n",
       "35                                68.0                                7.0   \n",
       "36                                90.0                               16.0   \n",
       "37                               396.0                              124.0   \n",
       "38                                46.0                               11.0   \n",
       "39                                75.0                               13.0   \n",
       "40                                15.0                                5.0   \n",
       "41                               164.0                               21.0   \n",
       "42                               605.0                              151.0   \n",
       "43                                74.0                               22.0   \n",
       "44                                21.0                                3.0   \n",
       "45                               173.0                               78.0   \n",
       "46                               164.0                               38.0   \n",
       "47                                30.0                                3.0   \n",
       "48                               168.0                               21.0   \n",
       "49                                17.0                                1.0   \n",
       "\n",
       "    Engineering  Geosciences, atmospheric, and ocean sciences   \n",
       "0         117.0                                           8.0  \\\n",
       "1           2.0                                          11.0   \n",
       "2         198.0                                          23.0   \n",
       "3          48.0                                           2.0   \n",
       "4        1082.0                                         146.0   \n",
       "5         217.0                                          56.0   \n",
       "6          88.0                                          14.0   \n",
       "7          55.0                                           4.0   \n",
       "8         408.0                                          67.0   \n",
       "9         360.0                                          17.0   \n",
       "10          8.0                                          13.0   \n",
       "11         31.0                                           6.0   \n",
       "12        398.0                                          26.0   \n",
       "13        391.0                                          22.0   \n",
       "14        125.0                                           6.0   \n",
       "15         72.0                                           3.0   \n",
       "16         62.0                                           2.0   \n",
       "17         96.0                                          17.0   \n",
       "18         13.0                                           6.0   \n",
       "19        200.0                                          23.0   \n",
       "20        500.0                                          39.0   \n",
       "21        379.0                                          23.0   \n",
       "22        126.0                                           6.0   \n",
       "23         47.0                                           6.0   \n",
       "24        205.0                                          12.0   \n",
       "25          9.0                                           4.0   \n",
       "26         44.0                                           2.0   \n",
       "27         30.0                                          13.0   \n",
       "28         34.0                                           7.0   \n",
       "29        182.0                                          19.0   \n",
       "30         58.0                                          14.0   \n",
       "31        532.0                                          55.0   \n",
       "32        331.0                                          25.0   \n",
       "33         35.0                                           4.0   \n",
       "34        381.0                                          28.0   \n",
       "35         79.0                                          27.0   \n",
       "36         98.0                                          18.0   \n",
       "37        448.0                                          32.0   \n",
       "38         35.0                                          11.0   \n",
       "39        126.0                                           7.0   \n",
       "40         17.0                                           5.0   \n",
       "41        151.0                                           6.0   \n",
       "42        918.0                                         111.0   \n",
       "43        112.0                                          14.0   \n",
       "44          9.0                                           0.0   \n",
       "45        311.0                                          29.0   \n",
       "46        153.0                                          34.0   \n",
       "47         40.0                                           3.0   \n",
       "48        133.0                                           9.0   \n",
       "49         26.0                                           8.0   \n",
       "\n",
       "    Health sciences  Mathematics and statistics   \n",
       "0              30.0                        22.0  \\\n",
       "1               0.0                         0.0   \n",
       "2              41.0                        25.0   \n",
       "3               8.0                         2.0   \n",
       "4             177.0                       236.0   \n",
       "5              46.0                        46.0   \n",
       "6              20.0                        36.0   \n",
       "7               2.0                         9.0   \n",
       "8             137.0                        69.0   \n",
       "9              58.0                        35.0   \n",
       "10              6.0                         2.0   \n",
       "11              4.0                         2.0   \n",
       "12             88.0                        97.0   \n",
       "13             53.0                        73.0   \n",
       "14             29.0                        46.0   \n",
       "15             16.0                        18.0   \n",
       "16             39.0                        15.0   \n",
       "17             35.0                        18.0   \n",
       "18              1.0                         0.0   \n",
       "19             97.0                        39.0   \n",
       "20            132.0                        89.0   \n",
       "21             82.0                        81.0   \n",
       "22            203.0                        26.0   \n",
       "23             28.0                         8.0   \n",
       "24             55.0                        28.0   \n",
       "25              5.0                         8.0   \n",
       "26             27.0                        12.0   \n",
       "27             16.0                         4.0   \n",
       "28              5.0                         9.0   \n",
       "29             28.0                        46.0   \n",
       "30              6.0                        10.0   \n",
       "31            139.0                       145.0   \n",
       "32            124.0                       100.0   \n",
       "33              7.0                         6.0   \n",
       "34             86.0                        58.0   \n",
       "35             21.0                         7.0   \n",
       "36             24.0                        19.0   \n",
       "37            127.0                        85.0   \n",
       "38              9.0                         9.0   \n",
       "39             40.0                        15.0   \n",
       "40             12.0                         1.0   \n",
       "41             42.0                        20.0   \n",
       "42            214.0                       158.0   \n",
       "43             31.0                        22.0   \n",
       "44              0.0                         1.0   \n",
       "45             73.0                        41.0   \n",
       "46             58.0                        47.0   \n",
       "47             14.0                         3.0   \n",
       "48             66.0                        52.0   \n",
       "49              0.0                         2.0   \n",
       "\n",
       "    Multidisciplinary/ interdisciplinary sciences  Physical sciences   \n",
       "0                                            16.0               45.0  \\\n",
       "1                                             2.0                2.0   \n",
       "2                                            35.0               86.0   \n",
       "3                                             3.0               20.0   \n",
       "4                                           191.0              668.0   \n",
       "5                                            13.0              107.0   \n",
       "6                                            12.0               97.0   \n",
       "7                                             3.0               28.0   \n",
       "8                                            81.0              185.0   \n",
       "9                                            36.0              107.0   \n",
       "10                                            3.0                9.0   \n",
       "11                                            4.0                7.0   \n",
       "12                                           36.0              275.0   \n",
       "13                                           39.0              154.0   \n",
       "14                                           19.0               58.0   \n",
       "15                                           12.0               38.0   \n",
       "16                                           10.0               34.0   \n",
       "17                                            4.0               58.0   \n",
       "18                                            0.0                7.0   \n",
       "19                                           33.0               86.0   \n",
       "20                                           79.0              297.0   \n",
       "21                                           35.0              192.0   \n",
       "22                                           21.0               60.0   \n",
       "23                                           12.0               33.0   \n",
       "24                                           15.0               61.0   \n",
       "25                                            1.0                9.0   \n",
       "26                                           11.0               20.0   \n",
       "27                                            8.0               17.0   \n",
       "28                                            1.0               19.0   \n",
       "29                                           21.0               93.0   \n",
       "30                                            2.0               34.0   \n",
       "31                                           87.0              355.0   \n",
       "32                                           46.0              143.0   \n",
       "33                                            1.0               10.0   \n",
       "34                                           53.0              177.0   \n",
       "35                                            6.0               32.0   \n",
       "36                                            9.0               50.0   \n",
       "37                                           80.0              234.0   \n",
       "38                                           12.0               25.0   \n",
       "39                                            6.0               43.0   \n",
       "40                                            8.0               13.0   \n",
       "41                                           31.0               69.0   \n",
       "42                                           90.0              312.0   \n",
       "43                                            7.0               44.0   \n",
       "44                                            1.0                8.0   \n",
       "45                                           46.0              116.0   \n",
       "46                                           37.0               96.0   \n",
       "47                                            1.0               22.0   \n",
       "48                                           11.0              108.0   \n",
       "49                                            1.0                9.0   \n",
       "\n",
       "    Psychology  Social sciences  Business  Education  Humanities   \n",
       "0         57.0             17.0      24.0      105.0        14.0  \\\n",
       "1         10.0              4.0       0.0        2.0         0.0   \n",
       "2         58.0            104.0      25.0       61.0        43.0   \n",
       "3         11.0             16.0      14.0       40.0        12.0   \n",
       "4        486.0            628.0     126.0      192.0       333.0   \n",
       "5         59.0             56.0       7.0       92.0        33.0   \n",
       "6         45.0            102.0      22.0       12.0        54.0   \n",
       "7          7.0             21.0       2.0        9.0         7.0   \n",
       "8        169.0            158.0      58.0      218.0       105.0   \n",
       "9         71.0            103.0      37.0       67.0        63.0   \n",
       "10         9.0             22.0       5.0       11.0        14.0   \n",
       "11        12.0              1.0       0.0       17.0         3.0   \n",
       "12       162.0            280.0      76.0       85.0       182.0   \n",
       "13        85.0            134.0      29.0      106.0       122.0   \n",
       "14        42.0             34.0      20.0       47.0        17.0   \n",
       "15        56.0             40.0      11.0       43.0        22.0   \n",
       "16        26.0             49.0       4.0       58.0        50.0   \n",
       "17        28.0             46.0      26.0       51.0        45.0   \n",
       "18         5.0              5.0       0.0        4.0         3.0   \n",
       "19        50.0            113.0      24.0       42.0        57.0   \n",
       "20       116.0            315.0      65.0      104.0       171.0   \n",
       "21       104.0            169.0      18.0      161.0        72.0   \n",
       "22       230.0            204.0     107.0      148.0        28.0   \n",
       "23        40.0             26.0      16.0       83.0        14.0   \n",
       "24        72.0             57.0      18.0       56.0       103.0   \n",
       "25        10.0              5.0       0.0       13.0         7.0   \n",
       "26        24.0             15.0       9.0       29.0        13.0   \n",
       "27        41.0             23.0       9.0       33.0         7.0   \n",
       "28         3.0              8.0       2.0        5.0         8.0   \n",
       "29        36.0            109.0      24.0       56.0        86.0   \n",
       "30        11.0             22.0       4.0       45.0         8.0   \n",
       "31       333.0            421.0      76.0      218.0       325.0   \n",
       "32        94.0            123.0      29.0       95.0       101.0   \n",
       "33        24.0              4.0       7.0       30.0         6.0   \n",
       "34       132.0            143.0      40.0      185.0       110.0   \n",
       "35        54.0             23.0      27.0       57.0        27.0   \n",
       "36        47.0             61.0      15.0       34.0        14.0   \n",
       "37       131.0            221.0      79.0      149.0       164.0   \n",
       "38        10.0             39.0       7.0        9.0        26.0   \n",
       "39        18.0             29.0      17.0       40.0        15.0   \n",
       "40         7.0              8.0       0.0        2.0         1.0   \n",
       "41        70.0             71.0       8.0       92.0        69.0   \n",
       "42       251.0            258.0     130.0      378.0       277.0   \n",
       "43        44.0             20.0      11.0       59.0        13.0   \n",
       "44         7.0              2.0       0.0        4.0         0.0   \n",
       "45       108.0            132.0      51.0      187.0        62.0   \n",
       "46        50.0             73.0      24.0       35.0        31.0   \n",
       "47        23.0             19.0       1.0       19.0         4.0   \n",
       "48        63.0            100.0      20.0       57.0        62.0   \n",
       "49         5.0              2.0       0.0        8.0         0.0   \n",
       "\n",
       "    Visual and performing arts  Other  \n",
       "0                          1.0   29.0  \n",
       "1                          0.0    1.0  \n",
       "2                         40.0   32.0  \n",
       "3                          0.0   11.0  \n",
       "4                        120.0  162.0  \n",
       "5                         32.0   32.0  \n",
       "6                         15.0   25.0  \n",
       "7                          2.0    7.0  \n",
       "8                         47.0  127.0  \n",
       "9                         10.0   57.0  \n",
       "10                         3.0    5.0  \n",
       "11                         0.0    1.0  \n",
       "12                        43.0   77.0  \n",
       "13                         7.0   42.0  \n",
       "14                         4.0   13.0  \n",
       "15                         7.0   22.0  \n",
       "16                         8.0   28.0  \n",
       "17                         7.0   21.0  \n",
       "18                         1.0    4.0  \n",
       "19                        11.0   35.0  \n",
       "20                        33.0   99.0  \n",
       "21                         7.0   86.0  \n",
       "22                         5.0  136.0  \n",
       "23                         0.0   20.0  \n",
       "24                         5.0   26.0  \n",
       "25                         0.0    1.0  \n",
       "26                         1.0   13.0  \n",
       "27                         0.0    4.0  \n",
       "28                         0.0    0.0  \n",
       "29                        11.0   37.0  \n",
       "30                         0.0    9.0  \n",
       "31                       135.0  142.0  \n",
       "32                        16.0   76.0  \n",
       "33                         0.0    9.0  \n",
       "34                        33.0   82.0  \n",
       "35                        13.0   14.0  \n",
       "36                         9.0   27.0  \n",
       "37                        37.0  108.0  \n",
       "38                         4.0    4.0  \n",
       "39                         0.0   21.0  \n",
       "40                         0.0   11.0  \n",
       "41                        14.0   28.0  \n",
       "42                        42.0  136.0  \n",
       "43                         1.0   16.0  \n",
       "44                         0.0    0.0  \n",
       "45                        12.0   59.0  \n",
       "46                        10.0   30.0  \n",
       "47                        16.0   11.0  \n",
       "48                         8.0   34.0  \n",
       "49                         0.0    0.0  "
      ]
     },
     "execution_count": 17,
     "metadata": {},
     "output_type": "execute_result"
    }
   ],
   "source": [
    "df710 = pd.read_csv(\"CSV/nsf23300-tab007-010.csv\",encoding='cp1252')\n",
    "df710\n"
   ]
  },
  {
   "cell_type": "code",
   "execution_count": 133,
   "id": "abb44321-57d0-4ea4-83e0-4c13353d219b",
   "metadata": {},
   "outputs": [
    {
     "data": {
      "text/plain": [
       "State or location    object\n",
       "Alabama              object\n",
       "Alaska               object\n",
       "Arizona              object\n",
       "Arkansas             object\n",
       "California           object\n",
       "Colorado             object\n",
       "Connecticut          object\n",
       "Delaware             object\n",
       "Florida              object\n",
       "Georgia              object\n",
       "Hawaii               object\n",
       "Idaho                object\n",
       "Illinois             object\n",
       "Indiana              object\n",
       "Iowa                 object\n",
       "Kansas               object\n",
       "Kentucky             object\n",
       "Louisiana            object\n",
       "Maine                object\n",
       "Maryland             object\n",
       "Massachusetts        object\n",
       "Michigan             object\n",
       "Minnesota            object\n",
       "Mississippi          object\n",
       "Missouri             object\n",
       "Montana              object\n",
       "Nebraska             object\n",
       "Nevada               object\n",
       "New Hampshire        object\n",
       "New Jersey           object\n",
       "New Mexico           object\n",
       "New York             object\n",
       "North Carolina       object\n",
       "North Dakota         object\n",
       "Ohio                 object\n",
       "Oklahoma             object\n",
       "Oregon               object\n",
       "Pennsylvania         object\n",
       "Rhode Island         object\n",
       "South Carolina       object\n",
       "South Dakota         object\n",
       "Tennessee            object\n",
       "Texas                object\n",
       "Utah                 object\n",
       "Vermont              object\n",
       "Virginia             object\n",
       "Washington           object\n",
       "West Virginia        object\n",
       "Wisconsin            object\n",
       "Wyoming              object\n",
       "dtype: object"
      ]
     },
     "execution_count": 133,
     "metadata": {},
     "output_type": "execute_result"
    }
   ],
   "source": [
    "df7102.dtypes"
   ]
  },
  {
   "cell_type": "code",
   "execution_count": 121,
   "id": "854f1e10-53e5-40d8-b136-823a1312b3ec",
   "metadata": {},
   "outputs": [
    {
     "name": "stdout",
     "output_type": "stream",
     "text": [
      "42.0 5892.0\n"
     ]
    },
    {
     "data": {
      "application/vnd.plotly.v1+json": {
       "config": {
        "plotlyServerURL": "https://plot.ly"
       },
       "data": [
        {
         "coloraxis": "coloraxis",
         "geo": "geo",
         "hovertemplate": "<b>%{hovertext}</b><br><br>Abbrev=%{location}<br>All fields=%{z}<extra></extra>",
         "hovertext": [
          "Alabama",
          "Alaska",
          "Arizona",
          "Arkansas",
          "California",
          "Colorado",
          "Connecticut",
          "Delaware",
          "Florida",
          "Georgia",
          "Hawaii",
          "Idaho",
          "Illinois",
          "Indiana",
          "Iowa",
          "Kansas",
          "Kentucky",
          "Louisiana",
          "Maine",
          "Maryland",
          "Massachusetts",
          "Michigan",
          "Minnesota",
          "Mississippi",
          "Missouri",
          "Montana",
          "Nebraska",
          "Nevada",
          "New Hampshire",
          "New Jersey",
          "New Mexico",
          "New York",
          "North Carolina",
          "North Dakota",
          "Ohio",
          "Oklahoma",
          "Oregon",
          "Pennsylvania",
          "Rhode Island",
          "South Carolina",
          "South Dakota",
          "Tennessee",
          "Texas",
          "Utah",
          "Vermont",
          "Virginia",
          "Washington",
          "West Virginia",
          "Wisconsin",
          "Wyoming"
         ],
         "locationmode": "USA-states",
         "locations": [
          "AL",
          "AK",
          "AZ",
          "AR",
          "CA",
          "CO",
          "CT",
          "DE",
          "FL",
          "GA",
          "HI",
          "ID",
          "IL",
          "IN",
          "IA",
          "KS",
          "KY",
          "LA",
          "ME",
          "MD",
          "MA",
          "MI",
          "MN",
          "MS",
          "MO",
          "MT",
          "NE",
          "NV",
          "NH",
          "NJ",
          "NM",
          "NY",
          "NC",
          "ND",
          "OH",
          "OK",
          "OR",
          "PA",
          "RI",
          "SC",
          "SD",
          "TN",
          "TX",
          "UT",
          "VT",
          "VA",
          "WA",
          "WV",
          "WI",
          "WY"
         ],
         "name": "",
         "type": "choropleth",
         "z": [
          640,
          42,
          935,
          275,
          5892,
          1024,
          731,
          212,
          2339,
          1451,
          133,
          136,
          2310,
          1556,
          618,
          466,
          484,
          586,
          70,
          1173,
          2652,
          1790,
          1499,
          409,
          905,
          113,
          329,
          240,
          159,
          950,
          280,
          3871,
          1724,
          175,
          1878,
          484,
          552,
          2434,
          260,
          476,
          122,
          880,
          4118,
          502,
          64,
          1518,
          910,
          215,
          940,
          84
         ]
        }
       ],
       "layout": {
        "coloraxis": {
         "cmax": 5892,
         "cmin": 42,
         "colorbar": {
          "title": {
           "text": "All fields"
          }
         },
         "colorscale": [
          [
           0,
           "rgb(63, 5, 5)"
          ],
          [
           0.09090909090909091,
           "rgb(101, 6, 13)"
          ],
          [
           0.18181818181818182,
           "rgb(138, 17, 9)"
          ],
          [
           0.2727272727272727,
           "rgb(96, 95, 95)"
          ],
          [
           0.36363636363636365,
           "rgb(119, 118, 118)"
          ],
          [
           0.45454545454545453,
           "rgb(142, 141, 141)"
          ],
          [
           0.5454545454545454,
           "rgb(166, 166, 165)"
          ],
          [
           0.6363636363636364,
           "rgb(193, 192, 191)"
          ],
          [
           0.7272727272727273,
           "rgb(222, 222, 220)"
          ],
          [
           0.8181818181818182,
           "rgb(239, 248, 90)"
          ],
          [
           0.9090909090909091,
           "rgb(230, 210, 41)"
          ],
          [
           1,
           "rgb(220, 174, 25)"
          ]
         ]
        },
        "geo": {
         "center": {},
         "domain": {
          "x": [
           0,
           1
          ],
          "y": [
           0,
           1
          ]
         },
         "scope": "usa"
        },
        "height": 600,
        "legend": {
         "tracegroupgap": 0
        },
        "template": {
         "data": {
          "bar": [
           {
            "error_x": {
             "color": "#2a3f5f"
            },
            "error_y": {
             "color": "#2a3f5f"
            },
            "marker": {
             "line": {
              "color": "#E5ECF6",
              "width": 0.5
             },
             "pattern": {
              "fillmode": "overlay",
              "size": 10,
              "solidity": 0.2
             }
            },
            "type": "bar"
           }
          ],
          "barpolar": [
           {
            "marker": {
             "line": {
              "color": "#E5ECF6",
              "width": 0.5
             },
             "pattern": {
              "fillmode": "overlay",
              "size": 10,
              "solidity": 0.2
             }
            },
            "type": "barpolar"
           }
          ],
          "carpet": [
           {
            "aaxis": {
             "endlinecolor": "#2a3f5f",
             "gridcolor": "white",
             "linecolor": "white",
             "minorgridcolor": "white",
             "startlinecolor": "#2a3f5f"
            },
            "baxis": {
             "endlinecolor": "#2a3f5f",
             "gridcolor": "white",
             "linecolor": "white",
             "minorgridcolor": "white",
             "startlinecolor": "#2a3f5f"
            },
            "type": "carpet"
           }
          ],
          "choropleth": [
           {
            "colorbar": {
             "outlinewidth": 0,
             "ticks": ""
            },
            "type": "choropleth"
           }
          ],
          "contour": [
           {
            "colorbar": {
             "outlinewidth": 0,
             "ticks": ""
            },
            "colorscale": [
             [
              0,
              "#0d0887"
             ],
             [
              0.1111111111111111,
              "#46039f"
             ],
             [
              0.2222222222222222,
              "#7201a8"
             ],
             [
              0.3333333333333333,
              "#9c179e"
             ],
             [
              0.4444444444444444,
              "#bd3786"
             ],
             [
              0.5555555555555556,
              "#d8576b"
             ],
             [
              0.6666666666666666,
              "#ed7953"
             ],
             [
              0.7777777777777778,
              "#fb9f3a"
             ],
             [
              0.8888888888888888,
              "#fdca26"
             ],
             [
              1,
              "#f0f921"
             ]
            ],
            "type": "contour"
           }
          ],
          "contourcarpet": [
           {
            "colorbar": {
             "outlinewidth": 0,
             "ticks": ""
            },
            "type": "contourcarpet"
           }
          ],
          "heatmap": [
           {
            "colorbar": {
             "outlinewidth": 0,
             "ticks": ""
            },
            "colorscale": [
             [
              0,
              "#0d0887"
             ],
             [
              0.1111111111111111,
              "#46039f"
             ],
             [
              0.2222222222222222,
              "#7201a8"
             ],
             [
              0.3333333333333333,
              "#9c179e"
             ],
             [
              0.4444444444444444,
              "#bd3786"
             ],
             [
              0.5555555555555556,
              "#d8576b"
             ],
             [
              0.6666666666666666,
              "#ed7953"
             ],
             [
              0.7777777777777778,
              "#fb9f3a"
             ],
             [
              0.8888888888888888,
              "#fdca26"
             ],
             [
              1,
              "#f0f921"
             ]
            ],
            "type": "heatmap"
           }
          ],
          "heatmapgl": [
           {
            "colorbar": {
             "outlinewidth": 0,
             "ticks": ""
            },
            "colorscale": [
             [
              0,
              "#0d0887"
             ],
             [
              0.1111111111111111,
              "#46039f"
             ],
             [
              0.2222222222222222,
              "#7201a8"
             ],
             [
              0.3333333333333333,
              "#9c179e"
             ],
             [
              0.4444444444444444,
              "#bd3786"
             ],
             [
              0.5555555555555556,
              "#d8576b"
             ],
             [
              0.6666666666666666,
              "#ed7953"
             ],
             [
              0.7777777777777778,
              "#fb9f3a"
             ],
             [
              0.8888888888888888,
              "#fdca26"
             ],
             [
              1,
              "#f0f921"
             ]
            ],
            "type": "heatmapgl"
           }
          ],
          "histogram": [
           {
            "marker": {
             "pattern": {
              "fillmode": "overlay",
              "size": 10,
              "solidity": 0.2
             }
            },
            "type": "histogram"
           }
          ],
          "histogram2d": [
           {
            "colorbar": {
             "outlinewidth": 0,
             "ticks": ""
            },
            "colorscale": [
             [
              0,
              "#0d0887"
             ],
             [
              0.1111111111111111,
              "#46039f"
             ],
             [
              0.2222222222222222,
              "#7201a8"
             ],
             [
              0.3333333333333333,
              "#9c179e"
             ],
             [
              0.4444444444444444,
              "#bd3786"
             ],
             [
              0.5555555555555556,
              "#d8576b"
             ],
             [
              0.6666666666666666,
              "#ed7953"
             ],
             [
              0.7777777777777778,
              "#fb9f3a"
             ],
             [
              0.8888888888888888,
              "#fdca26"
             ],
             [
              1,
              "#f0f921"
             ]
            ],
            "type": "histogram2d"
           }
          ],
          "histogram2dcontour": [
           {
            "colorbar": {
             "outlinewidth": 0,
             "ticks": ""
            },
            "colorscale": [
             [
              0,
              "#0d0887"
             ],
             [
              0.1111111111111111,
              "#46039f"
             ],
             [
              0.2222222222222222,
              "#7201a8"
             ],
             [
              0.3333333333333333,
              "#9c179e"
             ],
             [
              0.4444444444444444,
              "#bd3786"
             ],
             [
              0.5555555555555556,
              "#d8576b"
             ],
             [
              0.6666666666666666,
              "#ed7953"
             ],
             [
              0.7777777777777778,
              "#fb9f3a"
             ],
             [
              0.8888888888888888,
              "#fdca26"
             ],
             [
              1,
              "#f0f921"
             ]
            ],
            "type": "histogram2dcontour"
           }
          ],
          "mesh3d": [
           {
            "colorbar": {
             "outlinewidth": 0,
             "ticks": ""
            },
            "type": "mesh3d"
           }
          ],
          "parcoords": [
           {
            "line": {
             "colorbar": {
              "outlinewidth": 0,
              "ticks": ""
             }
            },
            "type": "parcoords"
           }
          ],
          "pie": [
           {
            "automargin": true,
            "type": "pie"
           }
          ],
          "scatter": [
           {
            "fillpattern": {
             "fillmode": "overlay",
             "size": 10,
             "solidity": 0.2
            },
            "type": "scatter"
           }
          ],
          "scatter3d": [
           {
            "line": {
             "colorbar": {
              "outlinewidth": 0,
              "ticks": ""
             }
            },
            "marker": {
             "colorbar": {
              "outlinewidth": 0,
              "ticks": ""
             }
            },
            "type": "scatter3d"
           }
          ],
          "scattercarpet": [
           {
            "marker": {
             "colorbar": {
              "outlinewidth": 0,
              "ticks": ""
             }
            },
            "type": "scattercarpet"
           }
          ],
          "scattergeo": [
           {
            "marker": {
             "colorbar": {
              "outlinewidth": 0,
              "ticks": ""
             }
            },
            "type": "scattergeo"
           }
          ],
          "scattergl": [
           {
            "marker": {
             "colorbar": {
              "outlinewidth": 0,
              "ticks": ""
             }
            },
            "type": "scattergl"
           }
          ],
          "scattermapbox": [
           {
            "marker": {
             "colorbar": {
              "outlinewidth": 0,
              "ticks": ""
             }
            },
            "type": "scattermapbox"
           }
          ],
          "scatterpolar": [
           {
            "marker": {
             "colorbar": {
              "outlinewidth": 0,
              "ticks": ""
             }
            },
            "type": "scatterpolar"
           }
          ],
          "scatterpolargl": [
           {
            "marker": {
             "colorbar": {
              "outlinewidth": 0,
              "ticks": ""
             }
            },
            "type": "scatterpolargl"
           }
          ],
          "scatterternary": [
           {
            "marker": {
             "colorbar": {
              "outlinewidth": 0,
              "ticks": ""
             }
            },
            "type": "scatterternary"
           }
          ],
          "surface": [
           {
            "colorbar": {
             "outlinewidth": 0,
             "ticks": ""
            },
            "colorscale": [
             [
              0,
              "#0d0887"
             ],
             [
              0.1111111111111111,
              "#46039f"
             ],
             [
              0.2222222222222222,
              "#7201a8"
             ],
             [
              0.3333333333333333,
              "#9c179e"
             ],
             [
              0.4444444444444444,
              "#bd3786"
             ],
             [
              0.5555555555555556,
              "#d8576b"
             ],
             [
              0.6666666666666666,
              "#ed7953"
             ],
             [
              0.7777777777777778,
              "#fb9f3a"
             ],
             [
              0.8888888888888888,
              "#fdca26"
             ],
             [
              1,
              "#f0f921"
             ]
            ],
            "type": "surface"
           }
          ],
          "table": [
           {
            "cells": {
             "fill": {
              "color": "#EBF0F8"
             },
             "line": {
              "color": "white"
             }
            },
            "header": {
             "fill": {
              "color": "#C8D4E3"
             },
             "line": {
              "color": "white"
             }
            },
            "type": "table"
           }
          ]
         },
         "layout": {
          "annotationdefaults": {
           "arrowcolor": "#2a3f5f",
           "arrowhead": 0,
           "arrowwidth": 1
          },
          "autotypenumbers": "strict",
          "coloraxis": {
           "colorbar": {
            "outlinewidth": 0,
            "ticks": ""
           }
          },
          "colorscale": {
           "diverging": [
            [
             0,
             "#8e0152"
            ],
            [
             0.1,
             "#c51b7d"
            ],
            [
             0.2,
             "#de77ae"
            ],
            [
             0.3,
             "#f1b6da"
            ],
            [
             0.4,
             "#fde0ef"
            ],
            [
             0.5,
             "#f7f7f7"
            ],
            [
             0.6,
             "#e6f5d0"
            ],
            [
             0.7,
             "#b8e186"
            ],
            [
             0.8,
             "#7fbc41"
            ],
            [
             0.9,
             "#4d9221"
            ],
            [
             1,
             "#276419"
            ]
           ],
           "sequential": [
            [
             0,
             "#0d0887"
            ],
            [
             0.1111111111111111,
             "#46039f"
            ],
            [
             0.2222222222222222,
             "#7201a8"
            ],
            [
             0.3333333333333333,
             "#9c179e"
            ],
            [
             0.4444444444444444,
             "#bd3786"
            ],
            [
             0.5555555555555556,
             "#d8576b"
            ],
            [
             0.6666666666666666,
             "#ed7953"
            ],
            [
             0.7777777777777778,
             "#fb9f3a"
            ],
            [
             0.8888888888888888,
             "#fdca26"
            ],
            [
             1,
             "#f0f921"
            ]
           ],
           "sequentialminus": [
            [
             0,
             "#0d0887"
            ],
            [
             0.1111111111111111,
             "#46039f"
            ],
            [
             0.2222222222222222,
             "#7201a8"
            ],
            [
             0.3333333333333333,
             "#9c179e"
            ],
            [
             0.4444444444444444,
             "#bd3786"
            ],
            [
             0.5555555555555556,
             "#d8576b"
            ],
            [
             0.6666666666666666,
             "#ed7953"
            ],
            [
             0.7777777777777778,
             "#fb9f3a"
            ],
            [
             0.8888888888888888,
             "#fdca26"
            ],
            [
             1,
             "#f0f921"
            ]
           ]
          },
          "colorway": [
           "#636efa",
           "#EF553B",
           "#00cc96",
           "#ab63fa",
           "#FFA15A",
           "#19d3f3",
           "#FF6692",
           "#B6E880",
           "#FF97FF",
           "#FECB52"
          ],
          "font": {
           "color": "#2a3f5f"
          },
          "geo": {
           "bgcolor": "white",
           "lakecolor": "white",
           "landcolor": "#E5ECF6",
           "showlakes": true,
           "showland": true,
           "subunitcolor": "white"
          },
          "hoverlabel": {
           "align": "left"
          },
          "hovermode": "closest",
          "mapbox": {
           "style": "light"
          },
          "paper_bgcolor": "white",
          "plot_bgcolor": "#E5ECF6",
          "polar": {
           "angularaxis": {
            "gridcolor": "white",
            "linecolor": "white",
            "ticks": ""
           },
           "bgcolor": "#E5ECF6",
           "radialaxis": {
            "gridcolor": "white",
            "linecolor": "white",
            "ticks": ""
           }
          },
          "scene": {
           "xaxis": {
            "backgroundcolor": "#E5ECF6",
            "gridcolor": "white",
            "gridwidth": 2,
            "linecolor": "white",
            "showbackground": true,
            "ticks": "",
            "zerolinecolor": "white"
           },
           "yaxis": {
            "backgroundcolor": "#E5ECF6",
            "gridcolor": "white",
            "gridwidth": 2,
            "linecolor": "white",
            "showbackground": true,
            "ticks": "",
            "zerolinecolor": "white"
           },
           "zaxis": {
            "backgroundcolor": "#E5ECF6",
            "gridcolor": "white",
            "gridwidth": 2,
            "linecolor": "white",
            "showbackground": true,
            "ticks": "",
            "zerolinecolor": "white"
           }
          },
          "shapedefaults": {
           "line": {
            "color": "#2a3f5f"
           }
          },
          "ternary": {
           "aaxis": {
            "gridcolor": "white",
            "linecolor": "white",
            "ticks": ""
           },
           "baxis": {
            "gridcolor": "white",
            "linecolor": "white",
            "ticks": ""
           },
           "bgcolor": "#E5ECF6",
           "caxis": {
            "gridcolor": "white",
            "linecolor": "white",
            "ticks": ""
           }
          },
          "title": {
           "x": 0.05
          },
          "xaxis": {
           "automargin": true,
           "gridcolor": "white",
           "linecolor": "white",
           "ticks": "",
           "title": {
            "standoff": 15
           },
           "zerolinecolor": "white",
           "zerolinewidth": 2
          },
          "yaxis": {
           "automargin": true,
           "gridcolor": "white",
           "linecolor": "white",
           "ticks": "",
           "title": {
            "standoff": 15
           },
           "zerolinecolor": "white",
           "zerolinewidth": 2
          }
         }
        },
        "title": {
         "text": "Grad Students"
        },
        "width": 600
       }
      },
      "image/png": "[encoded data removed]",
      "text/html": [
       "<div>                            <div id=\"523a9a17-7142-4d3f-a2d1-4e09a7823cba\" class=\"plotly-graph-div\" style=\"height:600px; width:600px;\"></div>            <script type=\"text/javascript\">                require([\"plotly\"], function(Plotly) {                    window.PLOTLYENV=window.PLOTLYENV || {};                                    if (document.getElementById(\"523a9a17-7142-4d3f-a2d1-4e09a7823cba\")) {                    Plotly.newPlot(                        \"523a9a17-7142-4d3f-a2d1-4e09a7823cba\",                        [{\"coloraxis\":\"coloraxis\",\"geo\":\"geo\",\"hovertemplate\":\"<b>%{hovertext}</b><br><br>Abbrev=%{location}<br>All fields=%{z}<extra></extra>\",\"hovertext\":[\"Alabama\",\"Alaska\",\"Arizona\",\"Arkansas\",\"California\",\"Colorado\",\"Connecticut\",\"Delaware\",\"Florida\",\"Georgia\",\"Hawaii\",\"Idaho\",\"Illinois\",\"Indiana\",\"Iowa\",\"Kansas\",\"Kentucky\",\"Louisiana\",\"Maine\",\"Maryland\",\"Massachusetts\",\"Michigan\",\"Minnesota\",\"Mississippi\",\"Missouri\",\"Montana\",\"Nebraska\",\"Nevada\",\"New Hampshire\",\"New Jersey\",\"New Mexico\",\"New York\",\"North Carolina\",\"North Dakota\",\"Ohio\",\"Oklahoma\",\"Oregon\",\"Pennsylvania\",\"Rhode Island\",\"South Carolina\",\"South Dakota\",\"Tennessee\",\"Texas\",\"Utah\",\"Vermont\",\"Virginia\",\"Washington\",\"West Virginia\",\"Wisconsin\",\"Wyoming\"],\"locationmode\":\"USA-states\",\"locations\":[\"AL\",\"AK\",\"AZ\",\"AR\",\"CA\",\"CO\",\"CT\",\"DE\",\"FL\",\"GA\",\"HI\",\"ID\",\"IL\",\"IN\",\"IA\",\"KS\",\"KY\",\"LA\",\"ME\",\"MD\",\"MA\",\"MI\",\"MN\",\"MS\",\"MO\",\"MT\",\"NE\",\"NV\",\"NH\",\"NJ\",\"NM\",\"NY\",\"NC\",\"ND\",\"OH\",\"OK\",\"OR\",\"PA\",\"RI\",\"SC\",\"SD\",\"TN\",\"TX\",\"UT\",\"VT\",\"VA\",\"WA\",\"WV\",\"WI\",\"WY\"],\"name\":\"\",\"z\":[640.0,42.0,935.0,275.0,5892.0,1024.0,731.0,212.0,2339.0,1451.0,133.0,136.0,2310.0,1556.0,618.0,466.0,484.0,586.0,70.0,1173.0,2652.0,1790.0,1499.0,409.0,905.0,113.0,329.0,240.0,159.0,950.0,280.0,3871.0,1724.0,175.0,1878.0,484.0,552.0,2434.0,260.0,476.0,122.0,880.0,4118.0,502.0,64.0,1518.0,910.0,215.0,940.0,84.0],\"type\":\"choropleth\"}],                        {\"template\":{\"data\":{\"histogram2dcontour\":[{\"type\":\"histogram2dcontour\",\"colorbar\":{\"outlinewidth\":0,\"ticks\":\"\"},\"colorscale\":[[0.0,\"#0d0887\"],[0.1111111111111111,\"#46039f\"],[0.2222222222222222,\"#7201a8\"],[0.3333333333333333,\"#9c179e\"],[0.4444444444444444,\"#bd3786\"],[0.5555555555555556,\"#d8576b\"],[0.6666666666666666,\"#ed7953\"],[0.7777777777777778,\"#fb9f3a\"],[0.8888888888888888,\"#fdca26\"],[1.0,\"#f0f921\"]]}],\"choropleth\":[{\"type\":\"choropleth\",\"colorbar\":{\"outlinewidth\":0,\"ticks\":\"\"}}],\"histogram2d\":[{\"type\":\"histogram2d\",\"colorbar\":{\"outlinewidth\":0,\"ticks\":\"\"},\"colorscale\":[[0.0,\"#0d0887\"],[0.1111111111111111,\"#46039f\"],[0.2222222222222222,\"#7201a8\"],[0.3333333333333333,\"#9c179e\"],[0.4444444444444444,\"#bd3786\"],[0.5555555555555556,\"#d8576b\"],[0.6666666666666666,\"#ed7953\"],[0.7777777777777778,\"#fb9f3a\"],[0.8888888888888888,\"#fdca26\"],[1.0,\"#f0f921\"]]}],\"heatmap\":[{\"type\":\"heatmap\",\"colorbar\":{\"outlinewidth\":0,\"ticks\":\"\"},\"colorscale\":[[0.0,\"#0d0887\"],[0.1111111111111111,\"#46039f\"],[0.2222222222222222,\"#7201a8\"],[0.3333333333333333,\"#9c179e\"],[0.4444444444444444,\"#bd3786\"],[0.5555555555555556,\"#d8576b\"],[0.6666666666666666,\"#ed7953\"],[0.7777777777777778,\"#fb9f3a\"],[0.8888888888888888,\"#fdca26\"],[1.0,\"#f0f921\"]]}],\"heatmapgl\":[{\"type\":\"heatmapgl\",\"colorbar\":{\"outlinewidth\":0,\"ticks\":\"\"},\"colorscale\":[[0.0,\"#0d0887\"],[0.1111111111111111,\"#46039f\"],[0.2222222222222222,\"#7201a8\"],[0.3333333333333333,\"#9c179e\"],[0.4444444444444444,\"#bd3786\"],[0.5555555555555556,\"#d8576b\"],[0.6666666666666666,\"#ed7953\"],[0.7777777777777778,\"#fb9f3a\"],[0.8888888888888888,\"#fdca26\"],[1.0,\"#f0f921\"]]}],\"contourcarpet\":[{\"type\":\"contourcarpet\",\"colorbar\":{\"outlinewidth\":0,\"ticks\":\"\"}}],\"contour\":[{\"type\":\"contour\",\"colorbar\":{\"outlinewidth\":0,\"ticks\":\"\"},\"colorscale\":[[0.0,\"#0d0887\"],[0.1111111111111111,\"#46039f\"],[0.2222222222222222,\"#7201a8\"],[0.3333333333333333,\"#9c179e\"],[0.4444444444444444,\"#bd3786\"],[0.5555555555555556,\"#d8576b\"],[0.6666666666666666,\"#ed7953\"],[0.7777777777777778,\"#fb9f3a\"],[0.8888888888888888,\"#fdca26\"],[1.0,\"#f0f921\"]]}],\"surface\":[{\"type\":\"surface\",\"colorbar\":{\"outlinewidth\":0,\"ticks\":\"\"},\"colorscale\":[[0.0,\"#0d0887\"],[0.1111111111111111,\"#46039f\"],[0.2222222222222222,\"#7201a8\"],[0.3333333333333333,\"#9c179e\"],[0.4444444444444444,\"#bd3786\"],[0.5555555555555556,\"#d8576b\"],[0.6666666666666666,\"#ed7953\"],[0.7777777777777778,\"#fb9f3a\"],[0.8888888888888888,\"#fdca26\"],[1.0,\"#f0f921\"]]}],\"mesh3d\":[{\"type\":\"mesh3d\",\"colorbar\":{\"outlinewidth\":0,\"ticks\":\"\"}}],\"scatter\":[{\"fillpattern\":{\"fillmode\":\"overlay\",\"size\":10,\"solidity\":0.2},\"type\":\"scatter\"}],\"parcoords\":[{\"type\":\"parcoords\",\"line\":{\"colorbar\":{\"outlinewidth\":0,\"ticks\":\"\"}}}],\"scatterpolargl\":[{\"type\":\"scatterpolargl\",\"marker\":{\"colorbar\":{\"outlinewidth\":0,\"ticks\":\"\"}}}],\"bar\":[{\"error_x\":{\"color\":\"#2a3f5f\"},\"error_y\":{\"color\":\"#2a3f5f\"},\"marker\":{\"line\":{\"color\":\"#E5ECF6\",\"width\":0.5},\"pattern\":{\"fillmode\":\"overlay\",\"size\":10,\"solidity\":0.2}},\"type\":\"bar\"}],\"scattergeo\":[{\"type\":\"scattergeo\",\"marker\":{\"colorbar\":{\"outlinewidth\":0,\"ticks\":\"\"}}}],\"scatterpolar\":[{\"type\":\"scatterpolar\",\"marker\":{\"colorbar\":{\"outlinewidth\":0,\"ticks\":\"\"}}}],\"histogram\":[{\"marker\":{\"pattern\":{\"fillmode\":\"overlay\",\"size\":10,\"solidity\":0.2}},\"type\":\"histogram\"}],\"scattergl\":[{\"type\":\"scattergl\",\"marker\":{\"colorbar\":{\"outlinewidth\":0,\"ticks\":\"\"}}}],\"scatter3d\":[{\"type\":\"scatter3d\",\"line\":{\"colorbar\":{\"outlinewidth\":0,\"ticks\":\"\"}},\"marker\":{\"colorbar\":{\"outlinewidth\":0,\"ticks\":\"\"}}}],\"scattermapbox\":[{\"type\":\"scattermapbox\",\"marker\":{\"colorbar\":{\"outlinewidth\":0,\"ticks\":\"\"}}}],\"scatterternary\":[{\"type\":\"scatterternary\",\"marker\":{\"colorbar\":{\"outlinewidth\":0,\"ticks\":\"\"}}}],\"scattercarpet\":[{\"type\":\"scattercarpet\",\"marker\":{\"colorbar\":{\"outlinewidth\":0,\"ticks\":\"\"}}}],\"carpet\":[{\"aaxis\":{\"endlinecolor\":\"#2a3f5f\",\"gridcolor\":\"white\",\"linecolor\":\"white\",\"minorgridcolor\":\"white\",\"startlinecolor\":\"#2a3f5f\"},\"baxis\":{\"endlinecolor\":\"#2a3f5f\",\"gridcolor\":\"white\",\"linecolor\":\"white\",\"minorgridcolor\":\"white\",\"startlinecolor\":\"#2a3f5f\"},\"type\":\"carpet\"}],\"table\":[{\"cells\":{\"fill\":{\"color\":\"#EBF0F8\"},\"line\":{\"color\":\"white\"}},\"header\":{\"fill\":{\"color\":\"#C8D4E3\"},\"line\":{\"color\":\"white\"}},\"type\":\"table\"}],\"barpolar\":[{\"marker\":{\"line\":{\"color\":\"#E5ECF6\",\"width\":0.5},\"pattern\":{\"fillmode\":\"overlay\",\"size\":10,\"solidity\":0.2}},\"type\":\"barpolar\"}],\"pie\":[{\"automargin\":true,\"type\":\"pie\"}]},\"layout\":{\"autotypenumbers\":\"strict\",\"colorway\":[\"#636efa\",\"#EF553B\",\"#00cc96\",\"#ab63fa\",\"#FFA15A\",\"#19d3f3\",\"#FF6692\",\"#B6E880\",\"#FF97FF\",\"#FECB52\"],\"font\":{\"color\":\"#2a3f5f\"},\"hovermode\":\"closest\",\"hoverlabel\":{\"align\":\"left\"},\"paper_bgcolor\":\"white\",\"plot_bgcolor\":\"#E5ECF6\",\"polar\":{\"bgcolor\":\"#E5ECF6\",\"angularaxis\":{\"gridcolor\":\"white\",\"linecolor\":\"white\",\"ticks\":\"\"},\"radialaxis\":{\"gridcolor\":\"white\",\"linecolor\":\"white\",\"ticks\":\"\"}},\"ternary\":{\"bgcolor\":\"#E5ECF6\",\"aaxis\":{\"gridcolor\":\"white\",\"linecolor\":\"white\",\"ticks\":\"\"},\"baxis\":{\"gridcolor\":\"white\",\"linecolor\":\"white\",\"ticks\":\"\"},\"caxis\":{\"gridcolor\":\"white\",\"linecolor\":\"white\",\"ticks\":\"\"}},\"coloraxis\":{\"colorbar\":{\"outlinewidth\":0,\"ticks\":\"\"}},\"colorscale\":{\"sequential\":[[0.0,\"#0d0887\"],[0.1111111111111111,\"#46039f\"],[0.2222222222222222,\"#7201a8\"],[0.3333333333333333,\"#9c179e\"],[0.4444444444444444,\"#bd3786\"],[0.5555555555555556,\"#d8576b\"],[0.6666666666666666,\"#ed7953\"],[0.7777777777777778,\"#fb9f3a\"],[0.8888888888888888,\"#fdca26\"],[1.0,\"#f0f921\"]],\"sequentialminus\":[[0.0,\"#0d0887\"],[0.1111111111111111,\"#46039f\"],[0.2222222222222222,\"#7201a8\"],[0.3333333333333333,\"#9c179e\"],[0.4444444444444444,\"#bd3786\"],[0.5555555555555556,\"#d8576b\"],[0.6666666666666666,\"#ed7953\"],[0.7777777777777778,\"#fb9f3a\"],[0.8888888888888888,\"#fdca26\"],[1.0,\"#f0f921\"]],\"diverging\":[[0,\"#8e0152\"],[0.1,\"#c51b7d\"],[0.2,\"#de77ae\"],[0.3,\"#f1b6da\"],[0.4,\"#fde0ef\"],[0.5,\"#f7f7f7\"],[0.6,\"#e6f5d0\"],[0.7,\"#b8e186\"],[0.8,\"#7fbc41\"],[0.9,\"#4d9221\"],[1,\"#276419\"]]},\"xaxis\":{\"gridcolor\":\"white\",\"linecolor\":\"white\",\"ticks\":\"\",\"title\":{\"standoff\":15},\"zerolinecolor\":\"white\",\"automargin\":true,\"zerolinewidth\":2},\"yaxis\":{\"gridcolor\":\"white\",\"linecolor\":\"white\",\"ticks\":\"\",\"title\":{\"standoff\":15},\"zerolinecolor\":\"white\",\"automargin\":true,\"zerolinewidth\":2},\"scene\":{\"xaxis\":{\"backgroundcolor\":\"#E5ECF6\",\"gridcolor\":\"white\",\"linecolor\":\"white\",\"showbackground\":true,\"ticks\":\"\",\"zerolinecolor\":\"white\",\"gridwidth\":2},\"yaxis\":{\"backgroundcolor\":\"#E5ECF6\",\"gridcolor\":\"white\",\"linecolor\":\"white\",\"showbackground\":true,\"ticks\":\"\",\"zerolinecolor\":\"white\",\"gridwidth\":2},\"zaxis\":{\"backgroundcolor\":\"#E5ECF6\",\"gridcolor\":\"white\",\"linecolor\":\"white\",\"showbackground\":true,\"ticks\":\"\",\"zerolinecolor\":\"white\",\"gridwidth\":2}},\"shapedefaults\":{\"line\":{\"color\":\"#2a3f5f\"}},\"annotationdefaults\":{\"arrowcolor\":\"#2a3f5f\",\"arrowhead\":0,\"arrowwidth\":1},\"geo\":{\"bgcolor\":\"white\",\"landcolor\":\"#E5ECF6\",\"subunitcolor\":\"white\",\"showland\":true,\"showlakes\":true,\"lakecolor\":\"white\"},\"title\":{\"x\":0.05},\"mapbox\":{\"style\":\"light\"}}},\"geo\":{\"domain\":{\"x\":[0.0,1.0],\"y\":[0.0,1.0]},\"center\":{},\"scope\":\"usa\"},\"coloraxis\":{\"colorbar\":{\"title\":{\"text\":\"All fields\"}},\"colorscale\":[[0.0,\"rgb(63, 5, 5)\"],[0.09090909090909091,\"rgb(101, 6, 13)\"],[0.18181818181818182,\"rgb(138, 17, 9)\"],[0.2727272727272727,\"rgb(96, 95, 95)\"],[0.36363636363636365,\"rgb(119, 118, 118)\"],[0.45454545454545453,\"rgb(142, 141, 141)\"],[0.5454545454545454,\"rgb(166, 166, 165)\"],[0.6363636363636364,\"rgb(193, 192, 191)\"],[0.7272727272727273,\"rgb(222, 222, 220)\"],[0.8181818181818182,\"rgb(239, 248, 90)\"],[0.9090909090909091,\"rgb(230, 210, 41)\"],[1.0,\"rgb(220, 174, 25)\"]],\"cmin\":42.0,\"cmax\":5892.0},\"legend\":{\"tracegroupgap\":0},\"title\":{\"text\":\"Grad Students\"},\"height\":600,\"width\":600},                        {\"responsive\": true}                    ).then(function(){\n",
       "                            \n",
       "var gd = document.getElementById('523a9a17-7142-4d3f-a2d1-4e09a7823cba');\n",
       "var x = new MutationObserver(function (mutations, observer) {{\n",
       "        var display = window.getComputedStyle(gd).display;\n",
       "        if (!display || display === 'none') {{\n",
       "            console.log([gd, 'removed!']);\n",
       "            Plotly.purge(gd);\n",
       "            observer.disconnect();\n",
       "        }}\n",
       "}});\n",
       "\n",
       "// Listen for the removal of the full notebook cells\n",
       "var notebookContainer = gd.closest('#notebook-container');\n",
       "if (notebookContainer) {{\n",
       "    x.observe(notebookContainer, {childList: true});\n",
       "}}\n",
       "\n",
       "// Listen for the clearing of the current output cell\n",
       "var outputEl = gd.closest('.output');\n",
       "if (outputEl) {{\n",
       "    x.observe(outputEl, {childList: true});\n",
       "}}\n",
       "\n",
       "                        })                };                });            </script>        </div>"
      ]
     },
     "metadata": {},
     "output_type": "display_data"
    }
   ],
   "source": [
    "\n",
    "pltcolor = 'All fields'\n",
    "hi = df710[pltcolor].max()\n",
    "low = df710[pltcolor].min()\n",
    "print(low,hi)\n",
    "\n",
    "fig = px.choropleth(df710,\n",
    "                    locations = 'Abbrev',\n",
    "                    locationmode = 'USA-states',\n",
    "                    scope = 'usa',\n",
    "                    color = pltcolor,\n",
    "                    hover_name = 'State or location',\n",
    "                    #hover_data = ['Male','Female'],\n",
    "                    range_color = [low,hi],\n",
    "                    color_continuous_scale = 'oxy',\n",
    "                    width = 600,\n",
    "                    height = 600,\n",
    "                    title = 'Grad Students')\n",
    "fig.show()"
   ]
  },
  {
   "cell_type": "code",
   "execution_count": 103,
   "id": "d5c82759-ba7b-44c4-8434-b3a0a56ff559",
   "metadata": {},
   "outputs": [
    {
     "data": {
      "application/vnd.plotly.v1+json": {
       "config": {
        "plotlyServerURL": "https://plot.ly"
       },
       "data": [
        {
         "coloraxis": "coloraxis",
         "customdata": [
          [
           3267,
           2623
          ],
          [
           2213,
           1904
          ],
          [
           2030,
           1840
          ],
          [
           1501,
           1151
          ],
          [
           1288,
           1145
          ],
          [
           1219,
           1120
          ],
          [
           1304,
           1005
          ],
          [
           963,
           914
          ],
          [
           971,
           819
          ],
          [
           917,
           807
          ],
          [
           882,
           674
          ],
          [
           802,
           716
          ],
          [
           648,
           851
          ],
          [
           776,
           675
          ],
          [
           586,
           586
          ],
          [
           558,
           466
          ],
          [
           525,
           425
          ],
          [
           521,
           419
          ],
          [
           535,
           399
          ],
          [
           498,
           412
          ],
          [
           538,
           367
          ],
          [
           454,
           426
          ],
          [
           413,
           317
          ],
          [
           325,
           315
          ],
          [
           362,
           256
          ],
          [
           313,
           273
          ],
          [
           280,
           271
          ],
          [
           252,
           283
          ],
          [
           295,
           207
          ],
          [
           265,
           219
          ],
          [
           262,
           222
          ],
          [
           256,
           220
          ],
          [
           258,
           208
          ],
          [
           194,
           215
          ],
          [
           165,
           164
          ],
          [
           151,
           129
          ],
          [
           146,
           129
          ],
          [
           142,
           118
          ],
          [
           119,
           120
          ],
          [
           122,
           93
          ],
          [
           116,
           96
          ],
          [
           90,
           85
          ],
          [
           90,
           69
          ],
          [
           80,
           56
          ],
          [
           55,
           78
          ],
          [
           77,
           45
          ],
          [
           59,
           54
          ],
          [
           47,
           62
          ],
          [
           65,
           19
          ],
          [
           31,
           39
          ],
          [
           35,
           29
          ],
          [
           21,
           21
          ]
         ],
         "geo": "geo",
         "hovertemplate": "<b>%{hovertext}</b><br><br>Abbrev=%{location}<br>Male=%{customdata[0]}<br>Female=%{customdata[1]}<br>Ratio Sci/Non=%{z}<extra></extra>",
         "hovertext": [
          "California",
          "Texas",
          "New York",
          "Massachusetts",
          "Pennsylvania",
          "Florida",
          "Illinois",
          "Ohio",
          "Michigan",
          "North Carolina",
          "Indiana",
          "Virginia",
          "Minnesota",
          "Georgia",
          "Maryland",
          "Colorado",
          "New Jersey",
          "Wisconsin",
          "Arizona",
          "Washington",
          "Missouri",
          "Tennessee",
          "Connecticut",
          "Alabama",
          "Iowa",
          "Louisiana",
          "Oregon",
          "District of Columbia",
          "Utah",
          "Kentucky",
          "Oklahoma",
          "South Carolina",
          "Kansas",
          "Mississippi",
          "Nebraska",
          "New Mexico",
          "Arkansas",
          "Rhode Island",
          "Nevada",
          "West Virginia",
          "Delaware",
          "North Dakota",
          "New Hampshire",
          "Idaho",
          "Hawaii",
          "South Dakota",
          "Montana",
          "Puerto Rico",
          "Wyoming",
          "Maine",
          "Vermont",
          "Alaska"
         ],
         "locationmode": "USA-states",
         "locations": [
          "CA",
          "TX",
          "NY",
          "MA",
          "PA",
          "FL",
          "IL",
          "OH",
          "MI",
          "NC",
          "IN",
          "VA",
          "MN",
          "GA",
          "MD",
          "CO",
          "NJ",
          "WI",
          "AZ",
          "WA",
          "MO",
          "TN",
          "CT",
          "AL",
          "IA",
          "LA",
          "OR",
          "DC",
          "UT",
          "KY",
          "OK",
          "SC",
          "KS",
          "MS",
          "NE",
          "NM",
          "AR",
          "RI",
          "NV",
          "WV",
          "DE",
          "ND",
          "NH",
          "ID",
          "HI",
          "SD",
          "MT",
          "PR",
          "WY",
          "ME",
          "VT",
          "AK"
         ],
         "name": "",
         "type": "choropleth",
         "z": [
          5.315112540192926,
          3.276220145379024,
          3.3203125,
          4.61864406779661,
          3.532588454376164,
          3.2144144144144144,
          3.9892008639308854,
          3.1733333333333333,
          4.203488372093023,
          4.438485804416404,
          4.084967320261438,
          3.091644204851752,
          2.535377358490566,
          5.200854700854701,
          5.940828402366864,
          4.224489795918367,
          3.439252336448598,
          4.193370165745856,
          3.6517412935323383,
          6,
          3.3509615384615383,
          3.170616113744076,
          4.7109375,
          2.699421965317919,
          5.118811881188119,
          2.9066666666666667,
          4.575757575757576,
          2.3647798742138364,
          4.02,
          2.27027027027027,
          2.5072463768115942,
          4.118279569892473,
          3.4380952380952383,
          2.075187969924812,
          4.061538461538461,
          3.242424242424242,
          2.5714285714285716,
          4.2,
          3.5283018867924527,
          3.215686274509804,
          6.851851851851852,
          2.3653846153846154,
          9.6,
          5.476190476190476,
          2.5,
          7.714285714285714,
          4.380952380952381,
          6.266666666666667,
          9.5,
          4.833333333333333,
          15,
          13
         ]
        }
       ],
       "layout": {
        "coloraxis": {
         "cmax": 10,
         "cmin": 1,
         "colorbar": {
          "title": {
           "text": "Ratio Sci/Non"
          }
         },
         "colorscale": [
          [
           0,
           "rgb(63, 5, 5)"
          ],
          [
           0.09090909090909091,
           "rgb(101, 6, 13)"
          ],
          [
           0.18181818181818182,
           "rgb(138, 17, 9)"
          ],
          [
           0.2727272727272727,
           "rgb(96, 95, 95)"
          ],
          [
           0.36363636363636365,
           "rgb(119, 118, 118)"
          ],
          [
           0.45454545454545453,
           "rgb(142, 141, 141)"
          ],
          [
           0.5454545454545454,
           "rgb(166, 166, 165)"
          ],
          [
           0.6363636363636364,
           "rgb(193, 192, 191)"
          ],
          [
           0.7272727272727273,
           "rgb(222, 222, 220)"
          ],
          [
           0.8181818181818182,
           "rgb(239, 248, 90)"
          ],
          [
           0.9090909090909091,
           "rgb(230, 210, 41)"
          ],
          [
           1,
           "rgb(220, 174, 25)"
          ]
         ]
        },
        "geo": {
         "center": {
          "lat": 37.67247296807091,
          "lon": -93.90840987449873
         },
         "domain": {
          "x": [
           0,
           1
          ],
          "y": [
           0,
           1
          ]
         },
         "projection": {
          "scale": 1.1281821374565133
         },
         "scope": "usa"
        },
        "height": 600,
        "legend": {
         "tracegroupgap": 0
        },
        "template": {
         "data": {
          "bar": [
           {
            "error_x": {
             "color": "#2a3f5f"
            },
            "error_y": {
             "color": "#2a3f5f"
            },
            "marker": {
             "line": {
              "color": "#E5ECF6",
              "width": 0.5
             },
             "pattern": {
              "fillmode": "overlay",
              "size": 10,
              "solidity": 0.2
             }
            },
            "type": "bar"
           }
          ],
          "barpolar": [
           {
            "marker": {
             "line": {
              "color": "#E5ECF6",
              "width": 0.5
             },
             "pattern": {
              "fillmode": "overlay",
              "size": 10,
              "solidity": 0.2
             }
            },
            "type": "barpolar"
           }
          ],
          "carpet": [
           {
            "aaxis": {
             "endlinecolor": "#2a3f5f",
             "gridcolor": "white",
             "linecolor": "white",
             "minorgridcolor": "white",
             "startlinecolor": "#2a3f5f"
            },
            "baxis": {
             "endlinecolor": "#2a3f5f",
             "gridcolor": "white",
             "linecolor": "white",
             "minorgridcolor": "white",
             "startlinecolor": "#2a3f5f"
            },
            "type": "carpet"
           }
          ],
          "choropleth": [
           {
            "colorbar": {
             "outlinewidth": 0,
             "ticks": ""
            },
            "type": "choropleth"
           }
          ],
          "contour": [
           {
            "colorbar": {
             "outlinewidth": 0,
             "ticks": ""
            },
            "colorscale": [
             [
              0,
              "#0d0887"
             ],
             [
              0.1111111111111111,
              "#46039f"
             ],
             [
              0.2222222222222222,
              "#7201a8"
             ],
             [
              0.3333333333333333,
              "#9c179e"
             ],
             [
              0.4444444444444444,
              "#bd3786"
             ],
             [
              0.5555555555555556,
              "#d8576b"
             ],
             [
              0.6666666666666666,
              "#ed7953"
             ],
             [
              0.7777777777777778,
              "#fb9f3a"
             ],
             [
              0.8888888888888888,
              "#fdca26"
             ],
             [
              1,
              "#f0f921"
             ]
            ],
            "type": "contour"
           }
          ],
          "contourcarpet": [
           {
            "colorbar": {
             "outlinewidth": 0,
             "ticks": ""
            },
            "type": "contourcarpet"
           }
          ],
          "heatmap": [
           {
            "colorbar": {
             "outlinewidth": 0,
             "ticks": ""
            },
            "colorscale": [
             [
              0,
              "#0d0887"
             ],
             [
              0.1111111111111111,
              "#46039f"
             ],
             [
              0.2222222222222222,
              "#7201a8"
             ],
             [
              0.3333333333333333,
              "#9c179e"
             ],
             [
              0.4444444444444444,
              "#bd3786"
             ],
             [
              0.5555555555555556,
              "#d8576b"
             ],
             [
              0.6666666666666666,
              "#ed7953"
             ],
             [
              0.7777777777777778,
              "#fb9f3a"
             ],
             [
              0.8888888888888888,
              "#fdca26"
             ],
             [
              1,
              "#f0f921"
             ]
            ],
            "type": "heatmap"
           }
          ],
          "heatmapgl": [
           {
            "colorbar": {
             "outlinewidth": 0,
             "ticks": ""
            },
            "colorscale": [
             [
              0,
              "#0d0887"
             ],
             [
              0.1111111111111111,
              "#46039f"
             ],
             [
              0.2222222222222222,
              "#7201a8"
             ],
             [
              0.3333333333333333,
              "#9c179e"
             ],
             [
              0.4444444444444444,
              "#bd3786"
             ],
             [
              0.5555555555555556,
              "#d8576b"
             ],
             [
              0.6666666666666666,
              "#ed7953"
             ],
             [
              0.7777777777777778,
              "#fb9f3a"
             ],
             [
              0.8888888888888888,
              "#fdca26"
             ],
             [
              1,
              "#f0f921"
             ]
            ],
            "type": "heatmapgl"
           }
          ],
          "histogram": [
           {
            "marker": {
             "pattern": {
              "fillmode": "overlay",
              "size": 10,
              "solidity": 0.2
             }
            },
            "type": "histogram"
           }
          ],
          "histogram2d": [
           {
            "colorbar": {
             "outlinewidth": 0,
             "ticks": ""
            },
            "colorscale": [
             [
              0,
              "#0d0887"
             ],
             [
              0.1111111111111111,
              "#46039f"
             ],
             [
              0.2222222222222222,
              "#7201a8"
             ],
             [
              0.3333333333333333,
              "#9c179e"
             ],
             [
              0.4444444444444444,
              "#bd3786"
             ],
             [
              0.5555555555555556,
              "#d8576b"
             ],
             [
              0.6666666666666666,
              "#ed7953"
             ],
             [
              0.7777777777777778,
              "#fb9f3a"
             ],
             [
              0.8888888888888888,
              "#fdca26"
             ],
             [
              1,
              "#f0f921"
             ]
            ],
            "type": "histogram2d"
           }
          ],
          "histogram2dcontour": [
           {
            "colorbar": {
             "outlinewidth": 0,
             "ticks": ""
            },
            "colorscale": [
             [
              0,
              "#0d0887"
             ],
             [
              0.1111111111111111,
              "#46039f"
             ],
             [
              0.2222222222222222,
              "#7201a8"
             ],
             [
              0.3333333333333333,
              "#9c179e"
             ],
             [
              0.4444444444444444,
              "#bd3786"
             ],
             [
              0.5555555555555556,
              "#d8576b"
             ],
             [
              0.6666666666666666,
              "#ed7953"
             ],
             [
              0.7777777777777778,
              "#fb9f3a"
             ],
             [
              0.8888888888888888,
              "#fdca26"
             ],
             [
              1,
              "#f0f921"
             ]
            ],
            "type": "histogram2dcontour"
           }
          ],
          "mesh3d": [
           {
            "colorbar": {
             "outlinewidth": 0,
             "ticks": ""
            },
            "type": "mesh3d"
           }
          ],
          "parcoords": [
           {
            "line": {
             "colorbar": {
              "outlinewidth": 0,
              "ticks": ""
             }
            },
            "type": "parcoords"
           }
          ],
          "pie": [
           {
            "automargin": true,
            "type": "pie"
           }
          ],
          "scatter": [
           {
            "fillpattern": {
             "fillmode": "overlay",
             "size": 10,
             "solidity": 0.2
            },
            "type": "scatter"
           }
          ],
          "scatter3d": [
           {
            "line": {
             "colorbar": {
              "outlinewidth": 0,
              "ticks": ""
             }
            },
            "marker": {
             "colorbar": {
              "outlinewidth": 0,
              "ticks": ""
             }
            },
            "type": "scatter3d"
           }
          ],
          "scattercarpet": [
           {
            "marker": {
             "colorbar": {
              "outlinewidth": 0,
              "ticks": ""
             }
            },
            "type": "scattercarpet"
           }
          ],
          "scattergeo": [
           {
            "marker": {
             "colorbar": {
              "outlinewidth": 0,
              "ticks": ""
             }
            },
            "type": "scattergeo"
           }
          ],
          "scattergl": [
           {
            "marker": {
             "colorbar": {
              "outlinewidth": 0,
              "ticks": ""
             }
            },
            "type": "scattergl"
           }
          ],
          "scattermapbox": [
           {
            "marker": {
             "colorbar": {
              "outlinewidth": 0,
              "ticks": ""
             }
            },
            "type": "scattermapbox"
           }
          ],
          "scatterpolar": [
           {
            "marker": {
             "colorbar": {
              "outlinewidth": 0,
              "ticks": ""
             }
            },
            "type": "scatterpolar"
           }
          ],
          "scatterpolargl": [
           {
            "marker": {
             "colorbar": {
              "outlinewidth": 0,
              "ticks": ""
             }
            },
            "type": "scatterpolargl"
           }
          ],
          "scatterternary": [
           {
            "marker": {
             "colorbar": {
              "outlinewidth": 0,
              "ticks": ""
             }
            },
            "type": "scatterternary"
           }
          ],
          "surface": [
           {
            "colorbar": {
             "outlinewidth": 0,
             "ticks": ""
            },
            "colorscale": [
             [
              0,
              "#0d0887"
             ],
             [
              0.1111111111111111,
              "#46039f"
             ],
             [
              0.2222222222222222,
              "#7201a8"
             ],
             [
              0.3333333333333333,
              "#9c179e"
             ],
             [
              0.4444444444444444,
              "#bd3786"
             ],
             [
              0.5555555555555556,
              "#d8576b"
             ],
             [
              0.6666666666666666,
              "#ed7953"
             ],
             [
              0.7777777777777778,
              "#fb9f3a"
             ],
             [
              0.8888888888888888,
              "#fdca26"
             ],
             [
              1,
              "#f0f921"
             ]
            ],
            "type": "surface"
           }
          ],
          "table": [
           {
            "cells": {
             "fill": {
              "color": "#EBF0F8"
             },
             "line": {
              "color": "white"
             }
            },
            "header": {
             "fill": {
              "color": "#C8D4E3"
             },
             "line": {
              "color": "white"
             }
            },
            "type": "table"
           }
          ]
         },
         "layout": {
          "annotationdefaults": {
           "arrowcolor": "#2a3f5f",
           "arrowhead": 0,
           "arrowwidth": 1
          },
          "autotypenumbers": "strict",
          "coloraxis": {
           "colorbar": {
            "outlinewidth": 0,
            "ticks": ""
           }
          },
          "colorscale": {
           "diverging": [
            [
             0,
             "#8e0152"
            ],
            [
             0.1,
             "#c51b7d"
            ],
            [
             0.2,
             "#de77ae"
            ],
            [
             0.3,
             "#f1b6da"
            ],
            [
             0.4,
             "#fde0ef"
            ],
            [
             0.5,
             "#f7f7f7"
            ],
            [
             0.6,
             "#e6f5d0"
            ],
            [
             0.7,
             "#b8e186"
            ],
            [
             0.8,
             "#7fbc41"
            ],
            [
             0.9,
             "#4d9221"
            ],
            [
             1,
             "#276419"
            ]
           ],
           "sequential": [
            [
             0,
             "#0d0887"
            ],
            [
             0.1111111111111111,
             "#46039f"
            ],
            [
             0.2222222222222222,
             "#7201a8"
            ],
            [
             0.3333333333333333,
             "#9c179e"
            ],
            [
             0.4444444444444444,
             "#bd3786"
            ],
            [
             0.5555555555555556,
             "#d8576b"
            ],
            [
             0.6666666666666666,
             "#ed7953"
            ],
            [
             0.7777777777777778,
             "#fb9f3a"
            ],
            [
             0.8888888888888888,
             "#fdca26"
            ],
            [
             1,
             "#f0f921"
            ]
           ],
           "sequentialminus": [
            [
             0,
             "#0d0887"
            ],
            [
             0.1111111111111111,
             "#46039f"
            ],
            [
             0.2222222222222222,
             "#7201a8"
            ],
            [
             0.3333333333333333,
             "#9c179e"
            ],
            [
             0.4444444444444444,
             "#bd3786"
            ],
            [
             0.5555555555555556,
             "#d8576b"
            ],
            [
             0.6666666666666666,
             "#ed7953"
            ],
            [
             0.7777777777777778,
             "#fb9f3a"
            ],
            [
             0.8888888888888888,
             "#fdca26"
            ],
            [
             1,
             "#f0f921"
            ]
           ]
          },
          "colorway": [
           "#636efa",
           "#EF553B",
           "#00cc96",
           "#ab63fa",
           "#FFA15A",
           "#19d3f3",
           "#FF6692",
           "#B6E880",
           "#FF97FF",
           "#FECB52"
          ],
          "font": {
           "color": "#2a3f5f"
          },
          "geo": {
           "bgcolor": "white",
           "lakecolor": "white",
           "landcolor": "#E5ECF6",
           "showlakes": true,
           "showland": true,
           "subunitcolor": "white"
          },
          "hoverlabel": {
           "align": "left"
          },
          "hovermode": "closest",
          "mapbox": {
           "style": "light"
          },
          "paper_bgcolor": "white",
          "plot_bgcolor": "#E5ECF6",
          "polar": {
           "angularaxis": {
            "gridcolor": "white",
            "linecolor": "white",
            "ticks": ""
           },
           "bgcolor": "#E5ECF6",
           "radialaxis": {
            "gridcolor": "white",
            "linecolor": "white",
            "ticks": ""
           }
          },
          "scene": {
           "xaxis": {
            "backgroundcolor": "#E5ECF6",
            "gridcolor": "white",
            "gridwidth": 2,
            "linecolor": "white",
            "showbackground": true,
            "ticks": "",
            "zerolinecolor": "white"
           },
           "yaxis": {
            "backgroundcolor": "#E5ECF6",
            "gridcolor": "white",
            "gridwidth": 2,
            "linecolor": "white",
            "showbackground": true,
            "ticks": "",
            "zerolinecolor": "white"
           },
           "zaxis": {
            "backgroundcolor": "#E5ECF6",
            "gridcolor": "white",
            "gridwidth": 2,
            "linecolor": "white",
            "showbackground": true,
            "ticks": "",
            "zerolinecolor": "white"
           }
          },
          "shapedefaults": {
           "line": {
            "color": "#2a3f5f"
           }
          },
          "ternary": {
           "aaxis": {
            "gridcolor": "white",
            "linecolor": "white",
            "ticks": ""
           },
           "baxis": {
            "gridcolor": "white",
            "linecolor": "white",
            "ticks": ""
           },
           "bgcolor": "#E5ECF6",
           "caxis": {
            "gridcolor": "white",
            "linecolor": "white",
            "ticks": ""
           }
          },
          "title": {
           "x": 0.05
          },
          "xaxis": {
           "automargin": true,
           "gridcolor": "white",
           "linecolor": "white",
           "ticks": "",
           "title": {
            "standoff": 15
           },
           "zerolinecolor": "white",
           "zerolinewidth": 2
          },
          "yaxis": {
           "automargin": true,
           "gridcolor": "white",
           "linecolor": "white",
           "ticks": "",
           "title": {
            "standoff": 15
           },
           "zerolinecolor": "white",
           "zerolinewidth": 2
          }
         }
        },
        "title": {
         "text": "Grad Students"
        },
        "width": 600
       }
      },
      "image/png": "[encoded data removed]",
      "text/html": [
       "<div>                            <div id=\"2b08b1f3-9a9e-4357-ac14-25320d769246\" class=\"plotly-graph-div\" style=\"height:600px; width:600px;\"></div>            <script type=\"text/javascript\">                require([\"plotly\"], function(Plotly) {                    window.PLOTLYENV=window.PLOTLYENV || {};                                    if (document.getElementById(\"2b08b1f3-9a9e-4357-ac14-25320d769246\")) {                    Plotly.newPlot(                        \"2b08b1f3-9a9e-4357-ac14-25320d769246\",                        [{\"coloraxis\":\"coloraxis\",\"customdata\":[[3267.0,2623.0],[2213.0,1904.0],[2030.0,1840.0],[1501.0,1151.0],[1288.0,1145.0],[1219.0,1120.0],[1304.0,1005.0],[963.0,914.0],[971.0,819.0],[917.0,807.0],[882.0,674.0],[802.0,716.0],[648.0,851.0],[776.0,675.0],[586.0,586.0],[558.0,466.0],[525.0,425.0],[521.0,419.0],[535.0,399.0],[498.0,412.0],[538.0,367.0],[454.0,426.0],[413.0,317.0],[325.0,315.0],[362.0,256.0],[313.0,273.0],[280.0,271.0],[252.0,283.0],[295.0,207.0],[265.0,219.0],[262.0,222.0],[256.0,220.0],[258.0,208.0],[194.0,215.0],[165.0,164.0],[151.0,129.0],[146.0,129.0],[142.0,118.0],[119.0,120.0],[122.0,93.0],[116.0,96.0],[90.0,85.0],[90.0,69.0],[80.0,56.0],[55.0,78.0],[77.0,45.0],[59.0,54.0],[47.0,62.0],[65.0,19.0],[31.0,39.0],[35.0,29.0],[21.0,21.0]],\"geo\":\"geo\",\"hovertemplate\":\"<b>%{hovertext}</b><br><br>Abbrev=%{location}<br>Male=%{customdata[0]}<br>Female=%{customdata[1]}<br>Ratio Sci/Non=%{z}<extra></extra>\",\"hovertext\":[\"California\",\"Texas\",\"New York\",\"Massachusetts\",\"Pennsylvania\",\"Florida\",\"Illinois\",\"Ohio\",\"Michigan\",\"North Carolina\",\"Indiana\",\"Virginia\",\"Minnesota\",\"Georgia\",\"Maryland\",\"Colorado\",\"New Jersey\",\"Wisconsin\",\"Arizona\",\"Washington\",\"Missouri\",\"Tennessee\",\"Connecticut\",\"Alabama\",\"Iowa\",\"Louisiana\",\"Oregon\",\"District of Columbia\",\"Utah\",\"Kentucky\",\"Oklahoma\",\"South Carolina\",\"Kansas\",\"Mississippi\",\"Nebraska\",\"New Mexico\",\"Arkansas\",\"Rhode Island\",\"Nevada\",\"West Virginia\",\"Delaware\",\"North Dakota\",\"New Hampshire\",\"Idaho\",\"Hawaii\",\"South Dakota\",\"Montana\",\"Puerto Rico\",\"Wyoming\",\"Maine\",\"Vermont\",\"Alaska\"],\"locationmode\":\"USA-states\",\"locations\":[\"CA\",\"TX\",\"NY\",\"MA\",\"PA\",\"FL\",\"IL\",\"OH\",\"MI\",\"NC\",\"IN\",\"VA\",\"MN\",\"GA\",\"MD\",\"CO\",\"NJ\",\"WI\",\"AZ\",\"WA\",\"MO\",\"TN\",\"CT\",\"AL\",\"IA\",\"LA\",\"OR\",\"DC\",\"UT\",\"KY\",\"OK\",\"SC\",\"KS\",\"MS\",\"NE\",\"NM\",\"AR\",\"RI\",\"NV\",\"WV\",\"DE\",\"ND\",\"NH\",\"ID\",\"HI\",\"SD\",\"MT\",\"PR\",\"WY\",\"ME\",\"VT\",\"AK\"],\"name\":\"\",\"z\":[5.315112540192926,3.276220145379024,3.3203125,4.61864406779661,3.532588454376164,3.2144144144144144,3.9892008639308854,3.1733333333333333,4.203488372093023,4.438485804416404,4.084967320261438,3.091644204851752,2.535377358490566,5.200854700854701,5.940828402366864,4.224489795918367,3.439252336448598,4.193370165745856,3.6517412935323383,6.0,3.3509615384615383,3.170616113744076,4.7109375,2.699421965317919,5.118811881188119,2.9066666666666667,4.575757575757576,2.3647798742138364,4.02,2.27027027027027,2.5072463768115942,4.118279569892473,3.4380952380952383,2.075187969924812,4.061538461538461,3.242424242424242,2.5714285714285716,4.2,3.5283018867924527,3.215686274509804,6.851851851851852,2.3653846153846154,9.6,5.476190476190476,2.5,7.714285714285714,4.380952380952381,6.266666666666667,9.5,4.833333333333333,15.0,13.0],\"type\":\"choropleth\"}],                        {\"template\":{\"data\":{\"histogram2dcontour\":[{\"type\":\"histogram2dcontour\",\"colorbar\":{\"outlinewidth\":0,\"ticks\":\"\"},\"colorscale\":[[0.0,\"#0d0887\"],[0.1111111111111111,\"#46039f\"],[0.2222222222222222,\"#7201a8\"],[0.3333333333333333,\"#9c179e\"],[0.4444444444444444,\"#bd3786\"],[0.5555555555555556,\"#d8576b\"],[0.6666666666666666,\"#ed7953\"],[0.7777777777777778,\"#fb9f3a\"],[0.8888888888888888,\"#fdca26\"],[1.0,\"#f0f921\"]]}],\"choropleth\":[{\"type\":\"choropleth\",\"colorbar\":{\"outlinewidth\":0,\"ticks\":\"\"}}],\"histogram2d\":[{\"type\":\"histogram2d\",\"colorbar\":{\"outlinewidth\":0,\"ticks\":\"\"},\"colorscale\":[[0.0,\"#0d0887\"],[0.1111111111111111,\"#46039f\"],[0.2222222222222222,\"#7201a8\"],[0.3333333333333333,\"#9c179e\"],[0.4444444444444444,\"#bd3786\"],[0.5555555555555556,\"#d8576b\"],[0.6666666666666666,\"#ed7953\"],[0.7777777777777778,\"#fb9f3a\"],[0.8888888888888888,\"#fdca26\"],[1.0,\"#f0f921\"]]}],\"heatmap\":[{\"type\":\"heatmap\",\"colorbar\":{\"outlinewidth\":0,\"ticks\":\"\"},\"colorscale\":[[0.0,\"#0d0887\"],[0.1111111111111111,\"#46039f\"],[0.2222222222222222,\"#7201a8\"],[0.3333333333333333,\"#9c179e\"],[0.4444444444444444,\"#bd3786\"],[0.5555555555555556,\"#d8576b\"],[0.6666666666666666,\"#ed7953\"],[0.7777777777777778,\"#fb9f3a\"],[0.8888888888888888,\"#fdca26\"],[1.0,\"#f0f921\"]]}],\"heatmapgl\":[{\"type\":\"heatmapgl\",\"colorbar\":{\"outlinewidth\":0,\"ticks\":\"\"},\"colorscale\":[[0.0,\"#0d0887\"],[0.1111111111111111,\"#46039f\"],[0.2222222222222222,\"#7201a8\"],[0.3333333333333333,\"#9c179e\"],[0.4444444444444444,\"#bd3786\"],[0.5555555555555556,\"#d8576b\"],[0.6666666666666666,\"#ed7953\"],[0.7777777777777778,\"#fb9f3a\"],[0.8888888888888888,\"#fdca26\"],[1.0,\"#f0f921\"]]}],\"contourcarpet\":[{\"type\":\"contourcarpet\",\"colorbar\":{\"outlinewidth\":0,\"ticks\":\"\"}}],\"contour\":[{\"type\":\"contour\",\"colorbar\":{\"outlinewidth\":0,\"ticks\":\"\"},\"colorscale\":[[0.0,\"#0d0887\"],[0.1111111111111111,\"#46039f\"],[0.2222222222222222,\"#7201a8\"],[0.3333333333333333,\"#9c179e\"],[0.4444444444444444,\"#bd3786\"],[0.5555555555555556,\"#d8576b\"],[0.6666666666666666,\"#ed7953\"],[0.7777777777777778,\"#fb9f3a\"],[0.8888888888888888,\"#fdca26\"],[1.0,\"#f0f921\"]]}],\"surface\":[{\"type\":\"surface\",\"colorbar\":{\"outlinewidth\":0,\"ticks\":\"\"},\"colorscale\":[[0.0,\"#0d0887\"],[0.1111111111111111,\"#46039f\"],[0.2222222222222222,\"#7201a8\"],[0.3333333333333333,\"#9c179e\"],[0.4444444444444444,\"#bd3786\"],[0.5555555555555556,\"#d8576b\"],[0.6666666666666666,\"#ed7953\"],[0.7777777777777778,\"#fb9f3a\"],[0.8888888888888888,\"#fdca26\"],[1.0,\"#f0f921\"]]}],\"mesh3d\":[{\"type\":\"mesh3d\",\"colorbar\":{\"outlinewidth\":0,\"ticks\":\"\"}}],\"scatter\":[{\"fillpattern\":{\"fillmode\":\"overlay\",\"size\":10,\"solidity\":0.2},\"type\":\"scatter\"}],\"parcoords\":[{\"type\":\"parcoords\",\"line\":{\"colorbar\":{\"outlinewidth\":0,\"ticks\":\"\"}}}],\"scatterpolargl\":[{\"type\":\"scatterpolargl\",\"marker\":{\"colorbar\":{\"outlinewidth\":0,\"ticks\":\"\"}}}],\"bar\":[{\"error_x\":{\"color\":\"#2a3f5f\"},\"error_y\":{\"color\":\"#2a3f5f\"},\"marker\":{\"line\":{\"color\":\"#E5ECF6\",\"width\":0.5},\"pattern\":{\"fillmode\":\"overlay\",\"size\":10,\"solidity\":0.2}},\"type\":\"bar\"}],\"scattergeo\":[{\"type\":\"scattergeo\",\"marker\":{\"colorbar\":{\"outlinewidth\":0,\"ticks\":\"\"}}}],\"scatterpolar\":[{\"type\":\"scatterpolar\",\"marker\":{\"colorbar\":{\"outlinewidth\":0,\"ticks\":\"\"}}}],\"histogram\":[{\"marker\":{\"pattern\":{\"fillmode\":\"overlay\",\"size\":10,\"solidity\":0.2}},\"type\":\"histogram\"}],\"scattergl\":[{\"type\":\"scattergl\",\"marker\":{\"colorbar\":{\"outlinewidth\":0,\"ticks\":\"\"}}}],\"scatter3d\":[{\"type\":\"scatter3d\",\"line\":{\"colorbar\":{\"outlinewidth\":0,\"ticks\":\"\"}},\"marker\":{\"colorbar\":{\"outlinewidth\":0,\"ticks\":\"\"}}}],\"scattermapbox\":[{\"type\":\"scattermapbox\",\"marker\":{\"colorbar\":{\"outlinewidth\":0,\"ticks\":\"\"}}}],\"scatterternary\":[{\"type\":\"scatterternary\",\"marker\":{\"colorbar\":{\"outlinewidth\":0,\"ticks\":\"\"}}}],\"scattercarpet\":[{\"type\":\"scattercarpet\",\"marker\":{\"colorbar\":{\"outlinewidth\":0,\"ticks\":\"\"}}}],\"carpet\":[{\"aaxis\":{\"endlinecolor\":\"#2a3f5f\",\"gridcolor\":\"white\",\"linecolor\":\"white\",\"minorgridcolor\":\"white\",\"startlinecolor\":\"#2a3f5f\"},\"baxis\":{\"endlinecolor\":\"#2a3f5f\",\"gridcolor\":\"white\",\"linecolor\":\"white\",\"minorgridcolor\":\"white\",\"startlinecolor\":\"#2a3f5f\"},\"type\":\"carpet\"}],\"table\":[{\"cells\":{\"fill\":{\"color\":\"#EBF0F8\"},\"line\":{\"color\":\"white\"}},\"header\":{\"fill\":{\"color\":\"#C8D4E3\"},\"line\":{\"color\":\"white\"}},\"type\":\"table\"}],\"barpolar\":[{\"marker\":{\"line\":{\"color\":\"#E5ECF6\",\"width\":0.5},\"pattern\":{\"fillmode\":\"overlay\",\"size\":10,\"solidity\":0.2}},\"type\":\"barpolar\"}],\"pie\":[{\"automargin\":true,\"type\":\"pie\"}]},\"layout\":{\"autotypenumbers\":\"strict\",\"colorway\":[\"#636efa\",\"#EF553B\",\"#00cc96\",\"#ab63fa\",\"#FFA15A\",\"#19d3f3\",\"#FF6692\",\"#B6E880\",\"#FF97FF\",\"#FECB52\"],\"font\":{\"color\":\"#2a3f5f\"},\"hovermode\":\"closest\",\"hoverlabel\":{\"align\":\"left\"},\"paper_bgcolor\":\"white\",\"plot_bgcolor\":\"#E5ECF6\",\"polar\":{\"bgcolor\":\"#E5ECF6\",\"angularaxis\":{\"gridcolor\":\"white\",\"linecolor\":\"white\",\"ticks\":\"\"},\"radialaxis\":{\"gridcolor\":\"white\",\"linecolor\":\"white\",\"ticks\":\"\"}},\"ternary\":{\"bgcolor\":\"#E5ECF6\",\"aaxis\":{\"gridcolor\":\"white\",\"linecolor\":\"white\",\"ticks\":\"\"},\"baxis\":{\"gridcolor\":\"white\",\"linecolor\":\"white\",\"ticks\":\"\"},\"caxis\":{\"gridcolor\":\"white\",\"linecolor\":\"white\",\"ticks\":\"\"}},\"coloraxis\":{\"colorbar\":{\"outlinewidth\":0,\"ticks\":\"\"}},\"colorscale\":{\"sequential\":[[0.0,\"#0d0887\"],[0.1111111111111111,\"#46039f\"],[0.2222222222222222,\"#7201a8\"],[0.3333333333333333,\"#9c179e\"],[0.4444444444444444,\"#bd3786\"],[0.5555555555555556,\"#d8576b\"],[0.6666666666666666,\"#ed7953\"],[0.7777777777777778,\"#fb9f3a\"],[0.8888888888888888,\"#fdca26\"],[1.0,\"#f0f921\"]],\"sequentialminus\":[[0.0,\"#0d0887\"],[0.1111111111111111,\"#46039f\"],[0.2222222222222222,\"#7201a8\"],[0.3333333333333333,\"#9c179e\"],[0.4444444444444444,\"#bd3786\"],[0.5555555555555556,\"#d8576b\"],[0.6666666666666666,\"#ed7953\"],[0.7777777777777778,\"#fb9f3a\"],[0.8888888888888888,\"#fdca26\"],[1.0,\"#f0f921\"]],\"diverging\":[[0,\"#8e0152\"],[0.1,\"#c51b7d\"],[0.2,\"#de77ae\"],[0.3,\"#f1b6da\"],[0.4,\"#fde0ef\"],[0.5,\"#f7f7f7\"],[0.6,\"#e6f5d0\"],[0.7,\"#b8e186\"],[0.8,\"#7fbc41\"],[0.9,\"#4d9221\"],[1,\"#276419\"]]},\"xaxis\":{\"gridcolor\":\"white\",\"linecolor\":\"white\",\"ticks\":\"\",\"title\":{\"standoff\":15},\"zerolinecolor\":\"white\",\"automargin\":true,\"zerolinewidth\":2},\"yaxis\":{\"gridcolor\":\"white\",\"linecolor\":\"white\",\"ticks\":\"\",\"title\":{\"standoff\":15},\"zerolinecolor\":\"white\",\"automargin\":true,\"zerolinewidth\":2},\"scene\":{\"xaxis\":{\"backgroundcolor\":\"#E5ECF6\",\"gridcolor\":\"white\",\"linecolor\":\"white\",\"showbackground\":true,\"ticks\":\"\",\"zerolinecolor\":\"white\",\"gridwidth\":2},\"yaxis\":{\"backgroundcolor\":\"#E5ECF6\",\"gridcolor\":\"white\",\"linecolor\":\"white\",\"showbackground\":true,\"ticks\":\"\",\"zerolinecolor\":\"white\",\"gridwidth\":2},\"zaxis\":{\"backgroundcolor\":\"#E5ECF6\",\"gridcolor\":\"white\",\"linecolor\":\"white\",\"showbackground\":true,\"ticks\":\"\",\"zerolinecolor\":\"white\",\"gridwidth\":2}},\"shapedefaults\":{\"line\":{\"color\":\"#2a3f5f\"}},\"annotationdefaults\":{\"arrowcolor\":\"#2a3f5f\",\"arrowhead\":0,\"arrowwidth\":1},\"geo\":{\"bgcolor\":\"white\",\"landcolor\":\"#E5ECF6\",\"subunitcolor\":\"white\",\"showland\":true,\"showlakes\":true,\"lakecolor\":\"white\"},\"title\":{\"x\":0.05},\"mapbox\":{\"style\":\"light\"}}},\"geo\":{\"domain\":{\"x\":[0.0,1.0],\"y\":[0.0,1.0]},\"center\":{},\"scope\":\"usa\"},\"coloraxis\":{\"colorbar\":{\"title\":{\"text\":\"Ratio Sci/Non\"}},\"colorscale\":[[0.0,\"rgb(63, 5, 5)\"],[0.09090909090909091,\"rgb(101, 6, 13)\"],[0.18181818181818182,\"rgb(138, 17, 9)\"],[0.2727272727272727,\"rgb(96, 95, 95)\"],[0.36363636363636365,\"rgb(119, 118, 118)\"],[0.45454545454545453,\"rgb(142, 141, 141)\"],[0.5454545454545454,\"rgb(166, 166, 165)\"],[0.6363636363636364,\"rgb(193, 192, 191)\"],[0.7272727272727273,\"rgb(222, 222, 220)\"],[0.8181818181818182,\"rgb(239, 248, 90)\"],[0.9090909090909091,\"rgb(230, 210, 41)\"],[1.0,\"rgb(220, 174, 25)\"]],\"cmin\":1,\"cmax\":10},\"legend\":{\"tracegroupgap\":0},\"title\":{\"text\":\"Grad Students\"},\"height\":600,\"width\":600},                        {\"responsive\": true}                    ).then(function(){\n",
       "                            \n",
       "var gd = document.getElementById('2b08b1f3-9a9e-4357-ac14-25320d769246');\n",
       "var x = new MutationObserver(function (mutations, observer) {{\n",
       "        var display = window.getComputedStyle(gd).display;\n",
       "        if (!display || display === 'none') {{\n",
       "            console.log([gd, 'removed!']);\n",
       "            Plotly.purge(gd);\n",
       "            observer.disconnect();\n",
       "        }}\n",
       "}});\n",
       "\n",
       "// Listen for the removal of the full notebook cells\n",
       "var notebookContainer = gd.closest('#notebook-container');\n",
       "if (notebookContainer) {{\n",
       "    x.observe(notebookContainer, {childList: true});\n",
       "}}\n",
       "\n",
       "// Listen for the clearing of the current output cell\n",
       "var outputEl = gd.closest('.output');\n",
       "if (outputEl) {{\n",
       "    x.observe(outputEl, {childList: true});\n",
       "}}\n",
       "\n",
       "                        })                };                });            </script>        </div>"
      ]
     },
     "metadata": {},
     "output_type": "display_data"
    }
   ],
   "source": [
    "fig2 = px.choropleth(df,\n",
    "                    locations = 'Abbrev',\n",
    "                    locationmode = 'USA-states',\n",
    "                    scope = 'usa',\n",
    "                    color = 'Ratio Sci/Non',\n",
    "                    hover_name = 'State or location',\n",
    "                    hover_data = ['Male','Female'],\n",
    "                    range_color = [1,10],\n",
    "                    color_continuous_scale = 'oxy',\n",
    "                    width = 600,\n",
    "                    height = 600,\n",
    "                    title = 'Grad Students')\n",
    "fig2.show()"
   ]
  },
  {
   "cell_type": "code",
   "execution_count": 156,
   "id": "6fb14abb-eaa2-4a40-a965-ea82b7a8e7c8",
   "metadata": {},
   "outputs": [
    {
     "data": {
      "text/html": [
       "<div>\n",
       "<style scoped>\n",
       "    .dataframe tbody tr th:only-of-type {\n",
       "        vertical-align: middle;\n",
       "    }\n",
       "\n",
       "    .dataframe tbody tr th {\n",
       "        vertical-align: top;\n",
       "    }\n",
       "\n",
       "    .dataframe thead th {\n",
       "        text-align: right;\n",
       "    }\n",
       "</style>\n",
       "<table border=\"1\" class=\"dataframe\">\n",
       "  <thead>\n",
       "    <tr style=\"text-align: right;\">\n",
       "      <th></th>\n",
       "      <th>State or location</th>\n",
       "      <th>Alabama</th>\n",
       "      <th>Alaska</th>\n",
       "      <th>Arizona</th>\n",
       "      <th>Arkansas</th>\n",
       "      <th>California</th>\n",
       "      <th>Colorado</th>\n",
       "      <th>Connecticut</th>\n",
       "      <th>Delaware</th>\n",
       "      <th>Florida</th>\n",
       "      <th>...</th>\n",
       "      <th>South Dakota</th>\n",
       "      <th>Tennessee</th>\n",
       "      <th>Texas</th>\n",
       "      <th>Utah</th>\n",
       "      <th>Vermont</th>\n",
       "      <th>Virginia</th>\n",
       "      <th>Washington</th>\n",
       "      <th>West Virginia</th>\n",
       "      <th>Wisconsin</th>\n",
       "      <th>Wyoming</th>\n",
       "    </tr>\n",
       "  </thead>\n",
       "  <tbody>\n",
       "    <tr>\n",
       "      <th>0</th>\n",
       "      <td>Agricultural sciences and natural resources</td>\n",
       "      <td>3.91</td>\n",
       "      <td>0.78</td>\n",
       "      <td>3.28</td>\n",
       "      <td>3.28</td>\n",
       "      <td>12.66</td>\n",
       "      <td>3.59</td>\n",
       "      <td>2.03</td>\n",
       "      <td>1.88</td>\n",
       "      <td>10.31</td>\n",
       "      <td>...</td>\n",
       "      <td>2.66</td>\n",
       "      <td>3.75</td>\n",
       "      <td>13.59</td>\n",
       "      <td>1.88</td>\n",
       "      <td>1.25</td>\n",
       "      <td>6.25</td>\n",
       "      <td>4.69</td>\n",
       "      <td>0.94</td>\n",
       "      <td>4.38</td>\n",
       "      <td>0.78</td>\n",
       "    </tr>\n",
       "    <tr>\n",
       "      <th>1</th>\n",
       "      <td>Biological and biomedical sciences</td>\n",
       "      <td>18.59</td>\n",
       "      <td>0.47</td>\n",
       "      <td>17.50</td>\n",
       "      <td>7.66</td>\n",
       "      <td>152.97</td>\n",
       "      <td>25.94</td>\n",
       "      <td>24.06</td>\n",
       "      <td>5.47</td>\n",
       "      <td>47.66</td>\n",
       "      <td>...</td>\n",
       "      <td>2.34</td>\n",
       "      <td>25.63</td>\n",
       "      <td>94.53</td>\n",
       "      <td>11.56</td>\n",
       "      <td>3.28</td>\n",
       "      <td>27.03</td>\n",
       "      <td>25.63</td>\n",
       "      <td>4.69</td>\n",
       "      <td>26.25</td>\n",
       "      <td>2.66</td>\n",
       "    </tr>\n",
       "    <tr>\n",
       "      <th>2</th>\n",
       "      <td>Computer and information sciences</td>\n",
       "      <td>1.72</td>\n",
       "      <td>0.00</td>\n",
       "      <td>4.84</td>\n",
       "      <td>2.81</td>\n",
       "      <td>44.53</td>\n",
       "      <td>6.09</td>\n",
       "      <td>3.44</td>\n",
       "      <td>1.41</td>\n",
       "      <td>21.72</td>\n",
       "      <td>...</td>\n",
       "      <td>0.78</td>\n",
       "      <td>3.28</td>\n",
       "      <td>23.59</td>\n",
       "      <td>3.44</td>\n",
       "      <td>0.47</td>\n",
       "      <td>12.19</td>\n",
       "      <td>5.94</td>\n",
       "      <td>0.47</td>\n",
       "      <td>3.28</td>\n",
       "      <td>0.16</td>\n",
       "    </tr>\n",
       "    <tr>\n",
       "      <th>3</th>\n",
       "      <td>Engineering</td>\n",
       "      <td>18.28</td>\n",
       "      <td>0.31</td>\n",
       "      <td>30.94</td>\n",
       "      <td>7.50</td>\n",
       "      <td>169.06</td>\n",
       "      <td>33.91</td>\n",
       "      <td>13.75</td>\n",
       "      <td>8.59</td>\n",
       "      <td>63.75</td>\n",
       "      <td>...</td>\n",
       "      <td>2.66</td>\n",
       "      <td>23.59</td>\n",
       "      <td>143.44</td>\n",
       "      <td>17.50</td>\n",
       "      <td>1.41</td>\n",
       "      <td>48.59</td>\n",
       "      <td>23.91</td>\n",
       "      <td>6.25</td>\n",
       "      <td>20.78</td>\n",
       "      <td>4.06</td>\n",
       "    </tr>\n",
       "    <tr>\n",
       "      <th>4</th>\n",
       "      <td>Geosciences, atmospheric, and ocean sciences</td>\n",
       "      <td>1.25</td>\n",
       "      <td>1.72</td>\n",
       "      <td>3.59</td>\n",
       "      <td>0.31</td>\n",
       "      <td>22.81</td>\n",
       "      <td>8.75</td>\n",
       "      <td>2.19</td>\n",
       "      <td>0.63</td>\n",
       "      <td>10.47</td>\n",
       "      <td>...</td>\n",
       "      <td>0.78</td>\n",
       "      <td>0.94</td>\n",
       "      <td>17.34</td>\n",
       "      <td>2.19</td>\n",
       "      <td>0.00</td>\n",
       "      <td>4.53</td>\n",
       "      <td>5.31</td>\n",
       "      <td>0.47</td>\n",
       "      <td>1.41</td>\n",
       "      <td>1.25</td>\n",
       "    </tr>\n",
       "    <tr>\n",
       "      <th>5</th>\n",
       "      <td>Health sciences</td>\n",
       "      <td>4.69</td>\n",
       "      <td>0.00</td>\n",
       "      <td>6.41</td>\n",
       "      <td>1.25</td>\n",
       "      <td>27.66</td>\n",
       "      <td>7.19</td>\n",
       "      <td>3.13</td>\n",
       "      <td>0.31</td>\n",
       "      <td>21.41</td>\n",
       "      <td>...</td>\n",
       "      <td>1.88</td>\n",
       "      <td>6.56</td>\n",
       "      <td>33.44</td>\n",
       "      <td>4.84</td>\n",
       "      <td>0.00</td>\n",
       "      <td>11.41</td>\n",
       "      <td>9.06</td>\n",
       "      <td>2.19</td>\n",
       "      <td>10.31</td>\n",
       "      <td>0.00</td>\n",
       "    </tr>\n",
       "    <tr>\n",
       "      <th>6</th>\n",
       "      <td>Mathematics and statistics</td>\n",
       "      <td>3.44</td>\n",
       "      <td>0.00</td>\n",
       "      <td>3.91</td>\n",
       "      <td>0.31</td>\n",
       "      <td>36.88</td>\n",
       "      <td>7.19</td>\n",
       "      <td>5.63</td>\n",
       "      <td>1.41</td>\n",
       "      <td>10.78</td>\n",
       "      <td>...</td>\n",
       "      <td>0.16</td>\n",
       "      <td>3.13</td>\n",
       "      <td>24.69</td>\n",
       "      <td>3.44</td>\n",
       "      <td>0.16</td>\n",
       "      <td>6.41</td>\n",
       "      <td>7.34</td>\n",
       "      <td>0.47</td>\n",
       "      <td>8.13</td>\n",
       "      <td>0.31</td>\n",
       "    </tr>\n",
       "    <tr>\n",
       "      <th>7</th>\n",
       "      <td>Multidisciplinary/ interdisciplinary sciences</td>\n",
       "      <td>2.50</td>\n",
       "      <td>0.31</td>\n",
       "      <td>5.47</td>\n",
       "      <td>0.47</td>\n",
       "      <td>29.84</td>\n",
       "      <td>2.03</td>\n",
       "      <td>1.88</td>\n",
       "      <td>0.47</td>\n",
       "      <td>12.66</td>\n",
       "      <td>...</td>\n",
       "      <td>1.25</td>\n",
       "      <td>4.84</td>\n",
       "      <td>14.06</td>\n",
       "      <td>1.09</td>\n",
       "      <td>0.16</td>\n",
       "      <td>7.19</td>\n",
       "      <td>5.78</td>\n",
       "      <td>0.16</td>\n",
       "      <td>1.72</td>\n",
       "      <td>0.16</td>\n",
       "    </tr>\n",
       "    <tr>\n",
       "      <th>8</th>\n",
       "      <td>Physical sciences</td>\n",
       "      <td>7.03</td>\n",
       "      <td>0.31</td>\n",
       "      <td>13.44</td>\n",
       "      <td>3.13</td>\n",
       "      <td>104.38</td>\n",
       "      <td>16.72</td>\n",
       "      <td>15.16</td>\n",
       "      <td>4.38</td>\n",
       "      <td>28.91</td>\n",
       "      <td>...</td>\n",
       "      <td>2.03</td>\n",
       "      <td>10.78</td>\n",
       "      <td>48.75</td>\n",
       "      <td>6.88</td>\n",
       "      <td>1.25</td>\n",
       "      <td>18.13</td>\n",
       "      <td>15.00</td>\n",
       "      <td>3.44</td>\n",
       "      <td>16.88</td>\n",
       "      <td>1.41</td>\n",
       "    </tr>\n",
       "    <tr>\n",
       "      <th>9</th>\n",
       "      <td>Psychology</td>\n",
       "      <td>8.91</td>\n",
       "      <td>1.56</td>\n",
       "      <td>9.06</td>\n",
       "      <td>1.72</td>\n",
       "      <td>75.94</td>\n",
       "      <td>9.22</td>\n",
       "      <td>7.03</td>\n",
       "      <td>1.09</td>\n",
       "      <td>26.41</td>\n",
       "      <td>...</td>\n",
       "      <td>1.09</td>\n",
       "      <td>10.94</td>\n",
       "      <td>39.22</td>\n",
       "      <td>6.88</td>\n",
       "      <td>1.09</td>\n",
       "      <td>16.88</td>\n",
       "      <td>7.81</td>\n",
       "      <td>3.59</td>\n",
       "      <td>9.84</td>\n",
       "      <td>0.78</td>\n",
       "    </tr>\n",
       "    <tr>\n",
       "      <th>10</th>\n",
       "      <td>Social sciences</td>\n",
       "      <td>2.66</td>\n",
       "      <td>0.63</td>\n",
       "      <td>16.25</td>\n",
       "      <td>2.50</td>\n",
       "      <td>98.13</td>\n",
       "      <td>8.75</td>\n",
       "      <td>15.94</td>\n",
       "      <td>3.28</td>\n",
       "      <td>24.69</td>\n",
       "      <td>...</td>\n",
       "      <td>1.25</td>\n",
       "      <td>11.09</td>\n",
       "      <td>40.31</td>\n",
       "      <td>3.13</td>\n",
       "      <td>0.31</td>\n",
       "      <td>20.63</td>\n",
       "      <td>11.41</td>\n",
       "      <td>2.97</td>\n",
       "      <td>15.63</td>\n",
       "      <td>0.31</td>\n",
       "    </tr>\n",
       "    <tr>\n",
       "      <th>11</th>\n",
       "      <td>Business</td>\n",
       "      <td>3.75</td>\n",
       "      <td>0.00</td>\n",
       "      <td>3.91</td>\n",
       "      <td>2.19</td>\n",
       "      <td>19.69</td>\n",
       "      <td>1.09</td>\n",
       "      <td>3.44</td>\n",
       "      <td>0.31</td>\n",
       "      <td>9.06</td>\n",
       "      <td>...</td>\n",
       "      <td>0.00</td>\n",
       "      <td>1.25</td>\n",
       "      <td>20.31</td>\n",
       "      <td>1.72</td>\n",
       "      <td>0.00</td>\n",
       "      <td>7.97</td>\n",
       "      <td>3.75</td>\n",
       "      <td>0.16</td>\n",
       "      <td>3.13</td>\n",
       "      <td>0.00</td>\n",
       "    </tr>\n",
       "    <tr>\n",
       "      <th>12</th>\n",
       "      <td>Education</td>\n",
       "      <td>16.41</td>\n",
       "      <td>0.31</td>\n",
       "      <td>9.53</td>\n",
       "      <td>6.25</td>\n",
       "      <td>30.00</td>\n",
       "      <td>14.38</td>\n",
       "      <td>1.88</td>\n",
       "      <td>1.41</td>\n",
       "      <td>34.06</td>\n",
       "      <td>...</td>\n",
       "      <td>0.31</td>\n",
       "      <td>14.38</td>\n",
       "      <td>59.06</td>\n",
       "      <td>9.22</td>\n",
       "      <td>0.63</td>\n",
       "      <td>29.22</td>\n",
       "      <td>5.47</td>\n",
       "      <td>2.97</td>\n",
       "      <td>8.91</td>\n",
       "      <td>1.25</td>\n",
       "    </tr>\n",
       "    <tr>\n",
       "      <th>13</th>\n",
       "      <td>Humanities</td>\n",
       "      <td>2.19</td>\n",
       "      <td>0.00</td>\n",
       "      <td>6.72</td>\n",
       "      <td>1.88</td>\n",
       "      <td>52.03</td>\n",
       "      <td>5.16</td>\n",
       "      <td>8.44</td>\n",
       "      <td>1.09</td>\n",
       "      <td>16.41</td>\n",
       "      <td>...</td>\n",
       "      <td>0.16</td>\n",
       "      <td>10.78</td>\n",
       "      <td>43.28</td>\n",
       "      <td>2.03</td>\n",
       "      <td>0.00</td>\n",
       "      <td>9.69</td>\n",
       "      <td>4.84</td>\n",
       "      <td>0.63</td>\n",
       "      <td>9.69</td>\n",
       "      <td>0.00</td>\n",
       "    </tr>\n",
       "    <tr>\n",
       "      <th>14</th>\n",
       "      <td>Visual and performing arts</td>\n",
       "      <td>0.16</td>\n",
       "      <td>0.00</td>\n",
       "      <td>6.25</td>\n",
       "      <td>0.00</td>\n",
       "      <td>18.75</td>\n",
       "      <td>5.00</td>\n",
       "      <td>2.34</td>\n",
       "      <td>0.31</td>\n",
       "      <td>7.34</td>\n",
       "      <td>...</td>\n",
       "      <td>0.00</td>\n",
       "      <td>2.19</td>\n",
       "      <td>6.56</td>\n",
       "      <td>0.16</td>\n",
       "      <td>0.00</td>\n",
       "      <td>1.88</td>\n",
       "      <td>1.56</td>\n",
       "      <td>2.50</td>\n",
       "      <td>1.25</td>\n",
       "      <td>0.00</td>\n",
       "    </tr>\n",
       "    <tr>\n",
       "      <th>15</th>\n",
       "      <td>Other</td>\n",
       "      <td>4.53</td>\n",
       "      <td>0.16</td>\n",
       "      <td>5.00</td>\n",
       "      <td>1.72</td>\n",
       "      <td>25.31</td>\n",
       "      <td>5.00</td>\n",
       "      <td>3.91</td>\n",
       "      <td>1.09</td>\n",
       "      <td>19.84</td>\n",
       "      <td>...</td>\n",
       "      <td>1.72</td>\n",
       "      <td>4.38</td>\n",
       "      <td>21.25</td>\n",
       "      <td>2.50</td>\n",
       "      <td>0.00</td>\n",
       "      <td>9.22</td>\n",
       "      <td>4.69</td>\n",
       "      <td>1.72</td>\n",
       "      <td>5.31</td>\n",
       "      <td>0.00</td>\n",
       "    </tr>\n",
       "  </tbody>\n",
       "</table>\n",
       "<p>16 rows × 51 columns</p>\n",
       "</div>"
      ],
      "text/plain": [
       "                                State or location  Alabama  Alaska  Arizona  \\\n",
       "0     Agricultural sciences and natural resources     3.91    0.78     3.28   \n",
       "1              Biological and biomedical sciences    18.59    0.47    17.50   \n",
       "2               Computer and information sciences     1.72    0.00     4.84   \n",
       "3                                     Engineering    18.28    0.31    30.94   \n",
       "4    Geosciences, atmospheric, and ocean sciences     1.25    1.72     3.59   \n",
       "5                                 Health sciences     4.69    0.00     6.41   \n",
       "6                      Mathematics and statistics     3.44    0.00     3.91   \n",
       "7   Multidisciplinary/ interdisciplinary sciences     2.50    0.31     5.47   \n",
       "8                               Physical sciences     7.03    0.31    13.44   \n",
       "9                                      Psychology     8.91    1.56     9.06   \n",
       "10                                Social sciences     2.66    0.63    16.25   \n",
       "11                                       Business     3.75    0.00     3.91   \n",
       "12                                      Education    16.41    0.31     9.53   \n",
       "13                                     Humanities     2.19    0.00     6.72   \n",
       "14                     Visual and performing arts     0.16    0.00     6.25   \n",
       "15                                          Other     4.53    0.16     5.00   \n",
       "\n",
       "    Arkansas  California  Colorado  Connecticut  Delaware  Florida  ...  \\\n",
       "0       3.28       12.66      3.59         2.03      1.88    10.31  ...   \n",
       "1       7.66      152.97     25.94        24.06      5.47    47.66  ...   \n",
       "2       2.81       44.53      6.09         3.44      1.41    21.72  ...   \n",
       "3       7.50      169.06     33.91        13.75      8.59    63.75  ...   \n",
       "4       0.31       22.81      8.75         2.19      0.63    10.47  ...   \n",
       "5       1.25       27.66      7.19         3.13      0.31    21.41  ...   \n",
       "6       0.31       36.88      7.19         5.63      1.41    10.78  ...   \n",
       "7       0.47       29.84      2.03         1.88      0.47    12.66  ...   \n",
       "8       3.13      104.38     16.72        15.16      4.38    28.91  ...   \n",
       "9       1.72       75.94      9.22         7.03      1.09    26.41  ...   \n",
       "10      2.50       98.13      8.75        15.94      3.28    24.69  ...   \n",
       "11      2.19       19.69      1.09         3.44      0.31     9.06  ...   \n",
       "12      6.25       30.00     14.38         1.88      1.41    34.06  ...   \n",
       "13      1.88       52.03      5.16         8.44      1.09    16.41  ...   \n",
       "14      0.00       18.75      5.00         2.34      0.31     7.34  ...   \n",
       "15      1.72       25.31      5.00         3.91      1.09    19.84  ...   \n",
       "\n",
       "    South Dakota  Tennessee   Texas   Utah  Vermont  Virginia  Washington  \\\n",
       "0           2.66       3.75   13.59   1.88     1.25      6.25        4.69   \n",
       "1           2.34      25.63   94.53  11.56     3.28     27.03       25.63   \n",
       "2           0.78       3.28   23.59   3.44     0.47     12.19        5.94   \n",
       "3           2.66      23.59  143.44  17.50     1.41     48.59       23.91   \n",
       "4           0.78       0.94   17.34   2.19     0.00      4.53        5.31   \n",
       "5           1.88       6.56   33.44   4.84     0.00     11.41        9.06   \n",
       "6           0.16       3.13   24.69   3.44     0.16      6.41        7.34   \n",
       "7           1.25       4.84   14.06   1.09     0.16      7.19        5.78   \n",
       "8           2.03      10.78   48.75   6.88     1.25     18.13       15.00   \n",
       "9           1.09      10.94   39.22   6.88     1.09     16.88        7.81   \n",
       "10          1.25      11.09   40.31   3.13     0.31     20.63       11.41   \n",
       "11          0.00       1.25   20.31   1.72     0.00      7.97        3.75   \n",
       "12          0.31      14.38   59.06   9.22     0.63     29.22        5.47   \n",
       "13          0.16      10.78   43.28   2.03     0.00      9.69        4.84   \n",
       "14          0.00       2.19    6.56   0.16     0.00      1.88        1.56   \n",
       "15          1.72       4.38   21.25   2.50     0.00      9.22        4.69   \n",
       "\n",
       "    West Virginia  Wisconsin  Wyoming  \n",
       "0            0.94       4.38     0.78  \n",
       "1            4.69      26.25     2.66  \n",
       "2            0.47       3.28     0.16  \n",
       "3            6.25      20.78     4.06  \n",
       "4            0.47       1.41     1.25  \n",
       "5            2.19      10.31     0.00  \n",
       "6            0.47       8.13     0.31  \n",
       "7            0.16       1.72     0.16  \n",
       "8            3.44      16.88     1.41  \n",
       "9            3.59       9.84     0.78  \n",
       "10           2.97      15.63     0.31  \n",
       "11           0.16       3.13     0.00  \n",
       "12           2.97       8.91     1.25  \n",
       "13           0.63       9.69     0.00  \n",
       "14           2.50       1.25     0.00  \n",
       "15           1.72       5.31     0.00  \n",
       "\n",
       "[16 rows x 51 columns]"
      ]
     },
     "execution_count": 156,
     "metadata": {},
     "output_type": "execute_result"
    }
   ],
   "source": [
    "df7103 = pd.read_csv(\"CSV/nsf23300-tab007-010-3.csv\",encoding='cp1252')\n",
    "df7103.drop([0])\n",
    "df7103"
   ]
  },
  {
   "cell_type": "code",
   "execution_count": 150,
   "id": "c02e4bcd-c5b6-4ddb-b34e-10fcb471c20f",
   "metadata": {},
   "outputs": [
    {
     "data": {
      "application/vnd.plotly.v1+json": {
       "config": {
        "plotlyServerURL": "https://plot.ly"
       },
       "data": [
        {
         "domain": {
          "x": [
           0,
           1
          ],
          "y": [
           0,
           1
          ]
         },
         "hovertemplate": "State or location=%{label}<br>Alabama=%{value}<extra></extra>",
         "labels": [
          "Agricultural sciences and natural resources",
          "Biological and biomedical sciences",
          "Computer and information sciences",
          "Engineering",
          "Geosciences, atmospheric, and ocean sciences",
          "Health sciences",
          "Mathematics and statistics",
          "Multidisciplinary/ interdisciplinary sciences",
          "Physical sciences",
          "Psychology",
          "Social sciences",
          "Business",
          "Education",
          "Humanities",
          "Visual and performing arts",
          "Other"
         ],
         "legendgroup": "",
         "name": "",
         "showlegend": true,
         "type": "pie",
         "values": [
          3.91,
          18.59,
          1.72,
          18.28,
          1.25,
          4.69,
          3.44,
          2.5,
          7.03,
          8.91,
          2.66,
          3.75,
          16.41,
          2.19,
          0.16,
          4.53
         ]
        }
       ],
       "layout": {
        "autosize": true,
        "hiddenlabels": [
         "Geosciences, atmospheric, and ocean sciences"
        ],
        "legend": {
         "tracegroupgap": 0
        },
        "margin": {
         "t": 60
        },
        "template": {
         "data": {
          "bar": [
           {
            "error_x": {
             "color": "#2a3f5f"
            },
            "error_y": {
             "color": "#2a3f5f"
            },
            "marker": {
             "line": {
              "color": "#E5ECF6",
              "width": 0.5
             },
             "pattern": {
              "fillmode": "overlay",
              "size": 10,
              "solidity": 0.2
             }
            },
            "type": "bar"
           }
          ],
          "barpolar": [
           {
            "marker": {
             "line": {
              "color": "#E5ECF6",
              "width": 0.5
             },
             "pattern": {
              "fillmode": "overlay",
              "size": 10,
              "solidity": 0.2
             }
            },
            "type": "barpolar"
           }
          ],
          "carpet": [
           {
            "aaxis": {
             "endlinecolor": "#2a3f5f",
             "gridcolor": "white",
             "linecolor": "white",
             "minorgridcolor": "white",
             "startlinecolor": "#2a3f5f"
            },
            "baxis": {
             "endlinecolor": "#2a3f5f",
             "gridcolor": "white",
             "linecolor": "white",
             "minorgridcolor": "white",
             "startlinecolor": "#2a3f5f"
            },
            "type": "carpet"
           }
          ],
          "choropleth": [
           {
            "colorbar": {
             "outlinewidth": 0,
             "ticks": ""
            },
            "type": "choropleth"
           }
          ],
          "contour": [
           {
            "colorbar": {
             "outlinewidth": 0,
             "ticks": ""
            },
            "colorscale": [
             [
              0,
              "#0d0887"
             ],
             [
              0.1111111111111111,
              "#46039f"
             ],
             [
              0.2222222222222222,
              "#7201a8"
             ],
             [
              0.3333333333333333,
              "#9c179e"
             ],
             [
              0.4444444444444444,
              "#bd3786"
             ],
             [
              0.5555555555555556,
              "#d8576b"
             ],
             [
              0.6666666666666666,
              "#ed7953"
             ],
             [
              0.7777777777777778,
              "#fb9f3a"
             ],
             [
              0.8888888888888888,
              "#fdca26"
             ],
             [
              1,
              "#f0f921"
             ]
            ],
            "type": "contour"
           }
          ],
          "contourcarpet": [
           {
            "colorbar": {
             "outlinewidth": 0,
             "ticks": ""
            },
            "type": "contourcarpet"
           }
          ],
          "heatmap": [
           {
            "colorbar": {
             "outlinewidth": 0,
             "ticks": ""
            },
            "colorscale": [
             [
              0,
              "#0d0887"
             ],
             [
              0.1111111111111111,
              "#46039f"
             ],
             [
              0.2222222222222222,
              "#7201a8"
             ],
             [
              0.3333333333333333,
              "#9c179e"
             ],
             [
              0.4444444444444444,
              "#bd3786"
             ],
             [
              0.5555555555555556,
              "#d8576b"
             ],
             [
              0.6666666666666666,
              "#ed7953"
             ],
             [
              0.7777777777777778,
              "#fb9f3a"
             ],
             [
              0.8888888888888888,
              "#fdca26"
             ],
             [
              1,
              "#f0f921"
             ]
            ],
            "type": "heatmap"
           }
          ],
          "heatmapgl": [
           {
            "colorbar": {
             "outlinewidth": 0,
             "ticks": ""
            },
            "colorscale": [
             [
              0,
              "#0d0887"
             ],
             [
              0.1111111111111111,
              "#46039f"
             ],
             [
              0.2222222222222222,
              "#7201a8"
             ],
             [
              0.3333333333333333,
              "#9c179e"
             ],
             [
              0.4444444444444444,
              "#bd3786"
             ],
             [
              0.5555555555555556,
              "#d8576b"
             ],
             [
              0.6666666666666666,
              "#ed7953"
             ],
             [
              0.7777777777777778,
              "#fb9f3a"
             ],
             [
              0.8888888888888888,
              "#fdca26"
             ],
             [
              1,
              "#f0f921"
             ]
            ],
            "type": "heatmapgl"
           }
          ],
          "histogram": [
           {
            "marker": {
             "pattern": {
              "fillmode": "overlay",
              "size": 10,
              "solidity": 0.2
             }
            },
            "type": "histogram"
           }
          ],
          "histogram2d": [
           {
            "colorbar": {
             "outlinewidth": 0,
             "ticks": ""
            },
            "colorscale": [
             [
              0,
              "#0d0887"
             ],
             [
              0.1111111111111111,
              "#46039f"
             ],
             [
              0.2222222222222222,
              "#7201a8"
             ],
             [
              0.3333333333333333,
              "#9c179e"
             ],
             [
              0.4444444444444444,
              "#bd3786"
             ],
             [
              0.5555555555555556,
              "#d8576b"
             ],
             [
              0.6666666666666666,
              "#ed7953"
             ],
             [
              0.7777777777777778,
              "#fb9f3a"
             ],
             [
              0.8888888888888888,
              "#fdca26"
             ],
             [
              1,
              "#f0f921"
             ]
            ],
            "type": "histogram2d"
           }
          ],
          "histogram2dcontour": [
           {
            "colorbar": {
             "outlinewidth": 0,
             "ticks": ""
            },
            "colorscale": [
             [
              0,
              "#0d0887"
             ],
             [
              0.1111111111111111,
              "#46039f"
             ],
             [
              0.2222222222222222,
              "#7201a8"
             ],
             [
              0.3333333333333333,
              "#9c179e"
             ],
             [
              0.4444444444444444,
              "#bd3786"
             ],
             [
              0.5555555555555556,
              "#d8576b"
             ],
             [
              0.6666666666666666,
              "#ed7953"
             ],
             [
              0.7777777777777778,
              "#fb9f3a"
             ],
             [
              0.8888888888888888,
              "#fdca26"
             ],
             [
              1,
              "#f0f921"
             ]
            ],
            "type": "histogram2dcontour"
           }
          ],
          "mesh3d": [
           {
            "colorbar": {
             "outlinewidth": 0,
             "ticks": ""
            },
            "type": "mesh3d"
           }
          ],
          "parcoords": [
           {
            "line": {
             "colorbar": {
              "outlinewidth": 0,
              "ticks": ""
             }
            },
            "type": "parcoords"
           }
          ],
          "pie": [
           {
            "automargin": true,
            "type": "pie"
           }
          ],
          "scatter": [
           {
            "fillpattern": {
             "fillmode": "overlay",
             "size": 10,
             "solidity": 0.2
            },
            "type": "scatter"
           }
          ],
          "scatter3d": [
           {
            "line": {
             "colorbar": {
              "outlinewidth": 0,
              "ticks": ""
             }
            },
            "marker": {
             "colorbar": {
              "outlinewidth": 0,
              "ticks": ""
             }
            },
            "type": "scatter3d"
           }
          ],
          "scattercarpet": [
           {
            "marker": {
             "colorbar": {
              "outlinewidth": 0,
              "ticks": ""
             }
            },
            "type": "scattercarpet"
           }
          ],
          "scattergeo": [
           {
            "marker": {
             "colorbar": {
              "outlinewidth": 0,
              "ticks": ""
             }
            },
            "type": "scattergeo"
           }
          ],
          "scattergl": [
           {
            "marker": {
             "colorbar": {
              "outlinewidth": 0,
              "ticks": ""
             }
            },
            "type": "scattergl"
           }
          ],
          "scattermapbox": [
           {
            "marker": {
             "colorbar": {
              "outlinewidth": 0,
              "ticks": ""
             }
            },
            "type": "scattermapbox"
           }
          ],
          "scatterpolar": [
           {
            "marker": {
             "colorbar": {
              "outlinewidth": 0,
              "ticks": ""
             }
            },
            "type": "scatterpolar"
           }
          ],
          "scatterpolargl": [
           {
            "marker": {
             "colorbar": {
              "outlinewidth": 0,
              "ticks": ""
             }
            },
            "type": "scatterpolargl"
           }
          ],
          "scatterternary": [
           {
            "marker": {
             "colorbar": {
              "outlinewidth": 0,
              "ticks": ""
             }
            },
            "type": "scatterternary"
           }
          ],
          "surface": [
           {
            "colorbar": {
             "outlinewidth": 0,
             "ticks": ""
            },
            "colorscale": [
             [
              0,
              "#0d0887"
             ],
             [
              0.1111111111111111,
              "#46039f"
             ],
             [
              0.2222222222222222,
              "#7201a8"
             ],
             [
              0.3333333333333333,
              "#9c179e"
             ],
             [
              0.4444444444444444,
              "#bd3786"
             ],
             [
              0.5555555555555556,
              "#d8576b"
             ],
             [
              0.6666666666666666,
              "#ed7953"
             ],
             [
              0.7777777777777778,
              "#fb9f3a"
             ],
             [
              0.8888888888888888,
              "#fdca26"
             ],
             [
              1,
              "#f0f921"
             ]
            ],
            "type": "surface"
           }
          ],
          "table": [
           {
            "cells": {
             "fill": {
              "color": "#EBF0F8"
             },
             "line": {
              "color": "white"
             }
            },
            "header": {
             "fill": {
              "color": "#C8D4E3"
             },
             "line": {
              "color": "white"
             }
            },
            "type": "table"
           }
          ]
         },
         "layout": {
          "annotationdefaults": {
           "arrowcolor": "#2a3f5f",
           "arrowhead": 0,
           "arrowwidth": 1
          },
          "autotypenumbers": "strict",
          "coloraxis": {
           "colorbar": {
            "outlinewidth": 0,
            "ticks": ""
           }
          },
          "colorscale": {
           "diverging": [
            [
             0,
             "#8e0152"
            ],
            [
             0.1,
             "#c51b7d"
            ],
            [
             0.2,
             "#de77ae"
            ],
            [
             0.3,
             "#f1b6da"
            ],
            [
             0.4,
             "#fde0ef"
            ],
            [
             0.5,
             "#f7f7f7"
            ],
            [
             0.6,
             "#e6f5d0"
            ],
            [
             0.7,
             "#b8e186"
            ],
            [
             0.8,
             "#7fbc41"
            ],
            [
             0.9,
             "#4d9221"
            ],
            [
             1,
             "#276419"
            ]
           ],
           "sequential": [
            [
             0,
             "#0d0887"
            ],
            [
             0.1111111111111111,
             "#46039f"
            ],
            [
             0.2222222222222222,
             "#7201a8"
            ],
            [
             0.3333333333333333,
             "#9c179e"
            ],
            [
             0.4444444444444444,
             "#bd3786"
            ],
            [
             0.5555555555555556,
             "#d8576b"
            ],
            [
             0.6666666666666666,
             "#ed7953"
            ],
            [
             0.7777777777777778,
             "#fb9f3a"
            ],
            [
             0.8888888888888888,
             "#fdca26"
            ],
            [
             1,
             "#f0f921"
            ]
           ],
           "sequentialminus": [
            [
             0,
             "#0d0887"
            ],
            [
             0.1111111111111111,
             "#46039f"
            ],
            [
             0.2222222222222222,
             "#7201a8"
            ],
            [
             0.3333333333333333,
             "#9c179e"
            ],
            [
             0.4444444444444444,
             "#bd3786"
            ],
            [
             0.5555555555555556,
             "#d8576b"
            ],
            [
             0.6666666666666666,
             "#ed7953"
            ],
            [
             0.7777777777777778,
             "#fb9f3a"
            ],
            [
             0.8888888888888888,
             "#fdca26"
            ],
            [
             1,
             "#f0f921"
            ]
           ]
          },
          "colorway": [
           "#636efa",
           "#EF553B",
           "#00cc96",
           "#ab63fa",
           "#FFA15A",
           "#19d3f3",
           "#FF6692",
           "#B6E880",
           "#FF97FF",
           "#FECB52"
          ],
          "font": {
           "color": "#2a3f5f"
          },
          "geo": {
           "bgcolor": "white",
           "lakecolor": "white",
           "landcolor": "#E5ECF6",
           "showlakes": true,
           "showland": true,
           "subunitcolor": "white"
          },
          "hoverlabel": {
           "align": "left"
          },
          "hovermode": "closest",
          "mapbox": {
           "style": "light"
          },
          "paper_bgcolor": "white",
          "plot_bgcolor": "#E5ECF6",
          "polar": {
           "angularaxis": {
            "gridcolor": "white",
            "linecolor": "white",
            "ticks": ""
           },
           "bgcolor": "#E5ECF6",
           "radialaxis": {
            "gridcolor": "white",
            "linecolor": "white",
            "ticks": ""
           }
          },
          "scene": {
           "xaxis": {
            "backgroundcolor": "#E5ECF6",
            "gridcolor": "white",
            "gridwidth": 2,
            "linecolor": "white",
            "showbackground": true,
            "ticks": "",
            "zerolinecolor": "white"
           },
           "yaxis": {
            "backgroundcolor": "#E5ECF6",
            "gridcolor": "white",
            "gridwidth": 2,
            "linecolor": "white",
            "showbackground": true,
            "ticks": "",
            "zerolinecolor": "white"
           },
           "zaxis": {
            "backgroundcolor": "#E5ECF6",
            "gridcolor": "white",
            "gridwidth": 2,
            "linecolor": "white",
            "showbackground": true,
            "ticks": "",
            "zerolinecolor": "white"
           }
          },
          "shapedefaults": {
           "line": {
            "color": "#2a3f5f"
           }
          },
          "ternary": {
           "aaxis": {
            "gridcolor": "white",
            "linecolor": "white",
            "ticks": ""
           },
           "baxis": {
            "gridcolor": "white",
            "linecolor": "white",
            "ticks": ""
           },
           "bgcolor": "#E5ECF6",
           "caxis": {
            "gridcolor": "white",
            "linecolor": "white",
            "ticks": ""
           }
          },
          "title": {
           "x": 0.05
          },
          "xaxis": {
           "automargin": true,
           "gridcolor": "white",
           "linecolor": "white",
           "ticks": "",
           "title": {
            "standoff": 15
           },
           "zerolinecolor": "white",
           "zerolinewidth": 2
          },
          "yaxis": {
           "automargin": true,
           "gridcolor": "white",
           "linecolor": "white",
           "ticks": "",
           "title": {
            "standoff": 15
           },
           "zerolinecolor": "white",
           "zerolinewidth": 2
          }
         }
        }
       }
      },
      "image/png": "[encoded data removed]",
      "text/html": [
       "<div>                            <div id=\"6d7eeb5c-cfec-4d9d-befe-f18e2387d144\" class=\"plotly-graph-div\" style=\"height:525px; width:100%;\"></div>            <script type=\"text/javascript\">                require([\"plotly\"], function(Plotly) {                    window.PLOTLYENV=window.PLOTLYENV || {};                                    if (document.getElementById(\"6d7eeb5c-cfec-4d9d-befe-f18e2387d144\")) {                    Plotly.newPlot(                        \"6d7eeb5c-cfec-4d9d-befe-f18e2387d144\",                        [{\"domain\":{\"x\":[0.0,1.0],\"y\":[0.0,1.0]},\"hovertemplate\":\"State or location=%{label}<br>Alabama=%{value}<extra></extra>\",\"labels\":[\"Agricultural sciences and natural resources\",\"Biological and biomedical sciences\",\"Computer and information sciences\",\"Engineering\",\"Geosciences, atmospheric, and ocean sciences\",\"Health sciences\",\"Mathematics and statistics\",\"Multidisciplinary/ interdisciplinary sciences\",\"Physical sciences\",\"Psychology\",\"Social sciences\",\"Business\",\"Education\",\"Humanities\",\"Visual and performing arts\",\"Other\"],\"legendgroup\":\"\",\"name\":\"\",\"showlegend\":true,\"values\":[3.91,18.59,1.72,18.28,1.25,4.69,3.44,2.5,7.03,8.91,2.66,3.75,16.41,2.19,0.16,4.53],\"type\":\"pie\"}],                        {\"template\":{\"data\":{\"histogram2dcontour\":[{\"type\":\"histogram2dcontour\",\"colorbar\":{\"outlinewidth\":0,\"ticks\":\"\"},\"colorscale\":[[0.0,\"#0d0887\"],[0.1111111111111111,\"#46039f\"],[0.2222222222222222,\"#7201a8\"],[0.3333333333333333,\"#9c179e\"],[0.4444444444444444,\"#bd3786\"],[0.5555555555555556,\"#d8576b\"],[0.6666666666666666,\"#ed7953\"],[0.7777777777777778,\"#fb9f3a\"],[0.8888888888888888,\"#fdca26\"],[1.0,\"#f0f921\"]]}],\"choropleth\":[{\"type\":\"choropleth\",\"colorbar\":{\"outlinewidth\":0,\"ticks\":\"\"}}],\"histogram2d\":[{\"type\":\"histogram2d\",\"colorbar\":{\"outlinewidth\":0,\"ticks\":\"\"},\"colorscale\":[[0.0,\"#0d0887\"],[0.1111111111111111,\"#46039f\"],[0.2222222222222222,\"#7201a8\"],[0.3333333333333333,\"#9c179e\"],[0.4444444444444444,\"#bd3786\"],[0.5555555555555556,\"#d8576b\"],[0.6666666666666666,\"#ed7953\"],[0.7777777777777778,\"#fb9f3a\"],[0.8888888888888888,\"#fdca26\"],[1.0,\"#f0f921\"]]}],\"heatmap\":[{\"type\":\"heatmap\",\"colorbar\":{\"outlinewidth\":0,\"ticks\":\"\"},\"colorscale\":[[0.0,\"#0d0887\"],[0.1111111111111111,\"#46039f\"],[0.2222222222222222,\"#7201a8\"],[0.3333333333333333,\"#9c179e\"],[0.4444444444444444,\"#bd3786\"],[0.5555555555555556,\"#d8576b\"],[0.6666666666666666,\"#ed7953\"],[0.7777777777777778,\"#fb9f3a\"],[0.8888888888888888,\"#fdca26\"],[1.0,\"#f0f921\"]]}],\"heatmapgl\":[{\"type\":\"heatmapgl\",\"colorbar\":{\"outlinewidth\":0,\"ticks\":\"\"},\"colorscale\":[[0.0,\"#0d0887\"],[0.1111111111111111,\"#46039f\"],[0.2222222222222222,\"#7201a8\"],[0.3333333333333333,\"#9c179e\"],[0.4444444444444444,\"#bd3786\"],[0.5555555555555556,\"#d8576b\"],[0.6666666666666666,\"#ed7953\"],[0.7777777777777778,\"#fb9f3a\"],[0.8888888888888888,\"#fdca26\"],[1.0,\"#f0f921\"]]}],\"contourcarpet\":[{\"type\":\"contourcarpet\",\"colorbar\":{\"outlinewidth\":0,\"ticks\":\"\"}}],\"contour\":[{\"type\":\"contour\",\"colorbar\":{\"outlinewidth\":0,\"ticks\":\"\"},\"colorscale\":[[0.0,\"#0d0887\"],[0.1111111111111111,\"#46039f\"],[0.2222222222222222,\"#7201a8\"],[0.3333333333333333,\"#9c179e\"],[0.4444444444444444,\"#bd3786\"],[0.5555555555555556,\"#d8576b\"],[0.6666666666666666,\"#ed7953\"],[0.7777777777777778,\"#fb9f3a\"],[0.8888888888888888,\"#fdca26\"],[1.0,\"#f0f921\"]]}],\"surface\":[{\"type\":\"surface\",\"colorbar\":{\"outlinewidth\":0,\"ticks\":\"\"},\"colorscale\":[[0.0,\"#0d0887\"],[0.1111111111111111,\"#46039f\"],[0.2222222222222222,\"#7201a8\"],[0.3333333333333333,\"#9c179e\"],[0.4444444444444444,\"#bd3786\"],[0.5555555555555556,\"#d8576b\"],[0.6666666666666666,\"#ed7953\"],[0.7777777777777778,\"#fb9f3a\"],[0.8888888888888888,\"#fdca26\"],[1.0,\"#f0f921\"]]}],\"mesh3d\":[{\"type\":\"mesh3d\",\"colorbar\":{\"outlinewidth\":0,\"ticks\":\"\"}}],\"scatter\":[{\"fillpattern\":{\"fillmode\":\"overlay\",\"size\":10,\"solidity\":0.2},\"type\":\"scatter\"}],\"parcoords\":[{\"type\":\"parcoords\",\"line\":{\"colorbar\":{\"outlinewidth\":0,\"ticks\":\"\"}}}],\"scatterpolargl\":[{\"type\":\"scatterpolargl\",\"marker\":{\"colorbar\":{\"outlinewidth\":0,\"ticks\":\"\"}}}],\"bar\":[{\"error_x\":{\"color\":\"#2a3f5f\"},\"error_y\":{\"color\":\"#2a3f5f\"},\"marker\":{\"line\":{\"color\":\"#E5ECF6\",\"width\":0.5},\"pattern\":{\"fillmode\":\"overlay\",\"size\":10,\"solidity\":0.2}},\"type\":\"bar\"}],\"scattergeo\":[{\"type\":\"scattergeo\",\"marker\":{\"colorbar\":{\"outlinewidth\":0,\"ticks\":\"\"}}}],\"scatterpolar\":[{\"type\":\"scatterpolar\",\"marker\":{\"colorbar\":{\"outlinewidth\":0,\"ticks\":\"\"}}}],\"histogram\":[{\"marker\":{\"pattern\":{\"fillmode\":\"overlay\",\"size\":10,\"solidity\":0.2}},\"type\":\"histogram\"}],\"scattergl\":[{\"type\":\"scattergl\",\"marker\":{\"colorbar\":{\"outlinewidth\":0,\"ticks\":\"\"}}}],\"scatter3d\":[{\"type\":\"scatter3d\",\"line\":{\"colorbar\":{\"outlinewidth\":0,\"ticks\":\"\"}},\"marker\":{\"colorbar\":{\"outlinewidth\":0,\"ticks\":\"\"}}}],\"scattermapbox\":[{\"type\":\"scattermapbox\",\"marker\":{\"colorbar\":{\"outlinewidth\":0,\"ticks\":\"\"}}}],\"scatterternary\":[{\"type\":\"scatterternary\",\"marker\":{\"colorbar\":{\"outlinewidth\":0,\"ticks\":\"\"}}}],\"scattercarpet\":[{\"type\":\"scattercarpet\",\"marker\":{\"colorbar\":{\"outlinewidth\":0,\"ticks\":\"\"}}}],\"carpet\":[{\"aaxis\":{\"endlinecolor\":\"#2a3f5f\",\"gridcolor\":\"white\",\"linecolor\":\"white\",\"minorgridcolor\":\"white\",\"startlinecolor\":\"#2a3f5f\"},\"baxis\":{\"endlinecolor\":\"#2a3f5f\",\"gridcolor\":\"white\",\"linecolor\":\"white\",\"minorgridcolor\":\"white\",\"startlinecolor\":\"#2a3f5f\"},\"type\":\"carpet\"}],\"table\":[{\"cells\":{\"fill\":{\"color\":\"#EBF0F8\"},\"line\":{\"color\":\"white\"}},\"header\":{\"fill\":{\"color\":\"#C8D4E3\"},\"line\":{\"color\":\"white\"}},\"type\":\"table\"}],\"barpolar\":[{\"marker\":{\"line\":{\"color\":\"#E5ECF6\",\"width\":0.5},\"pattern\":{\"fillmode\":\"overlay\",\"size\":10,\"solidity\":0.2}},\"type\":\"barpolar\"}],\"pie\":[{\"automargin\":true,\"type\":\"pie\"}]},\"layout\":{\"autotypenumbers\":\"strict\",\"colorway\":[\"#636efa\",\"#EF553B\",\"#00cc96\",\"#ab63fa\",\"#FFA15A\",\"#19d3f3\",\"#FF6692\",\"#B6E880\",\"#FF97FF\",\"#FECB52\"],\"font\":{\"color\":\"#2a3f5f\"},\"hovermode\":\"closest\",\"hoverlabel\":{\"align\":\"left\"},\"paper_bgcolor\":\"white\",\"plot_bgcolor\":\"#E5ECF6\",\"polar\":{\"bgcolor\":\"#E5ECF6\",\"angularaxis\":{\"gridcolor\":\"white\",\"linecolor\":\"white\",\"ticks\":\"\"},\"radialaxis\":{\"gridcolor\":\"white\",\"linecolor\":\"white\",\"ticks\":\"\"}},\"ternary\":{\"bgcolor\":\"#E5ECF6\",\"aaxis\":{\"gridcolor\":\"white\",\"linecolor\":\"white\",\"ticks\":\"\"},\"baxis\":{\"gridcolor\":\"white\",\"linecolor\":\"white\",\"ticks\":\"\"},\"caxis\":{\"gridcolor\":\"white\",\"linecolor\":\"white\",\"ticks\":\"\"}},\"coloraxis\":{\"colorbar\":{\"outlinewidth\":0,\"ticks\":\"\"}},\"colorscale\":{\"sequential\":[[0.0,\"#0d0887\"],[0.1111111111111111,\"#46039f\"],[0.2222222222222222,\"#7201a8\"],[0.3333333333333333,\"#9c179e\"],[0.4444444444444444,\"#bd3786\"],[0.5555555555555556,\"#d8576b\"],[0.6666666666666666,\"#ed7953\"],[0.7777777777777778,\"#fb9f3a\"],[0.8888888888888888,\"#fdca26\"],[1.0,\"#f0f921\"]],\"sequentialminus\":[[0.0,\"#0d0887\"],[0.1111111111111111,\"#46039f\"],[0.2222222222222222,\"#7201a8\"],[0.3333333333333333,\"#9c179e\"],[0.4444444444444444,\"#bd3786\"],[0.5555555555555556,\"#d8576b\"],[0.6666666666666666,\"#ed7953\"],[0.7777777777777778,\"#fb9f3a\"],[0.8888888888888888,\"#fdca26\"],[1.0,\"#f0f921\"]],\"diverging\":[[0,\"#8e0152\"],[0.1,\"#c51b7d\"],[0.2,\"#de77ae\"],[0.3,\"#f1b6da\"],[0.4,\"#fde0ef\"],[0.5,\"#f7f7f7\"],[0.6,\"#e6f5d0\"],[0.7,\"#b8e186\"],[0.8,\"#7fbc41\"],[0.9,\"#4d9221\"],[1,\"#276419\"]]},\"xaxis\":{\"gridcolor\":\"white\",\"linecolor\":\"white\",\"ticks\":\"\",\"title\":{\"standoff\":15},\"zerolinecolor\":\"white\",\"automargin\":true,\"zerolinewidth\":2},\"yaxis\":{\"gridcolor\":\"white\",\"linecolor\":\"white\",\"ticks\":\"\",\"title\":{\"standoff\":15},\"zerolinecolor\":\"white\",\"automargin\":true,\"zerolinewidth\":2},\"scene\":{\"xaxis\":{\"backgroundcolor\":\"#E5ECF6\",\"gridcolor\":\"white\",\"linecolor\":\"white\",\"showbackground\":true,\"ticks\":\"\",\"zerolinecolor\":\"white\",\"gridwidth\":2},\"yaxis\":{\"backgroundcolor\":\"#E5ECF6\",\"gridcolor\":\"white\",\"linecolor\":\"white\",\"showbackground\":true,\"ticks\":\"\",\"zerolinecolor\":\"white\",\"gridwidth\":2},\"zaxis\":{\"backgroundcolor\":\"#E5ECF6\",\"gridcolor\":\"white\",\"linecolor\":\"white\",\"showbackground\":true,\"ticks\":\"\",\"zerolinecolor\":\"white\",\"gridwidth\":2}},\"shapedefaults\":{\"line\":{\"color\":\"#2a3f5f\"}},\"annotationdefaults\":{\"arrowcolor\":\"#2a3f5f\",\"arrowhead\":0,\"arrowwidth\":1},\"geo\":{\"bgcolor\":\"white\",\"landcolor\":\"#E5ECF6\",\"subunitcolor\":\"white\",\"showland\":true,\"showlakes\":true,\"lakecolor\":\"white\"},\"title\":{\"x\":0.05},\"mapbox\":{\"style\":\"light\"}}},\"legend\":{\"tracegroupgap\":0},\"margin\":{\"t\":60}},                        {\"responsive\": true}                    ).then(function(){\n",
       "                            \n",
       "var gd = document.getElementById('6d7eeb5c-cfec-4d9d-befe-f18e2387d144');\n",
       "var x = new MutationObserver(function (mutations, observer) {{\n",
       "        var display = window.getComputedStyle(gd).display;\n",
       "        if (!display || display === 'none') {{\n",
       "            console.log([gd, 'removed!']);\n",
       "            Plotly.purge(gd);\n",
       "            observer.disconnect();\n",
       "        }}\n",
       "}});\n",
       "\n",
       "// Listen for the removal of the full notebook cells\n",
       "var notebookContainer = gd.closest('#notebook-container');\n",
       "if (notebookContainer) {{\n",
       "    x.observe(notebookContainer, {childList: true});\n",
       "}}\n",
       "\n",
       "// Listen for the clearing of the current output cell\n",
       "var outputEl = gd.closest('.output');\n",
       "if (outputEl) {{\n",
       "    x.observe(outputEl, {childList: true});\n",
       "}}\n",
       "\n",
       "                        })                };                });            </script>        </div>"
      ]
     },
     "metadata": {},
     "output_type": "display_data"
    }
   ],
   "source": [
    "fig3 = px.pie(df7103, 'State or location', 'Alabama')\n",
    "fig3.show()"
   ]
  },
  {
   "cell_type": "code",
   "execution_count": null,
   "id": "89012b3d-d75d-4877-bce4-07437e9595a3",
   "metadata": {},
   "outputs": [],
   "source": []
  }
 ],
 "metadata": {
  "kernelspec": {
   "display_name": "Python 3 (ipykernel)",
   "language": "python",
   "name": "python3"
  },
  "language_info": {
   "codemirror_mode": {
    "name": "ipython",
    "version": 3
   },
   "file_extension": ".py",
   "mimetype": "text/x-python",
   "name": "python",
   "nbconvert_exporter": "python",
   "pygments_lexer": "ipython3",
   "version": "3.9.7"
  }
 },
 "nbformat": 4,
 "nbformat_minor": 5
}
